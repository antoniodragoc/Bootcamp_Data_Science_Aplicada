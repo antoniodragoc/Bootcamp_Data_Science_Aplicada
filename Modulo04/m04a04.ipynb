{
 "cells": [
  {
   "cell_type": "code",
   "execution_count": 3,
   "source": [
    "# This Python 3 environment comes with many helpful analytics libraries installed\r\n",
    "# It is defined by the kaggle/python Docker image: https://github.com/kaggle/docker-python\r\n",
    "# For example, here's several helpful packages to load\r\n",
    "\r\n",
    "import numpy as np # linear algebra\r\n",
    "import pandas as pd # data processing, CSV file I/O (e.g. pd.read_csv)\r\n",
    "\r\n",
    "# Input data files are available in the read-only \"../input/\" directory\r\n",
    "# For example, running this (by clicking run or pressing Shift+Enter) will list all files under the input directory\r\n",
    "\r\n",
    "import os\r\n",
    "for dirname, _, filenames in os.walk('/kaggle/input'):\r\n",
    "    for filename in filenames:\r\n",
    "        print(os.path.join(dirname, filename))\r\n",
    "\r\n",
    "# You can write up to 20GB to the current directory (/kaggle/working/) that gets preserved as output when you create a version using \"Save & Run All\" \r\n",
    "# You can also write temporary files to /kaggle/temp/, but they won't be saved outside of the current session"
   ],
   "outputs": [],
   "metadata": {}
  },
  {
   "cell_type": "code",
   "execution_count": 4,
   "source": [
    "from zipfile import ZipFile\r\n",
    "zf = ZipFile(r'./dados/archive.zip')\r\n",
    "dados = pd.read_excel(zf.open('Kaggle_Sirio_Libanes_ICU_Prediction.xlsx'))"
   ],
   "outputs": [],
   "metadata": {}
  },
  {
   "cell_type": "code",
   "execution_count": 5,
   "source": [
    "dados.describe()"
   ],
   "outputs": [
    {
     "output_type": "execute_result",
     "data": {
      "text/plain": [
       "       PATIENT_VISIT_IDENTIFIER  AGE_ABOVE65       GENDER  DISEASE GROUPING 1  \\\n",
       "count               1925.000000  1925.000000  1925.000000         1920.000000   \n",
       "mean                 192.000000     0.467532     0.368831            0.108333   \n",
       "std                  111.168431     0.499074     0.482613            0.310882   \n",
       "min                    0.000000     0.000000     0.000000            0.000000   \n",
       "25%                   96.000000     0.000000     0.000000            0.000000   \n",
       "50%                  192.000000     0.000000     0.000000            0.000000   \n",
       "75%                  288.000000     1.000000     1.000000            0.000000   \n",
       "max                  384.000000     1.000000     1.000000            1.000000   \n",
       "\n",
       "       DISEASE GROUPING 2  DISEASE GROUPING 3  DISEASE GROUPING 4  \\\n",
       "count         1920.000000         1920.000000         1920.000000   \n",
       "mean             0.028125            0.097917            0.019792   \n",
       "std              0.165373            0.297279            0.139320   \n",
       "min              0.000000            0.000000            0.000000   \n",
       "25%              0.000000            0.000000            0.000000   \n",
       "50%              0.000000            0.000000            0.000000   \n",
       "75%              0.000000            0.000000            0.000000   \n",
       "max              1.000000            1.000000            1.000000   \n",
       "\n",
       "       DISEASE GROUPING 5  DISEASE GROUPING 6          HTN  ...  \\\n",
       "count         1920.000000         1920.000000  1920.000000  ...   \n",
       "mean             0.128125            0.046875     0.213021  ...   \n",
       "std              0.334316            0.211426     0.409549  ...   \n",
       "min              0.000000            0.000000     0.000000  ...   \n",
       "25%              0.000000            0.000000     0.000000  ...   \n",
       "50%              0.000000            0.000000     0.000000  ...   \n",
       "75%              0.000000            0.000000     0.000000  ...   \n",
       "max              1.000000            1.000000     1.000000  ...   \n",
       "\n",
       "       RESPIRATORY_RATE_DIFF  TEMPERATURE_DIFF  OXYGEN_SATURATION_DIFF  \\\n",
       "count            1177.000000       1231.000000             1239.000000   \n",
       "mean               -0.703683         -0.770338               -0.887196   \n",
       "std                 0.482097          0.319001                0.296147   \n",
       "min                -1.000000         -1.000000               -1.000000   \n",
       "25%                -1.000000         -1.000000               -1.000000   \n",
       "50%                -1.000000         -0.976190               -0.979798   \n",
       "75%                -0.647059         -0.595238               -0.878788   \n",
       "max                 1.000000          1.000000                1.000000   \n",
       "\n",
       "       BLOODPRESSURE_DIASTOLIC_DIFF_REL  BLOODPRESSURE_SISTOLIC_DIFF_REL  \\\n",
       "count                       1240.000000                      1240.000000   \n",
       "mean                          -0.786997                        -0.715950   \n",
       "std                            0.324754                         0.419103   \n",
       "min                           -1.000000                        -1.000000   \n",
       "25%                           -1.000000                        -1.000000   \n",
       "50%                           -1.000000                        -0.984944   \n",
       "75%                           -0.645482                        -0.522176   \n",
       "max                            1.000000                         1.000000   \n",
       "\n",
       "       HEART_RATE_DIFF_REL  RESPIRATORY_RATE_DIFF_REL  TEMPERATURE_DIFF_REL  \\\n",
       "count          1240.000000                1177.000000           1231.000000   \n",
       "mean             -0.817800                  -0.719147             -0.771327   \n",
       "std               0.270217                   0.446600              0.317694   \n",
       "min              -1.000000                  -1.000000             -1.000000   \n",
       "25%              -1.000000                  -1.000000             -1.000000   \n",
       "50%              -0.989822                  -1.000000             -0.975924   \n",
       "75%              -0.662529                  -0.634409             -0.594677   \n",
       "max               1.000000                   1.000000              1.000000   \n",
       "\n",
       "       OXYGEN_SATURATION_DIFF_REL          ICU  \n",
       "count                 1239.000000  1925.000000  \n",
       "mean                    -0.886982     0.267532  \n",
       "std                      0.296772     0.442787  \n",
       "min                     -1.000000     0.000000  \n",
       "25%                     -1.000000     0.000000  \n",
       "50%                     -0.980333     0.000000  \n",
       "75%                     -0.880155     1.000000  \n",
       "max                      1.000000     1.000000  \n",
       "\n",
       "[8 rows x 229 columns]"
      ],
      "text/html": [
       "<div>\n",
       "<style scoped>\n",
       "    .dataframe tbody tr th:only-of-type {\n",
       "        vertical-align: middle;\n",
       "    }\n",
       "\n",
       "    .dataframe tbody tr th {\n",
       "        vertical-align: top;\n",
       "    }\n",
       "\n",
       "    .dataframe thead th {\n",
       "        text-align: right;\n",
       "    }\n",
       "</style>\n",
       "<table border=\"1\" class=\"dataframe\">\n",
       "  <thead>\n",
       "    <tr style=\"text-align: right;\">\n",
       "      <th></th>\n",
       "      <th>PATIENT_VISIT_IDENTIFIER</th>\n",
       "      <th>AGE_ABOVE65</th>\n",
       "      <th>GENDER</th>\n",
       "      <th>DISEASE GROUPING 1</th>\n",
       "      <th>DISEASE GROUPING 2</th>\n",
       "      <th>DISEASE GROUPING 3</th>\n",
       "      <th>DISEASE GROUPING 4</th>\n",
       "      <th>DISEASE GROUPING 5</th>\n",
       "      <th>DISEASE GROUPING 6</th>\n",
       "      <th>HTN</th>\n",
       "      <th>...</th>\n",
       "      <th>RESPIRATORY_RATE_DIFF</th>\n",
       "      <th>TEMPERATURE_DIFF</th>\n",
       "      <th>OXYGEN_SATURATION_DIFF</th>\n",
       "      <th>BLOODPRESSURE_DIASTOLIC_DIFF_REL</th>\n",
       "      <th>BLOODPRESSURE_SISTOLIC_DIFF_REL</th>\n",
       "      <th>HEART_RATE_DIFF_REL</th>\n",
       "      <th>RESPIRATORY_RATE_DIFF_REL</th>\n",
       "      <th>TEMPERATURE_DIFF_REL</th>\n",
       "      <th>OXYGEN_SATURATION_DIFF_REL</th>\n",
       "      <th>ICU</th>\n",
       "    </tr>\n",
       "  </thead>\n",
       "  <tbody>\n",
       "    <tr>\n",
       "      <th>count</th>\n",
       "      <td>1925.000000</td>\n",
       "      <td>1925.000000</td>\n",
       "      <td>1925.000000</td>\n",
       "      <td>1920.000000</td>\n",
       "      <td>1920.000000</td>\n",
       "      <td>1920.000000</td>\n",
       "      <td>1920.000000</td>\n",
       "      <td>1920.000000</td>\n",
       "      <td>1920.000000</td>\n",
       "      <td>1920.000000</td>\n",
       "      <td>...</td>\n",
       "      <td>1177.000000</td>\n",
       "      <td>1231.000000</td>\n",
       "      <td>1239.000000</td>\n",
       "      <td>1240.000000</td>\n",
       "      <td>1240.000000</td>\n",
       "      <td>1240.000000</td>\n",
       "      <td>1177.000000</td>\n",
       "      <td>1231.000000</td>\n",
       "      <td>1239.000000</td>\n",
       "      <td>1925.000000</td>\n",
       "    </tr>\n",
       "    <tr>\n",
       "      <th>mean</th>\n",
       "      <td>192.000000</td>\n",
       "      <td>0.467532</td>\n",
       "      <td>0.368831</td>\n",
       "      <td>0.108333</td>\n",
       "      <td>0.028125</td>\n",
       "      <td>0.097917</td>\n",
       "      <td>0.019792</td>\n",
       "      <td>0.128125</td>\n",
       "      <td>0.046875</td>\n",
       "      <td>0.213021</td>\n",
       "      <td>...</td>\n",
       "      <td>-0.703683</td>\n",
       "      <td>-0.770338</td>\n",
       "      <td>-0.887196</td>\n",
       "      <td>-0.786997</td>\n",
       "      <td>-0.715950</td>\n",
       "      <td>-0.817800</td>\n",
       "      <td>-0.719147</td>\n",
       "      <td>-0.771327</td>\n",
       "      <td>-0.886982</td>\n",
       "      <td>0.267532</td>\n",
       "    </tr>\n",
       "    <tr>\n",
       "      <th>std</th>\n",
       "      <td>111.168431</td>\n",
       "      <td>0.499074</td>\n",
       "      <td>0.482613</td>\n",
       "      <td>0.310882</td>\n",
       "      <td>0.165373</td>\n",
       "      <td>0.297279</td>\n",
       "      <td>0.139320</td>\n",
       "      <td>0.334316</td>\n",
       "      <td>0.211426</td>\n",
       "      <td>0.409549</td>\n",
       "      <td>...</td>\n",
       "      <td>0.482097</td>\n",
       "      <td>0.319001</td>\n",
       "      <td>0.296147</td>\n",
       "      <td>0.324754</td>\n",
       "      <td>0.419103</td>\n",
       "      <td>0.270217</td>\n",
       "      <td>0.446600</td>\n",
       "      <td>0.317694</td>\n",
       "      <td>0.296772</td>\n",
       "      <td>0.442787</td>\n",
       "    </tr>\n",
       "    <tr>\n",
       "      <th>min</th>\n",
       "      <td>0.000000</td>\n",
       "      <td>0.000000</td>\n",
       "      <td>0.000000</td>\n",
       "      <td>0.000000</td>\n",
       "      <td>0.000000</td>\n",
       "      <td>0.000000</td>\n",
       "      <td>0.000000</td>\n",
       "      <td>0.000000</td>\n",
       "      <td>0.000000</td>\n",
       "      <td>0.000000</td>\n",
       "      <td>...</td>\n",
       "      <td>-1.000000</td>\n",
       "      <td>-1.000000</td>\n",
       "      <td>-1.000000</td>\n",
       "      <td>-1.000000</td>\n",
       "      <td>-1.000000</td>\n",
       "      <td>-1.000000</td>\n",
       "      <td>-1.000000</td>\n",
       "      <td>-1.000000</td>\n",
       "      <td>-1.000000</td>\n",
       "      <td>0.000000</td>\n",
       "    </tr>\n",
       "    <tr>\n",
       "      <th>25%</th>\n",
       "      <td>96.000000</td>\n",
       "      <td>0.000000</td>\n",
       "      <td>0.000000</td>\n",
       "      <td>0.000000</td>\n",
       "      <td>0.000000</td>\n",
       "      <td>0.000000</td>\n",
       "      <td>0.000000</td>\n",
       "      <td>0.000000</td>\n",
       "      <td>0.000000</td>\n",
       "      <td>0.000000</td>\n",
       "      <td>...</td>\n",
       "      <td>-1.000000</td>\n",
       "      <td>-1.000000</td>\n",
       "      <td>-1.000000</td>\n",
       "      <td>-1.000000</td>\n",
       "      <td>-1.000000</td>\n",
       "      <td>-1.000000</td>\n",
       "      <td>-1.000000</td>\n",
       "      <td>-1.000000</td>\n",
       "      <td>-1.000000</td>\n",
       "      <td>0.000000</td>\n",
       "    </tr>\n",
       "    <tr>\n",
       "      <th>50%</th>\n",
       "      <td>192.000000</td>\n",
       "      <td>0.000000</td>\n",
       "      <td>0.000000</td>\n",
       "      <td>0.000000</td>\n",
       "      <td>0.000000</td>\n",
       "      <td>0.000000</td>\n",
       "      <td>0.000000</td>\n",
       "      <td>0.000000</td>\n",
       "      <td>0.000000</td>\n",
       "      <td>0.000000</td>\n",
       "      <td>...</td>\n",
       "      <td>-1.000000</td>\n",
       "      <td>-0.976190</td>\n",
       "      <td>-0.979798</td>\n",
       "      <td>-1.000000</td>\n",
       "      <td>-0.984944</td>\n",
       "      <td>-0.989822</td>\n",
       "      <td>-1.000000</td>\n",
       "      <td>-0.975924</td>\n",
       "      <td>-0.980333</td>\n",
       "      <td>0.000000</td>\n",
       "    </tr>\n",
       "    <tr>\n",
       "      <th>75%</th>\n",
       "      <td>288.000000</td>\n",
       "      <td>1.000000</td>\n",
       "      <td>1.000000</td>\n",
       "      <td>0.000000</td>\n",
       "      <td>0.000000</td>\n",
       "      <td>0.000000</td>\n",
       "      <td>0.000000</td>\n",
       "      <td>0.000000</td>\n",
       "      <td>0.000000</td>\n",
       "      <td>0.000000</td>\n",
       "      <td>...</td>\n",
       "      <td>-0.647059</td>\n",
       "      <td>-0.595238</td>\n",
       "      <td>-0.878788</td>\n",
       "      <td>-0.645482</td>\n",
       "      <td>-0.522176</td>\n",
       "      <td>-0.662529</td>\n",
       "      <td>-0.634409</td>\n",
       "      <td>-0.594677</td>\n",
       "      <td>-0.880155</td>\n",
       "      <td>1.000000</td>\n",
       "    </tr>\n",
       "    <tr>\n",
       "      <th>max</th>\n",
       "      <td>384.000000</td>\n",
       "      <td>1.000000</td>\n",
       "      <td>1.000000</td>\n",
       "      <td>1.000000</td>\n",
       "      <td>1.000000</td>\n",
       "      <td>1.000000</td>\n",
       "      <td>1.000000</td>\n",
       "      <td>1.000000</td>\n",
       "      <td>1.000000</td>\n",
       "      <td>1.000000</td>\n",
       "      <td>...</td>\n",
       "      <td>1.000000</td>\n",
       "      <td>1.000000</td>\n",
       "      <td>1.000000</td>\n",
       "      <td>1.000000</td>\n",
       "      <td>1.000000</td>\n",
       "      <td>1.000000</td>\n",
       "      <td>1.000000</td>\n",
       "      <td>1.000000</td>\n",
       "      <td>1.000000</td>\n",
       "      <td>1.000000</td>\n",
       "    </tr>\n",
       "  </tbody>\n",
       "</table>\n",
       "<p>8 rows × 229 columns</p>\n",
       "</div>"
      ]
     },
     "metadata": {},
     "execution_count": 5
    }
   ],
   "metadata": {}
  },
  {
   "cell_type": "code",
   "execution_count": null,
   "source": [],
   "outputs": [],
   "metadata": {}
  },
  {
   "cell_type": "code",
   "execution_count": 6,
   "source": [
    "dados['ICU'].value_counts()"
   ],
   "outputs": [
    {
     "output_type": "execute_result",
     "data": {
      "text/plain": [
       "0    1410\n",
       "1     515\n",
       "Name: ICU, dtype: int64"
      ]
     },
     "metadata": {},
     "execution_count": 6
    }
   ],
   "metadata": {}
  },
  {
   "cell_type": "code",
   "execution_count": 7,
   "source": [
    "# Removendo os valores nulos\r\n",
    "dados_limpos = dados.dropna()\r\n",
    "\r\n",
    "# Para pegar somente as tabelas que possuem valores numéricos iremos utilizar dados.describe().columns\r\n",
    "x = dados_limpos[dados_limpos.describe().columns].drop(['ICU'], axis=1)\r\n",
    "y = dados_limpos['ICU']"
   ],
   "outputs": [],
   "metadata": {}
  },
  {
   "cell_type": "code",
   "execution_count": 8,
   "source": [
    "x.head()"
   ],
   "outputs": [
    {
     "output_type": "execute_result",
     "data": {
      "text/plain": [
       "    PATIENT_VISIT_IDENTIFIER  AGE_ABOVE65  GENDER  DISEASE GROUPING 1  \\\n",
       "4                          0            1       0                 0.0   \n",
       "6                          1            1       1                 0.0   \n",
       "8                          1            1       1                 0.0   \n",
       "9                          1            1       1                 0.0   \n",
       "14                         2            0       0                 0.0   \n",
       "\n",
       "    DISEASE GROUPING 2  DISEASE GROUPING 3  DISEASE GROUPING 4  \\\n",
       "4                  0.0                 0.0                 0.0   \n",
       "6                  0.0                 0.0                 0.0   \n",
       "8                  0.0                 0.0                 0.0   \n",
       "9                  0.0                 0.0                 0.0   \n",
       "14                 0.0                 0.0                 0.0   \n",
       "\n",
       "    DISEASE GROUPING 5  DISEASE GROUPING 6  HTN  ...  HEART_RATE_DIFF  \\\n",
       "4                  1.0                 1.0  0.0  ...         0.114504   \n",
       "6                  0.0                 0.0  1.0  ...        -1.000000   \n",
       "8                  0.0                 0.0  1.0  ...        -0.923664   \n",
       "9                  1.0                 0.0  1.0  ...         0.114504   \n",
       "14                 0.0                 0.0  0.0  ...        -0.419847   \n",
       "\n",
       "    RESPIRATORY_RATE_DIFF  TEMPERATURE_DIFF  OXYGEN_SATURATION_DIFF  \\\n",
       "4                0.176471         -0.238095               -0.818182   \n",
       "6               -1.000000         -1.000000               -1.000000   \n",
       "8               -0.764706         -0.880952               -1.000000   \n",
       "9                0.764706          0.142857               -0.797980   \n",
       "14              -0.705882         -0.500000               -0.898990   \n",
       "\n",
       "    BLOODPRESSURE_DIASTOLIC_DIFF_REL  BLOODPRESSURE_SISTOLIC_DIFF_REL  \\\n",
       "4                          -0.389967                         0.407558   \n",
       "6                          -1.000000                        -1.000000   \n",
       "8                          -0.906832                        -0.831132   \n",
       "9                           0.315690                         0.200359   \n",
       "14                         -0.612422                        -0.343258   \n",
       "\n",
       "    HEART_RATE_DIFF_REL  RESPIRATORY_RATE_DIFF_REL  TEMPERATURE_DIFF_REL  \\\n",
       "4             -0.230462                   0.096774             -0.242282   \n",
       "6             -1.000000                  -1.000000             -1.000000   \n",
       "8             -0.940967                  -0.817204             -0.882574   \n",
       "9             -0.239515                   0.645161              0.139709   \n",
       "14            -0.576744                  -0.695341             -0.505464   \n",
       "\n",
       "    OXYGEN_SATURATION_DIFF_REL  \n",
       "4                    -0.814433  \n",
       "6                    -1.000000  \n",
       "8                    -1.000000  \n",
       "9                    -0.802317  \n",
       "14                   -0.900129  \n",
       "\n",
       "[5 rows x 228 columns]"
      ],
      "text/html": [
       "<div>\n",
       "<style scoped>\n",
       "    .dataframe tbody tr th:only-of-type {\n",
       "        vertical-align: middle;\n",
       "    }\n",
       "\n",
       "    .dataframe tbody tr th {\n",
       "        vertical-align: top;\n",
       "    }\n",
       "\n",
       "    .dataframe thead th {\n",
       "        text-align: right;\n",
       "    }\n",
       "</style>\n",
       "<table border=\"1\" class=\"dataframe\">\n",
       "  <thead>\n",
       "    <tr style=\"text-align: right;\">\n",
       "      <th></th>\n",
       "      <th>PATIENT_VISIT_IDENTIFIER</th>\n",
       "      <th>AGE_ABOVE65</th>\n",
       "      <th>GENDER</th>\n",
       "      <th>DISEASE GROUPING 1</th>\n",
       "      <th>DISEASE GROUPING 2</th>\n",
       "      <th>DISEASE GROUPING 3</th>\n",
       "      <th>DISEASE GROUPING 4</th>\n",
       "      <th>DISEASE GROUPING 5</th>\n",
       "      <th>DISEASE GROUPING 6</th>\n",
       "      <th>HTN</th>\n",
       "      <th>...</th>\n",
       "      <th>HEART_RATE_DIFF</th>\n",
       "      <th>RESPIRATORY_RATE_DIFF</th>\n",
       "      <th>TEMPERATURE_DIFF</th>\n",
       "      <th>OXYGEN_SATURATION_DIFF</th>\n",
       "      <th>BLOODPRESSURE_DIASTOLIC_DIFF_REL</th>\n",
       "      <th>BLOODPRESSURE_SISTOLIC_DIFF_REL</th>\n",
       "      <th>HEART_RATE_DIFF_REL</th>\n",
       "      <th>RESPIRATORY_RATE_DIFF_REL</th>\n",
       "      <th>TEMPERATURE_DIFF_REL</th>\n",
       "      <th>OXYGEN_SATURATION_DIFF_REL</th>\n",
       "    </tr>\n",
       "  </thead>\n",
       "  <tbody>\n",
       "    <tr>\n",
       "      <th>4</th>\n",
       "      <td>0</td>\n",
       "      <td>1</td>\n",
       "      <td>0</td>\n",
       "      <td>0.0</td>\n",
       "      <td>0.0</td>\n",
       "      <td>0.0</td>\n",
       "      <td>0.0</td>\n",
       "      <td>1.0</td>\n",
       "      <td>1.0</td>\n",
       "      <td>0.0</td>\n",
       "      <td>...</td>\n",
       "      <td>0.114504</td>\n",
       "      <td>0.176471</td>\n",
       "      <td>-0.238095</td>\n",
       "      <td>-0.818182</td>\n",
       "      <td>-0.389967</td>\n",
       "      <td>0.407558</td>\n",
       "      <td>-0.230462</td>\n",
       "      <td>0.096774</td>\n",
       "      <td>-0.242282</td>\n",
       "      <td>-0.814433</td>\n",
       "    </tr>\n",
       "    <tr>\n",
       "      <th>6</th>\n",
       "      <td>1</td>\n",
       "      <td>1</td>\n",
       "      <td>1</td>\n",
       "      <td>0.0</td>\n",
       "      <td>0.0</td>\n",
       "      <td>0.0</td>\n",
       "      <td>0.0</td>\n",
       "      <td>0.0</td>\n",
       "      <td>0.0</td>\n",
       "      <td>1.0</td>\n",
       "      <td>...</td>\n",
       "      <td>-1.000000</td>\n",
       "      <td>-1.000000</td>\n",
       "      <td>-1.000000</td>\n",
       "      <td>-1.000000</td>\n",
       "      <td>-1.000000</td>\n",
       "      <td>-1.000000</td>\n",
       "      <td>-1.000000</td>\n",
       "      <td>-1.000000</td>\n",
       "      <td>-1.000000</td>\n",
       "      <td>-1.000000</td>\n",
       "    </tr>\n",
       "    <tr>\n",
       "      <th>8</th>\n",
       "      <td>1</td>\n",
       "      <td>1</td>\n",
       "      <td>1</td>\n",
       "      <td>0.0</td>\n",
       "      <td>0.0</td>\n",
       "      <td>0.0</td>\n",
       "      <td>0.0</td>\n",
       "      <td>0.0</td>\n",
       "      <td>0.0</td>\n",
       "      <td>1.0</td>\n",
       "      <td>...</td>\n",
       "      <td>-0.923664</td>\n",
       "      <td>-0.764706</td>\n",
       "      <td>-0.880952</td>\n",
       "      <td>-1.000000</td>\n",
       "      <td>-0.906832</td>\n",
       "      <td>-0.831132</td>\n",
       "      <td>-0.940967</td>\n",
       "      <td>-0.817204</td>\n",
       "      <td>-0.882574</td>\n",
       "      <td>-1.000000</td>\n",
       "    </tr>\n",
       "    <tr>\n",
       "      <th>9</th>\n",
       "      <td>1</td>\n",
       "      <td>1</td>\n",
       "      <td>1</td>\n",
       "      <td>0.0</td>\n",
       "      <td>0.0</td>\n",
       "      <td>0.0</td>\n",
       "      <td>0.0</td>\n",
       "      <td>1.0</td>\n",
       "      <td>0.0</td>\n",
       "      <td>1.0</td>\n",
       "      <td>...</td>\n",
       "      <td>0.114504</td>\n",
       "      <td>0.764706</td>\n",
       "      <td>0.142857</td>\n",
       "      <td>-0.797980</td>\n",
       "      <td>0.315690</td>\n",
       "      <td>0.200359</td>\n",
       "      <td>-0.239515</td>\n",
       "      <td>0.645161</td>\n",
       "      <td>0.139709</td>\n",
       "      <td>-0.802317</td>\n",
       "    </tr>\n",
       "    <tr>\n",
       "      <th>14</th>\n",
       "      <td>2</td>\n",
       "      <td>0</td>\n",
       "      <td>0</td>\n",
       "      <td>0.0</td>\n",
       "      <td>0.0</td>\n",
       "      <td>0.0</td>\n",
       "      <td>0.0</td>\n",
       "      <td>0.0</td>\n",
       "      <td>0.0</td>\n",
       "      <td>0.0</td>\n",
       "      <td>...</td>\n",
       "      <td>-0.419847</td>\n",
       "      <td>-0.705882</td>\n",
       "      <td>-0.500000</td>\n",
       "      <td>-0.898990</td>\n",
       "      <td>-0.612422</td>\n",
       "      <td>-0.343258</td>\n",
       "      <td>-0.576744</td>\n",
       "      <td>-0.695341</td>\n",
       "      <td>-0.505464</td>\n",
       "      <td>-0.900129</td>\n",
       "    </tr>\n",
       "  </tbody>\n",
       "</table>\n",
       "<p>5 rows × 228 columns</p>\n",
       "</div>"
      ]
     },
     "metadata": {},
     "execution_count": 8
    }
   ],
   "metadata": {}
  },
  {
   "cell_type": "code",
   "execution_count": 9,
   "source": [
    "from sklearn.linear_model import LogisticRegression\r\n",
    "\r\n",
    "modelo = LogisticRegression()\r\n",
    "modelo.fit(x,y)\r\n"
   ],
   "outputs": [
    {
     "output_type": "stream",
     "name": "stderr",
     "text": [
      "C:\\ProgramData\\Anaconda3\\lib\\site-packages\\sklearn\\linear_model\\_logistic.py:762: ConvergenceWarning: lbfgs failed to converge (status=1):\n",
      "STOP: TOTAL NO. of ITERATIONS REACHED LIMIT.\n",
      "\n",
      "Increase the number of iterations (max_iter) or scale the data as shown in:\n",
      "    https://scikit-learn.org/stable/modules/preprocessing.html\n",
      "Please also refer to the documentation for alternative solver options:\n",
      "    https://scikit-learn.org/stable/modules/linear_model.html#logistic-regression\n",
      "  n_iter_i = _check_optimize_result(\n"
     ]
    },
    {
     "output_type": "execute_result",
     "data": {
      "text/plain": [
       "LogisticRegression()"
      ]
     },
     "metadata": {},
     "execution_count": 9
    }
   ],
   "metadata": {}
  },
  {
   "cell_type": "code",
   "execution_count": 10,
   "source": [
    "x.iloc[4]"
   ],
   "outputs": [
    {
     "output_type": "execute_result",
     "data": {
      "text/plain": [
       "PATIENT_VISIT_IDENTIFIER           2.000000\n",
       "AGE_ABOVE65                        0.000000\n",
       "GENDER                             0.000000\n",
       "DISEASE GROUPING 1                 0.000000\n",
       "DISEASE GROUPING 2                 0.000000\n",
       "                                     ...   \n",
       "BLOODPRESSURE_SISTOLIC_DIFF_REL   -0.343258\n",
       "HEART_RATE_DIFF_REL               -0.576744\n",
       "RESPIRATORY_RATE_DIFF_REL         -0.695341\n",
       "TEMPERATURE_DIFF_REL              -0.505464\n",
       "OXYGEN_SATURATION_DIFF_REL        -0.900129\n",
       "Name: 14, Length: 228, dtype: float64"
      ]
     },
     "metadata": {},
     "execution_count": 10
    }
   ],
   "metadata": {}
  },
  {
   "cell_type": "code",
   "execution_count": 11,
   "source": [
    "# Testando a precisão do modelo. Importante passar o x.iloc dentro do colchetes pois se não vai passar os valores das colunas somente, então o modelo não entenderá o que é para fazer\r\n",
    "modelo.predict([x.iloc[4]])"
   ],
   "outputs": [
    {
     "output_type": "execute_result",
     "data": {
      "text/plain": [
       "array([1], dtype=int64)"
      ]
     },
     "metadata": {},
     "execution_count": 11
    }
   ],
   "metadata": {}
  },
  {
   "cell_type": "code",
   "execution_count": 12,
   "source": [
    "y.iloc[4]"
   ],
   "outputs": [
    {
     "output_type": "execute_result",
     "data": {
      "text/plain": [
       "1"
      ]
     },
     "metadata": {},
     "execution_count": 12
    }
   ],
   "metadata": {}
  },
  {
   "cell_type": "markdown",
   "source": [
    "Podemos observar que o modelo teve sucesso em prever que de fato o paciente em questão foi para a UTI"
   ],
   "metadata": {}
  },
  {
   "cell_type": "code",
   "execution_count": 13,
   "source": [
    "#display(print('O modelo acertou em: %d dos casos' % (sum(modelo.predict(x[:20]) == y[:20]) )))\r\n",
    "display(print('O modelo acertou em: {} dos casos'.format(sum(modelo.predict(x[:20]) == y[:20]) )))\r\n",
    "modelo.predict(x[:20]) == y[:20]"
   ],
   "outputs": [
    {
     "output_type": "stream",
     "name": "stdout",
     "text": [
      "O modelo acertou em: 20 dos casos\n"
     ]
    },
    {
     "output_type": "display_data",
     "data": {
      "text/plain": [
       "None"
      ]
     },
     "metadata": {}
    },
    {
     "output_type": "execute_result",
     "data": {
      "text/plain": [
       "4     True\n",
       "6     True\n",
       "8     True\n",
       "9     True\n",
       "14    True\n",
       "19    True\n",
       "22    True\n",
       "24    True\n",
       "29    True\n",
       "34    True\n",
       "36    True\n",
       "39    True\n",
       "44    True\n",
       "49    True\n",
       "50    True\n",
       "54    True\n",
       "59    True\n",
       "64    True\n",
       "69    True\n",
       "70    True\n",
       "Name: ICU, dtype: bool"
      ]
     },
     "metadata": {},
     "execution_count": 13
    }
   ],
   "metadata": {}
  },
  {
   "cell_type": "code",
   "execution_count": 14,
   "source": [
    "#display(print('O modelo acertou em: %d dos casos' % (sum(modelo.predict(x[:20]) == y[:20]) )))\r\n",
    "print('O modelo acertou em: {} dos casos e errou em {}'.format(sum(modelo.predict(x) == y),sum(modelo.predict(x) != y) ))\r\n",
    "print('A acuracia do modelo foi de {:.2%} '.format(sum(modelo.predict(x) == y)/len(y)))"
   ],
   "outputs": [
    {
     "output_type": "stream",
     "name": "stdout",
     "text": [
      "O modelo acertou em: 497 dos casos e errou em 48\n",
      "A acuracia do modelo foi de 91.19% \n"
     ]
    }
   ],
   "metadata": {}
  },
  {
   "cell_type": "markdown",
   "source": [
    "Separando os dados em treino e teste com a ferramenta train_train_split"
   ],
   "metadata": {}
  },
  {
   "cell_type": "code",
   "execution_count": 41,
   "source": [
    "from sklearn.model_selection import train_test_split\r\n",
    "\r\n",
    "# Stratificar é manter a proporção com base em alguma coluna, por exemplo, no nosso caso irá manter a proporção de 0 e 1 com base na coluna y\r\n",
    "x_train, x_test, y_train, y_test = train_test_split(x,y, stratify = y, random_state = 73246)"
   ],
   "outputs": [],
   "metadata": {}
  },
  {
   "cell_type": "code",
   "execution_count": 42,
   "source": [
    "import warnings\r\n",
    "#ignorar os avisos do python\r\n",
    "warnings.filterwarnings('ignore')\r\n",
    "\r\n",
    "from sklearn.metrics import accuracy_score\r\n",
    "# Definindo o modelo\r\n",
    "modelo = LogisticRegression()\r\n",
    "\r\n",
    "# Treinando o modelo\r\n",
    "modelo.fit(x_train, y_train)\r\n",
    "\r\n",
    "# Fazendo as previsões para os dados de teste\r\n",
    "yhat = modelo.predict(x_test)\r\n",
    "\r\n",
    "# Comparando o que foi previsto com os valores corretos\r\n",
    "print('{:.2%}'.format(accuracy_score(y_test, yhat)))"
   ],
   "outputs": [
    {
     "output_type": "stream",
     "name": "stdout",
     "text": [
      "83.21%\n"
     ]
    }
   ],
   "metadata": {}
  },
  {
   "cell_type": "code",
   "execution_count": 44,
   "source": [
    "print(y_train.value_counts(normalize = True))\r\n",
    "print()\r\n",
    "print(y_test.value_counts(normalize = True))"
   ],
   "outputs": [
    {
     "output_type": "stream",
     "name": "stdout",
     "text": [
      "0    0.514706\n",
      "1    0.485294\n",
      "Name: ICU, dtype: float64\n",
      "\n",
      "0    0.518248\n",
      "1    0.481752\n",
      "Name: ICU, dtype: float64\n"
     ]
    }
   ],
   "metadata": {}
  },
  {
   "cell_type": "markdown",
   "source": [
    "# Desafio 5: Decida quanto você vai escolher para treino e quanto para teste? "
   ],
   "metadata": {}
  },
  {
   "cell_type": "markdown",
   "source": [
    "O parâmetro utilizado é o **test_size** e o mais comum é utilizar 2/3 para os dados de treino e apenas 1/3 para dados de teste."
   ],
   "metadata": {}
  },
  {
   "cell_type": "code",
   "execution_count": 45,
   "source": [
    "from sklearn.model_selection import train_test_split\r\n",
    "\r\n",
    "# Stratificar é manter a proporção com base em alguma coluna, por exemplo, no nosso caso irá manter a proporção de 0 e 1 com base na coluna y\r\n",
    "x_train, x_test, y_train, y_test = train_test_split(x,y, test_size = 1/3, stratify = y, random_state = 73246)"
   ],
   "outputs": [],
   "metadata": {}
  },
  {
   "cell_type": "markdown",
   "source": [
    "# Desafio 6: Ler a documentação da Regressão Logistica"
   ],
   "metadata": {}
  },
  {
   "cell_type": "markdown",
   "source": [
    "[LINK PARA A DOCUMENTAÇÃO LOGISTIC REGRESSION](https://scikit-learn.org/stable/modules/generated/sklearn.linear_model.LogisticRegression.html)"
   ],
   "metadata": {}
  }
 ],
 "metadata": {
  "orig_nbformat": 4,
  "language_info": {
   "name": "python",
   "version": "3.8.5",
   "mimetype": "text/x-python",
   "codemirror_mode": {
    "name": "ipython",
    "version": 3
   },
   "pygments_lexer": "ipython3",
   "nbconvert_exporter": "python",
   "file_extension": ".py"
  },
  "kernelspec": {
   "name": "python3",
   "display_name": "Python 3.8.5 64-bit ('base': conda)"
  },
  "interpreter": {
   "hash": "b3ba2566441a7c06988d0923437866b63cedc61552a5af99d1f4fb67d367b25f"
  }
 },
 "nbformat": 4,
 "nbformat_minor": 2
}