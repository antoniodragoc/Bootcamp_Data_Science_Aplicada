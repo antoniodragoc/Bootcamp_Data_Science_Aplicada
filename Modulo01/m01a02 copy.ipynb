{
 "metadata": {
  "language_info": {
   "codemirror_mode": {
    "name": "ipython",
    "version": 3
   },
   "file_extension": ".py",
   "mimetype": "text/x-python",
   "name": "python",
   "nbconvert_exporter": "python",
   "pygments_lexer": "ipython3",
   "version": "3.8.5"
  },
  "orig_nbformat": 2,
  "kernelspec": {
   "name": "python385jvsc74a57bd0b3ba2566441a7c06988d0923437866b63cedc61552a5af99d1f4fb67d367b25f",
   "display_name": "Python 3.8.5 64-bit ('base': conda)"
  }
 },
 "nbformat": 4,
 "nbformat_minor": 2,
 "cells": [
  {
   "cell_type": "code",
   "execution_count": 26,
   "metadata": {},
   "outputs": [],
   "source": [
    "import pandas as pd\n",
    "import numpy as np\n",
    "import matplotlib.pyplot as plt\n",
    "import matplotlib.ticker as ticker\n",
    "\n",
    "# Fomatação do Pandas\n",
    "pd.options.display.float_format='{:.2f}'.format"
   ]
  },
  {
   "cell_type": "code",
   "execution_count": 27,
   "metadata": {},
   "outputs": [],
   "source": [
    "df = pd.read_csv(r'./dados/A155957189_28_143_208.csv', encoding= 'ISO-8859-1', sep=';', error_bad_lines=False, skiprows=3, skipfooter=12, thousands='.',decimal=',', engine = 'python')"
   ]
  },
  {
   "cell_type": "code",
   "execution_count": 28,
   "metadata": {},
   "outputs": [
    {
     "output_type": "execute_result",
     "data": {
      "text/plain": [
       "  Unidade da Federação 1992/Mar 1992/Abr 1993/Mai 1993/Dez 1994/Jan 1994/Fev  \\\n",
       "0          11 Rondônia        -        -        -        -        -        -   \n",
       "1              12 Acre        -        -        -        -        -        -   \n",
       "2          13 Amazonas        -        -        -        -        -        -   \n",
       "3           14 Roraima        -        -        -        -        -        -   \n",
       "4              15 Pará        -        -        -        -        -        -   \n",
       "\n",
       "  1994/Mai 1994/Ago 1994/Nov  ...    2020/Jul    2020/Ago    2020/Set  \\\n",
       "0        -        -        -  ... 10479989.36 11433467.56  8876900.39   \n",
       "1        -        -        -  ...  4053085.41  3658265.59  3470409.45   \n",
       "2        -        -        -  ... 19303743.16 18687233.58 18628627.49   \n",
       "3        -        -        -  ...  3192075.41  3262354.34  2978629.22   \n",
       "4        -        -        -  ... 40496349.97 38793393.54 36965951.76   \n",
       "\n",
       "     2020/Out    2020/Nov    2020/Dez    2021/Jan    2021/Fev    2021/Mar  \\\n",
       "0  8167253.19  8759013.71  9003402.23  8414690.60  6039419.59  4732441.04   \n",
       "1  3267918.69  3393958.27  3711660.71  3005561.16  2272733.90  1137341.65   \n",
       "2 18728251.20 20451573.77 21546059.48 24439059.57 13679358.06  6799060.80   \n",
       "3  3313296.78  3527263.23  3125021.90  3209323.68  3044798.77  2381844.31   \n",
       "4 38406616.21 37043032.10 36914437.92 33887773.65 23343222.94 13069564.31   \n",
       "\n",
       "          Total  \n",
       "0  996411254.68  \n",
       "1  450048530.47  \n",
       "2 1917247936.05  \n",
       "3  328876965.09  \n",
       "4 4705309002.29  \n",
       "\n",
       "[5 rows x 287 columns]"
      ],
      "text/html": "<div>\n<style scoped>\n    .dataframe tbody tr th:only-of-type {\n        vertical-align: middle;\n    }\n\n    .dataframe tbody tr th {\n        vertical-align: top;\n    }\n\n    .dataframe thead th {\n        text-align: right;\n    }\n</style>\n<table border=\"1\" class=\"dataframe\">\n  <thead>\n    <tr style=\"text-align: right;\">\n      <th></th>\n      <th>Unidade da Federação</th>\n      <th>1992/Mar</th>\n      <th>1992/Abr</th>\n      <th>1993/Mai</th>\n      <th>1993/Dez</th>\n      <th>1994/Jan</th>\n      <th>1994/Fev</th>\n      <th>1994/Mai</th>\n      <th>1994/Ago</th>\n      <th>1994/Nov</th>\n      <th>...</th>\n      <th>2020/Jul</th>\n      <th>2020/Ago</th>\n      <th>2020/Set</th>\n      <th>2020/Out</th>\n      <th>2020/Nov</th>\n      <th>2020/Dez</th>\n      <th>2021/Jan</th>\n      <th>2021/Fev</th>\n      <th>2021/Mar</th>\n      <th>Total</th>\n    </tr>\n  </thead>\n  <tbody>\n    <tr>\n      <th>0</th>\n      <td>11 Rondônia</td>\n      <td>-</td>\n      <td>-</td>\n      <td>-</td>\n      <td>-</td>\n      <td>-</td>\n      <td>-</td>\n      <td>-</td>\n      <td>-</td>\n      <td>-</td>\n      <td>...</td>\n      <td>10479989.36</td>\n      <td>11433467.56</td>\n      <td>8876900.39</td>\n      <td>8167253.19</td>\n      <td>8759013.71</td>\n      <td>9003402.23</td>\n      <td>8414690.60</td>\n      <td>6039419.59</td>\n      <td>4732441.04</td>\n      <td>996411254.68</td>\n    </tr>\n    <tr>\n      <th>1</th>\n      <td>12 Acre</td>\n      <td>-</td>\n      <td>-</td>\n      <td>-</td>\n      <td>-</td>\n      <td>-</td>\n      <td>-</td>\n      <td>-</td>\n      <td>-</td>\n      <td>-</td>\n      <td>...</td>\n      <td>4053085.41</td>\n      <td>3658265.59</td>\n      <td>3470409.45</td>\n      <td>3267918.69</td>\n      <td>3393958.27</td>\n      <td>3711660.71</td>\n      <td>3005561.16</td>\n      <td>2272733.90</td>\n      <td>1137341.65</td>\n      <td>450048530.47</td>\n    </tr>\n    <tr>\n      <th>2</th>\n      <td>13 Amazonas</td>\n      <td>-</td>\n      <td>-</td>\n      <td>-</td>\n      <td>-</td>\n      <td>-</td>\n      <td>-</td>\n      <td>-</td>\n      <td>-</td>\n      <td>-</td>\n      <td>...</td>\n      <td>19303743.16</td>\n      <td>18687233.58</td>\n      <td>18628627.49</td>\n      <td>18728251.20</td>\n      <td>20451573.77</td>\n      <td>21546059.48</td>\n      <td>24439059.57</td>\n      <td>13679358.06</td>\n      <td>6799060.80</td>\n      <td>1917247936.05</td>\n    </tr>\n    <tr>\n      <th>3</th>\n      <td>14 Roraima</td>\n      <td>-</td>\n      <td>-</td>\n      <td>-</td>\n      <td>-</td>\n      <td>-</td>\n      <td>-</td>\n      <td>-</td>\n      <td>-</td>\n      <td>-</td>\n      <td>...</td>\n      <td>3192075.41</td>\n      <td>3262354.34</td>\n      <td>2978629.22</td>\n      <td>3313296.78</td>\n      <td>3527263.23</td>\n      <td>3125021.90</td>\n      <td>3209323.68</td>\n      <td>3044798.77</td>\n      <td>2381844.31</td>\n      <td>328876965.09</td>\n    </tr>\n    <tr>\n      <th>4</th>\n      <td>15 Pará</td>\n      <td>-</td>\n      <td>-</td>\n      <td>-</td>\n      <td>-</td>\n      <td>-</td>\n      <td>-</td>\n      <td>-</td>\n      <td>-</td>\n      <td>-</td>\n      <td>...</td>\n      <td>40496349.97</td>\n      <td>38793393.54</td>\n      <td>36965951.76</td>\n      <td>38406616.21</td>\n      <td>37043032.10</td>\n      <td>36914437.92</td>\n      <td>33887773.65</td>\n      <td>23343222.94</td>\n      <td>13069564.31</td>\n      <td>4705309002.29</td>\n    </tr>\n  </tbody>\n</table>\n<p>5 rows × 287 columns</p>\n</div>"
     },
     "metadata": {},
     "execution_count": 28
    }
   ],
   "source": [
    "df.head()"
   ]
  },
  {
   "cell_type": "code",
   "execution_count": 29,
   "metadata": {},
   "outputs": [],
   "source": [
    "a = df['Unidade da Federação'].str.split(' ', 1, expand = True)\n",
    "# df.insert(value = a[0], column = 'Número do Estado', loc = 0)\n",
    "df['Unidade da Federação'] = a[1]"
   ]
  },
  {
   "cell_type": "code",
   "execution_count": 30,
   "metadata": {},
   "outputs": [
    {
     "output_type": "execute_result",
     "data": {
      "text/plain": [
       "  Unidade da Federação 1992/Mar 1992/Abr 1993/Mai 1993/Dez 1994/Jan 1994/Fev  \\\n",
       "0             Rondônia        -        -        -        -        -        -   \n",
       "1                 Acre        -        -        -        -        -        -   \n",
       "2             Amazonas        -        -        -        -        -        -   \n",
       "3              Roraima        -        -        -        -        -        -   \n",
       "4                 Pará        -        -        -        -        -        -   \n",
       "\n",
       "  1994/Mai 1994/Ago 1994/Nov  ...    2020/Jul    2020/Ago    2020/Set  \\\n",
       "0        -        -        -  ... 10479989.36 11433467.56  8876900.39   \n",
       "1        -        -        -  ...  4053085.41  3658265.59  3470409.45   \n",
       "2        -        -        -  ... 19303743.16 18687233.58 18628627.49   \n",
       "3        -        -        -  ...  3192075.41  3262354.34  2978629.22   \n",
       "4        -        -        -  ... 40496349.97 38793393.54 36965951.76   \n",
       "\n",
       "     2020/Out    2020/Nov    2020/Dez    2021/Jan    2021/Fev    2021/Mar  \\\n",
       "0  8167253.19  8759013.71  9003402.23  8414690.60  6039419.59  4732441.04   \n",
       "1  3267918.69  3393958.27  3711660.71  3005561.16  2272733.90  1137341.65   \n",
       "2 18728251.20 20451573.77 21546059.48 24439059.57 13679358.06  6799060.80   \n",
       "3  3313296.78  3527263.23  3125021.90  3209323.68  3044798.77  2381844.31   \n",
       "4 38406616.21 37043032.10 36914437.92 33887773.65 23343222.94 13069564.31   \n",
       "\n",
       "          Total  \n",
       "0  996411254.68  \n",
       "1  450048530.47  \n",
       "2 1917247936.05  \n",
       "3  328876965.09  \n",
       "4 4705309002.29  \n",
       "\n",
       "[5 rows x 287 columns]"
      ],
      "text/html": "<div>\n<style scoped>\n    .dataframe tbody tr th:only-of-type {\n        vertical-align: middle;\n    }\n\n    .dataframe tbody tr th {\n        vertical-align: top;\n    }\n\n    .dataframe thead th {\n        text-align: right;\n    }\n</style>\n<table border=\"1\" class=\"dataframe\">\n  <thead>\n    <tr style=\"text-align: right;\">\n      <th></th>\n      <th>Unidade da Federação</th>\n      <th>1992/Mar</th>\n      <th>1992/Abr</th>\n      <th>1993/Mai</th>\n      <th>1993/Dez</th>\n      <th>1994/Jan</th>\n      <th>1994/Fev</th>\n      <th>1994/Mai</th>\n      <th>1994/Ago</th>\n      <th>1994/Nov</th>\n      <th>...</th>\n      <th>2020/Jul</th>\n      <th>2020/Ago</th>\n      <th>2020/Set</th>\n      <th>2020/Out</th>\n      <th>2020/Nov</th>\n      <th>2020/Dez</th>\n      <th>2021/Jan</th>\n      <th>2021/Fev</th>\n      <th>2021/Mar</th>\n      <th>Total</th>\n    </tr>\n  </thead>\n  <tbody>\n    <tr>\n      <th>0</th>\n      <td>Rondônia</td>\n      <td>-</td>\n      <td>-</td>\n      <td>-</td>\n      <td>-</td>\n      <td>-</td>\n      <td>-</td>\n      <td>-</td>\n      <td>-</td>\n      <td>-</td>\n      <td>...</td>\n      <td>10479989.36</td>\n      <td>11433467.56</td>\n      <td>8876900.39</td>\n      <td>8167253.19</td>\n      <td>8759013.71</td>\n      <td>9003402.23</td>\n      <td>8414690.60</td>\n      <td>6039419.59</td>\n      <td>4732441.04</td>\n      <td>996411254.68</td>\n    </tr>\n    <tr>\n      <th>1</th>\n      <td>Acre</td>\n      <td>-</td>\n      <td>-</td>\n      <td>-</td>\n      <td>-</td>\n      <td>-</td>\n      <td>-</td>\n      <td>-</td>\n      <td>-</td>\n      <td>-</td>\n      <td>...</td>\n      <td>4053085.41</td>\n      <td>3658265.59</td>\n      <td>3470409.45</td>\n      <td>3267918.69</td>\n      <td>3393958.27</td>\n      <td>3711660.71</td>\n      <td>3005561.16</td>\n      <td>2272733.90</td>\n      <td>1137341.65</td>\n      <td>450048530.47</td>\n    </tr>\n    <tr>\n      <th>2</th>\n      <td>Amazonas</td>\n      <td>-</td>\n      <td>-</td>\n      <td>-</td>\n      <td>-</td>\n      <td>-</td>\n      <td>-</td>\n      <td>-</td>\n      <td>-</td>\n      <td>-</td>\n      <td>...</td>\n      <td>19303743.16</td>\n      <td>18687233.58</td>\n      <td>18628627.49</td>\n      <td>18728251.20</td>\n      <td>20451573.77</td>\n      <td>21546059.48</td>\n      <td>24439059.57</td>\n      <td>13679358.06</td>\n      <td>6799060.80</td>\n      <td>1917247936.05</td>\n    </tr>\n    <tr>\n      <th>3</th>\n      <td>Roraima</td>\n      <td>-</td>\n      <td>-</td>\n      <td>-</td>\n      <td>-</td>\n      <td>-</td>\n      <td>-</td>\n      <td>-</td>\n      <td>-</td>\n      <td>-</td>\n      <td>...</td>\n      <td>3192075.41</td>\n      <td>3262354.34</td>\n      <td>2978629.22</td>\n      <td>3313296.78</td>\n      <td>3527263.23</td>\n      <td>3125021.90</td>\n      <td>3209323.68</td>\n      <td>3044798.77</td>\n      <td>2381844.31</td>\n      <td>328876965.09</td>\n    </tr>\n    <tr>\n      <th>4</th>\n      <td>Pará</td>\n      <td>-</td>\n      <td>-</td>\n      <td>-</td>\n      <td>-</td>\n      <td>-</td>\n      <td>-</td>\n      <td>-</td>\n      <td>-</td>\n      <td>-</td>\n      <td>...</td>\n      <td>40496349.97</td>\n      <td>38793393.54</td>\n      <td>36965951.76</td>\n      <td>38406616.21</td>\n      <td>37043032.10</td>\n      <td>36914437.92</td>\n      <td>33887773.65</td>\n      <td>23343222.94</td>\n      <td>13069564.31</td>\n      <td>4705309002.29</td>\n    </tr>\n  </tbody>\n</table>\n<p>5 rows × 287 columns</p>\n</div>"
     },
     "metadata": {},
     "execution_count": 30
    }
   ],
   "source": [
    "df.head()"
   ]
  },
  {
   "cell_type": "code",
   "execution_count": 31,
   "metadata": {},
   "outputs": [
    {
     "output_type": "execute_result",
     "data": {
      "text/plain": [
       "        2007/Ago   2007/Set    2007/Out    2007/Nov    2007/Dez      2008/Jan  \\\n",
       "count      27.00      27.00       27.00       27.00       27.00         27.00   \n",
       "mean   304952.77  788145.26  2440162.96  5517354.05 12337159.42   76343108.00   \n",
       "std    392806.00 1071747.56  3421972.10  7767711.29 16345863.65  201153948.03   \n",
       "min      4113.76   11858.63    43852.67   226661.18   470676.43     808448.39   \n",
       "25%     46580.42  139423.94   505778.42  1410610.81  3650090.00    8257222.37   \n",
       "50%    179395.82  418053.58  1152115.25  2406035.32  5949408.99   16568724.64   \n",
       "75%    392985.52  969999.75  2625635.63  5915821.61 13394973.35   52147797.62   \n",
       "max   1665349.90 4434168.64 14577395.84 35032259.98 76668547.41 1038067423.15   \n",
       "\n",
       "          2008/Fev     2008/Mar     2008/Abr     2008/Mai  ...     2020/Jul  \\\n",
       "count        27.00        27.00        27.00        27.00  ...        27.00   \n",
       "mean   23821310.52  25879711.67  26213027.10  26218488.77  ...  57693175.63   \n",
       "std    34459305.08  34816150.69  34788035.48  35063318.56  ...  74371252.47   \n",
       "min      771687.83    876091.18    896952.53   1027288.73  ...   2536642.73   \n",
       "25%     7932273.51   8926011.35   8764559.62   9229049.70  ...  18911546.95   \n",
       "50%    10215956.80  12262049.08  12453466.98  11900817.00  ...  28608103.39   \n",
       "75%    26932691.98  30400866.02  30982776.89  31304997.26  ...  76595078.72   \n",
       "max   172961999.58 170556696.16 170338163.23 172462057.87  ... 361986896.25   \n",
       "\n",
       "          2020/Ago     2020/Set     2020/Out     2020/Nov     2020/Dez  \\\n",
       "count        27.00        27.00        27.00        27.00        27.00   \n",
       "mean   56199394.29  53909030.54  53910192.75  53735469.44  53772909.13   \n",
       "std    73093453.56  71118985.61  69373610.63  69068920.54  68845990.27   \n",
       "min     2702550.32   2533445.46   1853045.23    509009.74    689383.43   \n",
       "25%    17696633.84  17457132.47  17768222.52  18058137.04  18157759.16   \n",
       "50%    25721339.11  25098604.18  25257993.78  24312931.74  27277816.41   \n",
       "75%    75576130.66  70901455.85  71675268.89  75629792.23  75298930.91   \n",
       "max   350268671.25 338872478.49 328055822.63 324599773.40 326846228.95   \n",
       "\n",
       "          2021/Jan     2021/Fev     2021/Mar          Total  \n",
       "count        27.00        27.00        27.00          27.00  \n",
       "mean   49474107.60  38992424.23  24163712.88  6388205992.19  \n",
       "std    66840558.46  54697718.60  35701207.83  8572046016.26  \n",
       "min      347626.85    416534.32    928756.84   309860092.59  \n",
       "25%    15959158.48  12110517.03   5765750.92  2048683858.60  \n",
       "50%    24439059.57  19004029.87  13069564.31  2660122027.15  \n",
       "75%    63803715.63  51486957.47  28090801.73  8208100569.65  \n",
       "max   324115425.70 268193064.06 177408317.71 41396408548.81  \n",
       "\n",
       "[8 rows x 165 columns]"
      ],
      "text/html": "<div>\n<style scoped>\n    .dataframe tbody tr th:only-of-type {\n        vertical-align: middle;\n    }\n\n    .dataframe tbody tr th {\n        vertical-align: top;\n    }\n\n    .dataframe thead th {\n        text-align: right;\n    }\n</style>\n<table border=\"1\" class=\"dataframe\">\n  <thead>\n    <tr style=\"text-align: right;\">\n      <th></th>\n      <th>2007/Ago</th>\n      <th>2007/Set</th>\n      <th>2007/Out</th>\n      <th>2007/Nov</th>\n      <th>2007/Dez</th>\n      <th>2008/Jan</th>\n      <th>2008/Fev</th>\n      <th>2008/Mar</th>\n      <th>2008/Abr</th>\n      <th>2008/Mai</th>\n      <th>...</th>\n      <th>2020/Jul</th>\n      <th>2020/Ago</th>\n      <th>2020/Set</th>\n      <th>2020/Out</th>\n      <th>2020/Nov</th>\n      <th>2020/Dez</th>\n      <th>2021/Jan</th>\n      <th>2021/Fev</th>\n      <th>2021/Mar</th>\n      <th>Total</th>\n    </tr>\n  </thead>\n  <tbody>\n    <tr>\n      <th>count</th>\n      <td>27.00</td>\n      <td>27.00</td>\n      <td>27.00</td>\n      <td>27.00</td>\n      <td>27.00</td>\n      <td>27.00</td>\n      <td>27.00</td>\n      <td>27.00</td>\n      <td>27.00</td>\n      <td>27.00</td>\n      <td>...</td>\n      <td>27.00</td>\n      <td>27.00</td>\n      <td>27.00</td>\n      <td>27.00</td>\n      <td>27.00</td>\n      <td>27.00</td>\n      <td>27.00</td>\n      <td>27.00</td>\n      <td>27.00</td>\n      <td>27.00</td>\n    </tr>\n    <tr>\n      <th>mean</th>\n      <td>304952.77</td>\n      <td>788145.26</td>\n      <td>2440162.96</td>\n      <td>5517354.05</td>\n      <td>12337159.42</td>\n      <td>76343108.00</td>\n      <td>23821310.52</td>\n      <td>25879711.67</td>\n      <td>26213027.10</td>\n      <td>26218488.77</td>\n      <td>...</td>\n      <td>57693175.63</td>\n      <td>56199394.29</td>\n      <td>53909030.54</td>\n      <td>53910192.75</td>\n      <td>53735469.44</td>\n      <td>53772909.13</td>\n      <td>49474107.60</td>\n      <td>38992424.23</td>\n      <td>24163712.88</td>\n      <td>6388205992.19</td>\n    </tr>\n    <tr>\n      <th>std</th>\n      <td>392806.00</td>\n      <td>1071747.56</td>\n      <td>3421972.10</td>\n      <td>7767711.29</td>\n      <td>16345863.65</td>\n      <td>201153948.03</td>\n      <td>34459305.08</td>\n      <td>34816150.69</td>\n      <td>34788035.48</td>\n      <td>35063318.56</td>\n      <td>...</td>\n      <td>74371252.47</td>\n      <td>73093453.56</td>\n      <td>71118985.61</td>\n      <td>69373610.63</td>\n      <td>69068920.54</td>\n      <td>68845990.27</td>\n      <td>66840558.46</td>\n      <td>54697718.60</td>\n      <td>35701207.83</td>\n      <td>8572046016.26</td>\n    </tr>\n    <tr>\n      <th>min</th>\n      <td>4113.76</td>\n      <td>11858.63</td>\n      <td>43852.67</td>\n      <td>226661.18</td>\n      <td>470676.43</td>\n      <td>808448.39</td>\n      <td>771687.83</td>\n      <td>876091.18</td>\n      <td>896952.53</td>\n      <td>1027288.73</td>\n      <td>...</td>\n      <td>2536642.73</td>\n      <td>2702550.32</td>\n      <td>2533445.46</td>\n      <td>1853045.23</td>\n      <td>509009.74</td>\n      <td>689383.43</td>\n      <td>347626.85</td>\n      <td>416534.32</td>\n      <td>928756.84</td>\n      <td>309860092.59</td>\n    </tr>\n    <tr>\n      <th>25%</th>\n      <td>46580.42</td>\n      <td>139423.94</td>\n      <td>505778.42</td>\n      <td>1410610.81</td>\n      <td>3650090.00</td>\n      <td>8257222.37</td>\n      <td>7932273.51</td>\n      <td>8926011.35</td>\n      <td>8764559.62</td>\n      <td>9229049.70</td>\n      <td>...</td>\n      <td>18911546.95</td>\n      <td>17696633.84</td>\n      <td>17457132.47</td>\n      <td>17768222.52</td>\n      <td>18058137.04</td>\n      <td>18157759.16</td>\n      <td>15959158.48</td>\n      <td>12110517.03</td>\n      <td>5765750.92</td>\n      <td>2048683858.60</td>\n    </tr>\n    <tr>\n      <th>50%</th>\n      <td>179395.82</td>\n      <td>418053.58</td>\n      <td>1152115.25</td>\n      <td>2406035.32</td>\n      <td>5949408.99</td>\n      <td>16568724.64</td>\n      <td>10215956.80</td>\n      <td>12262049.08</td>\n      <td>12453466.98</td>\n      <td>11900817.00</td>\n      <td>...</td>\n      <td>28608103.39</td>\n      <td>25721339.11</td>\n      <td>25098604.18</td>\n      <td>25257993.78</td>\n      <td>24312931.74</td>\n      <td>27277816.41</td>\n      <td>24439059.57</td>\n      <td>19004029.87</td>\n      <td>13069564.31</td>\n      <td>2660122027.15</td>\n    </tr>\n    <tr>\n      <th>75%</th>\n      <td>392985.52</td>\n      <td>969999.75</td>\n      <td>2625635.63</td>\n      <td>5915821.61</td>\n      <td>13394973.35</td>\n      <td>52147797.62</td>\n      <td>26932691.98</td>\n      <td>30400866.02</td>\n      <td>30982776.89</td>\n      <td>31304997.26</td>\n      <td>...</td>\n      <td>76595078.72</td>\n      <td>75576130.66</td>\n      <td>70901455.85</td>\n      <td>71675268.89</td>\n      <td>75629792.23</td>\n      <td>75298930.91</td>\n      <td>63803715.63</td>\n      <td>51486957.47</td>\n      <td>28090801.73</td>\n      <td>8208100569.65</td>\n    </tr>\n    <tr>\n      <th>max</th>\n      <td>1665349.90</td>\n      <td>4434168.64</td>\n      <td>14577395.84</td>\n      <td>35032259.98</td>\n      <td>76668547.41</td>\n      <td>1038067423.15</td>\n      <td>172961999.58</td>\n      <td>170556696.16</td>\n      <td>170338163.23</td>\n      <td>172462057.87</td>\n      <td>...</td>\n      <td>361986896.25</td>\n      <td>350268671.25</td>\n      <td>338872478.49</td>\n      <td>328055822.63</td>\n      <td>324599773.40</td>\n      <td>326846228.95</td>\n      <td>324115425.70</td>\n      <td>268193064.06</td>\n      <td>177408317.71</td>\n      <td>41396408548.81</td>\n    </tr>\n  </tbody>\n</table>\n<p>8 rows × 165 columns</p>\n</div>"
     },
     "metadata": {},
     "execution_count": 31
    }
   ],
   "source": [
    "df.describe()"
   ]
  },
  {
   "cell_type": "code",
   "execution_count": null,
   "metadata": {},
   "outputs": [],
   "source": []
  },
  {
   "cell_type": "code",
   "execution_count": 32,
   "metadata": {},
   "outputs": [
    {
     "output_type": "execute_result",
     "data": {
      "text/plain": [
       "2007/Ago       304952.77\n",
       "2007/Set       788145.26\n",
       "2007/Out      2440162.96\n",
       "2007/Nov      5517354.05\n",
       "2007/Dez     12337159.42\n",
       "                ...     \n",
       "2020/Dez     53772909.13\n",
       "2021/Jan     49474107.60\n",
       "2021/Fev     38992424.23\n",
       "2021/Mar     24163712.88\n",
       "Total      6388205992.19\n",
       "Length: 165, dtype: float64"
      ]
     },
     "metadata": {},
     "execution_count": 32
    }
   ],
   "source": [
    "df.mean()"
   ]
  },
  {
   "cell_type": "code",
   "execution_count": 33,
   "metadata": {},
   "outputs": [],
   "source": [
    "usaveis = df.mean().index.tolist()\n",
    "usaveis.insert(0, 'Unidade da Federação')\n",
    "#usaveis"
   ]
  },
  {
   "cell_type": "code",
   "execution_count": 34,
   "metadata": {},
   "outputs": [],
   "source": [
    "usaveis = df[usaveis]\n",
    "usaveis = usaveis.set_index('Unidade da Federação')"
   ]
  },
  {
   "cell_type": "code",
   "execution_count": 35,
   "metadata": {},
   "outputs": [
    {
     "output_type": "execute_result",
     "data": {
      "text/plain": [
       "                      2007/Ago  2007/Set   2007/Out   2007/Nov    2007/Dez  \\\n",
       "Unidade da Federação                                                         \n",
       "Rondônia               4209.37  16397.03  133645.19  346912.84   711758.31   \n",
       "Acre                  10470.07  14001.71   86200.85  301323.68   769612.36   \n",
       "Amazonas              35752.72  45570.64  416012.30 2020381.79  5949408.99   \n",
       "Roraima                4785.91  11858.63   43852.67  369328.51   470676.43   \n",
       "Pará                 181159.29 433414.74 1893197.50 5105406.44 13162823.43   \n",
       "\n",
       "                        2008/Jan    2008/Fev    2008/Mar    2008/Abr  \\\n",
       "Unidade da Federação                                                   \n",
       "Rondônia              1829559.71  1940792.63  1955721.68  2143353.81   \n",
       "Acre                  1731744.62  1743978.66  2057439.02  2057829.69   \n",
       "Amazonas             11419210.08  7934652.10  8641517.13  8531576.49   \n",
       "Roraima                808448.39   771687.83   876091.18   896952.53   \n",
       "Pará                 21762104.16 20126081.01 22149375.82 23436682.75   \n",
       "\n",
       "                        2008/Mai  ...    2020/Jul    2020/Ago    2020/Set  \\\n",
       "Unidade da Federação              ...                                       \n",
       "Rondônia              2280382.58  ... 10479989.36 11433467.56  8876900.39   \n",
       "Acre                  2226577.93  ...  4053085.41  3658265.59  3470409.45   \n",
       "Amazonas              9079902.15  ... 19303743.16 18687233.58 18628627.49   \n",
       "Roraima               1027288.73  ...  3192075.41  3262354.34  2978629.22   \n",
       "Pará                 23861080.80  ... 40496349.97 38793393.54 36965951.76   \n",
       "\n",
       "                        2020/Out    2020/Nov    2020/Dez    2021/Jan  \\\n",
       "Unidade da Federação                                                   \n",
       "Rondônia              8167253.19  8759013.71  9003402.23  8414690.60   \n",
       "Acre                  3267918.69  3393958.27  3711660.71  3005561.16   \n",
       "Amazonas             18728251.20 20451573.77 21546059.48 24439059.57   \n",
       "Roraima               3313296.78  3527263.23  3125021.90  3209323.68   \n",
       "Pará                 38406616.21 37043032.10 36914437.92 33887773.65   \n",
       "\n",
       "                        2021/Fev    2021/Mar         Total  \n",
       "Unidade da Federação                                        \n",
       "Rondônia              6039419.59  4732441.04  996411254.68  \n",
       "Acre                  2272733.90  1137341.65  450048530.47  \n",
       "Amazonas             13679358.06  6799060.80 1917247936.05  \n",
       "Roraima               3044798.77  2381844.31  328876965.09  \n",
       "Pará                 23343222.94 13069564.31 4705309002.29  \n",
       "\n",
       "[5 rows x 165 columns]"
      ],
      "text/html": "<div>\n<style scoped>\n    .dataframe tbody tr th:only-of-type {\n        vertical-align: middle;\n    }\n\n    .dataframe tbody tr th {\n        vertical-align: top;\n    }\n\n    .dataframe thead th {\n        text-align: right;\n    }\n</style>\n<table border=\"1\" class=\"dataframe\">\n  <thead>\n    <tr style=\"text-align: right;\">\n      <th></th>\n      <th>2007/Ago</th>\n      <th>2007/Set</th>\n      <th>2007/Out</th>\n      <th>2007/Nov</th>\n      <th>2007/Dez</th>\n      <th>2008/Jan</th>\n      <th>2008/Fev</th>\n      <th>2008/Mar</th>\n      <th>2008/Abr</th>\n      <th>2008/Mai</th>\n      <th>...</th>\n      <th>2020/Jul</th>\n      <th>2020/Ago</th>\n      <th>2020/Set</th>\n      <th>2020/Out</th>\n      <th>2020/Nov</th>\n      <th>2020/Dez</th>\n      <th>2021/Jan</th>\n      <th>2021/Fev</th>\n      <th>2021/Mar</th>\n      <th>Total</th>\n    </tr>\n    <tr>\n      <th>Unidade da Federação</th>\n      <th></th>\n      <th></th>\n      <th></th>\n      <th></th>\n      <th></th>\n      <th></th>\n      <th></th>\n      <th></th>\n      <th></th>\n      <th></th>\n      <th></th>\n      <th></th>\n      <th></th>\n      <th></th>\n      <th></th>\n      <th></th>\n      <th></th>\n      <th></th>\n      <th></th>\n      <th></th>\n      <th></th>\n    </tr>\n  </thead>\n  <tbody>\n    <tr>\n      <th>Rondônia</th>\n      <td>4209.37</td>\n      <td>16397.03</td>\n      <td>133645.19</td>\n      <td>346912.84</td>\n      <td>711758.31</td>\n      <td>1829559.71</td>\n      <td>1940792.63</td>\n      <td>1955721.68</td>\n      <td>2143353.81</td>\n      <td>2280382.58</td>\n      <td>...</td>\n      <td>10479989.36</td>\n      <td>11433467.56</td>\n      <td>8876900.39</td>\n      <td>8167253.19</td>\n      <td>8759013.71</td>\n      <td>9003402.23</td>\n      <td>8414690.60</td>\n      <td>6039419.59</td>\n      <td>4732441.04</td>\n      <td>996411254.68</td>\n    </tr>\n    <tr>\n      <th>Acre</th>\n      <td>10470.07</td>\n      <td>14001.71</td>\n      <td>86200.85</td>\n      <td>301323.68</td>\n      <td>769612.36</td>\n      <td>1731744.62</td>\n      <td>1743978.66</td>\n      <td>2057439.02</td>\n      <td>2057829.69</td>\n      <td>2226577.93</td>\n      <td>...</td>\n      <td>4053085.41</td>\n      <td>3658265.59</td>\n      <td>3470409.45</td>\n      <td>3267918.69</td>\n      <td>3393958.27</td>\n      <td>3711660.71</td>\n      <td>3005561.16</td>\n      <td>2272733.90</td>\n      <td>1137341.65</td>\n      <td>450048530.47</td>\n    </tr>\n    <tr>\n      <th>Amazonas</th>\n      <td>35752.72</td>\n      <td>45570.64</td>\n      <td>416012.30</td>\n      <td>2020381.79</td>\n      <td>5949408.99</td>\n      <td>11419210.08</td>\n      <td>7934652.10</td>\n      <td>8641517.13</td>\n      <td>8531576.49</td>\n      <td>9079902.15</td>\n      <td>...</td>\n      <td>19303743.16</td>\n      <td>18687233.58</td>\n      <td>18628627.49</td>\n      <td>18728251.20</td>\n      <td>20451573.77</td>\n      <td>21546059.48</td>\n      <td>24439059.57</td>\n      <td>13679358.06</td>\n      <td>6799060.80</td>\n      <td>1917247936.05</td>\n    </tr>\n    <tr>\n      <th>Roraima</th>\n      <td>4785.91</td>\n      <td>11858.63</td>\n      <td>43852.67</td>\n      <td>369328.51</td>\n      <td>470676.43</td>\n      <td>808448.39</td>\n      <td>771687.83</td>\n      <td>876091.18</td>\n      <td>896952.53</td>\n      <td>1027288.73</td>\n      <td>...</td>\n      <td>3192075.41</td>\n      <td>3262354.34</td>\n      <td>2978629.22</td>\n      <td>3313296.78</td>\n      <td>3527263.23</td>\n      <td>3125021.90</td>\n      <td>3209323.68</td>\n      <td>3044798.77</td>\n      <td>2381844.31</td>\n      <td>328876965.09</td>\n    </tr>\n    <tr>\n      <th>Pará</th>\n      <td>181159.29</td>\n      <td>433414.74</td>\n      <td>1893197.50</td>\n      <td>5105406.44</td>\n      <td>13162823.43</td>\n      <td>21762104.16</td>\n      <td>20126081.01</td>\n      <td>22149375.82</td>\n      <td>23436682.75</td>\n      <td>23861080.80</td>\n      <td>...</td>\n      <td>40496349.97</td>\n      <td>38793393.54</td>\n      <td>36965951.76</td>\n      <td>38406616.21</td>\n      <td>37043032.10</td>\n      <td>36914437.92</td>\n      <td>33887773.65</td>\n      <td>23343222.94</td>\n      <td>13069564.31</td>\n      <td>4705309002.29</td>\n    </tr>\n  </tbody>\n</table>\n<p>5 rows × 165 columns</p>\n</div>"
     },
     "metadata": {},
     "execution_count": 35
    }
   ],
   "source": [
    "usaveis.head()"
   ]
  },
  {
   "cell_type": "code",
   "execution_count": 36,
   "metadata": {},
   "outputs": [
    {
     "output_type": "execute_result",
     "data": {
      "text/plain": [
       "2007/Ago        57408.11\n",
       "2007/Set       284224.80\n",
       "2007/Out      1152115.25\n",
       "2007/Nov      2296383.23\n",
       "2007/Dez      5724199.54\n",
       "                ...     \n",
       "2020/Dez     40500910.57\n",
       "2021/Jan     33767261.13\n",
       "2021/Fev     25669612.63\n",
       "2021/Mar     15606368.11\n",
       "Total      3405850698.58\n",
       "Name: Espírito Santo, Length: 165, dtype: float64"
      ]
     },
     "metadata": {},
     "execution_count": 36
    }
   ],
   "source": [
    "usaveis.loc['Espírito Santo']"
   ]
  },
  {
   "cell_type": "code",
   "execution_count": 37,
   "metadata": {},
   "outputs": [],
   "source": [
    "usaveis = usaveis.drop('Total', axis = 1) #Usamos axis = 1 pois estamos buscando no eixo das linhas e não das colunas"
   ]
  },
  {
   "cell_type": "code",
   "execution_count": 38,
   "metadata": {},
   "outputs": [
    {
     "output_type": "execute_result",
     "data": {
      "text/plain": [
       "<AxesSubplot:>"
      ]
     },
     "metadata": {},
     "execution_count": 38
    },
    {
     "output_type": "display_data",
     "data": {
      "text/plain": "<Figure size 1152x648 with 1 Axes>",
      "image/svg+xml": "<?xml version=\"1.0\" encoding=\"utf-8\" standalone=\"no\"?>\r\n<!DOCTYPE svg PUBLIC \"-//W3C//DTD SVG 1.1//EN\"\r\n  \"http://www.w3.org/Graphics/SVG/1.1/DTD/svg11.dtd\">\r\n<!-- Created with matplotlib (https://matplotlib.org/) -->\r\n<svg height=\"530.916563pt\" version=\"1.1\" viewBox=\"0 0 930.103125 530.916563\" width=\"930.103125pt\" xmlns=\"http://www.w3.org/2000/svg\" xmlns:xlink=\"http://www.w3.org/1999/xlink\">\r\n <metadata>\r\n  <rdf:RDF xmlns:cc=\"http://creativecommons.org/ns#\" xmlns:dc=\"http://purl.org/dc/elements/1.1/\" xmlns:rdf=\"http://www.w3.org/1999/02/22-rdf-syntax-ns#\">\r\n   <cc:Work>\r\n    <dc:type rdf:resource=\"http://purl.org/dc/dcmitype/StillImage\"/>\r\n    <dc:date>2021-05-21T14:04:10.582371</dc:date>\r\n    <dc:format>image/svg+xml</dc:format>\r\n    <dc:creator>\r\n     <cc:Agent>\r\n      <dc:title>Matplotlib v3.3.2, https://matplotlib.org/</dc:title>\r\n     </cc:Agent>\r\n    </dc:creator>\r\n   </cc:Work>\r\n  </rdf:RDF>\r\n </metadata>\r\n <defs>\r\n  <style type=\"text/css\">*{stroke-linecap:butt;stroke-linejoin:round;}</style>\r\n </defs>\r\n <g id=\"figure_1\">\r\n  <g id=\"patch_1\">\r\n   <path d=\"M 0 530.916563 \r\nL 930.103125 530.916563 \r\nL 930.103125 0 \r\nL 0 0 \r\nz\r\n\" style=\"fill:none;\"/>\r\n  </g>\r\n  <g id=\"axes_1\">\r\n   <g id=\"patch_2\">\r\n    <path d=\"M 30.103125 507.038438 \r\nL 922.903125 507.038438 \r\nL 922.903125 17.798438 \r\nL 30.103125 17.798438 \r\nz\r\n\" style=\"fill:#ffffff;\"/>\r\n   </g>\r\n   <g id=\"matplotlib.axis_1\">\r\n    <g id=\"xtick_1\">\r\n     <g id=\"line2d_1\">\r\n      <defs>\r\n       <path d=\"M 0 0 \r\nL 0 3.5 \r\n\" id=\"m90ed6fb1ac\" style=\"stroke:#000000;stroke-width:0.8;\"/>\r\n      </defs>\r\n      <g>\r\n       <use style=\"stroke:#000000;stroke-width:0.8;\" x=\"70.684943\" xlink:href=\"#m90ed6fb1ac\" y=\"507.038438\"/>\r\n      </g>\r\n     </g>\r\n     <g id=\"text_1\">\r\n      <!-- 2007/Ago -->\r\n      <g transform=\"translate(46.621662 521.636875)scale(0.1 -0.1)\">\r\n       <defs>\r\n        <path d=\"M 19.1875 8.296875 \r\nL 53.609375 8.296875 \r\nL 53.609375 0 \r\nL 7.328125 0 \r\nL 7.328125 8.296875 \r\nQ 12.9375 14.109375 22.625 23.890625 \r\nQ 32.328125 33.6875 34.8125 36.53125 \r\nQ 39.546875 41.84375 41.421875 45.53125 \r\nQ 43.3125 49.21875 43.3125 52.78125 \r\nQ 43.3125 58.59375 39.234375 62.25 \r\nQ 35.15625 65.921875 28.609375 65.921875 \r\nQ 23.96875 65.921875 18.8125 64.3125 \r\nQ 13.671875 62.703125 7.8125 59.421875 \r\nL 7.8125 69.390625 \r\nQ 13.765625 71.78125 18.9375 73 \r\nQ 24.125 74.21875 28.421875 74.21875 \r\nQ 39.75 74.21875 46.484375 68.546875 \r\nQ 53.21875 62.890625 53.21875 53.421875 \r\nQ 53.21875 48.921875 51.53125 44.890625 \r\nQ 49.859375 40.875 45.40625 35.40625 \r\nQ 44.1875 33.984375 37.640625 27.21875 \r\nQ 31.109375 20.453125 19.1875 8.296875 \r\nz\r\n\" id=\"DejaVuSans-50\"/>\r\n        <path d=\"M 31.78125 66.40625 \r\nQ 24.171875 66.40625 20.328125 58.90625 \r\nQ 16.5 51.421875 16.5 36.375 \r\nQ 16.5 21.390625 20.328125 13.890625 \r\nQ 24.171875 6.390625 31.78125 6.390625 \r\nQ 39.453125 6.390625 43.28125 13.890625 \r\nQ 47.125 21.390625 47.125 36.375 \r\nQ 47.125 51.421875 43.28125 58.90625 \r\nQ 39.453125 66.40625 31.78125 66.40625 \r\nz\r\nM 31.78125 74.21875 \r\nQ 44.046875 74.21875 50.515625 64.515625 \r\nQ 56.984375 54.828125 56.984375 36.375 \r\nQ 56.984375 17.96875 50.515625 8.265625 \r\nQ 44.046875 -1.421875 31.78125 -1.421875 \r\nQ 19.53125 -1.421875 13.0625 8.265625 \r\nQ 6.59375 17.96875 6.59375 36.375 \r\nQ 6.59375 54.828125 13.0625 64.515625 \r\nQ 19.53125 74.21875 31.78125 74.21875 \r\nz\r\n\" id=\"DejaVuSans-48\"/>\r\n        <path d=\"M 8.203125 72.90625 \r\nL 55.078125 72.90625 \r\nL 55.078125 68.703125 \r\nL 28.609375 0 \r\nL 18.3125 0 \r\nL 43.21875 64.59375 \r\nL 8.203125 64.59375 \r\nz\r\n\" id=\"DejaVuSans-55\"/>\r\n        <path d=\"M 25.390625 72.90625 \r\nL 33.6875 72.90625 \r\nL 8.296875 -9.28125 \r\nL 0 -9.28125 \r\nz\r\n\" id=\"DejaVuSans-47\"/>\r\n        <path d=\"M 34.1875 63.1875 \r\nL 20.796875 26.90625 \r\nL 47.609375 26.90625 \r\nz\r\nM 28.609375 72.90625 \r\nL 39.796875 72.90625 \r\nL 67.578125 0 \r\nL 57.328125 0 \r\nL 50.6875 18.703125 \r\nL 17.828125 18.703125 \r\nL 11.1875 0 \r\nL 0.78125 0 \r\nz\r\n\" id=\"DejaVuSans-65\"/>\r\n        <path d=\"M 45.40625 27.984375 \r\nQ 45.40625 37.75 41.375 43.109375 \r\nQ 37.359375 48.484375 30.078125 48.484375 \r\nQ 22.859375 48.484375 18.828125 43.109375 \r\nQ 14.796875 37.75 14.796875 27.984375 \r\nQ 14.796875 18.265625 18.828125 12.890625 \r\nQ 22.859375 7.515625 30.078125 7.515625 \r\nQ 37.359375 7.515625 41.375 12.890625 \r\nQ 45.40625 18.265625 45.40625 27.984375 \r\nz\r\nM 54.390625 6.78125 \r\nQ 54.390625 -7.171875 48.1875 -13.984375 \r\nQ 42 -20.796875 29.203125 -20.796875 \r\nQ 24.46875 -20.796875 20.265625 -20.09375 \r\nQ 16.0625 -19.390625 12.109375 -17.921875 \r\nL 12.109375 -9.1875 \r\nQ 16.0625 -11.328125 19.921875 -12.34375 \r\nQ 23.78125 -13.375 27.78125 -13.375 \r\nQ 36.625 -13.375 41.015625 -8.765625 \r\nQ 45.40625 -4.15625 45.40625 5.171875 \r\nL 45.40625 9.625 \r\nQ 42.625 4.78125 38.28125 2.390625 \r\nQ 33.9375 0 27.875 0 \r\nQ 17.828125 0 11.671875 7.65625 \r\nQ 5.515625 15.328125 5.515625 27.984375 \r\nQ 5.515625 40.671875 11.671875 48.328125 \r\nQ 17.828125 56 27.875 56 \r\nQ 33.9375 56 38.28125 53.609375 \r\nQ 42.625 51.21875 45.40625 46.390625 \r\nL 45.40625 54.6875 \r\nL 54.390625 54.6875 \r\nz\r\n\" id=\"DejaVuSans-103\"/>\r\n        <path d=\"M 30.609375 48.390625 \r\nQ 23.390625 48.390625 19.1875 42.75 \r\nQ 14.984375 37.109375 14.984375 27.296875 \r\nQ 14.984375 17.484375 19.15625 11.84375 \r\nQ 23.34375 6.203125 30.609375 6.203125 \r\nQ 37.796875 6.203125 41.984375 11.859375 \r\nQ 46.1875 17.53125 46.1875 27.296875 \r\nQ 46.1875 37.015625 41.984375 42.703125 \r\nQ 37.796875 48.390625 30.609375 48.390625 \r\nz\r\nM 30.609375 56 \r\nQ 42.328125 56 49.015625 48.375 \r\nQ 55.71875 40.765625 55.71875 27.296875 \r\nQ 55.71875 13.875 49.015625 6.21875 \r\nQ 42.328125 -1.421875 30.609375 -1.421875 \r\nQ 18.84375 -1.421875 12.171875 6.21875 \r\nQ 5.515625 13.875 5.515625 27.296875 \r\nQ 5.515625 40.765625 12.171875 48.375 \r\nQ 18.84375 56 30.609375 56 \r\nz\r\n\" id=\"DejaVuSans-111\"/>\r\n       </defs>\r\n       <use xlink:href=\"#DejaVuSans-50\"/>\r\n       <use x=\"63.623047\" xlink:href=\"#DejaVuSans-48\"/>\r\n       <use x=\"127.246094\" xlink:href=\"#DejaVuSans-48\"/>\r\n       <use x=\"190.869141\" xlink:href=\"#DejaVuSans-55\"/>\r\n       <use x=\"254.492188\" xlink:href=\"#DejaVuSans-47\"/>\r\n       <use x=\"288.183594\" xlink:href=\"#DejaVuSans-65\"/>\r\n       <use x=\"356.591797\" xlink:href=\"#DejaVuSans-103\"/>\r\n       <use x=\"420.068359\" xlink:href=\"#DejaVuSans-111\"/>\r\n      </g>\r\n     </g>\r\n    </g>\r\n    <g id=\"xtick_2\">\r\n     <g id=\"line2d_2\">\r\n      <g>\r\n       <use style=\"stroke:#000000;stroke-width:0.8;\" x=\"170.272227\" xlink:href=\"#m90ed6fb1ac\" y=\"507.038438\"/>\r\n      </g>\r\n     </g>\r\n     <g id=\"text_2\">\r\n      <!-- 2009/Abr -->\r\n      <g transform=\"translate(147.212852 521.636875)scale(0.1 -0.1)\">\r\n       <defs>\r\n        <path d=\"M 10.984375 1.515625 \r\nL 10.984375 10.5 \r\nQ 14.703125 8.734375 18.5 7.8125 \r\nQ 22.3125 6.890625 25.984375 6.890625 \r\nQ 35.75 6.890625 40.890625 13.453125 \r\nQ 46.046875 20.015625 46.78125 33.40625 \r\nQ 43.953125 29.203125 39.59375 26.953125 \r\nQ 35.25 24.703125 29.984375 24.703125 \r\nQ 19.046875 24.703125 12.671875 31.3125 \r\nQ 6.296875 37.9375 6.296875 49.421875 \r\nQ 6.296875 60.640625 12.9375 67.421875 \r\nQ 19.578125 74.21875 30.609375 74.21875 \r\nQ 43.265625 74.21875 49.921875 64.515625 \r\nQ 56.59375 54.828125 56.59375 36.375 \r\nQ 56.59375 19.140625 48.40625 8.859375 \r\nQ 40.234375 -1.421875 26.421875 -1.421875 \r\nQ 22.703125 -1.421875 18.890625 -0.6875 \r\nQ 15.09375 0.046875 10.984375 1.515625 \r\nz\r\nM 30.609375 32.421875 \r\nQ 37.25 32.421875 41.125 36.953125 \r\nQ 45.015625 41.5 45.015625 49.421875 \r\nQ 45.015625 57.28125 41.125 61.84375 \r\nQ 37.25 66.40625 30.609375 66.40625 \r\nQ 23.96875 66.40625 20.09375 61.84375 \r\nQ 16.21875 57.28125 16.21875 49.421875 \r\nQ 16.21875 41.5 20.09375 36.953125 \r\nQ 23.96875 32.421875 30.609375 32.421875 \r\nz\r\n\" id=\"DejaVuSans-57\"/>\r\n        <path d=\"M 48.6875 27.296875 \r\nQ 48.6875 37.203125 44.609375 42.84375 \r\nQ 40.53125 48.484375 33.40625 48.484375 \r\nQ 26.265625 48.484375 22.1875 42.84375 \r\nQ 18.109375 37.203125 18.109375 27.296875 \r\nQ 18.109375 17.390625 22.1875 11.75 \r\nQ 26.265625 6.109375 33.40625 6.109375 \r\nQ 40.53125 6.109375 44.609375 11.75 \r\nQ 48.6875 17.390625 48.6875 27.296875 \r\nz\r\nM 18.109375 46.390625 \r\nQ 20.953125 51.265625 25.265625 53.625 \r\nQ 29.59375 56 35.59375 56 \r\nQ 45.5625 56 51.78125 48.09375 \r\nQ 58.015625 40.1875 58.015625 27.296875 \r\nQ 58.015625 14.40625 51.78125 6.484375 \r\nQ 45.5625 -1.421875 35.59375 -1.421875 \r\nQ 29.59375 -1.421875 25.265625 0.953125 \r\nQ 20.953125 3.328125 18.109375 8.203125 \r\nL 18.109375 0 \r\nL 9.078125 0 \r\nL 9.078125 75.984375 \r\nL 18.109375 75.984375 \r\nz\r\n\" id=\"DejaVuSans-98\"/>\r\n        <path d=\"M 41.109375 46.296875 \r\nQ 39.59375 47.171875 37.8125 47.578125 \r\nQ 36.03125 48 33.890625 48 \r\nQ 26.265625 48 22.1875 43.046875 \r\nQ 18.109375 38.09375 18.109375 28.8125 \r\nL 18.109375 0 \r\nL 9.078125 0 \r\nL 9.078125 54.6875 \r\nL 18.109375 54.6875 \r\nL 18.109375 46.1875 \r\nQ 20.953125 51.171875 25.484375 53.578125 \r\nQ 30.03125 56 36.53125 56 \r\nQ 37.453125 56 38.578125 55.875 \r\nQ 39.703125 55.765625 41.0625 55.515625 \r\nz\r\n\" id=\"DejaVuSans-114\"/>\r\n       </defs>\r\n       <use xlink:href=\"#DejaVuSans-50\"/>\r\n       <use x=\"63.623047\" xlink:href=\"#DejaVuSans-48\"/>\r\n       <use x=\"127.246094\" xlink:href=\"#DejaVuSans-48\"/>\r\n       <use x=\"190.869141\" xlink:href=\"#DejaVuSans-57\"/>\r\n       <use x=\"254.492188\" xlink:href=\"#DejaVuSans-47\"/>\r\n       <use x=\"288.183594\" xlink:href=\"#DejaVuSans-65\"/>\r\n       <use x=\"356.591797\" xlink:href=\"#DejaVuSans-98\"/>\r\n       <use x=\"420.068359\" xlink:href=\"#DejaVuSans-114\"/>\r\n      </g>\r\n     </g>\r\n    </g>\r\n    <g id=\"xtick_3\">\r\n     <g id=\"line2d_3\">\r\n      <g>\r\n       <use style=\"stroke:#000000;stroke-width:0.8;\" x=\"269.859511\" xlink:href=\"#m90ed6fb1ac\" y=\"507.038438\"/>\r\n      </g>\r\n     </g>\r\n     <g id=\"text_3\">\r\n      <!-- 2010/Dez -->\r\n      <g transform=\"translate(245.899355 521.636875)scale(0.1 -0.1)\">\r\n       <defs>\r\n        <path d=\"M 12.40625 8.296875 \r\nL 28.515625 8.296875 \r\nL 28.515625 63.921875 \r\nL 10.984375 60.40625 \r\nL 10.984375 69.390625 \r\nL 28.421875 72.90625 \r\nL 38.28125 72.90625 \r\nL 38.28125 8.296875 \r\nL 54.390625 8.296875 \r\nL 54.390625 0 \r\nL 12.40625 0 \r\nz\r\n\" id=\"DejaVuSans-49\"/>\r\n        <path d=\"M 19.671875 64.796875 \r\nL 19.671875 8.109375 \r\nL 31.59375 8.109375 \r\nQ 46.6875 8.109375 53.6875 14.9375 \r\nQ 60.6875 21.78125 60.6875 36.53125 \r\nQ 60.6875 51.171875 53.6875 57.984375 \r\nQ 46.6875 64.796875 31.59375 64.796875 \r\nz\r\nM 9.8125 72.90625 \r\nL 30.078125 72.90625 \r\nQ 51.265625 72.90625 61.171875 64.09375 \r\nQ 71.09375 55.28125 71.09375 36.53125 \r\nQ 71.09375 17.671875 61.125 8.828125 \r\nQ 51.171875 0 30.078125 0 \r\nL 9.8125 0 \r\nz\r\n\" id=\"DejaVuSans-68\"/>\r\n        <path d=\"M 56.203125 29.59375 \r\nL 56.203125 25.203125 \r\nL 14.890625 25.203125 \r\nQ 15.484375 15.921875 20.484375 11.0625 \r\nQ 25.484375 6.203125 34.421875 6.203125 \r\nQ 39.59375 6.203125 44.453125 7.46875 \r\nQ 49.3125 8.734375 54.109375 11.28125 \r\nL 54.109375 2.78125 \r\nQ 49.265625 0.734375 44.1875 -0.34375 \r\nQ 39.109375 -1.421875 33.890625 -1.421875 \r\nQ 20.796875 -1.421875 13.15625 6.1875 \r\nQ 5.515625 13.8125 5.515625 26.8125 \r\nQ 5.515625 40.234375 12.765625 48.109375 \r\nQ 20.015625 56 32.328125 56 \r\nQ 43.359375 56 49.78125 48.890625 \r\nQ 56.203125 41.796875 56.203125 29.59375 \r\nz\r\nM 47.21875 32.234375 \r\nQ 47.125 39.59375 43.09375 43.984375 \r\nQ 39.0625 48.390625 32.421875 48.390625 \r\nQ 24.90625 48.390625 20.390625 44.140625 \r\nQ 15.875 39.890625 15.1875 32.171875 \r\nz\r\n\" id=\"DejaVuSans-101\"/>\r\n        <path d=\"M 5.515625 54.6875 \r\nL 48.1875 54.6875 \r\nL 48.1875 46.484375 \r\nL 14.40625 7.171875 \r\nL 48.1875 7.171875 \r\nL 48.1875 0 \r\nL 4.296875 0 \r\nL 4.296875 8.203125 \r\nL 38.09375 47.515625 \r\nL 5.515625 47.515625 \r\nz\r\n\" id=\"DejaVuSans-122\"/>\r\n       </defs>\r\n       <use xlink:href=\"#DejaVuSans-50\"/>\r\n       <use x=\"63.623047\" xlink:href=\"#DejaVuSans-48\"/>\r\n       <use x=\"127.246094\" xlink:href=\"#DejaVuSans-49\"/>\r\n       <use x=\"190.869141\" xlink:href=\"#DejaVuSans-48\"/>\r\n       <use x=\"254.492188\" xlink:href=\"#DejaVuSans-47\"/>\r\n       <use x=\"288.183594\" xlink:href=\"#DejaVuSans-68\"/>\r\n       <use x=\"365.185547\" xlink:href=\"#DejaVuSans-101\"/>\r\n       <use x=\"426.708984\" xlink:href=\"#DejaVuSans-122\"/>\r\n      </g>\r\n     </g>\r\n    </g>\r\n    <g id=\"xtick_4\">\r\n     <g id=\"line2d_4\">\r\n      <g>\r\n       <use style=\"stroke:#000000;stroke-width:0.8;\" x=\"369.446795\" xlink:href=\"#m90ed6fb1ac\" y=\"507.038438\"/>\r\n      </g>\r\n     </g>\r\n     <g id=\"text_4\">\r\n      <!-- 2012/Ago -->\r\n      <g transform=\"translate(345.383514 521.636875)scale(0.1 -0.1)\">\r\n       <use xlink:href=\"#DejaVuSans-50\"/>\r\n       <use x=\"63.623047\" xlink:href=\"#DejaVuSans-48\"/>\r\n       <use x=\"127.246094\" xlink:href=\"#DejaVuSans-49\"/>\r\n       <use x=\"190.869141\" xlink:href=\"#DejaVuSans-50\"/>\r\n       <use x=\"254.492188\" xlink:href=\"#DejaVuSans-47\"/>\r\n       <use x=\"288.183594\" xlink:href=\"#DejaVuSans-65\"/>\r\n       <use x=\"356.591797\" xlink:href=\"#DejaVuSans-103\"/>\r\n       <use x=\"420.068359\" xlink:href=\"#DejaVuSans-111\"/>\r\n      </g>\r\n     </g>\r\n    </g>\r\n    <g id=\"xtick_5\">\r\n     <g id=\"line2d_5\">\r\n      <g>\r\n       <use style=\"stroke:#000000;stroke-width:0.8;\" x=\"469.034079\" xlink:href=\"#m90ed6fb1ac\" y=\"507.038438\"/>\r\n      </g>\r\n     </g>\r\n     <g id=\"text_5\">\r\n      <!-- 2014/Abr -->\r\n      <g transform=\"translate(445.974704 521.636875)scale(0.1 -0.1)\">\r\n       <defs>\r\n        <path d=\"M 37.796875 64.3125 \r\nL 12.890625 25.390625 \r\nL 37.796875 25.390625 \r\nz\r\nM 35.203125 72.90625 \r\nL 47.609375 72.90625 \r\nL 47.609375 25.390625 \r\nL 58.015625 25.390625 \r\nL 58.015625 17.1875 \r\nL 47.609375 17.1875 \r\nL 47.609375 0 \r\nL 37.796875 0 \r\nL 37.796875 17.1875 \r\nL 4.890625 17.1875 \r\nL 4.890625 26.703125 \r\nz\r\n\" id=\"DejaVuSans-52\"/>\r\n       </defs>\r\n       <use xlink:href=\"#DejaVuSans-50\"/>\r\n       <use x=\"63.623047\" xlink:href=\"#DejaVuSans-48\"/>\r\n       <use x=\"127.246094\" xlink:href=\"#DejaVuSans-49\"/>\r\n       <use x=\"190.869141\" xlink:href=\"#DejaVuSans-52\"/>\r\n       <use x=\"254.492188\" xlink:href=\"#DejaVuSans-47\"/>\r\n       <use x=\"288.183594\" xlink:href=\"#DejaVuSans-65\"/>\r\n       <use x=\"356.591797\" xlink:href=\"#DejaVuSans-98\"/>\r\n       <use x=\"420.068359\" xlink:href=\"#DejaVuSans-114\"/>\r\n      </g>\r\n     </g>\r\n    </g>\r\n    <g id=\"xtick_6\">\r\n     <g id=\"line2d_6\">\r\n      <g>\r\n       <use style=\"stroke:#000000;stroke-width:0.8;\" x=\"568.621363\" xlink:href=\"#m90ed6fb1ac\" y=\"507.038438\"/>\r\n      </g>\r\n     </g>\r\n     <g id=\"text_6\">\r\n      <!-- 2015/Dez -->\r\n      <g transform=\"translate(544.661206 521.636875)scale(0.1 -0.1)\">\r\n       <defs>\r\n        <path d=\"M 10.796875 72.90625 \r\nL 49.515625 72.90625 \r\nL 49.515625 64.59375 \r\nL 19.828125 64.59375 \r\nL 19.828125 46.734375 \r\nQ 21.96875 47.46875 24.109375 47.828125 \r\nQ 26.265625 48.1875 28.421875 48.1875 \r\nQ 40.625 48.1875 47.75 41.5 \r\nQ 54.890625 34.8125 54.890625 23.390625 \r\nQ 54.890625 11.625 47.5625 5.09375 \r\nQ 40.234375 -1.421875 26.90625 -1.421875 \r\nQ 22.3125 -1.421875 17.546875 -0.640625 \r\nQ 12.796875 0.140625 7.71875 1.703125 \r\nL 7.71875 11.625 \r\nQ 12.109375 9.234375 16.796875 8.0625 \r\nQ 21.484375 6.890625 26.703125 6.890625 \r\nQ 35.15625 6.890625 40.078125 11.328125 \r\nQ 45.015625 15.765625 45.015625 23.390625 \r\nQ 45.015625 31 40.078125 35.4375 \r\nQ 35.15625 39.890625 26.703125 39.890625 \r\nQ 22.75 39.890625 18.8125 39.015625 \r\nQ 14.890625 38.140625 10.796875 36.28125 \r\nz\r\n\" id=\"DejaVuSans-53\"/>\r\n       </defs>\r\n       <use xlink:href=\"#DejaVuSans-50\"/>\r\n       <use x=\"63.623047\" xlink:href=\"#DejaVuSans-48\"/>\r\n       <use x=\"127.246094\" xlink:href=\"#DejaVuSans-49\"/>\r\n       <use x=\"190.869141\" xlink:href=\"#DejaVuSans-53\"/>\r\n       <use x=\"254.492188\" xlink:href=\"#DejaVuSans-47\"/>\r\n       <use x=\"288.183594\" xlink:href=\"#DejaVuSans-68\"/>\r\n       <use x=\"365.185547\" xlink:href=\"#DejaVuSans-101\"/>\r\n       <use x=\"426.708984\" xlink:href=\"#DejaVuSans-122\"/>\r\n      </g>\r\n     </g>\r\n    </g>\r\n    <g id=\"xtick_7\">\r\n     <g id=\"line2d_7\">\r\n      <g>\r\n       <use style=\"stroke:#000000;stroke-width:0.8;\" x=\"668.208646\" xlink:href=\"#m90ed6fb1ac\" y=\"507.038438\"/>\r\n      </g>\r\n     </g>\r\n     <g id=\"text_7\">\r\n      <!-- 2017/Ago -->\r\n      <g transform=\"translate(644.145365 521.636875)scale(0.1 -0.1)\">\r\n       <use xlink:href=\"#DejaVuSans-50\"/>\r\n       <use x=\"63.623047\" xlink:href=\"#DejaVuSans-48\"/>\r\n       <use x=\"127.246094\" xlink:href=\"#DejaVuSans-49\"/>\r\n       <use x=\"190.869141\" xlink:href=\"#DejaVuSans-55\"/>\r\n       <use x=\"254.492188\" xlink:href=\"#DejaVuSans-47\"/>\r\n       <use x=\"288.183594\" xlink:href=\"#DejaVuSans-65\"/>\r\n       <use x=\"356.591797\" xlink:href=\"#DejaVuSans-103\"/>\r\n       <use x=\"420.068359\" xlink:href=\"#DejaVuSans-111\"/>\r\n      </g>\r\n     </g>\r\n    </g>\r\n    <g id=\"xtick_8\">\r\n     <g id=\"line2d_8\">\r\n      <g>\r\n       <use style=\"stroke:#000000;stroke-width:0.8;\" x=\"767.79593\" xlink:href=\"#m90ed6fb1ac\" y=\"507.038438\"/>\r\n      </g>\r\n     </g>\r\n     <g id=\"text_8\">\r\n      <!-- 2019/Abr -->\r\n      <g transform=\"translate(744.736555 521.636875)scale(0.1 -0.1)\">\r\n       <use xlink:href=\"#DejaVuSans-50\"/>\r\n       <use x=\"63.623047\" xlink:href=\"#DejaVuSans-48\"/>\r\n       <use x=\"127.246094\" xlink:href=\"#DejaVuSans-49\"/>\r\n       <use x=\"190.869141\" xlink:href=\"#DejaVuSans-57\"/>\r\n       <use x=\"254.492188\" xlink:href=\"#DejaVuSans-47\"/>\r\n       <use x=\"288.183594\" xlink:href=\"#DejaVuSans-65\"/>\r\n       <use x=\"356.591797\" xlink:href=\"#DejaVuSans-98\"/>\r\n       <use x=\"420.068359\" xlink:href=\"#DejaVuSans-114\"/>\r\n      </g>\r\n     </g>\r\n    </g>\r\n    <g id=\"xtick_9\">\r\n     <g id=\"line2d_9\">\r\n      <g>\r\n       <use style=\"stroke:#000000;stroke-width:0.8;\" x=\"867.383214\" xlink:href=\"#m90ed6fb1ac\" y=\"507.038438\"/>\r\n      </g>\r\n     </g>\r\n     <g id=\"text_9\">\r\n      <!-- 2020/Dez -->\r\n      <g transform=\"translate(843.423058 521.636875)scale(0.1 -0.1)\">\r\n       <use xlink:href=\"#DejaVuSans-50\"/>\r\n       <use x=\"63.623047\" xlink:href=\"#DejaVuSans-48\"/>\r\n       <use x=\"127.246094\" xlink:href=\"#DejaVuSans-50\"/>\r\n       <use x=\"190.869141\" xlink:href=\"#DejaVuSans-48\"/>\r\n       <use x=\"254.492188\" xlink:href=\"#DejaVuSans-47\"/>\r\n       <use x=\"288.183594\" xlink:href=\"#DejaVuSans-68\"/>\r\n       <use x=\"365.185547\" xlink:href=\"#DejaVuSans-101\"/>\r\n       <use x=\"426.708984\" xlink:href=\"#DejaVuSans-122\"/>\r\n      </g>\r\n     </g>\r\n    </g>\r\n   </g>\r\n   <g id=\"matplotlib.axis_2\">\r\n    <g id=\"ytick_1\">\r\n     <g id=\"line2d_10\">\r\n      <defs>\r\n       <path d=\"M 0 0 \r\nL -3.5 0 \r\n\" id=\"m9693064ed1\" style=\"stroke:#000000;stroke-width:0.8;\"/>\r\n      </defs>\r\n      <g>\r\n       <use style=\"stroke:#000000;stroke-width:0.8;\" x=\"30.103125\" xlink:href=\"#m9693064ed1\" y=\"484.802018\"/>\r\n      </g>\r\n     </g>\r\n     <g id=\"text_10\">\r\n      <!-- 0.0 -->\r\n      <g transform=\"translate(7.2 488.601237)scale(0.1 -0.1)\">\r\n       <defs>\r\n        <path d=\"M 10.6875 12.40625 \r\nL 21 12.40625 \r\nL 21 0 \r\nL 10.6875 0 \r\nz\r\n\" id=\"DejaVuSans-46\"/>\r\n       </defs>\r\n       <use xlink:href=\"#DejaVuSans-48\"/>\r\n       <use x=\"63.623047\" xlink:href=\"#DejaVuSans-46\"/>\r\n       <use x=\"95.410156\" xlink:href=\"#DejaVuSans-48\"/>\r\n      </g>\r\n     </g>\r\n    </g>\r\n    <g id=\"ytick_2\">\r\n     <g id=\"line2d_11\">\r\n      <g>\r\n       <use style=\"stroke:#000000;stroke-width:0.8;\" x=\"30.103125\" xlink:href=\"#m9693064ed1\" y=\"399.110976\"/>\r\n      </g>\r\n     </g>\r\n     <g id=\"text_11\">\r\n      <!-- 0.2 -->\r\n      <g transform=\"translate(7.2 402.910194)scale(0.1 -0.1)\">\r\n       <use xlink:href=\"#DejaVuSans-48\"/>\r\n       <use x=\"63.623047\" xlink:href=\"#DejaVuSans-46\"/>\r\n       <use x=\"95.410156\" xlink:href=\"#DejaVuSans-50\"/>\r\n      </g>\r\n     </g>\r\n    </g>\r\n    <g id=\"ytick_3\">\r\n     <g id=\"line2d_12\">\r\n      <g>\r\n       <use style=\"stroke:#000000;stroke-width:0.8;\" x=\"30.103125\" xlink:href=\"#m9693064ed1\" y=\"313.419933\"/>\r\n      </g>\r\n     </g>\r\n     <g id=\"text_12\">\r\n      <!-- 0.4 -->\r\n      <g transform=\"translate(7.2 317.219152)scale(0.1 -0.1)\">\r\n       <use xlink:href=\"#DejaVuSans-48\"/>\r\n       <use x=\"63.623047\" xlink:href=\"#DejaVuSans-46\"/>\r\n       <use x=\"95.410156\" xlink:href=\"#DejaVuSans-52\"/>\r\n      </g>\r\n     </g>\r\n    </g>\r\n    <g id=\"ytick_4\">\r\n     <g id=\"line2d_13\">\r\n      <g>\r\n       <use style=\"stroke:#000000;stroke-width:0.8;\" x=\"30.103125\" xlink:href=\"#m9693064ed1\" y=\"227.72889\"/>\r\n      </g>\r\n     </g>\r\n     <g id=\"text_13\">\r\n      <!-- 0.6 -->\r\n      <g transform=\"translate(7.2 231.528109)scale(0.1 -0.1)\">\r\n       <defs>\r\n        <path d=\"M 33.015625 40.375 \r\nQ 26.375 40.375 22.484375 35.828125 \r\nQ 18.609375 31.296875 18.609375 23.390625 \r\nQ 18.609375 15.53125 22.484375 10.953125 \r\nQ 26.375 6.390625 33.015625 6.390625 \r\nQ 39.65625 6.390625 43.53125 10.953125 \r\nQ 47.40625 15.53125 47.40625 23.390625 \r\nQ 47.40625 31.296875 43.53125 35.828125 \r\nQ 39.65625 40.375 33.015625 40.375 \r\nz\r\nM 52.59375 71.296875 \r\nL 52.59375 62.3125 \r\nQ 48.875 64.0625 45.09375 64.984375 \r\nQ 41.3125 65.921875 37.59375 65.921875 \r\nQ 27.828125 65.921875 22.671875 59.328125 \r\nQ 17.53125 52.734375 16.796875 39.40625 \r\nQ 19.671875 43.65625 24.015625 45.921875 \r\nQ 28.375 48.1875 33.59375 48.1875 \r\nQ 44.578125 48.1875 50.953125 41.515625 \r\nQ 57.328125 34.859375 57.328125 23.390625 \r\nQ 57.328125 12.15625 50.6875 5.359375 \r\nQ 44.046875 -1.421875 33.015625 -1.421875 \r\nQ 20.359375 -1.421875 13.671875 8.265625 \r\nQ 6.984375 17.96875 6.984375 36.375 \r\nQ 6.984375 53.65625 15.1875 63.9375 \r\nQ 23.390625 74.21875 37.203125 74.21875 \r\nQ 40.921875 74.21875 44.703125 73.484375 \r\nQ 48.484375 72.75 52.59375 71.296875 \r\nz\r\n\" id=\"DejaVuSans-54\"/>\r\n       </defs>\r\n       <use xlink:href=\"#DejaVuSans-48\"/>\r\n       <use x=\"63.623047\" xlink:href=\"#DejaVuSans-46\"/>\r\n       <use x=\"95.410156\" xlink:href=\"#DejaVuSans-54\"/>\r\n      </g>\r\n     </g>\r\n    </g>\r\n    <g id=\"ytick_5\">\r\n     <g id=\"line2d_14\">\r\n      <g>\r\n       <use style=\"stroke:#000000;stroke-width:0.8;\" x=\"30.103125\" xlink:href=\"#m9693064ed1\" y=\"142.037848\"/>\r\n      </g>\r\n     </g>\r\n     <g id=\"text_14\">\r\n      <!-- 0.8 -->\r\n      <g transform=\"translate(7.2 145.837067)scale(0.1 -0.1)\">\r\n       <defs>\r\n        <path d=\"M 31.78125 34.625 \r\nQ 24.75 34.625 20.71875 30.859375 \r\nQ 16.703125 27.09375 16.703125 20.515625 \r\nQ 16.703125 13.921875 20.71875 10.15625 \r\nQ 24.75 6.390625 31.78125 6.390625 \r\nQ 38.8125 6.390625 42.859375 10.171875 \r\nQ 46.921875 13.96875 46.921875 20.515625 \r\nQ 46.921875 27.09375 42.890625 30.859375 \r\nQ 38.875 34.625 31.78125 34.625 \r\nz\r\nM 21.921875 38.8125 \r\nQ 15.578125 40.375 12.03125 44.71875 \r\nQ 8.5 49.078125 8.5 55.328125 \r\nQ 8.5 64.0625 14.71875 69.140625 \r\nQ 20.953125 74.21875 31.78125 74.21875 \r\nQ 42.671875 74.21875 48.875 69.140625 \r\nQ 55.078125 64.0625 55.078125 55.328125 \r\nQ 55.078125 49.078125 51.53125 44.71875 \r\nQ 48 40.375 41.703125 38.8125 \r\nQ 48.828125 37.15625 52.796875 32.3125 \r\nQ 56.78125 27.484375 56.78125 20.515625 \r\nQ 56.78125 9.90625 50.3125 4.234375 \r\nQ 43.84375 -1.421875 31.78125 -1.421875 \r\nQ 19.734375 -1.421875 13.25 4.234375 \r\nQ 6.78125 9.90625 6.78125 20.515625 \r\nQ 6.78125 27.484375 10.78125 32.3125 \r\nQ 14.796875 37.15625 21.921875 38.8125 \r\nz\r\nM 18.3125 54.390625 \r\nQ 18.3125 48.734375 21.84375 45.5625 \r\nQ 25.390625 42.390625 31.78125 42.390625 \r\nQ 38.140625 42.390625 41.71875 45.5625 \r\nQ 45.3125 48.734375 45.3125 54.390625 \r\nQ 45.3125 60.0625 41.71875 63.234375 \r\nQ 38.140625 66.40625 31.78125 66.40625 \r\nQ 25.390625 66.40625 21.84375 63.234375 \r\nQ 18.3125 60.0625 18.3125 54.390625 \r\nz\r\n\" id=\"DejaVuSans-56\"/>\r\n       </defs>\r\n       <use xlink:href=\"#DejaVuSans-48\"/>\r\n       <use x=\"63.623047\" xlink:href=\"#DejaVuSans-46\"/>\r\n       <use x=\"95.410156\" xlink:href=\"#DejaVuSans-56\"/>\r\n      </g>\r\n     </g>\r\n    </g>\r\n    <g id=\"ytick_6\">\r\n     <g id=\"line2d_15\">\r\n      <g>\r\n       <use style=\"stroke:#000000;stroke-width:0.8;\" x=\"30.103125\" xlink:href=\"#m9693064ed1\" y=\"56.346805\"/>\r\n      </g>\r\n     </g>\r\n     <g id=\"text_15\">\r\n      <!-- 1.0 -->\r\n      <g transform=\"translate(7.2 60.146024)scale(0.1 -0.1)\">\r\n       <use xlink:href=\"#DejaVuSans-49\"/>\r\n       <use x=\"63.623047\" xlink:href=\"#DejaVuSans-46\"/>\r\n       <use x=\"95.410156\" xlink:href=\"#DejaVuSans-48\"/>\r\n      </g>\r\n     </g>\r\n    </g>\r\n    <g id=\"text_16\">\r\n     <!-- 1e9 -->\r\n     <g transform=\"translate(30.103125 14.798438)scale(0.1 -0.1)\">\r\n      <use xlink:href=\"#DejaVuSans-49\"/>\r\n      <use x=\"63.623047\" xlink:href=\"#DejaVuSans-101\"/>\r\n      <use x=\"125.146484\" xlink:href=\"#DejaVuSans-57\"/>\r\n     </g>\r\n    </g>\r\n   </g>\r\n   <g id=\"line2d_16\">\r\n    <path clip-path=\"url(#p1bfb2f97cf)\" d=\"M 70.684943 484.800215 \r\nL 80.643672 484.744757 \r\nL 90.6024 484.497062 \r\nL 95.581764 484.018134 \r\nL 120.478585 483.677519 \r\nL 125.457949 483.528041 \r\nL 150.35477 483.665839 \r\nL 155.334134 483.453427 \r\nL 160.313499 483.481473 \r\nL 165.292863 483.006639 \r\nL 175.251591 483.111152 \r\nL 180.230955 483.357105 \r\nL 185.21032 483.207904 \r\nL 200.148412 483.145547 \r\nL 210.107141 483.245238 \r\nL 220.065869 483.125997 \r\nL 225.045233 482.804106 \r\nL 230.024597 482.863453 \r\nL 235.003962 482.754536 \r\nL 239.983326 482.929783 \r\nL 244.96269 482.817226 \r\nL 249.942054 482.889262 \r\nL 254.921418 482.801714 \r\nL 274.838875 483.013848 \r\nL 279.818239 482.962623 \r\nL 289.776968 482.62224 \r\nL 294.756332 482.777913 \r\nL 299.735696 482.792515 \r\nL 304.71506 482.951311 \r\nL 309.694424 482.754657 \r\nL 314.673789 483.001304 \r\nL 324.632517 482.921517 \r\nL 329.611881 483.068772 \r\nL 334.591245 482.885657 \r\nL 339.57061 482.909323 \r\nL 344.549974 482.719814 \r\nL 354.508702 482.839923 \r\nL 374.426159 483.069639 \r\nL 379.405523 482.964048 \r\nL 389.364252 483.102446 \r\nL 394.343616 482.886098 \r\nL 399.32298 482.926064 \r\nL 404.302344 482.447251 \r\nL 419.240437 482.702765 \r\nL 424.219801 482.433964 \r\nL 434.178529 482.073807 \r\nL 439.157894 482.102817 \r\nL 444.137258 481.937426 \r\nL 449.116622 482.161433 \r\nL 454.095986 482.081627 \r\nL 459.07535 482.20596 \r\nL 464.054715 481.914043 \r\nL 469.034079 481.980962 \r\nL 474.013443 481.563716 \r\nL 478.992807 481.830739 \r\nL 483.972171 481.738302 \r\nL 488.951535 481.820877 \r\nL 498.910264 481.761367 \r\nL 508.868992 481.887004 \r\nL 513.848356 481.809816 \r\nL 518.827721 481.963905 \r\nL 523.807085 481.58792 \r\nL 528.786449 481.646436 \r\nL 533.765813 481.526163 \r\nL 553.68327 481.620318 \r\nL 558.662634 481.522487 \r\nL 563.641998 481.619022 \r\nL 568.621363 481.553998 \r\nL 573.600727 481.792045 \r\nL 578.580091 481.90553 \r\nL 583.559455 481.468713 \r\nL 588.538819 481.499531 \r\nL 593.518184 481.134215 \r\nL 598.497548 481.222204 \r\nL 603.476912 481.440483 \r\nL 608.456276 481.403877 \r\nL 613.43564 481.565064 \r\nL 618.415005 481.389941 \r\nL 623.394369 481.818037 \r\nL 628.373733 481.72809 \r\nL 633.353097 481.799731 \r\nL 638.332461 481.736545 \r\nL 643.311826 481.047683 \r\nL 648.29119 481.317183 \r\nL 668.208646 481.218682 \r\nL 673.188011 481.421584 \r\nL 678.167375 481.115614 \r\nL 683.146739 481.35364 \r\nL 693.105467 481.178377 \r\nL 698.084832 481.474214 \r\nL 703.064196 481.0064 \r\nL 708.04356 481.199963 \r\nL 713.022924 480.734719 \r\nL 718.002288 481.286031 \r\nL 722.981653 480.940946 \r\nL 727.961017 480.892378 \r\nL 732.940381 481.20011 \r\nL 757.837202 481.097888 \r\nL 767.79593 480.855405 \r\nL 772.775295 480.735745 \r\nL 777.754659 481.116924 \r\nL 782.734023 480.980544 \r\nL 787.713387 480.984863 \r\nL 792.692751 481.198973 \r\nL 797.672116 480.978335 \r\nL 802.65148 480.967941 \r\nL 812.610208 481.233986 \r\nL 817.589572 481.189569 \r\nL 822.568936 481.695166 \r\nL 827.548301 481.5927 \r\nL 832.527665 480.964042 \r\nL 837.507029 480.091867 \r\nL 842.486393 480.311812 \r\nL 847.465757 479.903289 \r\nL 852.445122 480.998664 \r\nL 857.424486 481.302716 \r\nL 862.40385 481.049173 \r\nL 867.383214 480.944464 \r\nL 872.362578 481.1967 \r\nL 877.341943 482.214397 \r\nL 882.321307 482.774379 \r\nL 882.321307 482.774379 \r\n\" style=\"fill:none;stroke:#1f77b4;stroke-linecap:square;stroke-width:1.5;\"/>\r\n   </g>\r\n   <g id=\"line2d_17\">\r\n    <path clip-path=\"url(#p1bfb2f97cf)\" d=\"M 70.684943 484.797532 \r\nL 80.643672 484.765085 \r\nL 90.6024 484.472274 \r\nL 95.581764 484.060043 \r\nL 100.561128 484.054801 \r\nL 105.540493 483.920498 \r\nL 160.313499 483.907928 \r\nL 165.292863 483.741007 \r\nL 170.272227 483.775059 \r\nL 175.251591 483.683638 \r\nL 180.230955 483.870515 \r\nL 190.189684 484.067343 \r\nL 195.169048 484.227232 \r\nL 200.148412 483.821516 \r\nL 205.127776 483.746856 \r\nL 210.107141 483.835894 \r\nL 215.086505 483.781637 \r\nL 220.065869 483.91084 \r\nL 225.045233 483.7031 \r\nL 235.003962 483.714374 \r\nL 244.96269 483.825502 \r\nL 259.900783 483.677133 \r\nL 269.859511 483.730628 \r\nL 274.838875 483.623971 \r\nL 279.818239 483.742227 \r\nL 284.797604 483.601724 \r\nL 289.776968 483.656842 \r\nL 294.756332 483.458588 \r\nL 299.735696 483.637029 \r\nL 314.673789 483.600395 \r\nL 339.57061 483.747854 \r\nL 344.549974 483.490026 \r\nL 349.529338 483.610713 \r\nL 384.384887 483.577481 \r\nL 389.364252 483.669979 \r\nL 404.302344 483.596748 \r\nL 414.261073 483.562379 \r\nL 419.240437 483.65039 \r\nL 424.219801 483.542194 \r\nL 459.07535 483.683116 \r\nL 464.054715 483.505462 \r\nL 478.992807 483.4572 \r\nL 493.9309 483.674941 \r\nL 498.910264 483.482422 \r\nL 503.889628 483.434533 \r\nL 508.868992 483.575426 \r\nL 513.848356 483.458159 \r\nL 518.827721 483.558714 \r\nL 538.745177 483.373342 \r\nL 543.724542 483.536699 \r\nL 548.703906 483.447211 \r\nL 568.621363 483.490948 \r\nL 583.559455 483.400284 \r\nL 593.518184 483.344245 \r\nL 613.43564 483.44213 \r\nL 618.415005 483.554751 \r\nL 628.373733 483.442312 \r\nL 633.353097 483.512485 \r\nL 638.332461 483.459038 \r\nL 643.311826 483.265243 \r\nL 648.29119 483.597474 \r\nL 658.249918 483.364455 \r\nL 663.229282 483.275564 \r\nL 673.188011 483.370336 \r\nL 683.146739 483.454361 \r\nL 688.126103 483.671422 \r\nL 693.105467 483.530291 \r\nL 698.084832 483.615284 \r\nL 703.064196 483.49196 \r\nL 708.04356 483.570224 \r\nL 713.022924 483.441427 \r\nL 718.002288 483.490558 \r\nL 722.981653 483.408248 \r\nL 732.940381 483.548281 \r\nL 737.919745 483.462616 \r\nL 742.899109 483.742254 \r\nL 747.878474 483.826214 \r\nL 752.857838 483.690457 \r\nL 757.837202 483.844683 \r\nL 762.816566 483.742445 \r\nL 767.79593 483.525322 \r\nL 777.754659 483.409945 \r\nL 782.734023 483.273488 \r\nL 787.713387 483.524762 \r\nL 792.692751 483.517141 \r\nL 797.672116 483.390953 \r\nL 807.630844 483.533975 \r\nL 812.610208 483.39806 \r\nL 822.568936 483.542499 \r\nL 827.548301 483.656819 \r\nL 832.527665 483.542005 \r\nL 837.507029 483.124692 \r\nL 842.486393 483.065453 \r\nL 852.445122 483.315103 \r\nL 857.424486 483.401861 \r\nL 867.383214 483.211738 \r\nL 877.341943 483.828254 \r\nL 882.321307 484.314718 \r\nL 882.321307 484.314718 \r\n\" style=\"fill:none;stroke:#ff7f0e;stroke-linecap:square;stroke-width:1.5;\"/>\r\n   </g>\r\n   <g id=\"line2d_18\">\r\n    <path clip-path=\"url(#p1bfb2f97cf)\" d=\"M 70.684943 484.7867 \r\nL 75.664307 484.782493 \r\nL 80.643672 484.623776 \r\nL 85.623036 483.936375 \r\nL 90.6024 482.252963 \r\nL 95.581764 479.909398 \r\nL 100.561128 481.402375 \r\nL 105.540493 481.099515 \r\nL 110.519857 481.14662 \r\nL 115.499221 480.911687 \r\nL 120.478585 481.097468 \r\nL 125.457949 481.050547 \r\nL 140.396042 481.510771 \r\nL 150.35477 481.475157 \r\nL 155.334134 481.114209 \r\nL 160.313499 481.209009 \r\nL 165.292863 480.857176 \r\nL 170.272227 481.305602 \r\nL 175.251591 481.133447 \r\nL 180.230955 480.738121 \r\nL 190.189684 480.831521 \r\nL 195.169048 480.906151 \r\nL 200.148412 480.852344 \r\nL 210.107141 481.217653 \r\nL 215.086505 480.780133 \r\nL 220.065869 481.214542 \r\nL 225.045233 480.379868 \r\nL 244.96269 480.885853 \r\nL 259.900783 480.518886 \r\nL 264.880147 480.717607 \r\nL 269.859511 480.802045 \r\nL 274.838875 480.602938 \r\nL 279.818239 480.748119 \r\nL 284.797604 480.108486 \r\nL 294.756332 480.472267 \r\nL 304.71506 480.5291 \r\nL 319.653153 480.42893 \r\nL 324.632517 480.202159 \r\nL 329.611881 481.073273 \r\nL 334.591245 480.501328 \r\nL 339.57061 480.955464 \r\nL 344.549974 480.068151 \r\nL 349.529338 480.315111 \r\nL 354.508702 479.878906 \r\nL 359.488066 480.227213 \r\nL 364.467431 480.084722 \r\nL 369.446795 480.189096 \r\nL 374.426159 480.701825 \r\nL 379.405523 480.521827 \r\nL 384.384887 480.535493 \r\nL 389.364252 480.980714 \r\nL 394.343616 480.150884 \r\nL 399.32298 480.761911 \r\nL 404.302344 480.444573 \r\nL 414.261073 480.041865 \r\nL 419.240437 480.31733 \r\nL 424.219801 480.345809 \r\nL 429.199165 480.15276 \r\nL 434.178529 480.33712 \r\nL 439.157894 480.260821 \r\nL 444.137258 480.4127 \r\nL 449.116622 480.814463 \r\nL 454.095986 480.742411 \r\nL 459.07535 481.277924 \r\nL 464.054715 480.550037 \r\nL 469.034079 480.385122 \r\nL 488.951535 480.179222 \r\nL 498.910264 479.754604 \r\nL 508.868992 480.106344 \r\nL 513.848356 479.596349 \r\nL 518.827721 479.933061 \r\nL 523.807085 479.069614 \r\nL 533.765813 479.248272 \r\nL 538.745177 479.050633 \r\nL 543.724542 479.12334 \r\nL 548.703906 479.036115 \r\nL 553.68327 479.393935 \r\nL 558.662634 479.194379 \r\nL 563.641998 479.876656 \r\nL 578.580091 479.664737 \r\nL 583.559455 479.014057 \r\nL 588.538819 479.203117 \r\nL 593.518184 478.960619 \r\nL 603.476912 479.363885 \r\nL 608.456276 479.438632 \r\nL 613.43564 479.817176 \r\nL 618.415005 479.60838 \r\nL 623.394369 480.171851 \r\nL 628.373733 479.688876 \r\nL 633.353097 479.568803 \r\nL 638.332461 479.793745 \r\nL 643.311826 479.028704 \r\nL 653.270554 478.842392 \r\nL 658.249918 478.924115 \r\nL 663.229282 478.633887 \r\nL 668.208646 478.912771 \r\nL 673.188011 478.812303 \r\nL 678.167375 478.848412 \r\nL 683.146739 479.010111 \r\nL 688.126103 478.959952 \r\nL 693.105467 478.56823 \r\nL 698.084832 479.337691 \r\nL 703.064196 478.482557 \r\nL 708.04356 478.556028 \r\nL 713.022924 478.211922 \r\nL 718.002288 478.523585 \r\nL 727.961017 477.786081 \r\nL 732.940381 478.228084 \r\nL 737.919745 477.839637 \r\nL 742.899109 478.694214 \r\nL 747.878474 478.686225 \r\nL 752.857838 478.221411 \r\nL 757.837202 478.760768 \r\nL 762.816566 477.902188 \r\nL 767.79593 477.880542 \r\nL 772.775295 477.719664 \r\nL 777.754659 478.156684 \r\nL 782.734023 477.671572 \r\nL 787.713387 477.735198 \r\nL 792.692751 478.224542 \r\nL 797.672116 477.801305 \r\nL 802.65148 478.451465 \r\nL 807.630844 478.389836 \r\nL 812.610208 477.954296 \r\nL 817.589572 478.303865 \r\nL 822.568936 478.454044 \r\nL 827.548301 477.784185 \r\nL 832.527665 476.393445 \r\nL 837.507029 476.904279 \r\nL 842.486393 476.531229 \r\nL 847.465757 476.795376 \r\nL 857.424486 476.777801 \r\nL 862.40385 476.039435 \r\nL 867.383214 475.570497 \r\nL 872.362578 474.330976 \r\nL 877.341943 478.941026 \r\nL 882.321307 481.888925 \r\nL 882.321307 481.888925 \r\n\" style=\"fill:none;stroke:#2ca02c;stroke-linecap:square;stroke-width:1.5;\"/>\r\n   </g>\r\n   <g id=\"line2d_19\">\r\n    <path clip-path=\"url(#p1bfb2f97cf)\" d=\"M 70.684943 484.799968 \r\nL 80.643672 484.783229 \r\nL 95.581764 484.455634 \r\nL 110.519857 484.417714 \r\nL 120.478585 484.400001 \r\nL 155.334134 484.29375 \r\nL 160.313499 484.32805 \r\nL 165.292863 484.192459 \r\nL 185.21032 484.214598 \r\nL 195.169048 484.127879 \r\nL 210.107141 484.143508 \r\nL 249.942054 483.925371 \r\nL 289.776968 484.210775 \r\nL 299.735696 484.043513 \r\nL 309.694424 484.092334 \r\nL 319.653153 484.006749 \r\nL 329.611881 484.10777 \r\nL 349.529338 484.121172 \r\nL 354.508702 483.952538 \r\nL 364.467431 484.05498 \r\nL 369.446795 484.021063 \r\nL 379.405523 484.213215 \r\nL 384.384887 484.110804 \r\nL 399.32298 484.166535 \r\nL 404.302344 484.037906 \r\nL 414.261073 484.063162 \r\nL 419.240437 483.959955 \r\nL 434.178529 484.055885 \r\nL 454.095986 484.095231 \r\nL 459.07535 484.18303 \r\nL 464.054715 484.018633 \r\nL 469.034079 484.055018 \r\nL 474.013443 483.971081 \r\nL 483.972171 484.013951 \r\nL 523.807085 484.027915 \r\nL 543.724542 483.84633 \r\nL 553.68327 483.852908 \r\nL 563.641998 483.972011 \r\nL 608.456276 483.740776 \r\nL 613.43564 483.854054 \r\nL 618.415005 483.795541 \r\nL 623.394369 483.865914 \r\nL 633.353097 483.786425 \r\nL 638.332461 483.835196 \r\nL 643.311826 483.687096 \r\nL 648.29119 483.777085 \r\nL 653.270554 483.618824 \r\nL 663.229282 483.652582 \r\nL 668.208646 483.563311 \r\nL 683.146739 483.657421 \r\nL 722.981653 483.584525 \r\nL 727.961017 483.37602 \r\nL 732.940381 483.568628 \r\nL 737.919745 483.531938 \r\nL 742.899109 483.720292 \r\nL 747.878474 483.746968 \r\nL 752.857838 483.661368 \r\nL 757.837202 483.730882 \r\nL 762.816566 483.582577 \r\nL 782.734023 483.574161 \r\nL 787.713387 483.438964 \r\nL 797.672116 483.447096 \r\nL 822.568936 483.596365 \r\nL 827.548301 483.813949 \r\nL 837.507029 483.38811 \r\nL 852.445122 483.525809 \r\nL 862.40385 483.290744 \r\nL 867.383214 483.463086 \r\nL 877.341943 483.497458 \r\nL 882.321307 483.781505 \r\nL 882.321307 483.781505 \r\n\" style=\"fill:none;stroke:#d62728;stroke-linecap:square;stroke-width:1.5;\"/>\r\n   </g>\r\n   <g id=\"line2d_20\">\r\n    <path clip-path=\"url(#p1bfb2f97cf)\" d=\"M 70.684943 484.7244 \r\nL 75.664307 484.616319 \r\nL 80.643672 483.990868 \r\nL 85.623036 482.61458 \r\nL 90.6024 479.162338 \r\nL 95.581764 475.477931 \r\nL 100.561128 476.178894 \r\nL 105.540493 475.312003 \r\nL 110.519857 474.760449 \r\nL 115.499221 474.578614 \r\nL 120.478585 474.732071 \r\nL 125.457949 475.142799 \r\nL 130.437314 474.836515 \r\nL 135.416678 474.661473 \r\nL 140.396042 474.796485 \r\nL 150.35477 474.58929 \r\nL 155.334134 473.920474 \r\nL 160.313499 474.927968 \r\nL 165.292863 472.708459 \r\nL 175.251591 473.400417 \r\nL 185.21032 473.52004 \r\nL 190.189684 472.851296 \r\nL 195.169048 473.134388 \r\nL 200.148412 472.976672 \r\nL 205.127776 473.326196 \r\nL 210.107141 473.871575 \r\nL 215.086505 473.481735 \r\nL 220.065869 473.883457 \r\nL 225.045233 472.57498 \r\nL 230.024597 473.255183 \r\nL 235.003962 472.618284 \r\nL 239.983326 473.25613 \r\nL 244.96269 473.608473 \r\nL 249.942054 472.907301 \r\nL 254.921418 473.113685 \r\nL 259.900783 473.438502 \r\nL 264.880147 473.36755 \r\nL 269.859511 473.524203 \r\nL 274.838875 472.805363 \r\nL 279.818239 473.588963 \r\nL 284.797604 472.294072 \r\nL 289.776968 473.107436 \r\nL 294.756332 472.90839 \r\nL 299.735696 473.465587 \r\nL 304.71506 473.813779 \r\nL 309.694424 473.084533 \r\nL 319.653153 473.168603 \r\nL 324.632517 473.200836 \r\nL 329.611881 473.689774 \r\nL 334.591245 473.26299 \r\nL 339.57061 473.923836 \r\nL 344.549974 472.503377 \r\nL 349.529338 473.298867 \r\nL 354.508702 472.575415 \r\nL 359.488066 474.095288 \r\nL 364.467431 474.555336 \r\nL 369.446795 473.94526 \r\nL 374.426159 473.463581 \r\nL 379.405523 473.199906 \r\nL 389.364252 474.420009 \r\nL 394.343616 473.02454 \r\nL 399.32298 474.151219 \r\nL 404.302344 472.639908 \r\nL 409.281708 471.976088 \r\nL 414.261073 471.935031 \r\nL 419.240437 472.681972 \r\nL 424.219801 472.876315 \r\nL 429.199165 472.592877 \r\nL 434.178529 472.601201 \r\nL 439.157894 472.2241 \r\nL 444.137258 472.768331 \r\nL 449.116622 473.180169 \r\nL 454.095986 472.048078 \r\nL 459.07535 472.875804 \r\nL 464.054715 472.306801 \r\nL 474.013443 471.988408 \r\nL 478.992807 472.735257 \r\nL 483.972171 472.307096 \r\nL 488.951535 472.358733 \r\nL 493.9309 472.09495 \r\nL 498.910264 472.419275 \r\nL 503.889628 472.140812 \r\nL 508.868992 472.821343 \r\nL 513.848356 472.509179 \r\nL 518.827721 473.426718 \r\nL 523.807085 471.12954 \r\nL 528.786449 472.055109 \r\nL 533.765813 471.496355 \r\nL 538.745177 472.276009 \r\nL 543.724542 472.161972 \r\nL 548.703906 472.406036 \r\nL 553.68327 472.172525 \r\nL 558.662634 472.180376 \r\nL 568.621363 473.024 \r\nL 573.600727 472.590957 \r\nL 578.580091 473.156639 \r\nL 583.559455 471.469349 \r\nL 588.538819 471.86583 \r\nL 593.518184 471.477209 \r\nL 598.497548 471.553815 \r\nL 603.476912 471.96068 \r\nL 608.456276 471.022556 \r\nL 613.43564 470.975304 \r\nL 618.415005 471.909762 \r\nL 623.394369 471.866887 \r\nL 628.373733 472.205583 \r\nL 633.353097 471.263581 \r\nL 638.332461 472.711289 \r\nL 643.311826 470.225451 \r\nL 648.29119 471.71698 \r\nL 653.270554 470.268341 \r\nL 658.249918 471.173459 \r\nL 663.229282 471.034409 \r\nL 668.208646 470.332847 \r\nL 673.188011 470.671597 \r\nL 678.167375 470.378055 \r\nL 683.146739 470.459246 \r\nL 688.126103 471.062344 \r\nL 693.105467 470.399138 \r\nL 698.084832 471.681224 \r\nL 703.064196 470.182299 \r\nL 708.04356 469.788967 \r\nL 713.022924 469.624159 \r\nL 718.002288 470.165867 \r\nL 722.981653 470.026762 \r\nL 727.961017 469.541144 \r\nL 732.940381 470.071335 \r\nL 737.919745 468.331733 \r\nL 742.899109 470.412976 \r\nL 747.878474 470.753248 \r\nL 752.857838 470.014514 \r\nL 757.837202 471.14033 \r\nL 762.816566 470.561814 \r\nL 767.79593 471.516083 \r\nL 772.775295 471.49244 \r\nL 777.754659 472.572544 \r\nL 782.734023 469.071744 \r\nL 787.713387 469.179679 \r\nL 797.672116 468.955896 \r\nL 802.65148 469.557902 \r\nL 807.630844 469.699975 \r\nL 812.610208 468.929316 \r\nL 817.589572 469.94176 \r\nL 822.568936 469.845324 \r\nL 827.548301 472.297686 \r\nL 832.527665 466.238026 \r\nL 837.507029 467.237692 \r\nL 842.486393 467.451146 \r\nL 852.445122 468.963764 \r\nL 857.424486 468.346503 \r\nL 862.40385 468.930738 \r\nL 867.383214 468.985835 \r\nL 872.362578 470.282625 \r\nL 882.321307 479.202295 \r\nL 882.321307 479.202295 \r\n\" style=\"fill:none;stroke:#9467bd;stroke-linecap:square;stroke-width:1.5;\"/>\r\n   </g>\r\n   <g id=\"line2d_21\">\r\n    <path clip-path=\"url(#p1bfb2f97cf)\" d=\"M 70.684943 484.787591 \r\nL 85.623036 484.704904 \r\nL 95.581764 484.232226 \r\nL 110.519857 484.203736 \r\nL 160.313499 484.108947 \r\nL 170.272227 483.98829 \r\nL 195.169048 484.022215 \r\nL 215.086505 484.068058 \r\nL 220.065869 484.181405 \r\nL 225.045233 484.009298 \r\nL 264.880147 484.085541 \r\nL 269.859511 484.153 \r\nL 274.838875 484.002567 \r\nL 279.818239 484.080423 \r\nL 289.776968 483.961399 \r\nL 304.71506 484.050246 \r\nL 314.673789 484.028321 \r\nL 324.632517 484.020306 \r\nL 329.611881 484.118118 \r\nL 334.591245 483.998036 \r\nL 349.529338 483.999517 \r\nL 354.508702 483.884579 \r\nL 359.488066 484.005883 \r\nL 369.446795 483.905952 \r\nL 389.364252 484.07446 \r\nL 394.343616 483.951899 \r\nL 399.32298 484.023529 \r\nL 409.281708 483.853849 \r\nL 434.178529 483.945803 \r\nL 439.157894 483.81555 \r\nL 444.137258 483.981731 \r\nL 449.116622 484.004432 \r\nL 454.095986 483.869772 \r\nL 459.07535 484.015477 \r\nL 469.034079 483.872079 \r\nL 478.992807 484.01404 \r\nL 498.910264 483.944011 \r\nL 503.889628 484.139473 \r\nL 508.868992 484.183292 \r\nL 523.807085 483.970183 \r\nL 533.765813 483.994858 \r\nL 543.724542 483.940175 \r\nL 563.641998 484.036902 \r\nL 568.621363 484.123814 \r\nL 603.476912 483.998996 \r\nL 628.373733 484.053173 \r\nL 633.353097 484.022712 \r\nL 638.332461 484.134234 \r\nL 643.311826 483.92758 \r\nL 648.29119 484.025024 \r\nL 653.270554 483.891261 \r\nL 678.167375 483.981451 \r\nL 688.126103 484.111871 \r\nL 693.105467 483.993002 \r\nL 703.064196 484.000916 \r\nL 727.961017 483.770016 \r\nL 752.857838 483.75602 \r\nL 767.79593 483.699339 \r\nL 772.775295 483.890329 \r\nL 777.754659 483.673943 \r\nL 787.713387 483.870959 \r\nL 792.692751 483.713167 \r\nL 797.672116 483.713663 \r\nL 807.630844 483.884524 \r\nL 817.589572 483.798268 \r\nL 822.568936 483.822409 \r\nL 827.548301 484.0417 \r\nL 832.527665 483.618838 \r\nL 872.362578 483.724982 \r\nL 877.341943 484.144454 \r\nL 882.321307 484.378209 \r\nL 882.321307 484.378209 \r\n\" style=\"fill:none;stroke:#8c564b;stroke-linecap:square;stroke-width:1.5;\"/>\r\n   </g>\r\n   <g id=\"line2d_22\">\r\n    <path clip-path=\"url(#p1bfb2f97cf)\" d=\"M 70.684943 484.800256 \r\nL 80.643672 484.654757 \r\nL 85.623036 484.344134 \r\nL 95.581764 482.601269 \r\nL 105.540493 482.573986 \r\nL 120.478585 482.48904 \r\nL 125.457949 482.633409 \r\nL 135.416678 482.573451 \r\nL 140.396042 482.225686 \r\nL 145.375406 482.57186 \r\nL 155.334134 482.221673 \r\nL 160.313499 482.238052 \r\nL 165.292863 481.956662 \r\nL 170.272227 482.03375 \r\nL 175.251591 481.964617 \r\nL 180.230955 482.101635 \r\nL 185.21032 482.089685 \r\nL 190.189684 481.949785 \r\nL 195.169048 482.111395 \r\nL 200.148412 481.958286 \r\nL 220.065869 482.328868 \r\nL 225.045233 481.750677 \r\nL 230.024597 481.881691 \r\nL 235.003962 481.780356 \r\nL 239.983326 482.07951 \r\nL 244.96269 481.857417 \r\nL 249.942054 481.799843 \r\nL 254.921418 481.939101 \r\nL 259.900783 481.88626 \r\nL 269.859511 482.065836 \r\nL 274.838875 481.827738 \r\nL 279.818239 481.974607 \r\nL 284.797604 481.625577 \r\nL 289.776968 481.780254 \r\nL 294.756332 481.653741 \r\nL 299.735696 481.718983 \r\nL 304.71506 481.934649 \r\nL 309.694424 481.650917 \r\nL 314.673789 481.802122 \r\nL 324.632517 481.636834 \r\nL 329.611881 481.837563 \r\nL 339.57061 481.862256 \r\nL 344.549974 481.390383 \r\nL 349.529338 481.558797 \r\nL 354.508702 481.428557 \r\nL 359.488066 481.790109 \r\nL 369.446795 481.574053 \r\nL 374.426159 481.774753 \r\nL 379.405523 481.694028 \r\nL 384.384887 481.777369 \r\nL 394.343616 481.73868 \r\nL 399.32298 481.859646 \r\nL 404.302344 481.404031 \r\nL 414.261073 481.380575 \r\nL 419.240437 481.657275 \r\nL 424.219801 481.814235 \r\nL 434.178529 481.55269 \r\nL 439.157894 481.544897 \r\nL 449.116622 481.88767 \r\nL 454.095986 481.740425 \r\nL 459.07535 481.934665 \r\nL 469.034079 481.548472 \r\nL 474.013443 481.400913 \r\nL 478.992807 481.608367 \r\nL 488.951535 481.515201 \r\nL 493.9309 481.525238 \r\nL 498.910264 481.289263 \r\nL 503.889628 481.820868 \r\nL 508.868992 481.763659 \r\nL 518.827721 482.166672 \r\nL 523.807085 481.807977 \r\nL 528.786449 481.764455 \r\nL 533.765813 481.88962 \r\nL 538.745177 481.779499 \r\nL 543.724542 481.984145 \r\nL 548.703906 481.898366 \r\nL 553.68327 482.07947 \r\nL 558.662634 482.055785 \r\nL 563.641998 482.319619 \r\nL 568.621363 482.457693 \r\nL 573.600727 482.237861 \r\nL 578.580091 482.173309 \r\nL 588.538819 481.876066 \r\nL 608.456276 482.075137 \r\nL 613.43564 482.315881 \r\nL 623.394369 482.169713 \r\nL 633.353097 482.146037 \r\nL 638.332461 482.252936 \r\nL 643.311826 481.635507 \r\nL 648.29119 482.146952 \r\nL 653.270554 481.999042 \r\nL 658.249918 481.978361 \r\nL 663.229282 482.16754 \r\nL 668.208646 482.023375 \r\nL 673.188011 482.408972 \r\nL 678.167375 482.401273 \r\nL 683.146739 482.782689 \r\nL 688.126103 482.442787 \r\nL 693.105467 482.388639 \r\nL 698.084832 482.783667 \r\nL 713.022924 482.250153 \r\nL 718.002288 482.452198 \r\nL 732.940381 482.451437 \r\nL 737.919745 482.213343 \r\nL 752.857838 482.033094 \r\nL 757.837202 482.323019 \r\nL 767.79593 481.701922 \r\nL 772.775295 481.821155 \r\nL 782.734023 481.752682 \r\nL 792.692751 481.751421 \r\nL 797.672116 481.550906 \r\nL 807.630844 481.557299 \r\nL 812.610208 481.705266 \r\nL 817.589572 481.65568 \r\nL 822.568936 481.791006 \r\nL 827.548301 482.119264 \r\nL 832.527665 481.635353 \r\nL 837.507029 481.429409 \r\nL 842.486393 481.402385 \r\nL 847.465757 482.021803 \r\nL 857.424486 484.008071 \r\nL 862.40385 484.58393 \r\nL 867.383214 484.506648 \r\nL 872.362578 484.653076 \r\nL 877.341943 484.623552 \r\nL 882.321307 484.404088 \r\nL 882.321307 484.404088 \r\n\" style=\"fill:none;stroke:#e377c2;stroke-linecap:square;stroke-width:1.5;\"/>\r\n   </g>\r\n   <g id=\"line2d_23\">\r\n    <path clip-path=\"url(#p1bfb2f97cf)\" d=\"M 70.684943 484.636922 \r\nL 75.664307 484.3657 \r\nL 80.643672 483.826118 \r\nL 85.623036 482.944893 \r\nL 90.6024 481.017681 \r\nL 95.581764 475.568123 \r\nL 100.561128 479.038326 \r\nL 105.540493 478.48192 \r\nL 110.519857 478.311501 \r\nL 115.499221 478.570703 \r\nL 130.437314 478.542342 \r\nL 135.416678 478.238992 \r\nL 140.396042 478.110533 \r\nL 145.375406 478.099276 \r\nL 150.35477 478.527494 \r\nL 155.334134 477.728576 \r\nL 160.313499 478.236456 \r\nL 165.292863 476.661143 \r\nL 170.272227 477.112185 \r\nL 175.251591 476.972221 \r\nL 185.21032 477.078654 \r\nL 190.189684 476.847094 \r\nL 200.148412 476.642092 \r\nL 210.107141 477.278886 \r\nL 215.086505 476.540505 \r\nL 220.065869 477.274445 \r\nL 225.045233 475.669028 \r\nL 230.024597 476.316657 \r\nL 235.003962 475.956035 \r\nL 239.983326 476.281233 \r\nL 249.942054 476.016829 \r\nL 269.859511 476.930109 \r\nL 274.838875 475.993461 \r\nL 279.818239 476.242499 \r\nL 284.797604 475.782195 \r\nL 289.776968 476.049595 \r\nL 294.756332 476.063997 \r\nL 299.735696 476.382036 \r\nL 304.71506 476.234328 \r\nL 309.694424 475.555653 \r\nL 314.673789 476.127602 \r\nL 324.632517 475.958032 \r\nL 329.611881 476.214897 \r\nL 334.591245 475.518318 \r\nL 339.57061 476.300101 \r\nL 344.549974 475.242619 \r\nL 349.529338 475.40312 \r\nL 354.508702 474.576729 \r\nL 359.488066 475.600064 \r\nL 369.446795 474.954682 \r\nL 374.426159 475.676109 \r\nL 379.405523 475.813832 \r\nL 384.384887 476.490365 \r\nL 389.364252 476.818114 \r\nL 394.343616 474.000426 \r\nL 399.32298 475.613693 \r\nL 404.302344 474.525514 \r\nL 414.261073 474.112454 \r\nL 419.240437 474.551824 \r\nL 434.178529 474.16435 \r\nL 439.157894 473.680701 \r\nL 444.137258 474.51038 \r\nL 449.116622 474.872648 \r\nL 454.095986 473.873241 \r\nL 459.07535 474.603965 \r\nL 464.054715 473.518619 \r\nL 469.034079 473.658327 \r\nL 474.013443 473.566892 \r\nL 478.992807 474.224022 \r\nL 483.972171 473.564942 \r\nL 498.910264 473.573466 \r\nL 503.889628 474.100905 \r\nL 508.868992 474.956496 \r\nL 513.848356 474.167741 \r\nL 518.827721 474.945886 \r\nL 523.807085 472.754118 \r\nL 528.786449 472.999025 \r\nL 533.765813 472.864661 \r\nL 538.745177 473.93826 \r\nL 543.724542 473.171567 \r\nL 548.703906 473.209279 \r\nL 553.68327 473.616854 \r\nL 558.662634 473.4566 \r\nL 563.641998 474.392691 \r\nL 568.621363 474.741203 \r\nL 573.600727 473.955097 \r\nL 578.580091 474.193182 \r\nL 583.559455 473.219312 \r\nL 588.538819 473.444527 \r\nL 593.518184 472.966343 \r\nL 598.497548 473.430352 \r\nL 603.476912 473.664722 \r\nL 608.456276 472.901906 \r\nL 613.43564 473.542886 \r\nL 618.415005 473.939272 \r\nL 623.394369 474.617303 \r\nL 628.373733 475.57087 \r\nL 633.353097 473.691959 \r\nL 638.332461 474.216128 \r\nL 643.311826 472.501399 \r\nL 648.29119 473.620685 \r\nL 653.270554 472.364205 \r\nL 658.249918 473.094319 \r\nL 663.229282 472.595651 \r\nL 668.208646 472.22199 \r\nL 673.188011 473.113199 \r\nL 678.167375 472.486808 \r\nL 683.146739 472.769643 \r\nL 688.126103 473.198066 \r\nL 693.105467 472.186718 \r\nL 698.084832 473.50631 \r\nL 703.064196 471.988906 \r\nL 708.04356 471.564008 \r\nL 713.022924 471.82775 \r\nL 718.002288 472.610765 \r\nL 722.981653 471.602613 \r\nL 727.961017 471.589088 \r\nL 732.940381 471.958222 \r\nL 737.919745 471.517395 \r\nL 742.899109 472.70334 \r\nL 747.878474 472.889908 \r\nL 752.857838 471.879455 \r\nL 757.837202 472.970371 \r\nL 762.816566 471.81001 \r\nL 767.79593 471.744761 \r\nL 772.775295 470.833043 \r\nL 777.754659 472.018519 \r\nL 782.734023 471.394071 \r\nL 792.692751 471.25536 \r\nL 797.672116 471.860519 \r\nL 802.65148 471.484833 \r\nL 807.630844 471.998648 \r\nL 812.610208 471.243815 \r\nL 817.589572 472.429796 \r\nL 822.568936 472.204965 \r\nL 827.548301 474.281026 \r\nL 832.527665 469.876521 \r\nL 837.507029 469.422858 \r\nL 842.486393 470.238248 \r\nL 847.465757 470.786709 \r\nL 852.445122 471.097574 \r\nL 857.424486 470.050107 \r\nL 862.40385 470.900017 \r\nL 867.383214 471.551153 \r\nL 872.362578 473.320405 \r\nL 877.341943 474.836045 \r\nL 882.321307 477.392096 \r\nL 882.321307 477.392096 \r\n\" style=\"fill:none;stroke:#7f7f7f;stroke-linecap:square;stroke-width:1.5;\"/>\r\n   </g>\r\n   <g id=\"line2d_24\">\r\n    <path clip-path=\"url(#p1bfb2f97cf)\" d=\"M 70.684943 484.70742 \r\nL 75.664307 484.650573 \r\nL 80.643672 484.340065 \r\nL 85.623036 483.77114 \r\nL 90.6024 482.689831 \r\nL 95.581764 479.928161 \r\nL 100.561128 480.640998 \r\nL 105.540493 480.334005 \r\nL 110.519857 480.419803 \r\nL 115.499221 480.276611 \r\nL 125.457949 480.252647 \r\nL 130.437314 480.240719 \r\nL 135.416678 480.072755 \r\nL 140.396042 480.027581 \r\nL 150.35477 480.452453 \r\nL 155.334134 479.484051 \r\nL 160.313499 480.133486 \r\nL 165.292863 478.908885 \r\nL 170.272227 479.416089 \r\nL 175.251591 479.259342 \r\nL 180.230955 479.572362 \r\nL 185.21032 479.282053 \r\nL 190.189684 479.284504 \r\nL 195.169048 479.447548 \r\nL 205.127776 479.479778 \r\nL 210.107141 480.046934 \r\nL 215.086505 479.423037 \r\nL 220.065869 479.918457 \r\nL 225.045233 478.97242 \r\nL 230.024597 479.593227 \r\nL 235.003962 479.199102 \r\nL 239.983326 479.633874 \r\nL 244.96269 479.752202 \r\nL 249.942054 479.532922 \r\nL 254.921418 479.661868 \r\nL 259.900783 479.502247 \r\nL 264.880147 479.794926 \r\nL 269.859511 479.912167 \r\nL 274.838875 478.541938 \r\nL 279.818239 479.546691 \r\nL 284.797604 479.1517 \r\nL 289.776968 479.369884 \r\nL 294.756332 479.371261 \r\nL 299.735696 479.59197 \r\nL 304.71506 479.695232 \r\nL 314.673789 479.419406 \r\nL 319.653153 479.573367 \r\nL 324.632517 479.591579 \r\nL 329.611881 479.828195 \r\nL 334.591245 479.303164 \r\nL 339.57061 479.827181 \r\nL 344.549974 479.341793 \r\nL 349.529338 479.570053 \r\nL 354.508702 478.957068 \r\nL 359.488066 479.440598 \r\nL 364.467431 479.128799 \r\nL 369.446795 479.130263 \r\nL 374.426159 479.265995 \r\nL 379.405523 479.225711 \r\nL 384.384887 479.617909 \r\nL 389.364252 479.706156 \r\nL 394.343616 479.057389 \r\nL 399.32298 479.554098 \r\nL 404.302344 478.821775 \r\nL 409.281708 478.306973 \r\nL 414.261073 478.524359 \r\nL 419.240437 478.451424 \r\nL 429.199165 478.764548 \r\nL 434.178529 478.863653 \r\nL 439.157894 478.768392 \r\nL 449.116622 479.576661 \r\nL 454.095986 478.772306 \r\nL 459.07535 479.086146 \r\nL 464.054715 478.799858 \r\nL 469.034079 478.818741 \r\nL 474.013443 478.606673 \r\nL 478.992807 478.909134 \r\nL 483.972171 478.542867 \r\nL 488.951535 478.49598 \r\nL 503.889628 478.861105 \r\nL 508.868992 479.141537 \r\nL 513.848356 478.975965 \r\nL 518.827721 479.396914 \r\nL 523.807085 478.431626 \r\nL 543.724542 478.607519 \r\nL 548.703906 478.401276 \r\nL 558.662634 478.470302 \r\nL 568.621363 478.812187 \r\nL 573.600727 478.519495 \r\nL 578.580091 478.71283 \r\nL 583.559455 478.038397 \r\nL 588.538819 478.064983 \r\nL 593.518184 477.766597 \r\nL 603.476912 477.995912 \r\nL 608.456276 477.810718 \r\nL 618.415005 478.249669 \r\nL 628.373733 478.673652 \r\nL 633.353097 478.096626 \r\nL 638.332461 478.532218 \r\nL 643.311826 477.59586 \r\nL 648.29119 478.048845 \r\nL 653.270554 477.522564 \r\nL 658.249918 478.150371 \r\nL 663.229282 478.202514 \r\nL 668.208646 478.061931 \r\nL 673.188011 478.243488 \r\nL 678.167375 478.093975 \r\nL 683.146739 478.115777 \r\nL 688.126103 478.356814 \r\nL 693.105467 477.95553 \r\nL 698.084832 478.955391 \r\nL 703.064196 477.876361 \r\nL 708.04356 477.812381 \r\nL 713.022924 477.397986 \r\nL 718.002288 477.889799 \r\nL 727.961017 477.71082 \r\nL 732.940381 478.048641 \r\nL 737.919745 477.604293 \r\nL 742.899109 478.056414 \r\nL 747.878474 478.115904 \r\nL 752.857838 477.553733 \r\nL 757.837202 478.136142 \r\nL 762.816566 477.570495 \r\nL 767.79593 477.612767 \r\nL 772.775295 477.082698 \r\nL 777.754659 477.447491 \r\nL 787.713387 477.161002 \r\nL 792.692751 477.125477 \r\nL 797.672116 476.587256 \r\nL 802.65148 477.232688 \r\nL 807.630844 477.583875 \r\nL 812.610208 477.384015 \r\nL 822.568936 478.146064 \r\nL 827.548301 479.530768 \r\nL 837.507029 476.758874 \r\nL 842.486393 473.740401 \r\nL 847.465757 475.182232 \r\nL 852.445122 475.959989 \r\nL 862.40385 476.223488 \r\nL 872.362578 476.902471 \r\nL 877.341943 478.959601 \r\nL 882.321307 480.713634 \r\nL 882.321307 480.713634 \r\n\" style=\"fill:none;stroke:#bcbd22;stroke-linecap:square;stroke-width:1.5;\"/>\r\n   </g>\r\n   <g id=\"line2d_25\">\r\n    <path clip-path=\"url(#p1bfb2f97cf)\" d=\"M 70.684943 484.648672 \r\nL 75.664307 484.556789 \r\nL 80.643672 484.002921 \r\nL 85.623036 482.603266 \r\nL 90.6024 480.17554 \r\nL 95.581764 470.901077 \r\nL 100.561128 472.9581 \r\nL 105.540493 471.911785 \r\nL 110.519857 471.358713 \r\nL 115.499221 471.438541 \r\nL 120.478585 472.178029 \r\nL 125.457949 471.818672 \r\nL 130.437314 472.246215 \r\nL 140.396042 471.202257 \r\nL 145.375406 471.770142 \r\nL 150.35477 471.835291 \r\nL 155.334134 471.038724 \r\nL 160.313499 472.430169 \r\nL 165.292863 469.369564 \r\nL 175.251591 469.851495 \r\nL 180.230955 470.491895 \r\nL 185.21032 470.037539 \r\nL 190.189684 470.17889 \r\nL 195.169048 470.487179 \r\nL 200.148412 470.344599 \r\nL 205.127776 470.969092 \r\nL 210.107141 471.099403 \r\nL 215.086505 470.2337 \r\nL 220.065869 471.635297 \r\nL 225.045233 469.330787 \r\nL 230.024597 470.17474 \r\nL 235.003962 469.018322 \r\nL 239.983326 470.454604 \r\nL 244.96269 470.097241 \r\nL 249.942054 469.57737 \r\nL 254.921418 470.219904 \r\nL 259.900783 470.19507 \r\nL 264.880147 470.745367 \r\nL 269.859511 470.573516 \r\nL 274.838875 469.961284 \r\nL 279.818239 469.956307 \r\nL 284.797604 468.667247 \r\nL 289.776968 469.513285 \r\nL 294.756332 468.837757 \r\nL 299.735696 469.434475 \r\nL 304.71506 469.729728 \r\nL 309.694424 468.792926 \r\nL 314.673789 469.703655 \r\nL 319.653153 468.971472 \r\nL 324.632517 469.890609 \r\nL 329.611881 470.629727 \r\nL 334.591245 469.336132 \r\nL 339.57061 471.030342 \r\nL 344.549974 469.235528 \r\nL 349.529338 468.634053 \r\nL 354.508702 468.236907 \r\nL 359.488066 469.521951 \r\nL 364.467431 469.405567 \r\nL 369.446795 468.815717 \r\nL 374.426159 469.870285 \r\nL 379.405523 468.964567 \r\nL 384.384887 470.056076 \r\nL 389.364252 470.807798 \r\nL 394.343616 468.371155 \r\nL 399.32298 469.501482 \r\nL 404.302344 468.60041 \r\nL 409.281708 466.880855 \r\nL 414.261073 466.347243 \r\nL 419.240437 468.437577 \r\nL 424.219801 467.192035 \r\nL 429.199165 466.581763 \r\nL 434.178529 466.595722 \r\nL 439.157894 466.77162 \r\nL 444.137258 467.747631 \r\nL 449.116622 468.182682 \r\nL 454.095986 466.204457 \r\nL 459.07535 467.505042 \r\nL 464.054715 466.380539 \r\nL 469.034079 466.167904 \r\nL 474.013443 465.360459 \r\nL 478.992807 466.130415 \r\nL 483.972171 465.754881 \r\nL 488.951535 466.140788 \r\nL 493.9309 466.367867 \r\nL 498.910264 466.141703 \r\nL 503.889628 467.147497 \r\nL 508.868992 467.083557 \r\nL 513.848356 467.238038 \r\nL 518.827721 467.860096 \r\nL 523.807085 465.432746 \r\nL 533.765813 466.333616 \r\nL 538.745177 465.727767 \r\nL 543.724542 465.464828 \r\nL 548.703906 464.766032 \r\nL 553.68327 465.893043 \r\nL 558.662634 465.138099 \r\nL 563.641998 466.378345 \r\nL 568.621363 466.995953 \r\nL 573.600727 466.143966 \r\nL 578.580091 467.189565 \r\nL 583.559455 465.224917 \r\nL 588.538819 465.923794 \r\nL 593.518184 464.363816 \r\nL 598.497548 464.410649 \r\nL 603.476912 464.998699 \r\nL 608.456276 464.257818 \r\nL 613.43564 465.40439 \r\nL 618.415005 466.159091 \r\nL 623.394369 466.048805 \r\nL 628.373733 466.710537 \r\nL 633.353097 465.758484 \r\nL 638.332461 467.228041 \r\nL 643.311826 464.050343 \r\nL 648.29119 465.762034 \r\nL 653.270554 464.33924 \r\nL 663.229282 464.316996 \r\nL 668.208646 464.040993 \r\nL 673.188011 465.131018 \r\nL 678.167375 463.735726 \r\nL 683.146739 465.62893 \r\nL 688.126103 465.756047 \r\nL 693.105467 463.984971 \r\nL 698.084832 466.75533 \r\nL 703.064196 463.963131 \r\nL 708.04356 463.034083 \r\nL 713.022924 462.522955 \r\nL 718.002288 464.490325 \r\nL 722.981653 464.271919 \r\nL 727.961017 462.789512 \r\nL 732.940381 464.853 \r\nL 737.919745 462.425063 \r\nL 742.899109 464.357056 \r\nL 747.878474 465.438149 \r\nL 752.857838 462.821052 \r\nL 757.837202 464.435856 \r\nL 762.816566 463.098865 \r\nL 767.79593 462.378299 \r\nL 772.775295 461.073313 \r\nL 777.754659 463.380244 \r\nL 782.734023 461.519754 \r\nL 787.713387 462.66263 \r\nL 792.692751 462.629122 \r\nL 797.672116 461.685829 \r\nL 802.65148 463.286938 \r\nL 807.630844 464.043164 \r\nL 812.610208 462.033324 \r\nL 817.589572 463.707343 \r\nL 822.568936 464.785426 \r\nL 827.548301 465.540263 \r\nL 832.527665 459.457779 \r\nL 837.507029 460.283299 \r\nL 842.486393 459.759459 \r\nL 847.465757 461.186344 \r\nL 852.445122 461.739349 \r\nL 857.424486 461.374236 \r\nL 862.40385 461.654173 \r\nL 867.383214 463.26291 \r\nL 872.362578 466.059919 \r\nL 877.341943 471.868262 \r\nL 882.321307 477.444092 \r\nL 882.321307 477.444092 \r\n\" style=\"fill:none;stroke:#17becf;stroke-linecap:square;stroke-width:1.5;\"/>\r\n   </g>\r\n   <g id=\"line2d_26\">\r\n    <path clip-path=\"url(#p1bfb2f97cf)\" d=\"M 70.684943 484.744346 \r\nL 75.664307 484.685441 \r\nL 80.643672 484.508664 \r\nL 85.623036 484.075433 \r\nL 90.6024 482.775077 \r\nL 95.581764 479.761714 \r\nL 100.561128 480.898745 \r\nL 110.519857 480.104335 \r\nL 115.499221 480.074927 \r\nL 120.478585 480.324405 \r\nL 125.457949 480.038002 \r\nL 130.437314 480.1692 \r\nL 135.416678 479.978177 \r\nL 140.396042 480.272308 \r\nL 145.375406 480.446891 \r\nL 150.35477 480.194646 \r\nL 155.334134 480.405776 \r\nL 160.313499 480.208409 \r\nL 165.292863 479.532779 \r\nL 170.272227 479.814771 \r\nL 175.251591 479.490234 \r\nL 180.230955 479.390921 \r\nL 185.21032 479.157431 \r\nL 190.189684 479.341644 \r\nL 195.169048 479.043551 \r\nL 200.148412 479.006718 \r\nL 205.127776 479.166376 \r\nL 210.107141 479.449272 \r\nL 215.086505 479.348084 \r\nL 220.065869 479.852508 \r\nL 225.045233 478.305722 \r\nL 230.024597 478.953896 \r\nL 235.003962 478.699949 \r\nL 239.983326 479.42412 \r\nL 249.942054 478.736387 \r\nL 254.921418 478.828981 \r\nL 259.900783 479.115536 \r\nL 264.880147 479.029395 \r\nL 269.859511 479.322535 \r\nL 274.838875 479.434774 \r\nL 284.797604 478.379786 \r\nL 289.776968 478.810237 \r\nL 294.756332 478.238114 \r\nL 299.735696 478.514449 \r\nL 309.694424 478.335833 \r\nL 314.673789 478.51938 \r\nL 324.632517 478.718511 \r\nL 329.611881 479.431938 \r\nL 334.591245 478.825419 \r\nL 339.57061 478.918683 \r\nL 344.549974 477.962909 \r\nL 349.529338 478.767287 \r\nL 354.508702 478.257391 \r\nL 359.488066 478.615634 \r\nL 364.467431 477.846344 \r\nL 369.446795 478.113824 \r\nL 374.426159 479.562214 \r\nL 379.405523 478.460927 \r\nL 384.384887 478.746953 \r\nL 389.364252 479.28416 \r\nL 394.343616 478.478963 \r\nL 399.32298 478.992377 \r\nL 404.302344 478.015968 \r\nL 409.281708 477.329749 \r\nL 414.261073 477.62575 \r\nL 419.240437 478.143176 \r\nL 424.219801 477.568199 \r\nL 429.199165 477.887373 \r\nL 439.157894 477.877507 \r\nL 444.137258 478.623902 \r\nL 449.116622 478.753267 \r\nL 454.095986 478.591143 \r\nL 459.07535 478.183847 \r\nL 464.054715 478.103908 \r\nL 474.013443 477.060141 \r\nL 478.992807 477.846266 \r\nL 483.972171 477.134386 \r\nL 488.951535 477.843723 \r\nL 493.9309 477.807223 \r\nL 498.910264 477.484725 \r\nL 508.868992 478.006694 \r\nL 513.848356 478.017497 \r\nL 518.827721 478.471518 \r\nL 523.807085 476.815807 \r\nL 528.786449 477.319504 \r\nL 533.765813 476.895973 \r\nL 538.745177 477.18218 \r\nL 543.724542 476.574073 \r\nL 548.703906 476.881733 \r\nL 553.68327 476.993004 \r\nL 558.662634 476.977219 \r\nL 563.641998 477.553681 \r\nL 568.621363 477.671406 \r\nL 573.600727 477.490688 \r\nL 578.580091 477.677741 \r\nL 583.559455 476.864594 \r\nL 588.538819 476.909128 \r\nL 593.518184 476.237228 \r\nL 598.497548 477.005603 \r\nL 603.476912 477.258222 \r\nL 608.456276 477.709673 \r\nL 613.43564 478.944055 \r\nL 618.415005 476.626012 \r\nL 623.394369 477.610174 \r\nL 628.373733 477.414769 \r\nL 633.353097 477.107267 \r\nL 638.332461 477.887825 \r\nL 643.311826 476.504439 \r\nL 648.29119 476.988778 \r\nL 653.270554 476.135472 \r\nL 658.249918 476.720734 \r\nL 663.229282 476.761407 \r\nL 668.208646 476.220499 \r\nL 673.188011 476.862202 \r\nL 678.167375 477.037306 \r\nL 688.126103 477.039156 \r\nL 693.105467 476.641888 \r\nL 698.084832 476.980982 \r\nL 703.064196 475.816375 \r\nL 708.04356 475.925528 \r\nL 713.022924 475.379491 \r\nL 718.002288 475.843102 \r\nL 722.981653 475.571009 \r\nL 727.961017 475.104223 \r\nL 732.940381 476.264476 \r\nL 737.919745 475.2514 \r\nL 742.899109 476.042134 \r\nL 747.878474 476.497407 \r\nL 752.857838 475.735315 \r\nL 757.837202 475.902607 \r\nL 762.816566 475.472314 \r\nL 767.79593 475.287495 \r\nL 772.775295 474.596459 \r\nL 777.754659 475.541573 \r\nL 782.734023 475.31711 \r\nL 787.713387 474.916039 \r\nL 792.692751 474.759464 \r\nL 797.672116 474.910613 \r\nL 802.65148 476.080919 \r\nL 807.630844 476.172829 \r\nL 812.610208 475.288142 \r\nL 817.589572 476.010915 \r\nL 822.568936 475.83021 \r\nL 827.548301 477.208905 \r\nL 837.507029 474.935658 \r\nL 842.486393 472.544727 \r\nL 847.465757 473.781576 \r\nL 852.445122 474.04839 \r\nL 857.424486 473.980099 \r\nL 862.40385 474.385016 \r\nL 867.383214 473.114696 \r\nL 872.362578 474.849858 \r\nL 877.341943 477.009728 \r\nL 882.321307 481.060124 \r\nL 882.321307 481.060124 \r\n\" style=\"fill:none;stroke:#1f77b4;stroke-linecap:square;stroke-width:1.5;\"/>\r\n   </g>\r\n   <g id=\"line2d_27\">\r\n    <path clip-path=\"url(#p1bfb2f97cf)\" d=\"M 70.684943 484.760307 \r\nL 75.664307 484.644291 \r\nL 80.643672 484.372668 \r\nL 85.623036 483.880894 \r\nL 90.6024 482.467718 \r\nL 95.581764 477.690088 \r\nL 100.561128 480.144029 \r\nL 105.540493 479.511128 \r\nL 115.499221 479.121383 \r\nL 120.478585 479.554862 \r\nL 125.457949 479.193178 \r\nL 130.437314 479.371874 \r\nL 140.396042 479.348785 \r\nL 145.375406 479.464288 \r\nL 150.35477 479.46595 \r\nL 155.334134 479.031974 \r\nL 160.313499 479.437123 \r\nL 165.292863 477.752005 \r\nL 170.272227 478.122468 \r\nL 175.251591 477.729474 \r\nL 180.230955 478.384527 \r\nL 185.21032 477.804377 \r\nL 195.169048 478.019961 \r\nL 200.148412 477.486843 \r\nL 205.127776 478.067396 \r\nL 210.107141 478.527737 \r\nL 215.086505 478.266552 \r\nL 220.065869 478.795632 \r\nL 225.045233 477.680203 \r\nL 230.024597 477.858641 \r\nL 235.003962 477.505257 \r\nL 239.983326 478.304661 \r\nL 244.96269 477.707935 \r\nL 249.942054 477.783328 \r\nL 254.921418 478.120189 \r\nL 264.880147 478.12469 \r\nL 269.859511 478.514292 \r\nL 274.838875 478.416033 \r\nL 284.797604 477.76897 \r\nL 289.776968 478.365783 \r\nL 294.756332 478.099318 \r\nL 299.735696 478.489692 \r\nL 304.71506 478.515816 \r\nL 309.694424 478.102151 \r\nL 324.632517 478.37957 \r\nL 329.611881 478.774296 \r\nL 334.591245 478.588931 \r\nL 339.57061 478.895384 \r\nL 344.549974 478.182945 \r\nL 349.529338 478.430026 \r\nL 354.508702 477.68016 \r\nL 359.488066 478.416884 \r\nL 364.467431 477.921673 \r\nL 369.446795 477.85289 \r\nL 374.426159 478.214607 \r\nL 384.384887 478.319911 \r\nL 389.364252 478.800417 \r\nL 394.343616 478.137749 \r\nL 399.32298 478.49837 \r\nL 404.302344 477.767536 \r\nL 409.281708 477.384944 \r\nL 414.261073 477.312808 \r\nL 419.240437 477.991518 \r\nL 424.219801 477.404911 \r\nL 434.178529 477.741962 \r\nL 439.157894 477.706635 \r\nL 444.137258 478.075449 \r\nL 449.116622 478.289808 \r\nL 454.095986 477.788533 \r\nL 459.07535 478.210814 \r\nL 464.054715 477.803636 \r\nL 474.013443 477.365217 \r\nL 478.992807 477.885866 \r\nL 483.972171 477.467468 \r\nL 488.951535 477.725115 \r\nL 493.9309 477.609339 \r\nL 498.910264 477.63182 \r\nL 503.889628 477.931213 \r\nL 508.868992 478.469327 \r\nL 513.848356 478.204276 \r\nL 518.827721 479.006866 \r\nL 523.807085 477.539218 \r\nL 528.786449 477.749039 \r\nL 533.765813 477.5551 \r\nL 538.745177 478.024693 \r\nL 543.724542 477.483434 \r\nL 548.703906 477.490158 \r\nL 563.641998 477.985453 \r\nL 568.621363 478.634725 \r\nL 573.600727 478.323042 \r\nL 578.580091 478.559356 \r\nL 583.559455 477.649531 \r\nL 588.538819 477.717467 \r\nL 593.518184 477.221738 \r\nL 598.497548 478.040831 \r\nL 603.476912 477.936217 \r\nL 608.456276 477.591824 \r\nL 618.415005 478.190992 \r\nL 623.394369 478.344523 \r\nL 628.373733 478.628532 \r\nL 633.353097 478.241875 \r\nL 638.332461 478.654232 \r\nL 643.311826 476.812273 \r\nL 648.29119 477.642391 \r\nL 653.270554 476.757909 \r\nL 658.249918 477.331306 \r\nL 663.229282 477.09188 \r\nL 668.208646 476.510681 \r\nL 673.188011 476.812918 \r\nL 683.146739 477.096012 \r\nL 688.126103 477.780356 \r\nL 693.105467 477.146383 \r\nL 698.084832 477.590995 \r\nL 703.064196 476.807112 \r\nL 708.04356 476.734141 \r\nL 713.022924 476.43138 \r\nL 718.002288 476.803285 \r\nL 722.981653 476.641284 \r\nL 727.961017 476.280448 \r\nL 732.940381 476.986547 \r\nL 737.919745 476.690057 \r\nL 742.899109 476.939264 \r\nL 747.878474 477.322144 \r\nL 752.857838 476.908418 \r\nL 757.837202 476.987721 \r\nL 772.775295 475.976223 \r\nL 777.754659 476.825518 \r\nL 782.734023 476.038266 \r\nL 792.692751 476.54937 \r\nL 797.672116 476.131182 \r\nL 807.630844 477.359608 \r\nL 812.610208 476.869124 \r\nL 817.589572 477.382639 \r\nL 822.568936 477.237 \r\nL 827.548301 478.118719 \r\nL 832.527665 476.394649 \r\nL 837.507029 475.089447 \r\nL 842.486393 475.336348 \r\nL 847.465757 476.513072 \r\nL 852.445122 477.21288 \r\nL 857.424486 477.335222 \r\nL 862.40385 477.175665 \r\nL 867.383214 476.080721 \r\nL 872.362578 476.169066 \r\nL 877.341943 477.519782 \r\nL 882.321307 479.438661 \r\nL 882.321307 479.438661 \r\n\" style=\"fill:none;stroke:#ff7f0e;stroke-linecap:square;stroke-width:1.5;\"/>\r\n   </g>\r\n   <g id=\"line2d_28\">\r\n    <path clip-path=\"url(#p1bfb2f97cf)\" d=\"M 70.684943 484.630362 \r\nL 75.664307 484.335713 \r\nL 80.643672 483.527984 \r\nL 85.623036 481.931442 \r\nL 90.6024 477.552971 \r\nL 95.581764 462.838885 \r\nL 100.561128 473.567032 \r\nL 105.540493 471.641433 \r\nL 110.519857 471.695859 \r\nL 115.499221 471.339917 \r\nL 120.478585 472.399306 \r\nL 125.457949 471.526112 \r\nL 130.437314 471.217719 \r\nL 135.416678 471.646781 \r\nL 140.396042 471.44918 \r\nL 145.375406 471.567365 \r\nL 150.35477 472.051429 \r\nL 155.334134 459.582854 \r\nL 160.313499 471.930944 \r\nL 165.292863 468.923404 \r\nL 170.272227 469.876694 \r\nL 175.251591 469.329456 \r\nL 180.230955 469.997912 \r\nL 185.21032 469.674859 \r\nL 190.189684 468.880787 \r\nL 195.169048 469.433266 \r\nL 200.148412 469.061299 \r\nL 205.127776 470.140222 \r\nL 210.107141 470.685851 \r\nL 215.086505 450.623042 \r\nL 220.065869 471.01679 \r\nL 225.045233 467.789752 \r\nL 230.024597 468.546651 \r\nL 235.003962 465.582262 \r\nL 239.983326 469.262271 \r\nL 244.96269 469.40735 \r\nL 249.942054 467.61411 \r\nL 254.921418 468.435958 \r\nL 259.900783 467.911804 \r\nL 264.880147 468.587915 \r\nL 269.859511 468.463059 \r\nL 274.838875 467.159923 \r\nL 279.818239 468.501545 \r\nL 284.797604 466.743508 \r\nL 289.776968 467.097342 \r\nL 294.756332 466.157905 \r\nL 299.735696 467.422507 \r\nL 304.71506 466.210583 \r\nL 309.694424 465.209168 \r\nL 314.673789 467.272702 \r\nL 319.653153 466.439547 \r\nL 324.632517 466.594022 \r\nL 329.611881 467.6086 \r\nL 334.591245 466.532394 \r\nL 339.57061 467.715326 \r\nL 344.549974 465.183909 \r\nL 349.529338 466.127812 \r\nL 354.508702 464.245862 \r\nL 359.488066 466.318959 \r\nL 364.467431 464.762311 \r\nL 369.446795 463.705842 \r\nL 374.426159 465.680748 \r\nL 379.405523 464.523723 \r\nL 384.384887 465.655775 \r\nL 389.364252 466.312848 \r\nL 394.343616 463.086542 \r\nL 399.32298 466.082273 \r\nL 404.302344 463.06631 \r\nL 409.281708 462.429047 \r\nL 414.261073 460.89231 \r\nL 419.240437 462.43141 \r\nL 424.219801 461.485961 \r\nL 429.199165 460.202322 \r\nL 434.178529 460.303191 \r\nL 439.157894 460.022721 \r\nL 444.137258 461.575937 \r\nL 449.116622 462.337656 \r\nL 454.095986 460.632755 \r\nL 459.07535 461.764984 \r\nL 464.054715 460.40411 \r\nL 469.034079 460.59742 \r\nL 474.013443 458.777855 \r\nL 478.992807 460.437134 \r\nL 483.972171 458.685959 \r\nL 488.951535 458.294073 \r\nL 493.9309 457.604802 \r\nL 498.910264 458.622854 \r\nL 503.889628 460.243356 \r\nL 508.868992 460.842189 \r\nL 513.848356 459.749314 \r\nL 518.827721 461.653729 \r\nL 523.807085 457.404113 \r\nL 528.786449 458.648372 \r\nL 533.765813 456.762908 \r\nL 538.745177 458.93487 \r\nL 543.724542 458.169124 \r\nL 548.703906 458.757357 \r\nL 553.68327 460.269475 \r\nL 558.662634 459.113724 \r\nL 563.641998 460.59271 \r\nL 568.621363 461.469624 \r\nL 573.600727 460.0658 \r\nL 578.580091 460.986817 \r\nL 583.559455 458.224008 \r\nL 588.538819 459.471826 \r\nL 593.518184 458.2835 \r\nL 598.497548 458.485083 \r\nL 603.476912 458.826563 \r\nL 608.456276 456.948675 \r\nL 613.43564 459.207034 \r\nL 618.415005 458.880966 \r\nL 623.394369 459.302694 \r\nL 628.373733 459.34006 \r\nL 633.353097 458.349212 \r\nL 638.332461 460.66647 \r\nL 643.311826 456.16075 \r\nL 648.29119 457.546241 \r\nL 653.270554 454.779646 \r\nL 658.249918 456.55344 \r\nL 663.229282 456.229911 \r\nL 668.208646 454.202539 \r\nL 673.188011 457.389658 \r\nL 678.167375 455.163309 \r\nL 683.146739 457.740193 \r\nL 688.126103 458.455008 \r\nL 693.105467 456.187949 \r\nL 698.084832 459.400386 \r\nL 703.064196 456.519649 \r\nL 708.04356 455.731839 \r\nL 713.022924 454.291837 \r\nL 718.002288 456.126984 \r\nL 722.981653 455.768358 \r\nL 727.961017 453.956425 \r\nL 732.940381 457.476301 \r\nL 737.919745 455.161186 \r\nL 742.899109 457.118333 \r\nL 747.878474 458.208597 \r\nL 752.857838 455.831904 \r\nL 757.837202 458.039996 \r\nL 762.816566 456.963951 \r\nL 767.79593 456.479775 \r\nL 772.775295 453.557678 \r\nL 777.754659 456.255304 \r\nL 782.734023 454.24235 \r\nL 787.713387 454.066362 \r\nL 792.692751 454.408138 \r\nL 797.672116 454.180201 \r\nL 802.65148 455.474683 \r\nL 807.630844 457.011001 \r\nL 812.610208 454.964315 \r\nL 817.589572 457.993304 \r\nL 822.568936 459.232986 \r\nL 827.548301 461.515932 \r\nL 832.527665 456.357176 \r\nL 837.507029 454.299242 \r\nL 847.465757 452.200409 \r\nL 852.445122 453.111571 \r\nL 857.424486 453.800292 \r\nL 862.40385 454.034293 \r\nL 867.383214 451.435132 \r\nL 872.362578 451.892355 \r\nL 877.341943 458.12665 \r\nL 882.321307 467.889718 \r\nL 882.321307 467.889718 \r\n\" style=\"fill:none;stroke:#2ca02c;stroke-linecap:square;stroke-width:1.5;\"/>\r\n   </g>\r\n   <g id=\"line2d_29\">\r\n    <path clip-path=\"url(#p1bfb2f97cf)\" d=\"M 70.684943 484.757354 \r\nL 75.664307 484.727456 \r\nL 85.623036 484.319836 \r\nL 90.6024 483.703045 \r\nL 95.581764 477.703062 \r\nL 100.561128 481.326295 \r\nL 110.519857 480.31751 \r\nL 115.499221 480.584264 \r\nL 120.478585 480.389161 \r\nL 125.457949 480.780777 \r\nL 135.416678 480.848147 \r\nL 145.375406 480.698043 \r\nL 150.35477 480.791143 \r\nL 155.334134 480.465245 \r\nL 160.313499 480.948241 \r\nL 165.292863 479.64299 \r\nL 180.230955 480.107962 \r\nL 190.189684 479.782598 \r\nL 195.169048 479.77536 \r\nL 200.148412 479.639093 \r\nL 205.127776 479.705136 \r\nL 210.107141 480.082111 \r\nL 215.086505 480.003069 \r\nL 220.065869 480.413108 \r\nL 225.045233 479.147285 \r\nL 230.024597 479.427741 \r\nL 235.003962 479.152117 \r\nL 239.983326 479.847158 \r\nL 244.96269 479.789757 \r\nL 249.942054 479.365053 \r\nL 254.921418 479.517623 \r\nL 264.880147 479.616214 \r\nL 269.859511 480.100824 \r\nL 274.838875 480.064765 \r\nL 279.818239 479.734916 \r\nL 284.797604 479.155601 \r\nL 289.776968 479.54905 \r\nL 294.756332 478.833832 \r\nL 304.71506 479.495737 \r\nL 309.694424 479.015509 \r\nL 314.673789 479.553026 \r\nL 319.653153 479.44165 \r\nL 329.611881 480.066186 \r\nL 334.591245 479.595781 \r\nL 339.57061 479.859339 \r\nL 344.549974 479.2236 \r\nL 349.529338 479.751181 \r\nL 354.508702 479.206618 \r\nL 359.488066 479.615 \r\nL 364.467431 479.295028 \r\nL 369.446795 479.364277 \r\nL 374.426159 479.59944 \r\nL 379.405523 479.291883 \r\nL 389.364252 479.798692 \r\nL 394.343616 479.339807 \r\nL 399.32298 479.858197 \r\nL 404.302344 478.833709 \r\nL 414.261073 478.442403 \r\nL 419.240437 478.5037 \r\nL 424.219801 478.183766 \r\nL 429.199165 478.707552 \r\nL 439.157894 478.359472 \r\nL 449.116622 479.627688 \r\nL 454.095986 476.261443 \r\nL 459.07535 479.520712 \r\nL 464.054715 478.955524 \r\nL 469.034079 479.06031 \r\nL 474.013443 478.633409 \r\nL 478.992807 478.936654 \r\nL 483.972171 478.442241 \r\nL 488.951535 478.597387 \r\nL 493.9309 478.184097 \r\nL 498.910264 478.21872 \r\nL 508.868992 479.070621 \r\nL 513.848356 479.114332 \r\nL 518.827721 479.574968 \r\nL 523.807085 477.711782 \r\nL 528.786449 478.428964 \r\nL 533.765813 478.25813 \r\nL 538.745177 478.376489 \r\nL 543.724542 478.250434 \r\nL 548.703906 478.550707 \r\nL 553.68327 478.714996 \r\nL 558.662634 478.436824 \r\nL 568.621363 478.920748 \r\nL 573.600727 478.948358 \r\nL 578.580091 479.229525 \r\nL 583.559455 478.102274 \r\nL 588.538819 478.517903 \r\nL 593.518184 478.063085 \r\nL 598.497548 478.33742 \r\nL 608.456276 477.807218 \r\nL 613.43564 478.708194 \r\nL 618.415005 478.462337 \r\nL 628.373733 479.221118 \r\nL 633.353097 478.37685 \r\nL 638.332461 479.089048 \r\nL 643.311826 477.847082 \r\nL 648.29119 478.26376 \r\nL 653.270554 477.631899 \r\nL 658.249918 478.157462 \r\nL 663.229282 477.743161 \r\nL 668.208646 477.5212 \r\nL 673.188011 477.929643 \r\nL 678.167375 477.763291 \r\nL 683.146739 477.749287 \r\nL 688.126103 478.345528 \r\nL 693.105467 477.767463 \r\nL 698.084832 478.757251 \r\nL 703.064196 477.393267 \r\nL 708.04356 477.056831 \r\nL 713.022924 477.007635 \r\nL 718.002288 477.688969 \r\nL 722.981653 477.082197 \r\nL 727.961017 476.995029 \r\nL 732.940381 477.829532 \r\nL 737.919745 476.923932 \r\nL 742.899109 477.850091 \r\nL 747.878474 478.493764 \r\nL 752.857838 477.063818 \r\nL 757.837202 477.759437 \r\nL 762.816566 477.782479 \r\nL 767.79593 477.532282 \r\nL 772.775295 476.917679 \r\nL 777.754659 477.657073 \r\nL 782.734023 477.076876 \r\nL 792.692751 477.305869 \r\nL 797.672116 476.919303 \r\nL 802.65148 477.759137 \r\nL 807.630844 477.949127 \r\nL 812.610208 477.361677 \r\nL 817.589572 478.249331 \r\nL 822.568936 477.901107 \r\nL 827.548301 478.46979 \r\nL 832.527665 477.409421 \r\nL 837.507029 476.918279 \r\nL 842.486393 476.867306 \r\nL 847.465757 477.644231 \r\nL 852.445122 477.431957 \r\nL 862.40385 476.72239 \r\nL 867.383214 477.320049 \r\nL 872.362578 477.733885 \r\nL 877.341943 479.320974 \r\nL 882.321307 481.296874 \r\nL 882.321307 481.296874 \r\n\" style=\"fill:none;stroke:#d62728;stroke-linecap:square;stroke-width:1.5;\"/>\r\n   </g>\r\n   <g id=\"line2d_30\">\r\n    <path clip-path=\"url(#p1bfb2f97cf)\" d=\"M 70.684943 484.790256 \r\nL 80.643672 484.749338 \r\nL 85.623036 484.469663 \r\nL 90.6024 483.617127 \r\nL 95.581764 482.471228 \r\nL 100.561128 482.815335 \r\nL 110.519857 482.545794 \r\nL 115.499221 482.502458 \r\nL 120.478585 482.667867 \r\nL 125.457949 482.690238 \r\nL 130.437314 482.855438 \r\nL 150.35477 482.971389 \r\nL 155.334134 482.643866 \r\nL 160.313499 482.666933 \r\nL 165.292863 482.014976 \r\nL 170.272227 482.328661 \r\nL 175.251591 482.18344 \r\nL 180.230955 482.321307 \r\nL 185.21032 482.178726 \r\nL 200.148412 482.294484 \r\nL 205.127776 482.349974 \r\nL 210.107141 482.57358 \r\nL 215.086505 482.119447 \r\nL 220.065869 482.336673 \r\nL 225.045233 481.778276 \r\nL 230.024597 481.906405 \r\nL 235.003962 481.609016 \r\nL 239.983326 482.249109 \r\nL 244.96269 481.948402 \r\nL 249.942054 481.776475 \r\nL 269.859511 482.053631 \r\nL 274.838875 481.816446 \r\nL 279.818239 482.18067 \r\nL 284.797604 481.935022 \r\nL 294.756332 481.67262 \r\nL 299.735696 481.986571 \r\nL 309.694424 481.798228 \r\nL 314.673789 482.129802 \r\nL 319.653153 481.955798 \r\nL 324.632517 482.020951 \r\nL 334.591245 481.711626 \r\nL 339.57061 481.935959 \r\nL 344.549974 481.69945 \r\nL 349.529338 481.906 \r\nL 354.508702 481.514578 \r\nL 359.488066 481.78838 \r\nL 364.467431 481.944173 \r\nL 369.446795 481.810786 \r\nL 374.426159 481.924211 \r\nL 379.405523 481.673312 \r\nL 384.384887 482.018782 \r\nL 389.364252 482.080485 \r\nL 394.343616 481.713733 \r\nL 399.32298 482.096795 \r\nL 404.302344 481.651 \r\nL 409.281708 481.556765 \r\nL 419.240437 481.765315 \r\nL 424.219801 481.80799 \r\nL 429.199165 481.698776 \r\nL 434.178529 481.758944 \r\nL 439.157894 481.580674 \r\nL 444.137258 481.920689 \r\nL 449.116622 481.991393 \r\nL 454.095986 481.601934 \r\nL 459.07535 481.958291 \r\nL 469.034079 481.726597 \r\nL 474.013443 481.606982 \r\nL 478.992807 481.916911 \r\nL 483.972171 481.943667 \r\nL 488.951535 481.807335 \r\nL 493.9309 481.326098 \r\nL 498.910264 481.550018 \r\nL 503.889628 481.549846 \r\nL 508.868992 481.975907 \r\nL 513.848356 481.441604 \r\nL 518.827721 481.71845 \r\nL 523.807085 481.200717 \r\nL 533.765813 481.004953 \r\nL 538.745177 481.522943 \r\nL 543.724542 481.114638 \r\nL 553.68327 480.977718 \r\nL 563.641998 481.214061 \r\nL 568.621363 481.898959 \r\nL 583.559455 480.838792 \r\nL 588.538819 481.049136 \r\nL 598.497548 480.905229 \r\nL 603.476912 480.936478 \r\nL 608.456276 481.595315 \r\nL 613.43564 480.86538 \r\nL 623.394369 481.583908 \r\nL 628.373733 481.647344 \r\nL 633.353097 481.255872 \r\nL 638.332461 481.438155 \r\nL 643.311826 481.131602 \r\nL 648.29119 481.15761 \r\nL 653.270554 480.908747 \r\nL 658.249918 481.087884 \r\nL 663.229282 480.936641 \r\nL 668.208646 480.96054 \r\nL 673.188011 481.175355 \r\nL 678.167375 481.083316 \r\nL 683.146739 481.554757 \r\nL 688.126103 481.652489 \r\nL 693.105467 480.811576 \r\nL 698.084832 481.452453 \r\nL 703.064196 480.589645 \r\nL 708.04356 481.096135 \r\nL 713.022924 480.891369 \r\nL 722.981653 480.934765 \r\nL 727.961017 480.700775 \r\nL 732.940381 480.934044 \r\nL 737.919745 480.474924 \r\nL 742.899109 480.972035 \r\nL 747.878474 480.994938 \r\nL 752.857838 480.492669 \r\nL 757.837202 480.746544 \r\nL 762.816566 480.750599 \r\nL 772.775295 480.021808 \r\nL 777.754659 480.595113 \r\nL 782.734023 480.455512 \r\nL 787.713387 480.485212 \r\nL 792.692751 480.671276 \r\nL 797.672116 480.525863 \r\nL 802.65148 480.824911 \r\nL 807.630844 480.8428 \r\nL 812.610208 480.677299 \r\nL 817.589572 480.865991 \r\nL 822.568936 480.848785 \r\nL 827.548301 481.065372 \r\nL 832.527665 480.766153 \r\nL 847.465757 479.474563 \r\nL 852.445122 479.879656 \r\nL 857.424486 479.415488 \r\nL 867.383214 480.08989 \r\nL 872.362578 481.73868 \r\nL 877.341943 483.032564 \r\nL 882.321307 483.481913 \r\nL 882.321307 483.481913 \r\n\" style=\"fill:none;stroke:#9467bd;stroke-linecap:square;stroke-width:1.5;\"/>\r\n   </g>\r\n   <g id=\"line2d_31\">\r\n    <path clip-path=\"url(#p1bfb2f97cf)\" d=\"M 70.684943 484.744114 \r\nL 75.664307 484.60992 \r\nL 80.643672 484.209877 \r\nL 85.623036 483.367216 \r\nL 90.6024 479.682414 \r\nL 95.581764 453.118678 \r\nL 100.561128 470.487276 \r\nL 105.540493 467.099674 \r\nL 110.519857 466.45257 \r\nL 115.499221 466.769939 \r\nL 120.478585 467.702353 \r\nL 125.457949 460.095337 \r\nL 130.437314 466.269384 \r\nL 135.416678 466.442169 \r\nL 140.396042 466.235951 \r\nL 145.375406 467.258102 \r\nL 150.35477 467.053409 \r\nL 155.334134 466.011432 \r\nL 160.313499 467.194773 \r\nL 165.292863 462.746459 \r\nL 170.272227 463.550415 \r\nL 175.251591 463.084916 \r\nL 180.230955 463.871506 \r\nL 190.189684 461.928483 \r\nL 195.169048 462.995868 \r\nL 200.148412 463.330375 \r\nL 210.107141 464.481317 \r\nL 215.086505 463.973627 \r\nL 220.065869 465.730083 \r\nL 225.045233 461.403061 \r\nL 230.024597 462.720541 \r\nL 235.003962 461.049878 \r\nL 239.983326 464.459479 \r\nL 244.96269 462.886712 \r\nL 249.942054 461.825332 \r\nL 254.921418 462.945134 \r\nL 259.900783 462.736854 \r\nL 264.880147 462.862409 \r\nL 269.859511 463.55953 \r\nL 274.838875 461.801617 \r\nL 279.818239 463.089411 \r\nL 284.797604 461.271324 \r\nL 289.776968 461.5266 \r\nL 294.756332 460.768025 \r\nL 299.735696 462.431638 \r\nL 304.71506 461.174998 \r\nL 309.694424 457.787377 \r\nL 314.673789 461.196038 \r\nL 319.653153 460.414378 \r\nL 324.632517 461.839078 \r\nL 329.611881 462.14334 \r\nL 334.591245 460.707038 \r\nL 339.57061 462.820896 \r\nL 344.549974 458.824751 \r\nL 349.529338 460.785306 \r\nL 354.508702 458.871288 \r\nL 359.488066 460.707337 \r\nL 364.467431 459.337292 \r\nL 369.446795 459.430616 \r\nL 374.426159 461.316714 \r\nL 379.405523 460.809631 \r\nL 384.384887 461.331227 \r\nL 389.364252 461.61433 \r\nL 394.343616 460.984014 \r\nL 399.32298 463.538 \r\nL 404.302344 459.957915 \r\nL 409.281708 459.013655 \r\nL 414.261073 458.473297 \r\nL 419.240437 460.119503 \r\nL 424.219801 457.695286 \r\nL 429.199165 458.105184 \r\nL 434.178529 458.1676 \r\nL 439.157894 457.068426 \r\nL 444.137258 459.4363 \r\nL 449.116622 460.261188 \r\nL 454.095986 457.951554 \r\nL 459.07535 459.594218 \r\nL 469.034079 457.697127 \r\nL 474.013443 456.440608 \r\nL 478.992807 459.855582 \r\nL 483.972171 456.395832 \r\nL 488.951535 456.601577 \r\nL 493.9309 456.514215 \r\nL 498.910264 455.74289 \r\nL 503.889628 458.467383 \r\nL 508.868992 459.724399 \r\nL 513.848356 458.598435 \r\nL 518.827721 461.251737 \r\nL 523.807085 455.063782 \r\nL 528.786449 457.758861 \r\nL 533.765813 456.254706 \r\nL 538.745177 457.293695 \r\nL 543.724542 455.539488 \r\nL 548.703906 455.509507 \r\nL 553.68327 456.315291 \r\nL 558.662634 456.389488 \r\nL 563.641998 456.005393 \r\nL 568.621363 459.325133 \r\nL 573.600727 456.726959 \r\nL 578.580091 457.908105 \r\nL 583.559455 453.789431 \r\nL 588.538819 455.910911 \r\nL 593.518184 454.464682 \r\nL 598.497548 456.070193 \r\nL 603.476912 454.479004 \r\nL 608.456276 453.322278 \r\nL 613.43564 455.465034 \r\nL 618.415005 455.606659 \r\nL 623.394369 457.286827 \r\nL 628.373733 458.379537 \r\nL 633.353097 455.386745 \r\nL 638.332461 458.91363 \r\nL 643.311826 453.881391 \r\nL 648.29119 456.6601 \r\nL 653.270554 452.428531 \r\nL 658.249918 455.885681 \r\nL 663.229282 453.976759 \r\nL 668.208646 453.024374 \r\nL 673.188011 455.601277 \r\nL 678.167375 454.054566 \r\nL 688.126103 457.036924 \r\nL 693.105467 454.657987 \r\nL 698.084832 458.72431 \r\nL 703.064196 455.248197 \r\nL 708.04356 454.426301 \r\nL 713.022924 453.488941 \r\nL 718.002288 455.495391 \r\nL 722.981653 452.720262 \r\nL 727.961017 452.797503 \r\nL 732.940381 454.546007 \r\nL 737.919745 451.984981 \r\nL 742.899109 454.144312 \r\nL 747.878474 455.843995 \r\nL 752.857838 454.759952 \r\nL 757.837202 456.165096 \r\nL 767.79593 453.395163 \r\nL 772.775295 450.770166 \r\nL 777.754659 454.564718 \r\nL 782.734023 450.694513 \r\nL 787.713387 451.431867 \r\nL 792.692751 452.47328 \r\nL 797.672116 450.91497 \r\nL 802.65148 453.816337 \r\nL 807.630844 455.374311 \r\nL 812.610208 452.920173 \r\nL 817.589572 455.747027 \r\nL 822.568936 454.382353 \r\nL 827.548301 459.034964 \r\nL 832.527665 456.359337 \r\nL 842.486393 445.807808 \r\nL 847.465757 447.85604 \r\nL 852.445122 451.324452 \r\nL 857.424486 449.277769 \r\nL 862.40385 449.726066 \r\nL 867.383214 449.183771 \r\nL 872.362578 454.670649 \r\nL 877.341943 461.003654 \r\nL 882.321307 471.385114 \r\nL 882.321307 471.385114 \r\n\" style=\"fill:none;stroke:#8c564b;stroke-linecap:square;stroke-width:1.5;\"/>\r\n   </g>\r\n   <g id=\"line2d_32\">\r\n    <path clip-path=\"url(#p1bfb2f97cf)\" d=\"M 70.684943 484.385819 \r\nL 75.664307 483.575873 \r\nL 80.643672 480.509749 \r\nL 85.623036 475.491566 \r\nL 90.6024 466.194415 \r\nL 95.581764 396.451091 \r\nL 100.561128 454.68115 \r\nL 105.540493 450.903068 \r\nL 110.519857 450.934209 \r\nL 120.478585 450.688762 \r\nL 125.457949 449.579055 \r\nL 130.437314 450.365309 \r\nL 135.416678 449.493397 \r\nL 140.396042 446.835112 \r\nL 145.375406 448.603124 \r\nL 150.35477 446.700083 \r\nL 155.334134 442.377173 \r\nL 160.313499 448.950977 \r\nL 165.292863 441.845691 \r\nL 170.272227 445.456408 \r\nL 175.251591 443.117738 \r\nL 180.230955 443.78883 \r\nL 185.21032 441.93507 \r\nL 190.189684 442.394728 \r\nL 195.169048 442.726808 \r\nL 200.148412 443.257975 \r\nL 210.107141 445.207285 \r\nL 215.086505 443.7532 \r\nL 220.065869 445.913328 \r\nL 225.045233 438.790277 \r\nL 230.024597 441.598328 \r\nL 235.003962 439.602328 \r\nL 239.983326 442.099551 \r\nL 244.96269 440.514592 \r\nL 249.942054 438.595583 \r\nL 254.921418 440.096514 \r\nL 259.900783 441.731385 \r\nL 264.880147 441.12374 \r\nL 269.859511 442.154035 \r\nL 274.838875 438.629057 \r\nL 279.818239 440.607125 \r\nL 284.797604 437.210459 \r\nL 289.776968 439.34535 \r\nL 294.756332 435.320926 \r\nL 299.735696 437.645183 \r\nL 304.71506 437.630402 \r\nL 309.694424 435.543772 \r\nL 314.673789 437.774549 \r\nL 319.653153 437.052699 \r\nL 324.632517 438.76231 \r\nL 329.611881 438.650459 \r\nL 334.591245 433.492324 \r\nL 339.57061 438.890114 \r\nL 344.549974 432.456596 \r\nL 349.529338 436.571124 \r\nL 354.508702 430.955435 \r\nL 359.488066 435.195642 \r\nL 364.467431 432.525065 \r\nL 369.446795 431.698891 \r\nL 374.426159 435.618701 \r\nL 379.405523 432.487975 \r\nL 384.384887 436.724353 \r\nL 389.364252 437.556619 \r\nL 394.343616 433.202184 \r\nL 399.32298 438.570303 \r\nL 404.302344 430.756007 \r\nL 409.281708 428.566031 \r\nL 419.240437 430.487752 \r\nL 424.219801 428.208013 \r\nL 429.199165 429.001626 \r\nL 434.178529 429.599377 \r\nL 439.157894 427.266932 \r\nL 444.137258 431.7212 \r\nL 449.116622 431.584167 \r\nL 454.095986 427.322114 \r\nL 459.07535 429.980465 \r\nL 464.054715 426.663981 \r\nL 469.034079 425.509743 \r\nL 474.013443 422.974409 \r\nL 478.992807 427.327689 \r\nL 483.972171 423.705722 \r\nL 488.951535 425.332623 \r\nL 493.9309 425.1326 \r\nL 498.910264 423.23555 \r\nL 503.889628 426.497526 \r\nL 508.868992 428.56713 \r\nL 513.848356 428.376335 \r\nL 518.827721 430.790665 \r\nL 523.807085 420.15882 \r\nL 528.786449 423.701398 \r\nL 533.765813 422.202776 \r\nL 538.745177 423.577683 \r\nL 543.724542 425.700938 \r\nL 548.703906 424.485412 \r\nL 553.68327 425.78926 \r\nL 558.662634 424.748784 \r\nL 563.641998 427.22529 \r\nL 568.621363 429.253861 \r\nL 573.600727 428.618309 \r\nL 578.580091 430.22831 \r\nL 583.559455 423.054913 \r\nL 588.538819 426.5253 \r\nL 593.518184 423.450028 \r\nL 598.497548 424.505198 \r\nL 603.476912 426.099046 \r\nL 608.456276 423.202863 \r\nL 613.43564 426.462319 \r\nL 618.415005 425.495368 \r\nL 623.394369 429.304689 \r\nL 628.373733 427.976596 \r\nL 633.353097 425.217386 \r\nL 638.332461 429.385232 \r\nL 643.311826 420.406103 \r\nL 648.29119 426.221873 \r\nL 653.270554 419.059905 \r\nL 658.249918 422.971902 \r\nL 663.229282 421.582825 \r\nL 668.208646 417.932614 \r\nL 673.188011 423.835375 \r\nL 678.167375 421.250473 \r\nL 683.146739 423.822582 \r\nL 688.126103 425.51811 \r\nL 693.105467 422.028788 \r\nL 698.084832 428.788341 \r\nL 703.064196 419.888148 \r\nL 708.04356 420.232716 \r\nL 713.022924 418.989206 \r\nL 718.002288 420.421267 \r\nL 722.981653 417.653698 \r\nL 727.961017 416.041418 \r\nL 732.940381 422.248152 \r\nL 737.919745 417.408333 \r\nL 742.899109 421.316617 \r\nL 747.878474 422.49503 \r\nL 752.857838 419.147074 \r\nL 757.837202 423.665413 \r\nL 762.816566 419.687024 \r\nL 767.79593 417.124147 \r\nL 772.775295 414.689138 \r\nL 777.754659 418.745298 \r\nL 782.734023 413.346009 \r\nL 787.713387 415.488822 \r\nL 792.692751 417.346958 \r\nL 797.672116 413.607704 \r\nL 802.65148 419.603344 \r\nL 807.630844 419.474046 \r\nL 812.610208 416.992221 \r\nL 817.589572 424.191304 \r\nL 822.568936 421.538488 \r\nL 827.548301 430.196562 \r\nL 832.527665 423.641627 \r\nL 837.507029 417.416032 \r\nL 842.486393 408.765512 \r\nL 847.465757 406.747709 \r\nL 852.445122 407.070602 \r\nL 857.424486 409.999891 \r\nL 862.40385 412.57959 \r\nL 867.383214 413.516939 \r\nL 872.362578 418.363832 \r\nL 877.341943 433.439914 \r\nL 882.321307 450.619502 \r\nL 882.321307 450.619502 \r\n\" style=\"fill:none;stroke:#e377c2;stroke-linecap:square;stroke-width:1.5;\"/>\r\n   </g>\r\n   <g id=\"line2d_33\">\r\n    <path clip-path=\"url(#p1bfb2f97cf)\" d=\"M 70.684943 484.777421 \r\nL 75.664307 484.680241 \r\nL 80.643672 484.308388 \r\nL 85.623036 483.818121 \r\nL 90.6024 482.349455 \r\nL 95.581764 477.855855 \r\nL 100.561128 480.503376 \r\nL 105.540493 479.548279 \r\nL 110.519857 479.466265 \r\nL 115.499221 479.750623 \r\nL 125.457949 479.572472 \r\nL 145.375406 479.281083 \r\nL 150.35477 479.432799 \r\nL 155.334134 479.039867 \r\nL 160.313499 479.702222 \r\nL 165.292863 478.593576 \r\nL 170.272227 478.71631 \r\nL 175.251591 478.306214 \r\nL 180.230955 478.654499 \r\nL 185.21032 478.290098 \r\nL 190.189684 478.103767 \r\nL 195.169048 478.424745 \r\nL 200.148412 478.602264 \r\nL 205.127776 478.563217 \r\nL 210.107141 478.875217 \r\nL 215.086505 478.795145 \r\nL 220.065869 479.214182 \r\nL 225.045233 477.571547 \r\nL 230.024597 478.296296 \r\nL 235.003962 477.983897 \r\nL 239.983326 478.294127 \r\nL 244.96269 477.976943 \r\nL 249.942054 477.517856 \r\nL 254.921418 477.923041 \r\nL 259.900783 477.61953 \r\nL 264.880147 477.737914 \r\nL 269.859511 478.178317 \r\nL 274.838875 477.933868 \r\nL 279.818239 478.027533 \r\nL 284.797604 477.217445 \r\nL 289.776968 477.776474 \r\nL 294.756332 477.215181 \r\nL 304.71506 477.322953 \r\nL 309.694424 476.580558 \r\nL 314.673789 477.613207 \r\nL 319.653153 477.307697 \r\nL 324.632517 477.292419 \r\nL 329.611881 477.819138 \r\nL 334.591245 477.454846 \r\nL 339.57061 477.609704 \r\nL 344.549974 476.806944 \r\nL 349.529338 477.495735 \r\nL 354.508702 476.779994 \r\nL 359.488066 477.030757 \r\nL 364.467431 476.283995 \r\nL 369.446795 476.500483 \r\nL 379.405523 476.575532 \r\nL 384.384887 477.108297 \r\nL 389.364252 476.97658 \r\nL 394.343616 476.608532 \r\nL 399.32298 477.11495 \r\nL 404.302344 476.288915 \r\nL 414.261073 476.24158 \r\nL 419.240437 476.486996 \r\nL 424.219801 476.076167 \r\nL 429.199165 475.85735 \r\nL 434.178529 476.336452 \r\nL 439.157894 475.741936 \r\nL 444.137258 476.368203 \r\nL 449.116622 476.717547 \r\nL 454.095986 476.469843 \r\nL 459.07535 476.484852 \r\nL 464.054715 475.8139 \r\nL 469.034079 476.073247 \r\nL 474.013443 475.234416 \r\nL 478.992807 475.765858 \r\nL 488.951535 475.031102 \r\nL 493.9309 475.434657 \r\nL 498.910264 475.152192 \r\nL 503.889628 475.637581 \r\nL 508.868992 475.887789 \r\nL 513.848356 475.758929 \r\nL 518.827721 476.210948 \r\nL 523.807085 474.471787 \r\nL 528.786449 475.674793 \r\nL 533.765813 475.015613 \r\nL 538.745177 475.131557 \r\nL 543.724542 474.036528 \r\nL 548.703906 474.825498 \r\nL 553.68327 475.205829 \r\nL 558.662634 474.648735 \r\nL 563.641998 475.018628 \r\nL 568.621363 475.168559 \r\nL 573.600727 474.70962 \r\nL 578.580091 475.231984 \r\nL 583.559455 473.482019 \r\nL 588.538819 474.366688 \r\nL 593.518184 473.413273 \r\nL 598.497548 474.137008 \r\nL 603.476912 473.556584 \r\nL 608.456276 473.603906 \r\nL 613.43564 474.612123 \r\nL 618.415005 474.212048 \r\nL 623.394369 474.343739 \r\nL 628.373733 473.959993 \r\nL 633.353097 474.107112 \r\nL 638.332461 475.157206 \r\nL 643.311826 473.218557 \r\nL 648.29119 474.133133 \r\nL 653.270554 473.358839 \r\nL 658.249918 473.956256 \r\nL 668.208646 473.320329 \r\nL 673.188011 473.946546 \r\nL 678.167375 473.286926 \r\nL 683.146739 473.980243 \r\nL 688.126103 474.400787 \r\nL 693.105467 473.884873 \r\nL 698.084832 475.081795 \r\nL 703.064196 473.976356 \r\nL 708.04356 473.672849 \r\nL 713.022924 473.043251 \r\nL 718.002288 474.328592 \r\nL 722.981653 473.783523 \r\nL 727.961017 473.877043 \r\nL 732.940381 474.374178 \r\nL 737.919745 473.594124 \r\nL 742.899109 474.231315 \r\nL 747.878474 474.226164 \r\nL 752.857838 474.004502 \r\nL 757.837202 474.214816 \r\nL 762.816566 473.344814 \r\nL 767.79593 473.669336 \r\nL 772.775295 472.509245 \r\nL 777.754659 473.689223 \r\nL 782.734023 472.569402 \r\nL 787.713387 472.240457 \r\nL 792.692751 473.011302 \r\nL 797.672116 472.038815 \r\nL 802.65148 473.536146 \r\nL 807.630844 473.98313 \r\nL 812.610208 472.969969 \r\nL 817.589572 473.404488 \r\nL 822.568936 473.366589 \r\nL 827.548301 474.517785 \r\nL 832.527665 472.252241 \r\nL 837.507029 471.109361 \r\nL 842.486393 466.836419 \r\nL 847.465757 469.203996 \r\nL 852.445122 470.024115 \r\nL 857.424486 469.891545 \r\nL 862.40385 469.502428 \r\nL 867.383214 467.449192 \r\nL 872.362578 470.334259 \r\nL 877.341943 473.803739 \r\nL 882.321307 478.115388 \r\nL 882.321307 478.115388 \r\n\" style=\"fill:none;stroke:#7f7f7f;stroke-linecap:square;stroke-width:1.5;\"/>\r\n   </g>\r\n   <g id=\"line2d_34\">\r\n    <path clip-path=\"url(#p1bfb2f97cf)\" d=\"M 70.684943 484.600872 \r\nL 75.664307 484.407134 \r\nL 80.643672 483.518939 \r\nL 85.623036 481.695492 \r\nL 90.6024 478.963406 \r\nL 95.581764 377.040394 \r\nL 100.561128 465.895078 \r\nL 105.540493 466.420927 \r\nL 110.519857 465.390212 \r\nL 115.499221 465.970833 \r\nL 125.457949 465.796149 \r\nL 130.437314 466.592316 \r\nL 135.416678 466.349968 \r\nL 140.396042 465.712918 \r\nL 145.375406 467.084748 \r\nL 150.35477 466.367837 \r\nL 155.334134 458.715326 \r\nL 160.313499 467.37744 \r\nL 165.292863 462.199487 \r\nL 170.272227 463.843414 \r\nL 175.251591 462.874795 \r\nL 180.230955 460.276409 \r\nL 185.21032 461.885809 \r\nL 190.189684 462.846222 \r\nL 195.169048 464.026449 \r\nL 200.148412 463.940933 \r\nL 205.127776 463.504207 \r\nL 210.107141 465.772855 \r\nL 215.086505 460.811221 \r\nL 220.065869 465.592938 \r\nL 225.045233 461.462675 \r\nL 230.024597 451.327398 \r\nL 235.003962 460.796155 \r\nL 239.983326 462.76407 \r\nL 244.96269 461.719462 \r\nL 249.942054 460.008478 \r\nL 254.921418 461.778541 \r\nL 259.900783 462.359818 \r\nL 264.880147 463.275344 \r\nL 269.859511 462.997363 \r\nL 274.838875 453.093925 \r\nL 279.818239 458.602313 \r\nL 284.797604 461.087923 \r\nL 289.776968 460.886973 \r\nL 294.756332 459.486083 \r\nL 299.735696 461.148732 \r\nL 304.71506 461.425742 \r\nL 309.694424 459.956985 \r\nL 314.673789 461.988725 \r\nL 319.653153 462.071328 \r\nL 324.632517 463.463488 \r\nL 329.611881 464.243485 \r\nL 334.591245 456.201444 \r\nL 339.57061 464.548495 \r\nL 344.549974 459.363725 \r\nL 349.529338 461.652548 \r\nL 354.508702 458.765873 \r\nL 359.488066 460.80472 \r\nL 364.467431 460.587269 \r\nL 369.446795 459.717552 \r\nL 374.426159 462.051676 \r\nL 379.405523 459.962754 \r\nL 384.384887 462.656297 \r\nL 389.364252 464.301136 \r\nL 394.343616 441.05494 \r\nL 399.32298 462.862261 \r\nL 409.281708 457.508231 \r\nL 414.261073 457.468764 \r\nL 419.240437 458.370722 \r\nL 424.219801 458.66945 \r\nL 429.199165 458.418877 \r\nL 434.178529 459.215872 \r\nL 439.157894 458.72387 \r\nL 444.137258 461.635068 \r\nL 449.116622 462.024465 \r\nL 454.095986 456.09481 \r\nL 459.07535 460.573487 \r\nL 464.054715 458.816715 \r\nL 469.034079 459.690091 \r\nL 474.013443 458.171346 \r\nL 478.992807 457.506636 \r\nL 483.972171 456.459381 \r\nL 488.951535 456.96352 \r\nL 493.9309 456.876068 \r\nL 498.910264 457.366475 \r\nL 503.889628 458.926633 \r\nL 508.868992 458.10129 \r\nL 513.848356 456.824496 \r\nL 518.827721 460.0803 \r\nL 523.807085 455.677971 \r\nL 528.786449 458.055197 \r\nL 533.765813 454.30512 \r\nL 538.745177 454.977311 \r\nL 543.724542 453.196223 \r\nL 548.703906 455.379094 \r\nL 553.68327 456.235362 \r\nL 558.662634 455.615957 \r\nL 563.641998 457.577472 \r\nL 568.621363 459.071514 \r\nL 573.600727 456.381978 \r\nL 578.580091 459.06233 \r\nL 583.559455 455.308013 \r\nL 588.538819 457.828798 \r\nL 593.518184 456.718418 \r\nL 598.497548 457.038534 \r\nL 603.476912 448.275474 \r\nL 608.456276 455.324339 \r\nL 613.43564 457.574799 \r\nL 618.415005 457.378523 \r\nL 623.394369 459.286237 \r\nL 628.373733 458.429752 \r\nL 633.353097 455.605512 \r\nL 638.332461 458.459008 \r\nL 643.311826 454.662609 \r\nL 648.29119 457.142227 \r\nL 653.270554 452.887586 \r\nL 658.249918 454.845113 \r\nL 663.229282 453.433212 \r\nL 668.208646 452.792026 \r\nL 673.188011 455.323502 \r\nL 678.167375 453.453953 \r\nL 683.146739 455.08207 \r\nL 688.126103 455.93322 \r\nL 693.105467 453.759135 \r\nL 698.084832 456.92658 \r\nL 703.064196 452.912638 \r\nL 708.04356 452.848178 \r\nL 713.022924 450.774516 \r\nL 718.002288 452.242951 \r\nL 727.961017 450.989659 \r\nL 732.940381 453.580735 \r\nL 737.919745 450.873336 \r\nL 742.899109 453.08845 \r\nL 747.878474 454.453887 \r\nL 752.857838 450.669849 \r\nL 757.837202 453.035117 \r\nL 762.816566 452.64082 \r\nL 767.79593 451.871132 \r\nL 772.775295 449.3812 \r\nL 777.754659 451.087207 \r\nL 782.734023 447.019806 \r\nL 787.713387 448.972831 \r\nL 792.692751 449.856378 \r\nL 797.672116 449.439604 \r\nL 802.65148 452.762793 \r\nL 807.630844 452.604009 \r\nL 812.610208 450.349136 \r\nL 817.589572 453.461713 \r\nL 822.568936 452.840979 \r\nL 827.548301 455.05097 \r\nL 832.527665 446.358755 \r\nL 837.507029 447.039822 \r\nL 842.486393 443.695536 \r\nL 847.465757 446.328681 \r\nL 852.445122 449.71724 \r\nL 857.424486 450.281277 \r\nL 862.40385 449.322795 \r\nL 867.383214 445.997964 \r\nL 872.362578 447.439906 \r\nL 877.341943 458.72062 \r\nL 882.321307 463.743494 \r\nL 882.321307 463.743494 \r\n\" style=\"fill:none;stroke:#bcbd22;stroke-linecap:square;stroke-width:1.5;\"/>\r\n   </g>\r\n   <g id=\"line2d_35\">\r\n    <path clip-path=\"url(#p1bfb2f97cf)\" d=\"M 70.684943 484.08849 \r\nL 75.664307 482.902176 \r\nL 80.643672 478.556257 \r\nL 85.623036 469.792264 \r\nL 90.6024 451.952979 \r\nL 95.581764 40.036619 \r\nL 100.561128 410.695548 \r\nL 105.540493 411.726113 \r\nL 110.519857 411.819744 \r\nL 115.499221 410.90975 \r\nL 120.478585 409.611129 \r\nL 125.457949 407.864354 \r\nL 130.437314 407.677916 \r\nL 135.416678 407.615102 \r\nL 140.396042 402.598651 \r\nL 145.375406 402.998236 \r\nL 150.35477 408.925204 \r\nL 155.334134 402.362068 \r\nL 160.313499 408.262229 \r\nL 165.292863 391.822211 \r\nL 170.272227 392.629259 \r\nL 175.251591 393.581668 \r\nL 180.230955 393.662972 \r\nL 190.189684 392.570339 \r\nL 195.169048 393.005544 \r\nL 200.148412 392.205501 \r\nL 205.127776 395.176055 \r\nL 210.107141 402.471334 \r\nL 215.086505 393.321349 \r\nL 220.065869 400.915661 \r\nL 225.045233 382.224967 \r\nL 230.024597 390.02647 \r\nL 235.003962 385.433495 \r\nL 239.983326 388.80928 \r\nL 244.96269 388.76047 \r\nL 249.942054 378.218705 \r\nL 254.921418 388.776191 \r\nL 259.900783 382.24947 \r\nL 264.880147 388.125789 \r\nL 269.859511 394.521843 \r\nL 274.838875 386.622843 \r\nL 279.818239 389.830636 \r\nL 284.797604 381.353403 \r\nL 289.776968 386.291328 \r\nL 294.756332 377.337993 \r\nL 299.735696 383.29777 \r\nL 304.71506 381.848852 \r\nL 309.694424 378.575728 \r\nL 314.673789 384.805506 \r\nL 319.653153 385.28918 \r\nL 324.632517 389.053344 \r\nL 329.611881 395.524727 \r\nL 334.591245 383.311765 \r\nL 339.57061 390.76873 \r\nL 344.549974 379.398546 \r\nL 349.529338 385.818478 \r\nL 354.508702 376.941498 \r\nL 359.488066 384.362927 \r\nL 364.467431 380.105749 \r\nL 369.446795 376.714872 \r\nL 374.426159 382.686676 \r\nL 379.405523 365.059661 \r\nL 384.384887 388.038014 \r\nL 389.364252 392.29805 \r\nL 394.343616 376.268779 \r\nL 399.32298 389.443976 \r\nL 404.302344 375.521226 \r\nL 409.281708 372.244023 \r\nL 414.261073 372.270764 \r\nL 419.240437 375.929263 \r\nL 424.219801 372.055742 \r\nL 429.199165 370.84681 \r\nL 434.178529 372.590289 \r\nL 439.157894 362.691826 \r\nL 444.137258 378.484917 \r\nL 449.116622 386.006162 \r\nL 454.095986 369.225232 \r\nL 459.07535 377.496266 \r\nL 464.054715 371.597395 \r\nL 469.034079 373.889102 \r\nL 474.013443 364.925539 \r\nL 478.992807 371.886389 \r\nL 483.972171 365.687489 \r\nL 488.951535 365.431566 \r\nL 493.9309 363.113184 \r\nL 498.910264 365.978502 \r\nL 503.889628 375.006221 \r\nL 508.868992 381.198215 \r\nL 513.848356 370.919589 \r\nL 518.827721 382.680986 \r\nL 523.807085 362.4718 \r\nL 528.786449 371.21952 \r\nL 533.765813 366.091273 \r\nL 538.745177 368.177858 \r\nL 548.703906 365.017816 \r\nL 553.68327 370.990575 \r\nL 558.662634 370.950723 \r\nL 563.641998 375.691389 \r\nL 568.621363 380.207655 \r\nL 573.600727 373.142149 \r\nL 578.580091 377.748464 \r\nL 583.559455 364.157412 \r\nL 588.538819 370.407885 \r\nL 593.518184 365.995305 \r\nL 598.497548 365.68809 \r\nL 603.476912 368.51171 \r\nL 608.456276 365.246302 \r\nL 613.43564 370.857564 \r\nL 618.415005 370.664153 \r\nL 628.373733 378.603278 \r\nL 633.353097 368.631958 \r\nL 638.332461 378.790517 \r\nL 643.311826 360.917542 \r\nL 648.29119 371.868911 \r\nL 653.270554 359.607332 \r\nL 658.249918 367.224906 \r\nL 663.229282 363.278874 \r\nL 668.208646 355.911846 \r\nL 673.188011 370.252421 \r\nL 678.167375 361.648715 \r\nL 683.146739 370.292206 \r\nL 688.126103 373.558821 \r\nL 693.105467 364.983789 \r\nL 698.084832 375.880532 \r\nL 703.064196 362.543451 \r\nL 708.04356 362.104481 \r\nL 713.022924 359.830593 \r\nL 718.002288 365.219236 \r\nL 722.981653 362.199038 \r\nL 727.961017 358.121059 \r\nL 732.940381 365.826178 \r\nL 737.919745 355.080111 \r\nL 742.899109 365.576463 \r\nL 747.878474 370.502883 \r\nL 752.857838 359.73866 \r\nL 757.837202 369.940234 \r\nL 762.816566 361.768964 \r\nL 767.79593 359.320107 \r\nL 772.775295 352.348981 \r\nL 777.754659 364.139704 \r\nL 782.734023 353.182668 \r\nL 787.713387 354.729822 \r\nL 792.692751 358.800166 \r\nL 797.672116 354.608894 \r\nL 802.65148 363.638383 \r\nL 807.630844 367.680576 \r\nL 812.610208 354.609078 \r\nL 817.589572 368.240478 \r\nL 822.568936 365.717744 \r\nL 827.548301 375.469356 \r\nL 832.527665 350.148715 \r\nL 837.507029 344.142922 \r\nL 842.486393 329.706845 \r\nL 852.445122 339.610338 \r\nL 857.424486 344.244791 \r\nL 862.40385 345.725553 \r\nL 867.383214 344.763048 \r\nL 872.362578 345.933074 \r\nL 877.341943 369.893302 \r\nL 882.321307 408.7905 \r\nL 882.321307 408.7905 \r\n\" style=\"fill:none;stroke:#17becf;stroke-linecap:square;stroke-width:1.5;\"/>\r\n   </g>\r\n   <g id=\"line2d_36\">\r\n    <path clip-path=\"url(#p1bfb2f97cf)\" d=\"M 70.684943 484.564311 \r\nL 75.664307 484.188595 \r\nL 80.643672 482.818098 \r\nL 85.623036 480.037583 \r\nL 90.6024 472.466483 \r\nL 95.581764 459.916768 \r\nL 100.561128 463.869819 \r\nL 105.540493 460.974856 \r\nL 110.519857 460.759196 \r\nL 115.499221 460.990692 \r\nL 120.478585 460.767928 \r\nL 125.457949 459.179367 \r\nL 130.437314 460.509036 \r\nL 135.416678 459.912204 \r\nL 140.396042 458.509461 \r\nL 150.35477 460.030367 \r\nL 155.334134 458.93121 \r\nL 160.313499 460.277627 \r\nL 165.292863 455.208408 \r\nL 170.272227 457.357457 \r\nL 175.251591 455.373339 \r\nL 180.230955 455.69653 \r\nL 185.21032 454.399366 \r\nL 190.189684 455.14187 \r\nL 195.169048 455.731346 \r\nL 200.148412 455.427896 \r\nL 205.127776 456.02761 \r\nL 210.107141 457.768948 \r\nL 215.086505 456.137232 \r\nL 220.065869 457.166171 \r\nL 225.045233 451.751467 \r\nL 230.024597 454.4865 \r\nL 235.003962 453.329088 \r\nL 239.983326 454.022215 \r\nL 244.96269 453.518862 \r\nL 249.942054 452.174722 \r\nL 254.921418 452.99309 \r\nL 259.900783 453.506627 \r\nL 264.880147 452.083143 \r\nL 269.859511 454.588368 \r\nL 274.838875 452.790936 \r\nL 279.818239 454.246846 \r\nL 284.797604 451.847528 \r\nL 289.776968 452.996529 \r\nL 294.756332 449.793362 \r\nL 299.735696 452.670323 \r\nL 304.71506 451.797457 \r\nL 309.694424 450.220921 \r\nL 314.673789 452.398701 \r\nL 319.653153 451.515045 \r\nL 324.632517 452.623833 \r\nL 329.611881 455.167757 \r\nL 334.591245 453.000376 \r\nL 339.57061 453.539266 \r\nL 344.549974 450.134369 \r\nL 349.529338 451.323909 \r\nL 354.508702 448.211298 \r\nL 359.488066 451.467708 \r\nL 364.467431 449.017143 \r\nL 369.446795 448.88035 \r\nL 374.426159 450.873512 \r\nL 379.405523 448.388239 \r\nL 384.384887 451.07139 \r\nL 389.364252 454.344624 \r\nL 394.343616 449.997057 \r\nL 399.32298 453.106272 \r\nL 404.302344 448.839859 \r\nL 409.281708 445.530316 \r\nL 414.261073 447.206203 \r\nL 419.240437 447.189539 \r\nL 424.219801 445.683986 \r\nL 429.199165 445.012846 \r\nL 434.178529 446.80099 \r\nL 439.157894 445.189832 \r\nL 444.137258 449.503294 \r\nL 449.116622 451.820699 \r\nL 454.095986 448.15371 \r\nL 459.07535 449.251232 \r\nL 464.054715 447.025428 \r\nL 469.034079 447.710079 \r\nL 474.013443 445.140637 \r\nL 478.992807 447.197637 \r\nL 483.972171 444.264128 \r\nL 488.951535 445.600885 \r\nL 493.9309 445.665614 \r\nL 498.910264 444.139745 \r\nL 508.868992 450.39566 \r\nL 513.848356 449.009248 \r\nL 518.827721 450.708327 \r\nL 523.807085 442.914586 \r\nL 528.786449 446.245253 \r\nL 533.765813 444.440887 \r\nL 538.745177 444.479801 \r\nL 543.724542 443.020427 \r\nL 548.703906 442.334252 \r\nL 553.68327 443.695642 \r\nL 558.662634 442.700516 \r\nL 563.641998 442.474077 \r\nL 568.621363 446.671186 \r\nL 573.600727 444.8168 \r\nL 578.580091 445.415897 \r\nL 583.559455 439.300443 \r\nL 588.538819 441.690011 \r\nL 593.518184 439.458608 \r\nL 598.497548 438.798573 \r\nL 603.476912 439.250818 \r\nL 608.456276 437.166173 \r\nL 613.43564 440.197635 \r\nL 618.415005 439.587076 \r\nL 628.373733 443.366645 \r\nL 633.353097 440.304686 \r\nL 638.332461 443.471393 \r\nL 643.311826 433.755224 \r\nL 648.29119 439.373903 \r\nL 653.270554 433.158035 \r\nL 658.249918 436.932748 \r\nL 663.229282 433.991441 \r\nL 668.208646 432.477853 \r\nL 673.188011 437.363112 \r\nL 678.167375 434.429528 \r\nL 683.146739 436.619006 \r\nL 688.126103 439.57509 \r\nL 693.105467 435.044146 \r\nL 698.084832 438.924755 \r\nL 703.064196 432.388512 \r\nL 713.022924 430.352606 \r\nL 718.002288 432.266158 \r\nL 722.981653 429.963221 \r\nL 727.961017 428.564202 \r\nL 732.940381 433.11002 \r\nL 737.919745 429.304144 \r\nL 742.899109 432.611602 \r\nL 747.878474 436.393164 \r\nL 752.857838 431.605345 \r\nL 757.837202 434.36621 \r\nL 762.816566 431.713259 \r\nL 767.79593 430.189188 \r\nL 772.775295 427.985412 \r\nL 777.754659 431.302584 \r\nL 782.734023 427.085391 \r\nL 787.713387 430.313491 \r\nL 792.692751 430.729267 \r\nL 797.672116 427.444461 \r\nL 802.65148 430.721912 \r\nL 807.630844 436.140718 \r\nL 812.610208 432.389048 \r\nL 817.589572 435.047339 \r\nL 822.568936 435.625398 \r\nL 827.548301 442.905928 \r\nL 832.527665 437.238018 \r\nL 837.507029 435.442385 \r\nL 842.486393 431.734995 \r\nL 847.465757 431.206783 \r\nL 852.445122 432.628527 \r\nL 862.40385 427.627538 \r\nL 867.383214 432.467818 \r\nL 872.362578 438.979206 \r\nL 877.341943 449.184461 \r\nL 882.321307 466.172473 \r\nL 882.321307 466.172473 \r\n\" style=\"fill:none;stroke:#1f77b4;stroke-linecap:square;stroke-width:1.5;\"/>\r\n   </g>\r\n   <g id=\"line2d_37\">\r\n    <path clip-path=\"url(#p1bfb2f97cf)\" d=\"M 70.684943 484.50469 \r\nL 75.664307 484.333732 \r\nL 80.643672 483.275732 \r\nL 85.623036 481.554969 \r\nL 90.6024 478.47264 \r\nL 95.581764 462.07916 \r\nL 100.561128 474.343609 \r\nL 105.540493 473.026578 \r\nL 115.499221 472.653479 \r\nL 120.478585 472.379691 \r\nL 125.457949 471.927172 \r\nL 130.437314 472.424866 \r\nL 135.416678 471.637424 \r\nL 140.396042 471.40234 \r\nL 145.375406 471.948946 \r\nL 150.35477 471.753583 \r\nL 155.334134 471.056231 \r\nL 160.313499 472.014491 \r\nL 165.292863 469.839904 \r\nL 170.272227 470.372718 \r\nL 175.251591 470.211626 \r\nL 180.230955 469.512592 \r\nL 185.21032 468.376029 \r\nL 190.189684 468.902022 \r\nL 195.169048 469.156193 \r\nL 200.148412 469.288525 \r\nL 205.127776 469.612674 \r\nL 210.107141 470.080239 \r\nL 220.065869 470.402253 \r\nL 225.045233 468.188183 \r\nL 230.024597 469.075569 \r\nL 235.003962 468.483957 \r\nL 239.983326 468.655136 \r\nL 244.96269 468.27475 \r\nL 249.942054 467.554044 \r\nL 254.921418 468.589178 \r\nL 259.900783 468.107751 \r\nL 264.880147 468.393323 \r\nL 269.859511 469.918891 \r\nL 274.838875 468.160939 \r\nL 279.818239 468.854963 \r\nL 284.797604 467.327033 \r\nL 289.776968 468.039432 \r\nL 294.756332 466.536816 \r\nL 299.735696 467.258905 \r\nL 304.71506 466.890259 \r\nL 309.694424 466.373578 \r\nL 314.673789 467.715289 \r\nL 319.653153 467.208506 \r\nL 324.632517 468.059569 \r\nL 329.611881 469.026766 \r\nL 334.591245 467.451849 \r\nL 339.57061 468.017662 \r\nL 344.549974 466.346324 \r\nL 349.529338 466.559333 \r\nL 354.508702 465.129466 \r\nL 359.488066 466.331166 \r\nL 369.446795 464.558043 \r\nL 374.426159 466.277099 \r\nL 379.405523 465.656052 \r\nL 384.384887 467.153365 \r\nL 389.364252 468.976753 \r\nL 394.343616 465.572326 \r\nL 399.32298 467.469175 \r\nL 404.302344 465.25857 \r\nL 409.281708 463.801763 \r\nL 419.240437 463.771791 \r\nL 424.219801 462.681897 \r\nL 429.199165 463.292673 \r\nL 434.178529 463.383475 \r\nL 439.157894 462.002146 \r\nL 444.137258 463.477027 \r\nL 449.116622 466.18969 \r\nL 454.095986 464.16491 \r\nL 459.07535 465.012785 \r\nL 464.054715 463.086206 \r\nL 469.034079 463.32215 \r\nL 474.013443 462.49218 \r\nL 478.992807 462.239436 \r\nL 483.972171 460.716153 \r\nL 488.951535 461.094471 \r\nL 493.9309 461.322498 \r\nL 498.910264 461.681181 \r\nL 503.889628 463.040345 \r\nL 508.868992 464.22872 \r\nL 513.848356 463.338928 \r\nL 518.827721 465.301871 \r\nL 523.807085 461.265805 \r\nL 528.786449 462.528599 \r\nL 533.765813 461.25062 \r\nL 538.745177 461.351311 \r\nL 543.724542 460.239794 \r\nL 548.703906 461.06901 \r\nL 558.662634 460.943392 \r\nL 563.641998 461.20928 \r\nL 568.621363 464.176749 \r\nL 573.600727 461.991753 \r\nL 578.580091 462.960983 \r\nL 583.559455 460.121024 \r\nL 588.538819 461.097378 \r\nL 593.518184 459.719218 \r\nL 598.497548 458.521607 \r\nL 603.476912 457.126666 \r\nL 608.456276 459.674741 \r\nL 613.43564 460.702447 \r\nL 618.415005 460.590323 \r\nL 623.394369 461.955367 \r\nL 628.373733 463.752985 \r\nL 633.353097 462.341909 \r\nL 638.332461 463.321768 \r\nL 643.311826 459.532984 \r\nL 648.29119 461.620459 \r\nL 653.270554 459.003768 \r\nL 658.249918 459.824765 \r\nL 663.229282 459.792719 \r\nL 668.208646 459.017121 \r\nL 673.188011 461.164856 \r\nL 678.167375 460.527769 \r\nL 683.146739 460.775154 \r\nL 688.126103 462.339599 \r\nL 693.105467 461.144638 \r\nL 698.084832 463.338695 \r\nL 703.064196 459.597226 \r\nL 708.04356 458.597163 \r\nL 713.022924 459.050898 \r\nL 718.002288 458.564307 \r\nL 722.981653 457.505348 \r\nL 727.961017 457.774121 \r\nL 732.940381 459.36735 \r\nL 737.919745 457.379085 \r\nL 742.899109 458.420808 \r\nL 747.878474 461.697625 \r\nL 752.857838 459.329296 \r\nL 757.837202 460.301798 \r\nL 762.816566 458.431618 \r\nL 767.79593 457.899574 \r\nL 772.775295 456.591079 \r\nL 777.754659 458.308116 \r\nL 782.734023 455.341578 \r\nL 787.713387 457.16514 \r\nL 797.672116 455.766555 \r\nL 802.65148 457.954741 \r\nL 807.630844 459.802463 \r\nL 812.610208 457.086489 \r\nL 817.589572 459.187362 \r\nL 822.568936 460.394399 \r\nL 827.548301 462.777493 \r\nL 832.527665 459.907858 \r\nL 837.507029 457.760452 \r\nL 842.486393 450.757297 \r\nL 847.465757 452.641654 \r\nL 852.445122 455.736269 \r\nL 857.424486 454.384459 \r\nL 862.40385 450.761786 \r\nL 867.383214 453.644466 \r\nL 872.362578 460.259319 \r\nL 877.341943 464.480672 \r\nL 882.321307 476.500346 \r\nL 882.321307 476.500346 \r\n\" style=\"fill:none;stroke:#ff7f0e;stroke-linecap:square;stroke-width:1.5;\"/>\r\n   </g>\r\n   <g id=\"line2d_38\">\r\n    <path clip-path=\"url(#p1bfb2f97cf)\" d=\"M 70.684943 484.352461 \r\nL 75.664307 483.438283 \r\nL 80.643672 481.129595 \r\nL 85.623036 477.692904 \r\nL 90.6024 471.890839 \r\nL 95.581764 462.92312 \r\nL 100.561128 465.136907 \r\nL 105.540493 462.124443 \r\nL 110.519857 462.534165 \r\nL 115.499221 462.659731 \r\nL 120.478585 461.768406 \r\nL 125.457949 460.640723 \r\nL 130.437314 460.708371 \r\nL 140.396042 459.269462 \r\nL 150.35477 460.938382 \r\nL 155.334134 458.442434 \r\nL 160.313499 462.4788 \r\nL 165.292863 456.904457 \r\nL 170.272227 458.413107 \r\nL 175.251591 457.208521 \r\nL 180.230955 457.770504 \r\nL 185.21032 455.179908 \r\nL 190.189684 456.49714 \r\nL 195.169048 456.857307 \r\nL 200.148412 455.851553 \r\nL 205.127776 457.299857 \r\nL 210.107141 458.133131 \r\nL 215.086505 456.743177 \r\nL 220.065869 460.395269 \r\nL 225.045233 454.838613 \r\nL 230.024597 456.315387 \r\nL 235.003962 455.192178 \r\nL 239.983326 455.85097 \r\nL 244.96269 454.778124 \r\nL 249.942054 454.431395 \r\nL 254.921418 456.918241 \r\nL 259.900783 456.285746 \r\nL 264.880147 456.482401 \r\nL 269.859511 458.350437 \r\nL 274.838875 456.130261 \r\nL 279.818239 458.507395 \r\nL 284.797604 455.236477 \r\nL 289.776968 456.427543 \r\nL 294.756332 453.879262 \r\nL 299.735696 454.479818 \r\nL 304.71506 454.45224 \r\nL 309.694424 453.235841 \r\nL 314.673789 455.518829 \r\nL 319.653153 454.634001 \r\nL 329.611881 456.655922 \r\nL 334.591245 454.157275 \r\nL 339.57061 457.323025 \r\nL 344.549974 453.257617 \r\nL 349.529338 455.234213 \r\nL 354.508702 451.979053 \r\nL 359.488066 452.759814 \r\nL 364.467431 451.846551 \r\nL 369.446795 451.057689 \r\nL 374.426159 455.061453 \r\nL 379.405523 451.744315 \r\nL 384.384887 454.985436 \r\nL 389.364252 455.981037 \r\nL 394.343616 451.234076 \r\nL 399.32298 456.152262 \r\nL 404.302344 451.998227 \r\nL 409.281708 449.366334 \r\nL 414.261073 449.302196 \r\nL 419.240437 450.25207 \r\nL 424.219801 447.330808 \r\nL 429.199165 448.586246 \r\nL 434.178529 449.67558 \r\nL 439.157894 447.332612 \r\nL 449.116622 451.538226 \r\nL 454.095986 448.959286 \r\nL 459.07535 452.417469 \r\nL 464.054715 449.255209 \r\nL 469.034079 448.984709 \r\nL 474.013443 447.174479 \r\nL 478.992807 448.307913 \r\nL 483.972171 445.987337 \r\nL 488.951535 446.249598 \r\nL 493.9309 445.968747 \r\nL 498.910264 444.777211 \r\nL 503.889628 447.720579 \r\nL 508.868992 449.988486 \r\nL 513.848356 448.275578 \r\nL 518.827721 452.563221 \r\nL 523.807085 444.01005 \r\nL 528.786449 447.551167 \r\nL 533.765813 445.431896 \r\nL 538.745177 446.237754 \r\nL 543.724542 445.125516 \r\nL 548.703906 446.037985 \r\nL 553.68327 447.377412 \r\nL 558.662634 447.169083 \r\nL 563.641998 447.766527 \r\nL 568.621363 450.216382 \r\nL 573.600727 448.196876 \r\nL 578.580091 450.863253 \r\nL 583.559455 446.319055 \r\nL 588.538819 448.255923 \r\nL 593.518184 445.700721 \r\nL 598.497548 445.679766 \r\nL 603.476912 445.817594 \r\nL 608.456276 444.649159 \r\nL 613.43564 447.581117 \r\nL 618.415005 447.487864 \r\nL 623.394369 449.703122 \r\nL 628.373733 449.840297 \r\nL 633.353097 447.416735 \r\nL 638.332461 452.20925 \r\nL 643.311826 444.905684 \r\nL 648.29119 449.159523 \r\nL 653.270554 444.034527 \r\nL 658.249918 444.881811 \r\nL 663.229282 444.349309 \r\nL 668.208646 444.429473 \r\nL 673.188011 447.772873 \r\nL 678.167375 445.556301 \r\nL 683.146739 448.04326 \r\nL 688.126103 449.352673 \r\nL 693.105467 445.458831 \r\nL 698.084832 451.561601 \r\nL 703.064196 445.779035 \r\nL 708.04356 445.415513 \r\nL 713.022924 445.522045 \r\nL 718.002288 445.816926 \r\nL 722.981653 444.158325 \r\nL 727.961017 443.327706 \r\nL 732.940381 447.378911 \r\nL 737.919745 443.082863 \r\nL 742.899109 446.159314 \r\nL 747.878474 449.776284 \r\nL 752.857838 445.184007 \r\nL 757.837202 448.25436 \r\nL 762.816566 445.545093 \r\nL 767.79593 445.046536 \r\nL 772.775295 442.323281 \r\nL 777.754659 443.72919 \r\nL 782.734023 440.65195 \r\nL 787.713387 442.570838 \r\nL 792.692751 444.368028 \r\nL 797.672116 443.253217 \r\nL 802.65148 445.809786 \r\nL 807.630844 446.770253 \r\nL 812.610208 442.978754 \r\nL 817.589572 448.174016 \r\nL 822.568936 448.434101 \r\nL 827.548301 451.893767 \r\nL 832.527665 447.193363 \r\nL 837.507029 443.327827 \r\nL 842.486393 438.298978 \r\nL 847.465757 436.916882 \r\nL 852.445122 437.625729 \r\nL 857.424486 436.006609 \r\nL 862.40385 434.784899 \r\nL 867.383214 434.743894 \r\nL 872.362578 440.963489 \r\nL 877.341943 448.63841 \r\nL 882.321307 468.606911 \r\nL 882.321307 468.606911 \r\n\" style=\"fill:none;stroke:#2ca02c;stroke-linecap:square;stroke-width:1.5;\"/>\r\n   </g>\r\n   <g id=\"line2d_39\">\r\n    <path clip-path=\"url(#p1bfb2f97cf)\" d=\"M 70.684943 484.716517 \r\nL 80.643672 484.34365 \r\nL 85.623036 483.946865 \r\nL 90.6024 482.969096 \r\nL 95.581764 481.245409 \r\nL 100.561128 481.254714 \r\nL 105.540493 480.605776 \r\nL 110.519857 480.946974 \r\nL 115.499221 480.585116 \r\nL 120.478585 480.407018 \r\nL 125.457949 480.44556 \r\nL 130.437314 480.68763 \r\nL 140.396042 480.168656 \r\nL 145.375406 480.358229 \r\nL 150.35477 480.885526 \r\nL 155.334134 480.615336 \r\nL 160.313499 480.66798 \r\nL 165.292863 479.752978 \r\nL 170.272227 479.985852 \r\nL 175.251591 480.022409 \r\nL 180.230955 479.747624 \r\nL 185.21032 479.679113 \r\nL 190.189684 479.48046 \r\nL 195.169048 479.879167 \r\nL 200.148412 479.78974 \r\nL 210.107141 480.168391 \r\nL 215.086505 479.844484 \r\nL 220.065869 480.122962 \r\nL 225.045233 479.144659 \r\nL 230.024597 479.784176 \r\nL 235.003962 479.372678 \r\nL 239.983326 479.410318 \r\nL 244.96269 479.742429 \r\nL 249.942054 479.267597 \r\nL 254.921418 479.476458 \r\nL 259.900783 479.434896 \r\nL 264.880147 479.529722 \r\nL 269.859511 480.00759 \r\nL 274.838875 479.70596 \r\nL 279.818239 479.792629 \r\nL 284.797604 479.127586 \r\nL 289.776968 479.398355 \r\nL 294.756332 479.045663 \r\nL 299.735696 479.234126 \r\nL 304.71506 479.151924 \r\nL 314.673789 479.483358 \r\nL 329.611881 479.725788 \r\nL 334.591245 479.357105 \r\nL 339.57061 479.549864 \r\nL 344.549974 478.725413 \r\nL 349.529338 479.362461 \r\nL 354.508702 478.476905 \r\nL 359.488066 479.242626 \r\nL 364.467431 478.635666 \r\nL 369.446795 478.709699 \r\nL 374.426159 479.222622 \r\nL 379.405523 478.801396 \r\nL 389.364252 479.711448 \r\nL 394.343616 478.919164 \r\nL 399.32298 479.37726 \r\nL 404.302344 478.811442 \r\nL 409.281708 478.414365 \r\nL 414.261073 478.807903 \r\nL 419.240437 478.788976 \r\nL 424.219801 478.59377 \r\nL 429.199165 478.667782 \r\nL 434.178529 478.389465 \r\nL 439.157894 478.34203 \r\nL 449.116622 479.077524 \r\nL 454.095986 478.599505 \r\nL 459.07535 479.069848 \r\nL 464.054715 478.467372 \r\nL 469.034079 478.702118 \r\nL 474.013443 477.866733 \r\nL 478.992807 478.500611 \r\nL 483.972171 478.196176 \r\nL 488.951535 478.091341 \r\nL 493.9309 478.228872 \r\nL 498.910264 478.169319 \r\nL 508.868992 478.909933 \r\nL 513.848356 478.499191 \r\nL 518.827721 479.014304 \r\nL 523.807085 477.687791 \r\nL 528.786449 478.307883 \r\nL 538.745177 477.974857 \r\nL 543.724542 477.720826 \r\nL 553.68327 478.245746 \r\nL 558.662634 478.202894 \r\nL 563.641998 478.772523 \r\nL 568.621363 478.635189 \r\nL 573.600727 478.202395 \r\nL 578.580091 478.337455 \r\nL 583.559455 477.672813 \r\nL 588.538819 478.034467 \r\nL 593.518184 477.505057 \r\nL 598.497548 477.568757 \r\nL 603.476912 477.769327 \r\nL 613.43564 477.706681 \r\nL 618.415005 478.182342 \r\nL 623.394369 478.21974 \r\nL 628.373733 478.469023 \r\nL 633.353097 477.70651 \r\nL 638.332461 478.588246 \r\nL 643.311826 477.137716 \r\nL 648.29119 478.09815 \r\nL 653.270554 476.998957 \r\nL 658.249918 477.808336 \r\nL 663.229282 477.56431 \r\nL 668.208646 477.509801 \r\nL 673.188011 478.028868 \r\nL 678.167375 477.916038 \r\nL 683.146739 478.080841 \r\nL 688.126103 478.357894 \r\nL 693.105467 477.883995 \r\nL 698.084832 478.502229 \r\nL 703.064196 477.531185 \r\nL 722.981653 477.331885 \r\nL 727.961017 476.987286 \r\nL 732.940381 477.534076 \r\nL 737.919745 477.228136 \r\nL 742.899109 477.790809 \r\nL 747.878474 477.882848 \r\nL 752.857838 477.559995 \r\nL 762.816566 477.407142 \r\nL 772.775295 476.599996 \r\nL 777.754659 477.130254 \r\nL 782.734023 477.03543 \r\nL 787.713387 476.567974 \r\nL 807.630844 477.156444 \r\nL 812.610208 476.8094 \r\nL 817.589572 477.142238 \r\nL 822.568936 477.348797 \r\nL 827.548301 478.009237 \r\nL 832.527665 477.303177 \r\nL 837.507029 476.350768 \r\nL 842.486393 474.673363 \r\nL 852.445122 475.582026 \r\nL 857.424486 475.450982 \r\nL 862.40385 475.625079 \r\nL 867.383214 475.638644 \r\nL 872.362578 477.934829 \r\nL 877.341943 479.905434 \r\nL 882.321307 483.072777 \r\nL 882.321307 483.072777 \r\n\" style=\"fill:none;stroke:#d62728;stroke-linecap:square;stroke-width:1.5;\"/>\r\n   </g>\r\n   <g id=\"line2d_40\">\r\n    <path clip-path=\"url(#p1bfb2f97cf)\" d=\"M 70.684943 484.774785 \r\nL 75.664307 484.702426 \r\nL 85.623036 484.056318 \r\nL 90.6024 482.490834 \r\nL 95.581764 481.282928 \r\nL 100.561128 481.404413 \r\nL 105.540493 480.767526 \r\nL 120.478585 480.752988 \r\nL 125.457949 480.607495 \r\nL 130.437314 480.951143 \r\nL 135.416678 481.013162 \r\nL 145.375406 480.749178 \r\nL 150.35477 480.855689 \r\nL 155.334134 480.500507 \r\nL 160.313499 480.805998 \r\nL 165.292863 479.797348 \r\nL 170.272227 480.045033 \r\nL 175.251591 479.876628 \r\nL 180.230955 479.923445 \r\nL 185.21032 479.806721 \r\nL 190.189684 479.515276 \r\nL 195.169048 479.831858 \r\nL 200.148412 479.97665 \r\nL 205.127776 479.774109 \r\nL 210.107141 480.060998 \r\nL 215.086505 479.729113 \r\nL 220.065869 480.163342 \r\nL 225.045233 479.127693 \r\nL 230.024597 479.557425 \r\nL 235.003962 479.32575 \r\nL 239.983326 479.825912 \r\nL 244.96269 479.577465 \r\nL 249.942054 479.569239 \r\nL 269.859511 479.98998 \r\nL 274.838875 479.793798 \r\nL 279.818239 480.143655 \r\nL 284.797604 479.522038 \r\nL 289.776968 479.713734 \r\nL 294.756332 479.591987 \r\nL 299.735696 479.704915 \r\nL 304.71506 479.700439 \r\nL 309.694424 479.439288 \r\nL 314.673789 479.661646 \r\nL 319.653153 479.500438 \r\nL 324.632517 479.645542 \r\nL 329.611881 480.01346 \r\nL 334.591245 479.82725 \r\nL 339.57061 480.026822 \r\nL 344.549974 479.192657 \r\nL 349.529338 479.384243 \r\nL 354.508702 478.914214 \r\nL 359.488066 479.603561 \r\nL 364.467431 479.054978 \r\nL 374.426159 479.520838 \r\nL 379.405523 479.242677 \r\nL 384.384887 479.617829 \r\nL 389.364252 479.788262 \r\nL 394.343616 479.263344 \r\nL 399.32298 479.94134 \r\nL 404.302344 478.962891 \r\nL 409.281708 479.086547 \r\nL 414.261073 478.996127 \r\nL 424.219801 479.364017 \r\nL 429.199165 478.995496 \r\nL 434.178529 479.254055 \r\nL 439.157894 478.772045 \r\nL 444.137258 479.102311 \r\nL 449.116622 479.645838 \r\nL 454.095986 479.181969 \r\nL 459.07535 479.315917 \r\nL 464.054715 478.694558 \r\nL 469.034079 478.787291 \r\nL 474.013443 478.546899 \r\nL 478.992807 478.86954 \r\nL 483.972171 478.499643 \r\nL 488.951535 478.829723 \r\nL 493.9309 478.955911 \r\nL 498.910264 478.392943 \r\nL 503.889628 478.940482 \r\nL 508.868992 479.312836 \r\nL 513.848356 479.044886 \r\nL 518.827721 479.328601 \r\nL 523.807085 478.15956 \r\nL 528.786449 478.474533 \r\nL 533.765813 478.179547 \r\nL 538.745177 478.78486 \r\nL 543.724542 478.246106 \r\nL 548.703906 478.415134 \r\nL 553.68327 478.740994 \r\nL 558.662634 478.443337 \r\nL 563.641998 478.449721 \r\nL 568.621363 478.792033 \r\nL 573.600727 478.579816 \r\nL 578.580091 478.625871 \r\nL 583.559455 477.904153 \r\nL 588.538819 478.257063 \r\nL 593.518184 477.964317 \r\nL 603.476912 478.296277 \r\nL 608.456276 477.857135 \r\nL 613.43564 478.369333 \r\nL 618.415005 478.327489 \r\nL 623.394369 479.054578 \r\nL 628.373733 478.972161 \r\nL 633.353097 478.45458 \r\nL 638.332461 478.82658 \r\nL 643.311826 477.759108 \r\nL 648.29119 478.017366 \r\nL 653.270554 477.713795 \r\nL 658.249918 477.863598 \r\nL 668.208646 477.62566 \r\nL 673.188011 478.196827 \r\nL 678.167375 477.838959 \r\nL 683.146739 478.52091 \r\nL 688.126103 478.600691 \r\nL 693.105467 478.127159 \r\nL 698.084832 478.549816 \r\nL 703.064196 477.40991 \r\nL 708.04356 477.98024 \r\nL 713.022924 477.632989 \r\nL 718.002288 477.914569 \r\nL 722.981653 477.741501 \r\nL 732.940381 478.222114 \r\nL 737.919745 477.589338 \r\nL 747.878474 478.702983 \r\nL 752.857838 478.35146 \r\nL 757.837202 478.598455 \r\nL 762.816566 477.956717 \r\nL 767.79593 477.935269 \r\nL 772.775295 477.387886 \r\nL 777.754659 477.890256 \r\nL 782.734023 477.746302 \r\nL 787.713387 477.718653 \r\nL 792.692751 478.119773 \r\nL 797.672116 477.704947 \r\nL 807.630844 478.872299 \r\nL 812.610208 478.140907 \r\nL 817.589572 478.606338 \r\nL 822.568936 478.592024 \r\nL 827.548301 479.58014 \r\nL 832.527665 478.514013 \r\nL 837.507029 476.855539 \r\nL 842.486393 475.940891 \r\nL 847.465757 475.83182 \r\nL 852.445122 476.157422 \r\nL 857.424486 476.066701 \r\nL 862.40385 476.954166 \r\nL 867.383214 476.724414 \r\nL 872.362578 477.993639 \r\nL 877.341943 479.14299 \r\nL 882.321307 481.016235 \r\nL 882.321307 481.016235 \r\n\" style=\"fill:none;stroke:#9467bd;stroke-linecap:square;stroke-width:1.5;\"/>\r\n   </g>\r\n   <g id=\"line2d_41\">\r\n    <path clip-path=\"url(#p1bfb2f97cf)\" d=\"M 70.684943 484.725155 \r\nL 75.664307 484.622901 \r\nL 80.643672 484.288416 \r\nL 85.623036 483.639997 \r\nL 90.6024 480.819992 \r\nL 95.581764 452.651162 \r\nL 100.561128 477.025824 \r\nL 105.540493 475.807795 \r\nL 110.519857 475.78326 \r\nL 115.499221 476.591725 \r\nL 120.478585 476.077386 \r\nL 125.457949 476.223286 \r\nL 130.437314 475.780897 \r\nL 135.416678 475.628534 \r\nL 145.375406 476.25831 \r\nL 150.35477 476.514072 \r\nL 155.334134 475.882489 \r\nL 160.313499 476.140591 \r\nL 165.292863 474.444491 \r\nL 170.272227 474.971562 \r\nL 175.251591 474.612536 \r\nL 180.230955 474.654576 \r\nL 185.21032 474.821701 \r\nL 190.189684 473.732645 \r\nL 195.169048 474.025859 \r\nL 200.148412 474.194357 \r\nL 210.107141 474.860941 \r\nL 215.086505 474.249372 \r\nL 220.065869 475.434784 \r\nL 225.045233 473.418803 \r\nL 230.024597 474.258968 \r\nL 235.003962 471.899199 \r\nL 239.983326 474.284888 \r\nL 244.96269 474.24184 \r\nL 249.942054 473.099575 \r\nL 254.921418 473.417462 \r\nL 259.900783 474.20664 \r\nL 264.880147 474.51611 \r\nL 269.859511 474.545517 \r\nL 274.838875 473.842494 \r\nL 279.818239 473.888622 \r\nL 284.797604 471.95753 \r\nL 289.776968 473.287791 \r\nL 294.756332 472.935709 \r\nL 299.735696 473.489384 \r\nL 304.71506 473.300151 \r\nL 309.694424 472.433547 \r\nL 314.673789 472.929265 \r\nL 319.653153 472.447979 \r\nL 329.611881 474.271034 \r\nL 334.591245 472.940514 \r\nL 339.57061 473.377113 \r\nL 344.549974 472.122302 \r\nL 349.529338 472.779692 \r\nL 354.508702 473.005493 \r\nL 359.488066 472.892241 \r\nL 364.467431 473.351449 \r\nL 369.446795 471.788587 \r\nL 374.426159 472.796958 \r\nL 379.405523 472.213258 \r\nL 384.384887 473.197871 \r\nL 389.364252 473.812743 \r\nL 394.343616 472.180678 \r\nL 399.32298 472.936374 \r\nL 404.302344 471.302705 \r\nL 409.281708 470.271025 \r\nL 414.261073 471.105833 \r\nL 419.240437 471.651311 \r\nL 424.219801 471.639114 \r\nL 429.199165 470.728064 \r\nL 439.157894 470.779492 \r\nL 449.116622 472.18478 \r\nL 454.095986 471.09505 \r\nL 459.07535 471.868438 \r\nL 464.054715 471.530622 \r\nL 469.034079 470.368539 \r\nL 474.013443 470.176096 \r\nL 478.992807 470.885753 \r\nL 483.972171 470.532938 \r\nL 493.9309 469.460739 \r\nL 498.910264 469.642193 \r\nL 503.889628 470.062459 \r\nL 508.868992 470.702097 \r\nL 513.848356 470.659878 \r\nL 518.827721 471.091268 \r\nL 523.807085 468.404486 \r\nL 528.786449 469.748539 \r\nL 533.765813 469.430415 \r\nL 538.745177 469.990338 \r\nL 543.724542 469.383636 \r\nL 548.703906 469.496828 \r\nL 553.68327 469.304705 \r\nL 558.662634 469.689518 \r\nL 563.641998 470.363257 \r\nL 568.621363 470.8837 \r\nL 573.600727 470.641869 \r\nL 578.580091 470.769485 \r\nL 583.559455 469.184867 \r\nL 588.538819 470.455455 \r\nL 598.497548 469.558838 \r\nL 603.476912 470.756514 \r\nL 608.456276 469.430441 \r\nL 613.43564 470.234677 \r\nL 623.394369 471.367185 \r\nL 628.373733 471.533485 \r\nL 633.353097 470.218232 \r\nL 638.332461 471.544845 \r\nL 643.311826 468.706072 \r\nL 648.29119 470.38422 \r\nL 653.270554 468.948331 \r\nL 658.249918 470.371808 \r\nL 663.229282 470.248545 \r\nL 668.208646 468.986377 \r\nL 673.188011 470.770611 \r\nL 678.167375 469.533936 \r\nL 683.146739 470.844379 \r\nL 688.126103 470.911977 \r\nL 693.105467 470.331061 \r\nL 698.084832 471.540491 \r\nL 703.064196 469.853351 \r\nL 708.04356 470.322826 \r\nL 713.022924 469.193743 \r\nL 718.002288 470.433668 \r\nL 722.981653 469.634684 \r\nL 727.961017 469.630977 \r\nL 732.940381 470.314492 \r\nL 737.919745 469.34986 \r\nL 742.899109 469.846986 \r\nL 747.878474 470.19496 \r\nL 752.857838 469.893563 \r\nL 757.837202 470.537471 \r\nL 762.816566 469.821194 \r\nL 767.79593 469.276376 \r\nL 772.775295 468.59364 \r\nL 777.754659 469.634299 \r\nL 782.734023 469.162309 \r\nL 787.713387 468.292108 \r\nL 792.692751 469.19969 \r\nL 797.672116 468.855894 \r\nL 802.65148 469.248069 \r\nL 807.630844 470.200728 \r\nL 812.610208 469.192367 \r\nL 817.589572 470.12806 \r\nL 822.568936 469.888333 \r\nL 827.548301 472.479323 \r\nL 832.527665 469.761322 \r\nL 837.507029 468.140163 \r\nL 842.486393 465.148208 \r\nL 847.465757 464.421194 \r\nL 852.445122 464.257022 \r\nL 857.424486 465.390922 \r\nL 862.40385 467.755752 \r\nL 872.362578 469.525068 \r\nL 877.341943 470.982714 \r\nL 882.321307 474.147622 \r\nL 882.321307 474.147622 \r\n\" style=\"fill:none;stroke:#8c564b;stroke-linecap:square;stroke-width:1.5;\"/>\r\n   </g>\r\n   <g id=\"line2d_42\">\r\n    <path clip-path=\"url(#p1bfb2f97cf)\" d=\"M 70.684943 484.719776 \r\nL 75.664307 484.472122 \r\nL 85.623036 483.168209 \r\nL 95.581764 480.277066 \r\nL 100.561128 480.424938 \r\nL 105.540493 479.819976 \r\nL 110.519857 479.693969 \r\nL 120.478585 479.673721 \r\nL 125.457949 479.960713 \r\nL 130.437314 479.854024 \r\nL 135.416678 479.4795 \r\nL 145.375406 479.530863 \r\nL 150.35477 479.658127 \r\nL 155.334134 479.167623 \r\nL 160.313499 479.506815 \r\nL 165.292863 478.612761 \r\nL 185.21032 478.606949 \r\nL 190.189684 478.352913 \r\nL 200.148412 479.162359 \r\nL 205.127776 479.147439 \r\nL 210.107141 479.279441 \r\nL 215.086505 479.024708 \r\nL 220.065869 479.10539 \r\nL 225.045233 478.405874 \r\nL 230.024597 479.002664 \r\nL 235.003962 478.634577 \r\nL 239.983326 478.862317 \r\nL 244.96269 478.781543 \r\nL 249.942054 478.343768 \r\nL 259.900783 478.781338 \r\nL 264.880147 478.684956 \r\nL 269.859511 479.457143 \r\nL 274.838875 478.541578 \r\nL 279.818239 479.013484 \r\nL 284.797604 478.307965 \r\nL 289.776968 478.447993 \r\nL 294.756332 478.358136 \r\nL 304.71506 478.738401 \r\nL 309.694424 477.859638 \r\nL 319.653153 478.381873 \r\nL 324.632517 478.58186 \r\nL 329.611881 478.94926 \r\nL 334.591245 478.2709 \r\nL 339.57061 478.778672 \r\nL 344.549974 478.051084 \r\nL 349.529338 478.261791 \r\nL 354.508702 478.131826 \r\nL 359.488066 478.322715 \r\nL 364.467431 478.353836 \r\nL 369.446795 478.161582 \r\nL 374.426159 478.2711 \r\nL 379.405523 478.02647 \r\nL 384.384887 478.946607 \r\nL 389.364252 479.160022 \r\nL 394.343616 478.759582 \r\nL 399.32298 478.60502 \r\nL 404.302344 477.859212 \r\nL 414.261073 477.503088 \r\nL 419.240437 477.973754 \r\nL 424.219801 478.109586 \r\nL 429.199165 477.429407 \r\nL 434.178529 477.972967 \r\nL 439.157894 477.552941 \r\nL 444.137258 478.396224 \r\nL 449.116622 478.638458 \r\nL 454.095986 478.226403 \r\nL 459.07535 478.572966 \r\nL 464.054715 477.492371 \r\nL 474.013443 477.408925 \r\nL 478.992807 477.839784 \r\nL 498.910264 478.903927 \r\nL 503.889628 478.794815 \r\nL 508.868992 478.918993 \r\nL 513.848356 479.538076 \r\nL 518.827721 479.683496 \r\nL 523.807085 477.521059 \r\nL 528.786449 477.951276 \r\nL 533.765813 478.268865 \r\nL 538.745177 478.302381 \r\nL 543.724542 478.553027 \r\nL 553.68327 478.018794 \r\nL 558.662634 478.644876 \r\nL 563.641998 478.633836 \r\nL 568.621363 478.773967 \r\nL 573.600727 478.13676 \r\nL 578.580091 478.10535 \r\nL 583.559455 477.649918 \r\nL 588.538819 477.980121 \r\nL 593.518184 477.302496 \r\nL 598.497548 477.291623 \r\nL 603.476912 477.712004 \r\nL 608.456276 477.188101 \r\nL 613.43564 477.694404 \r\nL 618.415005 477.337951 \r\nL 623.394369 477.710235 \r\nL 628.373733 477.90019 \r\nL 633.353097 477.047937 \r\nL 638.332461 478.207118 \r\nL 643.311826 476.790185 \r\nL 648.29119 477.722368 \r\nL 653.270554 478.147252 \r\nL 658.249918 476.844058 \r\nL 663.229282 477.286323 \r\nL 668.208646 476.600061 \r\nL 673.188011 477.111314 \r\nL 678.167375 477.004042 \r\nL 683.146739 477.342741 \r\nL 688.126103 477.930149 \r\nL 693.105467 476.671289 \r\nL 698.084832 476.923052 \r\nL 703.064196 476.341509 \r\nL 713.022924 476.462925 \r\nL 718.002288 476.918276 \r\nL 722.981653 476.754 \r\nL 727.961017 476.107916 \r\nL 732.940381 476.495102 \r\nL 737.919745 476.371104 \r\nL 742.899109 476.919345 \r\nL 747.878474 477.276299 \r\nL 752.857838 476.377325 \r\nL 757.837202 476.973789 \r\nL 762.816566 476.21317 \r\nL 772.775295 475.761139 \r\nL 777.754659 476.506346 \r\nL 782.734023 475.583836 \r\nL 792.692751 475.820045 \r\nL 797.672116 475.661532 \r\nL 802.65148 476.396841 \r\nL 807.630844 476.572616 \r\nL 812.610208 476.048999 \r\nL 817.589572 476.983063 \r\nL 822.568936 476.394394 \r\nL 827.548301 477.019426 \r\nL 837.507029 474.071109 \r\nL 842.486393 473.478597 \r\nL 847.465757 474.57252 \r\nL 852.445122 475.473749 \r\nL 857.424486 474.910021 \r\nL 862.40385 475.94648 \r\nL 867.383214 475.139482 \r\nL 872.362578 475.130126 \r\nL 877.341943 476.659643 \r\nL 882.321307 478.490042 \r\nL 882.321307 478.490042 \r\n\" style=\"fill:none;stroke:#e377c2;stroke-linecap:square;stroke-width:1.5;\"/>\r\n   </g>\r\n   <g id=\"patch_3\">\r\n    <path d=\"M 30.103125 507.038438 \r\nL 30.103125 17.798438 \r\n\" style=\"fill:none;stroke:#000000;stroke-linecap:square;stroke-linejoin:miter;stroke-width:0.8;\"/>\r\n   </g>\r\n   <g id=\"patch_4\">\r\n    <path d=\"M 922.903125 507.038438 \r\nL 922.903125 17.798438 \r\n\" style=\"fill:none;stroke:#000000;stroke-linecap:square;stroke-linejoin:miter;stroke-width:0.8;\"/>\r\n   </g>\r\n   <g id=\"patch_5\">\r\n    <path d=\"M 30.103125 507.038438 \r\nL 922.903125 507.038438 \r\n\" style=\"fill:none;stroke:#000000;stroke-linecap:square;stroke-linejoin:miter;stroke-width:0.8;\"/>\r\n   </g>\r\n   <g id=\"patch_6\">\r\n    <path d=\"M 30.103125 17.798438 \r\nL 922.903125 17.798438 \r\n\" style=\"fill:none;stroke:#000000;stroke-linecap:square;stroke-linejoin:miter;stroke-width:0.8;\"/>\r\n   </g>\r\n   <g id=\"legend_1\">\r\n    <g id=\"patch_7\">\r\n     <path d=\"M 37.103125 437.604688 \r\nL 171.560938 437.604688 \r\nQ 173.560938 437.604688 173.560938 435.604688 \r\nL 173.560938 24.798438 \r\nQ 173.560938 22.798438 171.560938 22.798438 \r\nL 37.103125 22.798438 \r\nQ 35.103125 22.798438 35.103125 24.798438 \r\nL 35.103125 435.604688 \r\nQ 35.103125 437.604688 37.103125 437.604688 \r\nz\r\n\" style=\"fill:#ffffff;opacity:0.8;stroke:#cccccc;stroke-linejoin:miter;\"/>\r\n    </g>\r\n    <g id=\"text_17\">\r\n     <!-- Unidade da Federação -->\r\n     <g transform=\"translate(48.289063 34.415625)scale(0.1 -0.1)\">\r\n      <defs>\r\n       <path d=\"M 8.6875 72.90625 \r\nL 18.609375 72.90625 \r\nL 18.609375 28.609375 \r\nQ 18.609375 16.890625 22.84375 11.734375 \r\nQ 27.09375 6.59375 36.625 6.59375 \r\nQ 46.09375 6.59375 50.34375 11.734375 \r\nQ 54.59375 16.890625 54.59375 28.609375 \r\nL 54.59375 72.90625 \r\nL 64.5 72.90625 \r\nL 64.5 27.390625 \r\nQ 64.5 13.140625 57.4375 5.859375 \r\nQ 50.390625 -1.421875 36.625 -1.421875 \r\nQ 22.796875 -1.421875 15.734375 5.859375 \r\nQ 8.6875 13.140625 8.6875 27.390625 \r\nz\r\n\" id=\"DejaVuSans-85\"/>\r\n       <path d=\"M 54.890625 33.015625 \r\nL 54.890625 0 \r\nL 45.90625 0 \r\nL 45.90625 32.71875 \r\nQ 45.90625 40.484375 42.875 44.328125 \r\nQ 39.84375 48.1875 33.796875 48.1875 \r\nQ 26.515625 48.1875 22.3125 43.546875 \r\nQ 18.109375 38.921875 18.109375 30.90625 \r\nL 18.109375 0 \r\nL 9.078125 0 \r\nL 9.078125 54.6875 \r\nL 18.109375 54.6875 \r\nL 18.109375 46.1875 \r\nQ 21.34375 51.125 25.703125 53.5625 \r\nQ 30.078125 56 35.796875 56 \r\nQ 45.21875 56 50.046875 50.171875 \r\nQ 54.890625 44.34375 54.890625 33.015625 \r\nz\r\n\" id=\"DejaVuSans-110\"/>\r\n       <path d=\"M 9.421875 54.6875 \r\nL 18.40625 54.6875 \r\nL 18.40625 0 \r\nL 9.421875 0 \r\nz\r\nM 9.421875 75.984375 \r\nL 18.40625 75.984375 \r\nL 18.40625 64.59375 \r\nL 9.421875 64.59375 \r\nz\r\n\" id=\"DejaVuSans-105\"/>\r\n       <path d=\"M 45.40625 46.390625 \r\nL 45.40625 75.984375 \r\nL 54.390625 75.984375 \r\nL 54.390625 0 \r\nL 45.40625 0 \r\nL 45.40625 8.203125 \r\nQ 42.578125 3.328125 38.25 0.953125 \r\nQ 33.9375 -1.421875 27.875 -1.421875 \r\nQ 17.96875 -1.421875 11.734375 6.484375 \r\nQ 5.515625 14.40625 5.515625 27.296875 \r\nQ 5.515625 40.1875 11.734375 48.09375 \r\nQ 17.96875 56 27.875 56 \r\nQ 33.9375 56 38.25 53.625 \r\nQ 42.578125 51.265625 45.40625 46.390625 \r\nz\r\nM 14.796875 27.296875 \r\nQ 14.796875 17.390625 18.875 11.75 \r\nQ 22.953125 6.109375 30.078125 6.109375 \r\nQ 37.203125 6.109375 41.296875 11.75 \r\nQ 45.40625 17.390625 45.40625 27.296875 \r\nQ 45.40625 37.203125 41.296875 42.84375 \r\nQ 37.203125 48.484375 30.078125 48.484375 \r\nQ 22.953125 48.484375 18.875 42.84375 \r\nQ 14.796875 37.203125 14.796875 27.296875 \r\nz\r\n\" id=\"DejaVuSans-100\"/>\r\n       <path d=\"M 34.28125 27.484375 \r\nQ 23.390625 27.484375 19.1875 25 \r\nQ 14.984375 22.515625 14.984375 16.5 \r\nQ 14.984375 11.71875 18.140625 8.90625 \r\nQ 21.296875 6.109375 26.703125 6.109375 \r\nQ 34.1875 6.109375 38.703125 11.40625 \r\nQ 43.21875 16.703125 43.21875 25.484375 \r\nL 43.21875 27.484375 \r\nz\r\nM 52.203125 31.203125 \r\nL 52.203125 0 \r\nL 43.21875 0 \r\nL 43.21875 8.296875 \r\nQ 40.140625 3.328125 35.546875 0.953125 \r\nQ 30.953125 -1.421875 24.3125 -1.421875 \r\nQ 15.921875 -1.421875 10.953125 3.296875 \r\nQ 6 8.015625 6 15.921875 \r\nQ 6 25.140625 12.171875 29.828125 \r\nQ 18.359375 34.515625 30.609375 34.515625 \r\nL 43.21875 34.515625 \r\nL 43.21875 35.40625 \r\nQ 43.21875 41.609375 39.140625 45 \r\nQ 35.0625 48.390625 27.6875 48.390625 \r\nQ 23 48.390625 18.546875 47.265625 \r\nQ 14.109375 46.140625 10.015625 43.890625 \r\nL 10.015625 52.203125 \r\nQ 14.9375 54.109375 19.578125 55.046875 \r\nQ 24.21875 56 28.609375 56 \r\nQ 40.484375 56 46.34375 49.84375 \r\nQ 52.203125 43.703125 52.203125 31.203125 \r\nz\r\n\" id=\"DejaVuSans-97\"/>\r\n       <path id=\"DejaVuSans-32\"/>\r\n       <path d=\"M 9.8125 72.90625 \r\nL 51.703125 72.90625 \r\nL 51.703125 64.59375 \r\nL 19.671875 64.59375 \r\nL 19.671875 43.109375 \r\nL 48.578125 43.109375 \r\nL 48.578125 34.8125 \r\nL 19.671875 34.8125 \r\nL 19.671875 0 \r\nL 9.8125 0 \r\nz\r\n\" id=\"DejaVuSans-70\"/>\r\n       <path d=\"M 48.78125 52.59375 \r\nL 48.78125 44.1875 \r\nQ 44.96875 46.296875 41.140625 47.34375 \r\nQ 37.3125 48.390625 33.40625 48.390625 \r\nQ 24.65625 48.390625 19.8125 42.84375 \r\nQ 14.984375 37.3125 14.984375 27.296875 \r\nQ 14.984375 17.28125 19.8125 11.734375 \r\nQ 24.65625 6.203125 33.40625 6.203125 \r\nQ 37.3125 6.203125 41.140625 7.25 \r\nQ 44.96875 8.296875 48.78125 10.40625 \r\nL 48.78125 2.09375 \r\nQ 45.015625 0.34375 40.984375 -0.53125 \r\nQ 36.96875 -1.421875 32.421875 -1.421875 \r\nQ 20.0625 -1.421875 12.78125 6.34375 \r\nQ 5.515625 14.109375 5.515625 27.296875 \r\nQ 5.515625 40.671875 12.859375 48.328125 \r\nQ 20.21875 56 33.015625 56 \r\nQ 37.15625 56 41.109375 55.140625 \r\nQ 45.0625 54.296875 48.78125 52.59375 \r\nz\r\nM 36.078125 0 \r\nQ 38.765625 -3.03125 40.078125 -5.59375 \r\nQ 41.40625 -8.15625 41.40625 -10.5 \r\nQ 41.40625 -14.84375 38.46875 -17.0625 \r\nQ 35.546875 -19.28125 29.78125 -19.28125 \r\nQ 27.546875 -19.28125 25.421875 -18.984375 \r\nQ 23.296875 -18.703125 21.1875 -18.109375 \r\nL 21.1875 -11.71875 \r\nQ 22.859375 -12.546875 24.65625 -12.90625 \r\nQ 26.46875 -13.28125 28.765625 -13.28125 \r\nQ 31.640625 -13.28125 33.109375 -12.109375 \r\nQ 34.578125 -10.9375 34.578125 -8.6875 \r\nQ 34.578125 -7.234375 33.515625 -5.109375 \r\nQ 32.46875 -2.984375 30.28125 0 \r\nz\r\n\" id=\"DejaVuSans-231\"/>\r\n       <path d=\"M 34.28125 27.484375 \r\nQ 23.390625 27.484375 19.1875 25 \r\nQ 14.984375 22.515625 14.984375 16.5 \r\nQ 14.984375 11.71875 18.140625 8.90625 \r\nQ 21.296875 6.109375 26.703125 6.109375 \r\nQ 34.1875 6.109375 38.703125 11.40625 \r\nQ 43.21875 16.703125 43.21875 25.484375 \r\nL 43.21875 27.484375 \r\nz\r\nM 52.203125 31.203125 \r\nL 52.203125 0 \r\nL 43.21875 0 \r\nL 43.21875 8.296875 \r\nQ 40.140625 3.328125 35.546875 0.953125 \r\nQ 30.953125 -1.421875 24.3125 -1.421875 \r\nQ 15.921875 -1.421875 10.953125 3.296875 \r\nQ 6 8.015625 6 15.921875 \r\nQ 6 25.140625 12.171875 29.828125 \r\nQ 18.359375 34.515625 30.609375 34.515625 \r\nL 43.21875 34.515625 \r\nL 43.21875 35.40625 \r\nQ 43.21875 41.609375 39.140625 45 \r\nQ 35.0625 48.390625 27.6875 48.390625 \r\nQ 23 48.390625 18.546875 47.265625 \r\nQ 14.109375 46.140625 10.015625 43.890625 \r\nL 10.015625 52.203125 \r\nQ 14.9375 54.109375 19.578125 55.046875 \r\nQ 24.21875 56 28.609375 56 \r\nQ 40.484375 56 46.34375 49.84375 \r\nQ 52.203125 43.703125 52.203125 31.203125 \r\nz\r\nM 28.8125 66.890625 \r\nL 26.03125 69.578125 \r\nQ 24.953125 70.5625 24.140625 71.015625 \r\nQ 23.34375 71.484375 22.703125 71.484375 \r\nQ 20.84375 71.484375 19.96875 69.703125 \r\nQ 19.09375 67.921875 19 63.921875 \r\nL 12.890625 63.921875 \r\nQ 12.984375 70.515625 15.46875 74.09375 \r\nQ 17.96875 77.6875 22.40625 77.6875 \r\nQ 24.265625 77.6875 25.828125 77 \r\nQ 27.390625 76.3125 29.203125 74.703125 \r\nL 31.984375 72.015625 \r\nQ 33.0625 71.046875 33.859375 70.578125 \r\nQ 34.671875 70.125 35.296875 70.125 \r\nQ 37.15625 70.125 38.03125 71.90625 \r\nQ 38.921875 73.6875 39.015625 77.6875 \r\nL 45.125 77.6875 \r\nQ 45.015625 71.09375 42.53125 67.5 \r\nQ 40.046875 63.921875 35.59375 63.921875 \r\nQ 33.734375 63.921875 32.171875 64.59375 \r\nQ 30.609375 65.28125 28.8125 66.890625 \r\nz\r\n\" id=\"DejaVuSans-227\"/>\r\n      </defs>\r\n      <use xlink:href=\"#DejaVuSans-85\"/>\r\n      <use x=\"73.193359\" xlink:href=\"#DejaVuSans-110\"/>\r\n      <use x=\"136.572266\" xlink:href=\"#DejaVuSans-105\"/>\r\n      <use x=\"164.355469\" xlink:href=\"#DejaVuSans-100\"/>\r\n      <use x=\"227.832031\" xlink:href=\"#DejaVuSans-97\"/>\r\n      <use x=\"289.111328\" xlink:href=\"#DejaVuSans-100\"/>\r\n      <use x=\"352.587891\" xlink:href=\"#DejaVuSans-101\"/>\r\n      <use x=\"414.111328\" xlink:href=\"#DejaVuSans-32\"/>\r\n      <use x=\"445.898438\" xlink:href=\"#DejaVuSans-100\"/>\r\n      <use x=\"509.375\" xlink:href=\"#DejaVuSans-97\"/>\r\n      <use x=\"570.654297\" xlink:href=\"#DejaVuSans-32\"/>\r\n      <use x=\"602.441406\" xlink:href=\"#DejaVuSans-70\"/>\r\n      <use x=\"654.460938\" xlink:href=\"#DejaVuSans-101\"/>\r\n      <use x=\"715.984375\" xlink:href=\"#DejaVuSans-100\"/>\r\n      <use x=\"779.460938\" xlink:href=\"#DejaVuSans-101\"/>\r\n      <use x=\"840.984375\" xlink:href=\"#DejaVuSans-114\"/>\r\n      <use x=\"882.097656\" xlink:href=\"#DejaVuSans-97\"/>\r\n      <use x=\"943.376953\" xlink:href=\"#DejaVuSans-231\"/>\r\n      <use x=\"998.357422\" xlink:href=\"#DejaVuSans-227\"/>\r\n      <use x=\"1059.636719\" xlink:href=\"#DejaVuSans-111\"/>\r\n     </g>\r\n    </g>\r\n    <g id=\"line2d_43\">\r\n     <path d=\"M 39.103125 45.59375 \r\nL 59.103125 45.59375 \r\n\" style=\"fill:none;stroke:#1f77b4;stroke-linecap:square;stroke-width:1.5;\"/>\r\n    </g>\r\n    <g id=\"line2d_44\"/>\r\n    <g id=\"text_18\">\r\n     <!-- Rondônia -->\r\n     <g transform=\"translate(67.103125 49.09375)scale(0.1 -0.1)\">\r\n      <defs>\r\n       <path d=\"M 44.390625 34.1875 \r\nQ 47.5625 33.109375 50.5625 29.59375 \r\nQ 53.5625 26.078125 56.59375 19.921875 \r\nL 66.609375 0 \r\nL 56 0 \r\nL 46.6875 18.703125 \r\nQ 43.0625 26.03125 39.671875 28.421875 \r\nQ 36.28125 30.8125 30.421875 30.8125 \r\nL 19.671875 30.8125 \r\nL 19.671875 0 \r\nL 9.8125 0 \r\nL 9.8125 72.90625 \r\nL 32.078125 72.90625 \r\nQ 44.578125 72.90625 50.734375 67.671875 \r\nQ 56.890625 62.453125 56.890625 51.90625 \r\nQ 56.890625 45.015625 53.6875 40.46875 \r\nQ 50.484375 35.9375 44.390625 34.1875 \r\nz\r\nM 19.671875 64.796875 \r\nL 19.671875 38.921875 \r\nL 32.078125 38.921875 \r\nQ 39.203125 38.921875 42.84375 42.21875 \r\nQ 46.484375 45.515625 46.484375 51.90625 \r\nQ 46.484375 58.296875 42.84375 61.546875 \r\nQ 39.203125 64.796875 32.078125 64.796875 \r\nz\r\n\" id=\"DejaVuSans-82\"/>\r\n       <path d=\"M 30.609375 48.390625 \r\nQ 23.390625 48.390625 19.1875 42.75 \r\nQ 14.984375 37.109375 14.984375 27.296875 \r\nQ 14.984375 17.484375 19.15625 11.84375 \r\nQ 23.34375 6.203125 30.609375 6.203125 \r\nQ 37.796875 6.203125 41.984375 11.859375 \r\nQ 46.1875 17.53125 46.1875 27.296875 \r\nQ 46.1875 37.015625 41.984375 42.703125 \r\nQ 37.796875 48.390625 30.609375 48.390625 \r\nz\r\nM 30.609375 56 \r\nQ 42.328125 56 49.015625 48.375 \r\nQ 55.71875 40.765625 55.71875 27.296875 \r\nQ 55.71875 13.875 49.015625 6.21875 \r\nQ 42.328125 -1.421875 30.609375 -1.421875 \r\nQ 18.84375 -1.421875 12.171875 6.21875 \r\nQ 5.515625 13.875 5.515625 27.296875 \r\nQ 5.515625 40.765625 12.171875 48.375 \r\nQ 18.84375 56 30.609375 56 \r\nz\r\nM 27 79.984375 \r\nL 34.234375 79.984375 \r\nL 46.1875 61.625 \r\nL 39.40625 61.625 \r\nL 30.609375 73.578125 \r\nL 21.828125 61.625 \r\nL 15.046875 61.625 \r\nz\r\n\" id=\"DejaVuSans-244\"/>\r\n      </defs>\r\n      <use xlink:href=\"#DejaVuSans-82\"/>\r\n      <use x=\"64.982422\" xlink:href=\"#DejaVuSans-111\"/>\r\n      <use x=\"126.164062\" xlink:href=\"#DejaVuSans-110\"/>\r\n      <use x=\"189.542969\" xlink:href=\"#DejaVuSans-100\"/>\r\n      <use x=\"253.019531\" xlink:href=\"#DejaVuSans-244\"/>\r\n      <use x=\"314.201172\" xlink:href=\"#DejaVuSans-110\"/>\r\n      <use x=\"377.580078\" xlink:href=\"#DejaVuSans-105\"/>\r\n      <use x=\"405.363281\" xlink:href=\"#DejaVuSans-97\"/>\r\n     </g>\r\n    </g>\r\n    <g id=\"line2d_45\">\r\n     <path d=\"M 39.103125 60.271875 \r\nL 59.103125 60.271875 \r\n\" style=\"fill:none;stroke:#ff7f0e;stroke-linecap:square;stroke-width:1.5;\"/>\r\n    </g>\r\n    <g id=\"line2d_46\"/>\r\n    <g id=\"text_19\">\r\n     <!-- Acre -->\r\n     <g transform=\"translate(67.103125 63.771875)scale(0.1 -0.1)\">\r\n      <defs>\r\n       <path d=\"M 48.78125 52.59375 \r\nL 48.78125 44.1875 \r\nQ 44.96875 46.296875 41.140625 47.34375 \r\nQ 37.3125 48.390625 33.40625 48.390625 \r\nQ 24.65625 48.390625 19.8125 42.84375 \r\nQ 14.984375 37.3125 14.984375 27.296875 \r\nQ 14.984375 17.28125 19.8125 11.734375 \r\nQ 24.65625 6.203125 33.40625 6.203125 \r\nQ 37.3125 6.203125 41.140625 7.25 \r\nQ 44.96875 8.296875 48.78125 10.40625 \r\nL 48.78125 2.09375 \r\nQ 45.015625 0.34375 40.984375 -0.53125 \r\nQ 36.96875 -1.421875 32.421875 -1.421875 \r\nQ 20.0625 -1.421875 12.78125 6.34375 \r\nQ 5.515625 14.109375 5.515625 27.296875 \r\nQ 5.515625 40.671875 12.859375 48.328125 \r\nQ 20.21875 56 33.015625 56 \r\nQ 37.15625 56 41.109375 55.140625 \r\nQ 45.0625 54.296875 48.78125 52.59375 \r\nz\r\n\" id=\"DejaVuSans-99\"/>\r\n      </defs>\r\n      <use xlink:href=\"#DejaVuSans-65\"/>\r\n      <use x=\"66.658203\" xlink:href=\"#DejaVuSans-99\"/>\r\n      <use x=\"121.638672\" xlink:href=\"#DejaVuSans-114\"/>\r\n      <use x=\"160.501953\" xlink:href=\"#DejaVuSans-101\"/>\r\n     </g>\r\n    </g>\r\n    <g id=\"line2d_47\">\r\n     <path d=\"M 39.103125 74.95 \r\nL 59.103125 74.95 \r\n\" style=\"fill:none;stroke:#2ca02c;stroke-linecap:square;stroke-width:1.5;\"/>\r\n    </g>\r\n    <g id=\"line2d_48\"/>\r\n    <g id=\"text_20\">\r\n     <!-- Amazonas -->\r\n     <g transform=\"translate(67.103125 78.45)scale(0.1 -0.1)\">\r\n      <defs>\r\n       <path d=\"M 52 44.1875 \r\nQ 55.375 50.25 60.0625 53.125 \r\nQ 64.75 56 71.09375 56 \r\nQ 79.640625 56 84.28125 50.015625 \r\nQ 88.921875 44.046875 88.921875 33.015625 \r\nL 88.921875 0 \r\nL 79.890625 0 \r\nL 79.890625 32.71875 \r\nQ 79.890625 40.578125 77.09375 44.375 \r\nQ 74.3125 48.1875 68.609375 48.1875 \r\nQ 61.625 48.1875 57.5625 43.546875 \r\nQ 53.515625 38.921875 53.515625 30.90625 \r\nL 53.515625 0 \r\nL 44.484375 0 \r\nL 44.484375 32.71875 \r\nQ 44.484375 40.625 41.703125 44.40625 \r\nQ 38.921875 48.1875 33.109375 48.1875 \r\nQ 26.21875 48.1875 22.15625 43.53125 \r\nQ 18.109375 38.875 18.109375 30.90625 \r\nL 18.109375 0 \r\nL 9.078125 0 \r\nL 9.078125 54.6875 \r\nL 18.109375 54.6875 \r\nL 18.109375 46.1875 \r\nQ 21.1875 51.21875 25.484375 53.609375 \r\nQ 29.78125 56 35.6875 56 \r\nQ 41.65625 56 45.828125 52.96875 \r\nQ 50 49.953125 52 44.1875 \r\nz\r\n\" id=\"DejaVuSans-109\"/>\r\n       <path d=\"M 44.28125 53.078125 \r\nL 44.28125 44.578125 \r\nQ 40.484375 46.53125 36.375 47.5 \r\nQ 32.28125 48.484375 27.875 48.484375 \r\nQ 21.1875 48.484375 17.84375 46.4375 \r\nQ 14.5 44.390625 14.5 40.28125 \r\nQ 14.5 37.15625 16.890625 35.375 \r\nQ 19.28125 33.59375 26.515625 31.984375 \r\nL 29.59375 31.296875 \r\nQ 39.15625 29.25 43.1875 25.515625 \r\nQ 47.21875 21.78125 47.21875 15.09375 \r\nQ 47.21875 7.46875 41.1875 3.015625 \r\nQ 35.15625 -1.421875 24.609375 -1.421875 \r\nQ 20.21875 -1.421875 15.453125 -0.5625 \r\nQ 10.6875 0.296875 5.421875 2 \r\nL 5.421875 11.28125 \r\nQ 10.40625 8.6875 15.234375 7.390625 \r\nQ 20.0625 6.109375 24.8125 6.109375 \r\nQ 31.15625 6.109375 34.5625 8.28125 \r\nQ 37.984375 10.453125 37.984375 14.40625 \r\nQ 37.984375 18.0625 35.515625 20.015625 \r\nQ 33.0625 21.96875 24.703125 23.78125 \r\nL 21.578125 24.515625 \r\nQ 13.234375 26.265625 9.515625 29.90625 \r\nQ 5.8125 33.546875 5.8125 39.890625 \r\nQ 5.8125 47.609375 11.28125 51.796875 \r\nQ 16.75 56 26.8125 56 \r\nQ 31.78125 56 36.171875 55.265625 \r\nQ 40.578125 54.546875 44.28125 53.078125 \r\nz\r\n\" id=\"DejaVuSans-115\"/>\r\n      </defs>\r\n      <use xlink:href=\"#DejaVuSans-65\"/>\r\n      <use x=\"68.408203\" xlink:href=\"#DejaVuSans-109\"/>\r\n      <use x=\"165.820312\" xlink:href=\"#DejaVuSans-97\"/>\r\n      <use x=\"227.099609\" xlink:href=\"#DejaVuSans-122\"/>\r\n      <use x=\"279.589844\" xlink:href=\"#DejaVuSans-111\"/>\r\n      <use x=\"340.771484\" xlink:href=\"#DejaVuSans-110\"/>\r\n      <use x=\"404.150391\" xlink:href=\"#DejaVuSans-97\"/>\r\n      <use x=\"465.429688\" xlink:href=\"#DejaVuSans-115\"/>\r\n     </g>\r\n    </g>\r\n    <g id=\"line2d_49\">\r\n     <path d=\"M 39.103125 89.628125 \r\nL 59.103125 89.628125 \r\n\" style=\"fill:none;stroke:#d62728;stroke-linecap:square;stroke-width:1.5;\"/>\r\n    </g>\r\n    <g id=\"line2d_50\"/>\r\n    <g id=\"text_21\">\r\n     <!-- Roraima -->\r\n     <g transform=\"translate(67.103125 93.128125)scale(0.1 -0.1)\">\r\n      <use xlink:href=\"#DejaVuSans-82\"/>\r\n      <use x=\"64.982422\" xlink:href=\"#DejaVuSans-111\"/>\r\n      <use x=\"126.164062\" xlink:href=\"#DejaVuSans-114\"/>\r\n      <use x=\"167.277344\" xlink:href=\"#DejaVuSans-97\"/>\r\n      <use x=\"228.556641\" xlink:href=\"#DejaVuSans-105\"/>\r\n      <use x=\"256.339844\" xlink:href=\"#DejaVuSans-109\"/>\r\n      <use x=\"353.751953\" xlink:href=\"#DejaVuSans-97\"/>\r\n     </g>\r\n    </g>\r\n    <g id=\"line2d_51\">\r\n     <path d=\"M 39.103125 104.30625 \r\nL 59.103125 104.30625 \r\n\" style=\"fill:none;stroke:#9467bd;stroke-linecap:square;stroke-width:1.5;\"/>\r\n    </g>\r\n    <g id=\"line2d_52\"/>\r\n    <g id=\"text_22\">\r\n     <!-- Pará -->\r\n     <g transform=\"translate(67.103125 107.80625)scale(0.1 -0.1)\">\r\n      <defs>\r\n       <path d=\"M 19.671875 64.796875 \r\nL 19.671875 37.40625 \r\nL 32.078125 37.40625 \r\nQ 38.96875 37.40625 42.71875 40.96875 \r\nQ 46.484375 44.53125 46.484375 51.125 \r\nQ 46.484375 57.671875 42.71875 61.234375 \r\nQ 38.96875 64.796875 32.078125 64.796875 \r\nz\r\nM 9.8125 72.90625 \r\nL 32.078125 72.90625 \r\nQ 44.34375 72.90625 50.609375 67.359375 \r\nQ 56.890625 61.8125 56.890625 51.125 \r\nQ 56.890625 40.328125 50.609375 34.8125 \r\nQ 44.34375 29.296875 32.078125 29.296875 \r\nL 19.671875 29.296875 \r\nL 19.671875 0 \r\nL 9.8125 0 \r\nz\r\n\" id=\"DejaVuSans-80\"/>\r\n       <path d=\"M 34.28125 27.484375 \r\nQ 23.390625 27.484375 19.1875 25 \r\nQ 14.984375 22.515625 14.984375 16.5 \r\nQ 14.984375 11.71875 18.140625 8.90625 \r\nQ 21.296875 6.109375 26.703125 6.109375 \r\nQ 34.1875 6.109375 38.703125 11.40625 \r\nQ 43.21875 16.703125 43.21875 25.484375 \r\nL 43.21875 27.484375 \r\nz\r\nM 52.203125 31.203125 \r\nL 52.203125 0 \r\nL 43.21875 0 \r\nL 43.21875 8.296875 \r\nQ 40.140625 3.328125 35.546875 0.953125 \r\nQ 30.953125 -1.421875 24.3125 -1.421875 \r\nQ 15.921875 -1.421875 10.953125 3.296875 \r\nQ 6 8.015625 6 15.921875 \r\nQ 6 25.140625 12.171875 29.828125 \r\nQ 18.359375 34.515625 30.609375 34.515625 \r\nL 43.21875 34.515625 \r\nL 43.21875 35.40625 \r\nQ 43.21875 41.609375 39.140625 45 \r\nQ 35.0625 48.390625 27.6875 48.390625 \r\nQ 23 48.390625 18.546875 47.265625 \r\nQ 14.109375 46.140625 10.015625 43.890625 \r\nL 10.015625 52.203125 \r\nQ 14.9375 54.109375 19.578125 55.046875 \r\nQ 24.21875 56 28.609375 56 \r\nQ 40.484375 56 46.34375 49.84375 \r\nQ 52.203125 43.703125 52.203125 31.203125 \r\nz\r\nM 35.796875 79.984375 \r\nL 45.515625 79.984375 \r\nL 29.59375 61.625 \r\nL 22.125 61.625 \r\nz\r\n\" id=\"DejaVuSans-225\"/>\r\n      </defs>\r\n      <use xlink:href=\"#DejaVuSans-80\"/>\r\n      <use x=\"55.802734\" xlink:href=\"#DejaVuSans-97\"/>\r\n      <use x=\"117.082031\" xlink:href=\"#DejaVuSans-114\"/>\r\n      <use x=\"158.195312\" xlink:href=\"#DejaVuSans-225\"/>\r\n     </g>\r\n    </g>\r\n    <g id=\"line2d_53\">\r\n     <path d=\"M 39.103125 119.384375 \r\nL 59.103125 119.384375 \r\n\" style=\"fill:none;stroke:#8c564b;stroke-linecap:square;stroke-width:1.5;\"/>\r\n    </g>\r\n    <g id=\"line2d_54\"/>\r\n    <g id=\"text_23\">\r\n     <!-- Amapá -->\r\n     <g transform=\"translate(67.103125 122.884375)scale(0.1 -0.1)\">\r\n      <defs>\r\n       <path d=\"M 18.109375 8.203125 \r\nL 18.109375 -20.796875 \r\nL 9.078125 -20.796875 \r\nL 9.078125 54.6875 \r\nL 18.109375 54.6875 \r\nL 18.109375 46.390625 \r\nQ 20.953125 51.265625 25.265625 53.625 \r\nQ 29.59375 56 35.59375 56 \r\nQ 45.5625 56 51.78125 48.09375 \r\nQ 58.015625 40.1875 58.015625 27.296875 \r\nQ 58.015625 14.40625 51.78125 6.484375 \r\nQ 45.5625 -1.421875 35.59375 -1.421875 \r\nQ 29.59375 -1.421875 25.265625 0.953125 \r\nQ 20.953125 3.328125 18.109375 8.203125 \r\nz\r\nM 48.6875 27.296875 \r\nQ 48.6875 37.203125 44.609375 42.84375 \r\nQ 40.53125 48.484375 33.40625 48.484375 \r\nQ 26.265625 48.484375 22.1875 42.84375 \r\nQ 18.109375 37.203125 18.109375 27.296875 \r\nQ 18.109375 17.390625 22.1875 11.75 \r\nQ 26.265625 6.109375 33.40625 6.109375 \r\nQ 40.53125 6.109375 44.609375 11.75 \r\nQ 48.6875 17.390625 48.6875 27.296875 \r\nz\r\n\" id=\"DejaVuSans-112\"/>\r\n      </defs>\r\n      <use xlink:href=\"#DejaVuSans-65\"/>\r\n      <use x=\"68.408203\" xlink:href=\"#DejaVuSans-109\"/>\r\n      <use x=\"165.820312\" xlink:href=\"#DejaVuSans-97\"/>\r\n      <use x=\"227.099609\" xlink:href=\"#DejaVuSans-112\"/>\r\n      <use x=\"290.576172\" xlink:href=\"#DejaVuSans-225\"/>\r\n     </g>\r\n    </g>\r\n    <g id=\"line2d_55\">\r\n     <path d=\"M 39.103125 134.0625 \r\nL 59.103125 134.0625 \r\n\" style=\"fill:none;stroke:#e377c2;stroke-linecap:square;stroke-width:1.5;\"/>\r\n    </g>\r\n    <g id=\"line2d_56\"/>\r\n    <g id=\"text_24\">\r\n     <!-- Tocantins -->\r\n     <g transform=\"translate(67.103125 137.5625)scale(0.1 -0.1)\">\r\n      <defs>\r\n       <path d=\"M -0.296875 72.90625 \r\nL 61.375 72.90625 \r\nL 61.375 64.59375 \r\nL 35.5 64.59375 \r\nL 35.5 0 \r\nL 25.59375 0 \r\nL 25.59375 64.59375 \r\nL -0.296875 64.59375 \r\nz\r\n\" id=\"DejaVuSans-84\"/>\r\n       <path d=\"M 18.3125 70.21875 \r\nL 18.3125 54.6875 \r\nL 36.8125 54.6875 \r\nL 36.8125 47.703125 \r\nL 18.3125 47.703125 \r\nL 18.3125 18.015625 \r\nQ 18.3125 11.328125 20.140625 9.421875 \r\nQ 21.96875 7.515625 27.59375 7.515625 \r\nL 36.8125 7.515625 \r\nL 36.8125 0 \r\nL 27.59375 0 \r\nQ 17.1875 0 13.234375 3.875 \r\nQ 9.28125 7.765625 9.28125 18.015625 \r\nL 9.28125 47.703125 \r\nL 2.6875 47.703125 \r\nL 2.6875 54.6875 \r\nL 9.28125 54.6875 \r\nL 9.28125 70.21875 \r\nz\r\n\" id=\"DejaVuSans-116\"/>\r\n      </defs>\r\n      <use xlink:href=\"#DejaVuSans-84\"/>\r\n      <use x=\"44.083984\" xlink:href=\"#DejaVuSans-111\"/>\r\n      <use x=\"105.265625\" xlink:href=\"#DejaVuSans-99\"/>\r\n      <use x=\"160.246094\" xlink:href=\"#DejaVuSans-97\"/>\r\n      <use x=\"221.525391\" xlink:href=\"#DejaVuSans-110\"/>\r\n      <use x=\"284.904297\" xlink:href=\"#DejaVuSans-116\"/>\r\n      <use x=\"324.113281\" xlink:href=\"#DejaVuSans-105\"/>\r\n      <use x=\"351.896484\" xlink:href=\"#DejaVuSans-110\"/>\r\n      <use x=\"415.275391\" xlink:href=\"#DejaVuSans-115\"/>\r\n     </g>\r\n    </g>\r\n    <g id=\"line2d_57\">\r\n     <path d=\"M 39.103125 148.740625 \r\nL 59.103125 148.740625 \r\n\" style=\"fill:none;stroke:#7f7f7f;stroke-linecap:square;stroke-width:1.5;\"/>\r\n    </g>\r\n    <g id=\"line2d_58\"/>\r\n    <g id=\"text_25\">\r\n     <!-- Maranhão -->\r\n     <g transform=\"translate(67.103125 152.240625)scale(0.1 -0.1)\">\r\n      <defs>\r\n       <path d=\"M 9.8125 72.90625 \r\nL 24.515625 72.90625 \r\nL 43.109375 23.296875 \r\nL 61.8125 72.90625 \r\nL 76.515625 72.90625 \r\nL 76.515625 0 \r\nL 66.890625 0 \r\nL 66.890625 64.015625 \r\nL 48.09375 14.015625 \r\nL 38.1875 14.015625 \r\nL 19.390625 64.015625 \r\nL 19.390625 0 \r\nL 9.8125 0 \r\nz\r\n\" id=\"DejaVuSans-77\"/>\r\n       <path d=\"M 54.890625 33.015625 \r\nL 54.890625 0 \r\nL 45.90625 0 \r\nL 45.90625 32.71875 \r\nQ 45.90625 40.484375 42.875 44.328125 \r\nQ 39.84375 48.1875 33.796875 48.1875 \r\nQ 26.515625 48.1875 22.3125 43.546875 \r\nQ 18.109375 38.921875 18.109375 30.90625 \r\nL 18.109375 0 \r\nL 9.078125 0 \r\nL 9.078125 75.984375 \r\nL 18.109375 75.984375 \r\nL 18.109375 46.1875 \r\nQ 21.34375 51.125 25.703125 53.5625 \r\nQ 30.078125 56 35.796875 56 \r\nQ 45.21875 56 50.046875 50.171875 \r\nQ 54.890625 44.34375 54.890625 33.015625 \r\nz\r\n\" id=\"DejaVuSans-104\"/>\r\n      </defs>\r\n      <use xlink:href=\"#DejaVuSans-77\"/>\r\n      <use x=\"86.279297\" xlink:href=\"#DejaVuSans-97\"/>\r\n      <use x=\"147.558594\" xlink:href=\"#DejaVuSans-114\"/>\r\n      <use x=\"188.671875\" xlink:href=\"#DejaVuSans-97\"/>\r\n      <use x=\"249.951172\" xlink:href=\"#DejaVuSans-110\"/>\r\n      <use x=\"313.330078\" xlink:href=\"#DejaVuSans-104\"/>\r\n      <use x=\"376.708984\" xlink:href=\"#DejaVuSans-227\"/>\r\n      <use x=\"437.988281\" xlink:href=\"#DejaVuSans-111\"/>\r\n     </g>\r\n    </g>\r\n    <g id=\"line2d_59\">\r\n     <path d=\"M 39.103125 163.41875 \r\nL 59.103125 163.41875 \r\n\" style=\"fill:none;stroke:#bcbd22;stroke-linecap:square;stroke-width:1.5;\"/>\r\n    </g>\r\n    <g id=\"line2d_60\"/>\r\n    <g id=\"text_26\">\r\n     <!-- Piauí -->\r\n     <g transform=\"translate(67.103125 166.91875)scale(0.1 -0.1)\">\r\n      <defs>\r\n       <path d=\"M 8.5 21.578125 \r\nL 8.5 54.6875 \r\nL 17.484375 54.6875 \r\nL 17.484375 21.921875 \r\nQ 17.484375 14.15625 20.5 10.265625 \r\nQ 23.53125 6.390625 29.59375 6.390625 \r\nQ 36.859375 6.390625 41.078125 11.03125 \r\nQ 45.3125 15.671875 45.3125 23.6875 \r\nL 45.3125 54.6875 \r\nL 54.296875 54.6875 \r\nL 54.296875 0 \r\nL 45.3125 0 \r\nL 45.3125 8.40625 \r\nQ 42.046875 3.421875 37.71875 1 \r\nQ 33.40625 -1.421875 27.6875 -1.421875 \r\nQ 18.265625 -1.421875 13.375 4.4375 \r\nQ 8.5 10.296875 8.5 21.578125 \r\nz\r\nM 31.109375 56 \r\nz\r\n\" id=\"DejaVuSans-117\"/>\r\n       <path d=\"M 20.703125 79.984375 \r\nL 30.421875 79.984375 \r\nL 14.5 61.625 \r\nL 7.03125 61.625 \r\nz\r\nM 9.421875 54.6875 \r\nL 18.40625 54.6875 \r\nL 18.40625 0 \r\nL 9.421875 0 \r\nz\r\nM 13.921875 56 \r\nz\r\n\" id=\"DejaVuSans-237\"/>\r\n      </defs>\r\n      <use xlink:href=\"#DejaVuSans-80\"/>\r\n      <use x=\"58.052734\" xlink:href=\"#DejaVuSans-105\"/>\r\n      <use x=\"85.835938\" xlink:href=\"#DejaVuSans-97\"/>\r\n      <use x=\"147.115234\" xlink:href=\"#DejaVuSans-117\"/>\r\n      <use x=\"210.494141\" xlink:href=\"#DejaVuSans-237\"/>\r\n     </g>\r\n    </g>\r\n    <g id=\"line2d_61\">\r\n     <path d=\"M 39.103125 178.096875 \r\nL 59.103125 178.096875 \r\n\" style=\"fill:none;stroke:#17becf;stroke-linecap:square;stroke-width:1.5;\"/>\r\n    </g>\r\n    <g id=\"line2d_62\"/>\r\n    <g id=\"text_27\">\r\n     <!-- Ceará -->\r\n     <g transform=\"translate(67.103125 181.596875)scale(0.1 -0.1)\">\r\n      <defs>\r\n       <path d=\"M 64.40625 67.28125 \r\nL 64.40625 56.890625 \r\nQ 59.421875 61.53125 53.78125 63.8125 \r\nQ 48.140625 66.109375 41.796875 66.109375 \r\nQ 29.296875 66.109375 22.65625 58.46875 \r\nQ 16.015625 50.828125 16.015625 36.375 \r\nQ 16.015625 21.96875 22.65625 14.328125 \r\nQ 29.296875 6.6875 41.796875 6.6875 \r\nQ 48.140625 6.6875 53.78125 8.984375 \r\nQ 59.421875 11.28125 64.40625 15.921875 \r\nL 64.40625 5.609375 \r\nQ 59.234375 2.09375 53.4375 0.328125 \r\nQ 47.65625 -1.421875 41.21875 -1.421875 \r\nQ 24.65625 -1.421875 15.125 8.703125 \r\nQ 5.609375 18.84375 5.609375 36.375 \r\nQ 5.609375 53.953125 15.125 64.078125 \r\nQ 24.65625 74.21875 41.21875 74.21875 \r\nQ 47.75 74.21875 53.53125 72.484375 \r\nQ 59.328125 70.75 64.40625 67.28125 \r\nz\r\n\" id=\"DejaVuSans-67\"/>\r\n      </defs>\r\n      <use xlink:href=\"#DejaVuSans-67\"/>\r\n      <use x=\"69.824219\" xlink:href=\"#DejaVuSans-101\"/>\r\n      <use x=\"131.347656\" xlink:href=\"#DejaVuSans-97\"/>\r\n      <use x=\"192.626953\" xlink:href=\"#DejaVuSans-114\"/>\r\n      <use x=\"233.740234\" xlink:href=\"#DejaVuSans-225\"/>\r\n     </g>\r\n    </g>\r\n    <g id=\"line2d_63\">\r\n     <path d=\"M 39.103125 192.775 \r\nL 59.103125 192.775 \r\n\" style=\"fill:none;stroke:#1f77b4;stroke-linecap:square;stroke-width:1.5;\"/>\r\n    </g>\r\n    <g id=\"line2d_64\"/>\r\n    <g id=\"text_28\">\r\n     <!-- Rio Grande do Norte -->\r\n     <g transform=\"translate(67.103125 196.275)scale(0.1 -0.1)\">\r\n      <defs>\r\n       <path d=\"M 59.515625 10.40625 \r\nL 59.515625 29.984375 \r\nL 43.40625 29.984375 \r\nL 43.40625 38.09375 \r\nL 69.28125 38.09375 \r\nL 69.28125 6.78125 \r\nQ 63.578125 2.734375 56.6875 0.65625 \r\nQ 49.8125 -1.421875 42 -1.421875 \r\nQ 24.90625 -1.421875 15.25 8.5625 \r\nQ 5.609375 18.5625 5.609375 36.375 \r\nQ 5.609375 54.25 15.25 64.234375 \r\nQ 24.90625 74.21875 42 74.21875 \r\nQ 49.125 74.21875 55.546875 72.453125 \r\nQ 61.96875 70.703125 67.390625 67.28125 \r\nL 67.390625 56.78125 \r\nQ 61.921875 61.421875 55.765625 63.765625 \r\nQ 49.609375 66.109375 42.828125 66.109375 \r\nQ 29.4375 66.109375 22.71875 58.640625 \r\nQ 16.015625 51.171875 16.015625 36.375 \r\nQ 16.015625 21.625 22.71875 14.15625 \r\nQ 29.4375 6.6875 42.828125 6.6875 \r\nQ 48.046875 6.6875 52.140625 7.59375 \r\nQ 56.25 8.5 59.515625 10.40625 \r\nz\r\n\" id=\"DejaVuSans-71\"/>\r\n       <path d=\"M 9.8125 72.90625 \r\nL 23.09375 72.90625 \r\nL 55.421875 11.921875 \r\nL 55.421875 72.90625 \r\nL 64.984375 72.90625 \r\nL 64.984375 0 \r\nL 51.703125 0 \r\nL 19.390625 60.984375 \r\nL 19.390625 0 \r\nL 9.8125 0 \r\nz\r\n\" id=\"DejaVuSans-78\"/>\r\n      </defs>\r\n      <use xlink:href=\"#DejaVuSans-82\"/>\r\n      <use x=\"69.482422\" xlink:href=\"#DejaVuSans-105\"/>\r\n      <use x=\"97.265625\" xlink:href=\"#DejaVuSans-111\"/>\r\n      <use x=\"158.447266\" xlink:href=\"#DejaVuSans-32\"/>\r\n      <use x=\"190.234375\" xlink:href=\"#DejaVuSans-71\"/>\r\n      <use x=\"267.724609\" xlink:href=\"#DejaVuSans-114\"/>\r\n      <use x=\"308.837891\" xlink:href=\"#DejaVuSans-97\"/>\r\n      <use x=\"370.117188\" xlink:href=\"#DejaVuSans-110\"/>\r\n      <use x=\"433.496094\" xlink:href=\"#DejaVuSans-100\"/>\r\n      <use x=\"496.972656\" xlink:href=\"#DejaVuSans-101\"/>\r\n      <use x=\"558.496094\" xlink:href=\"#DejaVuSans-32\"/>\r\n      <use x=\"590.283203\" xlink:href=\"#DejaVuSans-100\"/>\r\n      <use x=\"653.759766\" xlink:href=\"#DejaVuSans-111\"/>\r\n      <use x=\"714.941406\" xlink:href=\"#DejaVuSans-32\"/>\r\n      <use x=\"746.728516\" xlink:href=\"#DejaVuSans-78\"/>\r\n      <use x=\"821.533203\" xlink:href=\"#DejaVuSans-111\"/>\r\n      <use x=\"882.714844\" xlink:href=\"#DejaVuSans-114\"/>\r\n      <use x=\"923.828125\" xlink:href=\"#DejaVuSans-116\"/>\r\n      <use x=\"963.037109\" xlink:href=\"#DejaVuSans-101\"/>\r\n     </g>\r\n    </g>\r\n    <g id=\"line2d_65\">\r\n     <path d=\"M 39.103125 207.453125 \r\nL 59.103125 207.453125 \r\n\" style=\"fill:none;stroke:#ff7f0e;stroke-linecap:square;stroke-width:1.5;\"/>\r\n    </g>\r\n    <g id=\"line2d_66\"/>\r\n    <g id=\"text_29\">\r\n     <!-- Paraíba -->\r\n     <g transform=\"translate(67.103125 210.953125)scale(0.1 -0.1)\">\r\n      <use xlink:href=\"#DejaVuSans-80\"/>\r\n      <use x=\"55.802734\" xlink:href=\"#DejaVuSans-97\"/>\r\n      <use x=\"117.082031\" xlink:href=\"#DejaVuSans-114\"/>\r\n      <use x=\"158.195312\" xlink:href=\"#DejaVuSans-97\"/>\r\n      <use x=\"219.474609\" xlink:href=\"#DejaVuSans-237\"/>\r\n      <use x=\"247.257812\" xlink:href=\"#DejaVuSans-98\"/>\r\n      <use x=\"310.734375\" xlink:href=\"#DejaVuSans-97\"/>\r\n     </g>\r\n    </g>\r\n    <g id=\"line2d_67\">\r\n     <path d=\"M 39.103125 222.13125 \r\nL 59.103125 222.13125 \r\n\" style=\"fill:none;stroke:#2ca02c;stroke-linecap:square;stroke-width:1.5;\"/>\r\n    </g>\r\n    <g id=\"line2d_68\"/>\r\n    <g id=\"text_30\">\r\n     <!-- Pernambuco -->\r\n     <g transform=\"translate(67.103125 225.63125)scale(0.1 -0.1)\">\r\n      <use xlink:href=\"#DejaVuSans-80\"/>\r\n      <use x=\"56.677734\" xlink:href=\"#DejaVuSans-101\"/>\r\n      <use x=\"118.201172\" xlink:href=\"#DejaVuSans-114\"/>\r\n      <use x=\"157.564453\" xlink:href=\"#DejaVuSans-110\"/>\r\n      <use x=\"220.943359\" xlink:href=\"#DejaVuSans-97\"/>\r\n      <use x=\"282.222656\" xlink:href=\"#DejaVuSans-109\"/>\r\n      <use x=\"379.634766\" xlink:href=\"#DejaVuSans-98\"/>\r\n      <use x=\"443.111328\" xlink:href=\"#DejaVuSans-117\"/>\r\n      <use x=\"506.490234\" xlink:href=\"#DejaVuSans-99\"/>\r\n      <use x=\"561.470703\" xlink:href=\"#DejaVuSans-111\"/>\r\n     </g>\r\n    </g>\r\n    <g id=\"line2d_69\">\r\n     <path d=\"M 39.103125 236.809375 \r\nL 59.103125 236.809375 \r\n\" style=\"fill:none;stroke:#d62728;stroke-linecap:square;stroke-width:1.5;\"/>\r\n    </g>\r\n    <g id=\"line2d_70\"/>\r\n    <g id=\"text_31\">\r\n     <!-- Alagoas -->\r\n     <g transform=\"translate(67.103125 240.309375)scale(0.1 -0.1)\">\r\n      <defs>\r\n       <path d=\"M 9.421875 75.984375 \r\nL 18.40625 75.984375 \r\nL 18.40625 0 \r\nL 9.421875 0 \r\nz\r\n\" id=\"DejaVuSans-108\"/>\r\n      </defs>\r\n      <use xlink:href=\"#DejaVuSans-65\"/>\r\n      <use x=\"68.408203\" xlink:href=\"#DejaVuSans-108\"/>\r\n      <use x=\"96.191406\" xlink:href=\"#DejaVuSans-97\"/>\r\n      <use x=\"157.470703\" xlink:href=\"#DejaVuSans-103\"/>\r\n      <use x=\"220.947266\" xlink:href=\"#DejaVuSans-111\"/>\r\n      <use x=\"282.128906\" xlink:href=\"#DejaVuSans-97\"/>\r\n      <use x=\"343.408203\" xlink:href=\"#DejaVuSans-115\"/>\r\n     </g>\r\n    </g>\r\n    <g id=\"line2d_71\">\r\n     <path d=\"M 39.103125 251.4875 \r\nL 59.103125 251.4875 \r\n\" style=\"fill:none;stroke:#9467bd;stroke-linecap:square;stroke-width:1.5;\"/>\r\n    </g>\r\n    <g id=\"line2d_72\"/>\r\n    <g id=\"text_32\">\r\n     <!-- Sergipe -->\r\n     <g transform=\"translate(67.103125 254.9875)scale(0.1 -0.1)\">\r\n      <defs>\r\n       <path d=\"M 53.515625 70.515625 \r\nL 53.515625 60.890625 \r\nQ 47.90625 63.578125 42.921875 64.890625 \r\nQ 37.9375 66.21875 33.296875 66.21875 \r\nQ 25.25 66.21875 20.875 63.09375 \r\nQ 16.5 59.96875 16.5 54.203125 \r\nQ 16.5 49.359375 19.40625 46.890625 \r\nQ 22.3125 44.4375 30.421875 42.921875 \r\nL 36.375 41.703125 \r\nQ 47.40625 39.59375 52.65625 34.296875 \r\nQ 57.90625 29 57.90625 20.125 \r\nQ 57.90625 9.515625 50.796875 4.046875 \r\nQ 43.703125 -1.421875 29.984375 -1.421875 \r\nQ 24.8125 -1.421875 18.96875 -0.25 \r\nQ 13.140625 0.921875 6.890625 3.21875 \r\nL 6.890625 13.375 \r\nQ 12.890625 10.015625 18.65625 8.296875 \r\nQ 24.421875 6.59375 29.984375 6.59375 \r\nQ 38.421875 6.59375 43.015625 9.90625 \r\nQ 47.609375 13.234375 47.609375 19.390625 \r\nQ 47.609375 24.75 44.3125 27.78125 \r\nQ 41.015625 30.8125 33.5 32.328125 \r\nL 27.484375 33.5 \r\nQ 16.453125 35.6875 11.515625 40.375 \r\nQ 6.59375 45.0625 6.59375 53.421875 \r\nQ 6.59375 63.09375 13.40625 68.65625 \r\nQ 20.21875 74.21875 32.171875 74.21875 \r\nQ 37.3125 74.21875 42.625 73.28125 \r\nQ 47.953125 72.359375 53.515625 70.515625 \r\nz\r\n\" id=\"DejaVuSans-83\"/>\r\n      </defs>\r\n      <use xlink:href=\"#DejaVuSans-83\"/>\r\n      <use x=\"63.476562\" xlink:href=\"#DejaVuSans-101\"/>\r\n      <use x=\"125\" xlink:href=\"#DejaVuSans-114\"/>\r\n      <use x=\"164.363281\" xlink:href=\"#DejaVuSans-103\"/>\r\n      <use x=\"227.839844\" xlink:href=\"#DejaVuSans-105\"/>\r\n      <use x=\"255.623047\" xlink:href=\"#DejaVuSans-112\"/>\r\n      <use x=\"319.099609\" xlink:href=\"#DejaVuSans-101\"/>\r\n     </g>\r\n    </g>\r\n    <g id=\"line2d_73\">\r\n     <path d=\"M 39.103125 266.165625 \r\nL 59.103125 266.165625 \r\n\" style=\"fill:none;stroke:#8c564b;stroke-linecap:square;stroke-width:1.5;\"/>\r\n    </g>\r\n    <g id=\"line2d_74\"/>\r\n    <g id=\"text_33\">\r\n     <!-- Bahia -->\r\n     <g transform=\"translate(67.103125 269.665625)scale(0.1 -0.1)\">\r\n      <defs>\r\n       <path d=\"M 19.671875 34.8125 \r\nL 19.671875 8.109375 \r\nL 35.5 8.109375 \r\nQ 43.453125 8.109375 47.28125 11.40625 \r\nQ 51.125 14.703125 51.125 21.484375 \r\nQ 51.125 28.328125 47.28125 31.5625 \r\nQ 43.453125 34.8125 35.5 34.8125 \r\nz\r\nM 19.671875 64.796875 \r\nL 19.671875 42.828125 \r\nL 34.28125 42.828125 \r\nQ 41.5 42.828125 45.03125 45.53125 \r\nQ 48.578125 48.25 48.578125 53.8125 \r\nQ 48.578125 59.328125 45.03125 62.0625 \r\nQ 41.5 64.796875 34.28125 64.796875 \r\nz\r\nM 9.8125 72.90625 \r\nL 35.015625 72.90625 \r\nQ 46.296875 72.90625 52.390625 68.21875 \r\nQ 58.5 63.53125 58.5 54.890625 \r\nQ 58.5 48.1875 55.375 44.234375 \r\nQ 52.25 40.28125 46.1875 39.3125 \r\nQ 53.46875 37.75 57.5 32.78125 \r\nQ 61.53125 27.828125 61.53125 20.40625 \r\nQ 61.53125 10.640625 54.890625 5.3125 \r\nQ 48.25 0 35.984375 0 \r\nL 9.8125 0 \r\nz\r\n\" id=\"DejaVuSans-66\"/>\r\n      </defs>\r\n      <use xlink:href=\"#DejaVuSans-66\"/>\r\n      <use x=\"68.603516\" xlink:href=\"#DejaVuSans-97\"/>\r\n      <use x=\"129.882812\" xlink:href=\"#DejaVuSans-104\"/>\r\n      <use x=\"193.261719\" xlink:href=\"#DejaVuSans-105\"/>\r\n      <use x=\"221.044922\" xlink:href=\"#DejaVuSans-97\"/>\r\n     </g>\r\n    </g>\r\n    <g id=\"line2d_75\">\r\n     <path d=\"M 39.103125 280.84375 \r\nL 59.103125 280.84375 \r\n\" style=\"fill:none;stroke:#e377c2;stroke-linecap:square;stroke-width:1.5;\"/>\r\n    </g>\r\n    <g id=\"line2d_76\"/>\r\n    <g id=\"text_34\">\r\n     <!-- Minas Gerais -->\r\n     <g transform=\"translate(67.103125 284.34375)scale(0.1 -0.1)\">\r\n      <use xlink:href=\"#DejaVuSans-77\"/>\r\n      <use x=\"86.279297\" xlink:href=\"#DejaVuSans-105\"/>\r\n      <use x=\"114.0625\" xlink:href=\"#DejaVuSans-110\"/>\r\n      <use x=\"177.441406\" xlink:href=\"#DejaVuSans-97\"/>\r\n      <use x=\"238.720703\" xlink:href=\"#DejaVuSans-115\"/>\r\n      <use x=\"290.820312\" xlink:href=\"#DejaVuSans-32\"/>\r\n      <use x=\"322.607422\" xlink:href=\"#DejaVuSans-71\"/>\r\n      <use x=\"400.097656\" xlink:href=\"#DejaVuSans-101\"/>\r\n      <use x=\"461.621094\" xlink:href=\"#DejaVuSans-114\"/>\r\n      <use x=\"502.734375\" xlink:href=\"#DejaVuSans-97\"/>\r\n      <use x=\"564.013672\" xlink:href=\"#DejaVuSans-105\"/>\r\n      <use x=\"591.796875\" xlink:href=\"#DejaVuSans-115\"/>\r\n     </g>\r\n    </g>\r\n    <g id=\"line2d_77\">\r\n     <path d=\"M 39.103125 295.921875 \r\nL 59.103125 295.921875 \r\n\" style=\"fill:none;stroke:#7f7f7f;stroke-linecap:square;stroke-width:1.5;\"/>\r\n    </g>\r\n    <g id=\"line2d_78\"/>\r\n    <g id=\"text_35\">\r\n     <!-- Espírito Santo -->\r\n     <g transform=\"translate(67.103125 299.421875)scale(0.1 -0.1)\">\r\n      <defs>\r\n       <path d=\"M 9.8125 72.90625 \r\nL 55.90625 72.90625 \r\nL 55.90625 64.59375 \r\nL 19.671875 64.59375 \r\nL 19.671875 43.015625 \r\nL 54.390625 43.015625 \r\nL 54.390625 34.71875 \r\nL 19.671875 34.71875 \r\nL 19.671875 8.296875 \r\nL 56.78125 8.296875 \r\nL 56.78125 0 \r\nL 9.8125 0 \r\nz\r\n\" id=\"DejaVuSans-69\"/>\r\n      </defs>\r\n      <use xlink:href=\"#DejaVuSans-69\"/>\r\n      <use x=\"63.183594\" xlink:href=\"#DejaVuSans-115\"/>\r\n      <use x=\"115.283203\" xlink:href=\"#DejaVuSans-112\"/>\r\n      <use x=\"178.759766\" xlink:href=\"#DejaVuSans-237\"/>\r\n      <use x=\"206.542969\" xlink:href=\"#DejaVuSans-114\"/>\r\n      <use x=\"247.65625\" xlink:href=\"#DejaVuSans-105\"/>\r\n      <use x=\"275.439453\" xlink:href=\"#DejaVuSans-116\"/>\r\n      <use x=\"314.648438\" xlink:href=\"#DejaVuSans-111\"/>\r\n      <use x=\"375.830078\" xlink:href=\"#DejaVuSans-32\"/>\r\n      <use x=\"407.617188\" xlink:href=\"#DejaVuSans-83\"/>\r\n      <use x=\"471.09375\" xlink:href=\"#DejaVuSans-97\"/>\r\n      <use x=\"532.373047\" xlink:href=\"#DejaVuSans-110\"/>\r\n      <use x=\"595.751953\" xlink:href=\"#DejaVuSans-116\"/>\r\n      <use x=\"634.960938\" xlink:href=\"#DejaVuSans-111\"/>\r\n     </g>\r\n    </g>\r\n    <g id=\"line2d_79\">\r\n     <path d=\"M 39.103125 310.6 \r\nL 59.103125 310.6 \r\n\" style=\"fill:none;stroke:#bcbd22;stroke-linecap:square;stroke-width:1.5;\"/>\r\n    </g>\r\n    <g id=\"line2d_80\"/>\r\n    <g id=\"text_36\">\r\n     <!-- Rio de Janeiro -->\r\n     <g transform=\"translate(67.103125 314.1)scale(0.1 -0.1)\">\r\n      <defs>\r\n       <path d=\"M 9.8125 72.90625 \r\nL 19.671875 72.90625 \r\nL 19.671875 5.078125 \r\nQ 19.671875 -8.109375 14.671875 -14.0625 \r\nQ 9.671875 -20.015625 -1.421875 -20.015625 \r\nL -5.171875 -20.015625 \r\nL -5.171875 -11.71875 \r\nL -2.09375 -11.71875 \r\nQ 4.4375 -11.71875 7.125 -8.046875 \r\nQ 9.8125 -4.390625 9.8125 5.078125 \r\nz\r\n\" id=\"DejaVuSans-74\"/>\r\n      </defs>\r\n      <use xlink:href=\"#DejaVuSans-82\"/>\r\n      <use x=\"69.482422\" xlink:href=\"#DejaVuSans-105\"/>\r\n      <use x=\"97.265625\" xlink:href=\"#DejaVuSans-111\"/>\r\n      <use x=\"158.447266\" xlink:href=\"#DejaVuSans-32\"/>\r\n      <use x=\"190.234375\" xlink:href=\"#DejaVuSans-100\"/>\r\n      <use x=\"253.710938\" xlink:href=\"#DejaVuSans-101\"/>\r\n      <use x=\"315.234375\" xlink:href=\"#DejaVuSans-32\"/>\r\n      <use x=\"347.021484\" xlink:href=\"#DejaVuSans-74\"/>\r\n      <use x=\"376.513672\" xlink:href=\"#DejaVuSans-97\"/>\r\n      <use x=\"437.792969\" xlink:href=\"#DejaVuSans-110\"/>\r\n      <use x=\"501.171875\" xlink:href=\"#DejaVuSans-101\"/>\r\n      <use x=\"562.695312\" xlink:href=\"#DejaVuSans-105\"/>\r\n      <use x=\"590.478516\" xlink:href=\"#DejaVuSans-114\"/>\r\n      <use x=\"629.341797\" xlink:href=\"#DejaVuSans-111\"/>\r\n     </g>\r\n    </g>\r\n    <g id=\"line2d_81\">\r\n     <path d=\"M 39.103125 325.278125 \r\nL 59.103125 325.278125 \r\n\" style=\"fill:none;stroke:#17becf;stroke-linecap:square;stroke-width:1.5;\"/>\r\n    </g>\r\n    <g id=\"line2d_82\"/>\r\n    <g id=\"text_37\">\r\n     <!-- São Paulo -->\r\n     <g transform=\"translate(67.103125 328.778125)scale(0.1 -0.1)\">\r\n      <use xlink:href=\"#DejaVuSans-83\"/>\r\n      <use x=\"63.476562\" xlink:href=\"#DejaVuSans-227\"/>\r\n      <use x=\"124.755859\" xlink:href=\"#DejaVuSans-111\"/>\r\n      <use x=\"185.9375\" xlink:href=\"#DejaVuSans-32\"/>\r\n      <use x=\"217.724609\" xlink:href=\"#DejaVuSans-80\"/>\r\n      <use x=\"273.527344\" xlink:href=\"#DejaVuSans-97\"/>\r\n      <use x=\"334.806641\" xlink:href=\"#DejaVuSans-117\"/>\r\n      <use x=\"398.185547\" xlink:href=\"#DejaVuSans-108\"/>\r\n      <use x=\"425.96875\" xlink:href=\"#DejaVuSans-111\"/>\r\n     </g>\r\n    </g>\r\n    <g id=\"line2d_83\">\r\n     <path d=\"M 39.103125 339.95625 \r\nL 59.103125 339.95625 \r\n\" style=\"fill:none;stroke:#1f77b4;stroke-linecap:square;stroke-width:1.5;\"/>\r\n    </g>\r\n    <g id=\"line2d_84\"/>\r\n    <g id=\"text_38\">\r\n     <!-- Paraná -->\r\n     <g transform=\"translate(67.103125 343.45625)scale(0.1 -0.1)\">\r\n      <use xlink:href=\"#DejaVuSans-80\"/>\r\n      <use x=\"55.802734\" xlink:href=\"#DejaVuSans-97\"/>\r\n      <use x=\"117.082031\" xlink:href=\"#DejaVuSans-114\"/>\r\n      <use x=\"158.195312\" xlink:href=\"#DejaVuSans-97\"/>\r\n      <use x=\"219.474609\" xlink:href=\"#DejaVuSans-110\"/>\r\n      <use x=\"282.853516\" xlink:href=\"#DejaVuSans-225\"/>\r\n     </g>\r\n    </g>\r\n    <g id=\"line2d_85\">\r\n     <path d=\"M 39.103125 354.634375 \r\nL 59.103125 354.634375 \r\n\" style=\"fill:none;stroke:#ff7f0e;stroke-linecap:square;stroke-width:1.5;\"/>\r\n    </g>\r\n    <g id=\"line2d_86\"/>\r\n    <g id=\"text_39\">\r\n     <!-- Santa Catarina -->\r\n     <g transform=\"translate(67.103125 358.134375)scale(0.1 -0.1)\">\r\n      <use xlink:href=\"#DejaVuSans-83\"/>\r\n      <use x=\"63.476562\" xlink:href=\"#DejaVuSans-97\"/>\r\n      <use x=\"124.755859\" xlink:href=\"#DejaVuSans-110\"/>\r\n      <use x=\"188.134766\" xlink:href=\"#DejaVuSans-116\"/>\r\n      <use x=\"227.34375\" xlink:href=\"#DejaVuSans-97\"/>\r\n      <use x=\"288.623047\" xlink:href=\"#DejaVuSans-32\"/>\r\n      <use x=\"320.410156\" xlink:href=\"#DejaVuSans-67\"/>\r\n      <use x=\"390.234375\" xlink:href=\"#DejaVuSans-97\"/>\r\n      <use x=\"451.513672\" xlink:href=\"#DejaVuSans-116\"/>\r\n      <use x=\"490.722656\" xlink:href=\"#DejaVuSans-97\"/>\r\n      <use x=\"552.001953\" xlink:href=\"#DejaVuSans-114\"/>\r\n      <use x=\"593.115234\" xlink:href=\"#DejaVuSans-105\"/>\r\n      <use x=\"620.898438\" xlink:href=\"#DejaVuSans-110\"/>\r\n      <use x=\"684.277344\" xlink:href=\"#DejaVuSans-97\"/>\r\n     </g>\r\n    </g>\r\n    <g id=\"line2d_87\">\r\n     <path d=\"M 39.103125 369.3125 \r\nL 59.103125 369.3125 \r\n\" style=\"fill:none;stroke:#2ca02c;stroke-linecap:square;stroke-width:1.5;\"/>\r\n    </g>\r\n    <g id=\"line2d_88\"/>\r\n    <g id=\"text_40\">\r\n     <!-- Rio Grande do Sul -->\r\n     <g transform=\"translate(67.103125 372.8125)scale(0.1 -0.1)\">\r\n      <use xlink:href=\"#DejaVuSans-82\"/>\r\n      <use x=\"69.482422\" xlink:href=\"#DejaVuSans-105\"/>\r\n      <use x=\"97.265625\" xlink:href=\"#DejaVuSans-111\"/>\r\n      <use x=\"158.447266\" xlink:href=\"#DejaVuSans-32\"/>\r\n      <use x=\"190.234375\" xlink:href=\"#DejaVuSans-71\"/>\r\n      <use x=\"267.724609\" xlink:href=\"#DejaVuSans-114\"/>\r\n      <use x=\"308.837891\" xlink:href=\"#DejaVuSans-97\"/>\r\n      <use x=\"370.117188\" xlink:href=\"#DejaVuSans-110\"/>\r\n      <use x=\"433.496094\" xlink:href=\"#DejaVuSans-100\"/>\r\n      <use x=\"496.972656\" xlink:href=\"#DejaVuSans-101\"/>\r\n      <use x=\"558.496094\" xlink:href=\"#DejaVuSans-32\"/>\r\n      <use x=\"590.283203\" xlink:href=\"#DejaVuSans-100\"/>\r\n      <use x=\"653.759766\" xlink:href=\"#DejaVuSans-111\"/>\r\n      <use x=\"714.941406\" xlink:href=\"#DejaVuSans-32\"/>\r\n      <use x=\"746.728516\" xlink:href=\"#DejaVuSans-83\"/>\r\n      <use x=\"810.205078\" xlink:href=\"#DejaVuSans-117\"/>\r\n      <use x=\"873.583984\" xlink:href=\"#DejaVuSans-108\"/>\r\n     </g>\r\n    </g>\r\n    <g id=\"line2d_89\">\r\n     <path d=\"M 39.103125 383.990625 \r\nL 59.103125 383.990625 \r\n\" style=\"fill:none;stroke:#d62728;stroke-linecap:square;stroke-width:1.5;\"/>\r\n    </g>\r\n    <g id=\"line2d_90\"/>\r\n    <g id=\"text_41\">\r\n     <!-- Mato Grosso do Sul -->\r\n     <g transform=\"translate(67.103125 387.490625)scale(0.1 -0.1)\">\r\n      <use xlink:href=\"#DejaVuSans-77\"/>\r\n      <use x=\"86.279297\" xlink:href=\"#DejaVuSans-97\"/>\r\n      <use x=\"147.558594\" xlink:href=\"#DejaVuSans-116\"/>\r\n      <use x=\"186.767578\" xlink:href=\"#DejaVuSans-111\"/>\r\n      <use x=\"247.949219\" xlink:href=\"#DejaVuSans-32\"/>\r\n      <use x=\"279.736328\" xlink:href=\"#DejaVuSans-71\"/>\r\n      <use x=\"357.226562\" xlink:href=\"#DejaVuSans-114\"/>\r\n      <use x=\"396.089844\" xlink:href=\"#DejaVuSans-111\"/>\r\n      <use x=\"457.271484\" xlink:href=\"#DejaVuSans-115\"/>\r\n      <use x=\"509.371094\" xlink:href=\"#DejaVuSans-115\"/>\r\n      <use x=\"561.470703\" xlink:href=\"#DejaVuSans-111\"/>\r\n      <use x=\"622.652344\" xlink:href=\"#DejaVuSans-32\"/>\r\n      <use x=\"654.439453\" xlink:href=\"#DejaVuSans-100\"/>\r\n      <use x=\"717.916016\" xlink:href=\"#DejaVuSans-111\"/>\r\n      <use x=\"779.097656\" xlink:href=\"#DejaVuSans-32\"/>\r\n      <use x=\"810.884766\" xlink:href=\"#DejaVuSans-83\"/>\r\n      <use x=\"874.361328\" xlink:href=\"#DejaVuSans-117\"/>\r\n      <use x=\"937.740234\" xlink:href=\"#DejaVuSans-108\"/>\r\n     </g>\r\n    </g>\r\n    <g id=\"line2d_91\">\r\n     <path d=\"M 39.103125 398.66875 \r\nL 59.103125 398.66875 \r\n\" style=\"fill:none;stroke:#9467bd;stroke-linecap:square;stroke-width:1.5;\"/>\r\n    </g>\r\n    <g id=\"line2d_92\"/>\r\n    <g id=\"text_42\">\r\n     <!-- Mato Grosso -->\r\n     <g transform=\"translate(67.103125 402.16875)scale(0.1 -0.1)\">\r\n      <use xlink:href=\"#DejaVuSans-77\"/>\r\n      <use x=\"86.279297\" xlink:href=\"#DejaVuSans-97\"/>\r\n      <use x=\"147.558594\" xlink:href=\"#DejaVuSans-116\"/>\r\n      <use x=\"186.767578\" xlink:href=\"#DejaVuSans-111\"/>\r\n      <use x=\"247.949219\" xlink:href=\"#DejaVuSans-32\"/>\r\n      <use x=\"279.736328\" xlink:href=\"#DejaVuSans-71\"/>\r\n      <use x=\"357.226562\" xlink:href=\"#DejaVuSans-114\"/>\r\n      <use x=\"396.089844\" xlink:href=\"#DejaVuSans-111\"/>\r\n      <use x=\"457.271484\" xlink:href=\"#DejaVuSans-115\"/>\r\n      <use x=\"509.371094\" xlink:href=\"#DejaVuSans-115\"/>\r\n      <use x=\"561.470703\" xlink:href=\"#DejaVuSans-111\"/>\r\n     </g>\r\n    </g>\r\n    <g id=\"line2d_93\">\r\n     <path d=\"M 39.103125 413.346875 \r\nL 59.103125 413.346875 \r\n\" style=\"fill:none;stroke:#8c564b;stroke-linecap:square;stroke-width:1.5;\"/>\r\n    </g>\r\n    <g id=\"line2d_94\"/>\r\n    <g id=\"text_43\">\r\n     <!-- Goiás -->\r\n     <g transform=\"translate(67.103125 416.846875)scale(0.1 -0.1)\">\r\n      <use xlink:href=\"#DejaVuSans-71\"/>\r\n      <use x=\"77.490234\" xlink:href=\"#DejaVuSans-111\"/>\r\n      <use x=\"138.671875\" xlink:href=\"#DejaVuSans-105\"/>\r\n      <use x=\"166.455078\" xlink:href=\"#DejaVuSans-225\"/>\r\n      <use x=\"227.734375\" xlink:href=\"#DejaVuSans-115\"/>\r\n     </g>\r\n    </g>\r\n    <g id=\"line2d_95\">\r\n     <path d=\"M 39.103125 428.025 \r\nL 59.103125 428.025 \r\n\" style=\"fill:none;stroke:#e377c2;stroke-linecap:square;stroke-width:1.5;\"/>\r\n    </g>\r\n    <g id=\"line2d_96\"/>\r\n    <g id=\"text_44\">\r\n     <!-- Distrito Federal -->\r\n     <g transform=\"translate(67.103125 431.525)scale(0.1 -0.1)\">\r\n      <use xlink:href=\"#DejaVuSans-68\"/>\r\n      <use x=\"77.001953\" xlink:href=\"#DejaVuSans-105\"/>\r\n      <use x=\"104.785156\" xlink:href=\"#DejaVuSans-115\"/>\r\n      <use x=\"156.884766\" xlink:href=\"#DejaVuSans-116\"/>\r\n      <use x=\"196.09375\" xlink:href=\"#DejaVuSans-114\"/>\r\n      <use x=\"237.207031\" xlink:href=\"#DejaVuSans-105\"/>\r\n      <use x=\"264.990234\" xlink:href=\"#DejaVuSans-116\"/>\r\n      <use x=\"304.199219\" xlink:href=\"#DejaVuSans-111\"/>\r\n      <use x=\"365.380859\" xlink:href=\"#DejaVuSans-32\"/>\r\n      <use x=\"397.167969\" xlink:href=\"#DejaVuSans-70\"/>\r\n      <use x=\"449.1875\" xlink:href=\"#DejaVuSans-101\"/>\r\n      <use x=\"510.710938\" xlink:href=\"#DejaVuSans-100\"/>\r\n      <use x=\"574.1875\" xlink:href=\"#DejaVuSans-101\"/>\r\n      <use x=\"635.710938\" xlink:href=\"#DejaVuSans-114\"/>\r\n      <use x=\"676.824219\" xlink:href=\"#DejaVuSans-97\"/>\r\n      <use x=\"738.103516\" xlink:href=\"#DejaVuSans-108\"/>\r\n     </g>\r\n    </g>\r\n   </g>\r\n  </g>\r\n </g>\r\n <defs>\r\n  <clipPath id=\"p1bfb2f97cf\">\r\n   <rect height=\"489.24\" width=\"892.8\" x=\"30.103125\" y=\"17.798438\"/>\r\n  </clipPath>\r\n </defs>\r\n</svg>\r\n",
      "image/png": "[encoded data removed]"
     },
     "metadata": {
      "needs_background": "light"
     }
    }
   ],
   "source": [
    "usaveis.T.plot(figsize = (16,9))"
   ]
  },
  {
   "source": [
    "\n",
    "# Desafio 01: Reposicionar a legenda do gráfico em uma posição mais adequada\n",
    "\n",
    "# Desafio 02: Plotar o gráfico de linha com apenas 5 estados de sua preferência"
   ],
   "cell_type": "markdown",
   "metadata": {}
  },
  {
   "cell_type": "code",
   "execution_count": 39,
   "metadata": {},
   "outputs": [
    {
     "output_type": "display_data",
     "data": {
      "text/plain": "<Figure size 1152x648 with 1 Axes>",
      "image/svg+xml": "<?xml version=\"1.0\" encoding=\"utf-8\" standalone=\"no\"?>\r\n<!DOCTYPE svg PUBLIC \"-//W3C//DTD SVG 1.1//EN\"\r\n  \"http://www.w3.org/Graphics/SVG/1.1/DTD/svg11.dtd\">\r\n<!-- Created with matplotlib (https://matplotlib.org/) -->\r\n<svg height=\"539.995312pt\" version=\"1.1\" viewBox=\"0 0 1010.210937 539.995312\" width=\"1010.210937pt\" xmlns=\"http://www.w3.org/2000/svg\" xmlns:xlink=\"http://www.w3.org/1999/xlink\">\r\n <metadata>\r\n  <rdf:RDF xmlns:cc=\"http://creativecommons.org/ns#\" xmlns:dc=\"http://purl.org/dc/elements/1.1/\" xmlns:rdf=\"http://www.w3.org/1999/02/22-rdf-syntax-ns#\">\r\n   <cc:Work>\r\n    <dc:type rdf:resource=\"http://purl.org/dc/dcmitype/StillImage\"/>\r\n    <dc:date>2021-05-21T14:04:11.759201</dc:date>\r\n    <dc:format>image/svg+xml</dc:format>\r\n    <dc:creator>\r\n     <cc:Agent>\r\n      <dc:title>Matplotlib v3.3.2, https://matplotlib.org/</dc:title>\r\n     </cc:Agent>\r\n    </dc:creator>\r\n   </cc:Work>\r\n  </rdf:RDF>\r\n </metadata>\r\n <defs>\r\n  <style type=\"text/css\">*{stroke-linecap:butt;stroke-linejoin:round;}</style>\r\n </defs>\r\n <g id=\"figure_1\">\r\n  <g id=\"patch_1\">\r\n   <path d=\"M 0 539.995312 \r\nL 1010.210937 539.995312 \r\nL 1010.210937 0 \r\nL 0 0 \r\nz\r\n\" style=\"fill:none;\"/>\r\n  </g>\r\n  <g id=\"axes_1\">\r\n   <g id=\"patch_2\">\r\n    <path d=\"M 110.210938 516.117188 \r\nL 1003.010937 516.117188 \r\nL 1003.010937 26.877188 \r\nL 110.210938 26.877188 \r\nz\r\n\" style=\"fill:#ffffff;\"/>\r\n   </g>\r\n   <g id=\"matplotlib.axis_1\">\r\n    <g id=\"xtick_1\">\r\n     <g id=\"line2d_1\">\r\n      <defs>\r\n       <path d=\"M 0 0 \r\nL 0 3.5 \r\n\" id=\"m1162622671\" style=\"stroke:#000000;stroke-width:0.8;\"/>\r\n      </defs>\r\n      <g>\r\n       <use style=\"stroke:#000000;stroke-width:0.8;\" x=\"150.792756\" xlink:href=\"#m1162622671\" y=\"516.117188\"/>\r\n      </g>\r\n     </g>\r\n     <g id=\"text_1\">\r\n      <!-- 2007/Ago -->\r\n      <g transform=\"translate(126.729474 530.715625)scale(0.1 -0.1)\">\r\n       <defs>\r\n        <path d=\"M 19.1875 8.296875 \r\nL 53.609375 8.296875 \r\nL 53.609375 0 \r\nL 7.328125 0 \r\nL 7.328125 8.296875 \r\nQ 12.9375 14.109375 22.625 23.890625 \r\nQ 32.328125 33.6875 34.8125 36.53125 \r\nQ 39.546875 41.84375 41.421875 45.53125 \r\nQ 43.3125 49.21875 43.3125 52.78125 \r\nQ 43.3125 58.59375 39.234375 62.25 \r\nQ 35.15625 65.921875 28.609375 65.921875 \r\nQ 23.96875 65.921875 18.8125 64.3125 \r\nQ 13.671875 62.703125 7.8125 59.421875 \r\nL 7.8125 69.390625 \r\nQ 13.765625 71.78125 18.9375 73 \r\nQ 24.125 74.21875 28.421875 74.21875 \r\nQ 39.75 74.21875 46.484375 68.546875 \r\nQ 53.21875 62.890625 53.21875 53.421875 \r\nQ 53.21875 48.921875 51.53125 44.890625 \r\nQ 49.859375 40.875 45.40625 35.40625 \r\nQ 44.1875 33.984375 37.640625 27.21875 \r\nQ 31.109375 20.453125 19.1875 8.296875 \r\nz\r\n\" id=\"DejaVuSans-50\"/>\r\n        <path d=\"M 31.78125 66.40625 \r\nQ 24.171875 66.40625 20.328125 58.90625 \r\nQ 16.5 51.421875 16.5 36.375 \r\nQ 16.5 21.390625 20.328125 13.890625 \r\nQ 24.171875 6.390625 31.78125 6.390625 \r\nQ 39.453125 6.390625 43.28125 13.890625 \r\nQ 47.125 21.390625 47.125 36.375 \r\nQ 47.125 51.421875 43.28125 58.90625 \r\nQ 39.453125 66.40625 31.78125 66.40625 \r\nz\r\nM 31.78125 74.21875 \r\nQ 44.046875 74.21875 50.515625 64.515625 \r\nQ 56.984375 54.828125 56.984375 36.375 \r\nQ 56.984375 17.96875 50.515625 8.265625 \r\nQ 44.046875 -1.421875 31.78125 -1.421875 \r\nQ 19.53125 -1.421875 13.0625 8.265625 \r\nQ 6.59375 17.96875 6.59375 36.375 \r\nQ 6.59375 54.828125 13.0625 64.515625 \r\nQ 19.53125 74.21875 31.78125 74.21875 \r\nz\r\n\" id=\"DejaVuSans-48\"/>\r\n        <path d=\"M 8.203125 72.90625 \r\nL 55.078125 72.90625 \r\nL 55.078125 68.703125 \r\nL 28.609375 0 \r\nL 18.3125 0 \r\nL 43.21875 64.59375 \r\nL 8.203125 64.59375 \r\nz\r\n\" id=\"DejaVuSans-55\"/>\r\n        <path d=\"M 25.390625 72.90625 \r\nL 33.6875 72.90625 \r\nL 8.296875 -9.28125 \r\nL 0 -9.28125 \r\nz\r\n\" id=\"DejaVuSans-47\"/>\r\n        <path d=\"M 34.1875 63.1875 \r\nL 20.796875 26.90625 \r\nL 47.609375 26.90625 \r\nz\r\nM 28.609375 72.90625 \r\nL 39.796875 72.90625 \r\nL 67.578125 0 \r\nL 57.328125 0 \r\nL 50.6875 18.703125 \r\nL 17.828125 18.703125 \r\nL 11.1875 0 \r\nL 0.78125 0 \r\nz\r\n\" id=\"DejaVuSans-65\"/>\r\n        <path d=\"M 45.40625 27.984375 \r\nQ 45.40625 37.75 41.375 43.109375 \r\nQ 37.359375 48.484375 30.078125 48.484375 \r\nQ 22.859375 48.484375 18.828125 43.109375 \r\nQ 14.796875 37.75 14.796875 27.984375 \r\nQ 14.796875 18.265625 18.828125 12.890625 \r\nQ 22.859375 7.515625 30.078125 7.515625 \r\nQ 37.359375 7.515625 41.375 12.890625 \r\nQ 45.40625 18.265625 45.40625 27.984375 \r\nz\r\nM 54.390625 6.78125 \r\nQ 54.390625 -7.171875 48.1875 -13.984375 \r\nQ 42 -20.796875 29.203125 -20.796875 \r\nQ 24.46875 -20.796875 20.265625 -20.09375 \r\nQ 16.0625 -19.390625 12.109375 -17.921875 \r\nL 12.109375 -9.1875 \r\nQ 16.0625 -11.328125 19.921875 -12.34375 \r\nQ 23.78125 -13.375 27.78125 -13.375 \r\nQ 36.625 -13.375 41.015625 -8.765625 \r\nQ 45.40625 -4.15625 45.40625 5.171875 \r\nL 45.40625 9.625 \r\nQ 42.625 4.78125 38.28125 2.390625 \r\nQ 33.9375 0 27.875 0 \r\nQ 17.828125 0 11.671875 7.65625 \r\nQ 5.515625 15.328125 5.515625 27.984375 \r\nQ 5.515625 40.671875 11.671875 48.328125 \r\nQ 17.828125 56 27.875 56 \r\nQ 33.9375 56 38.28125 53.609375 \r\nQ 42.625 51.21875 45.40625 46.390625 \r\nL 45.40625 54.6875 \r\nL 54.390625 54.6875 \r\nz\r\n\" id=\"DejaVuSans-103\"/>\r\n        <path d=\"M 30.609375 48.390625 \r\nQ 23.390625 48.390625 19.1875 42.75 \r\nQ 14.984375 37.109375 14.984375 27.296875 \r\nQ 14.984375 17.484375 19.15625 11.84375 \r\nQ 23.34375 6.203125 30.609375 6.203125 \r\nQ 37.796875 6.203125 41.984375 11.859375 \r\nQ 46.1875 17.53125 46.1875 27.296875 \r\nQ 46.1875 37.015625 41.984375 42.703125 \r\nQ 37.796875 48.390625 30.609375 48.390625 \r\nz\r\nM 30.609375 56 \r\nQ 42.328125 56 49.015625 48.375 \r\nQ 55.71875 40.765625 55.71875 27.296875 \r\nQ 55.71875 13.875 49.015625 6.21875 \r\nQ 42.328125 -1.421875 30.609375 -1.421875 \r\nQ 18.84375 -1.421875 12.171875 6.21875 \r\nQ 5.515625 13.875 5.515625 27.296875 \r\nQ 5.515625 40.765625 12.171875 48.375 \r\nQ 18.84375 56 30.609375 56 \r\nz\r\n\" id=\"DejaVuSans-111\"/>\r\n       </defs>\r\n       <use xlink:href=\"#DejaVuSans-50\"/>\r\n       <use x=\"63.623047\" xlink:href=\"#DejaVuSans-48\"/>\r\n       <use x=\"127.246094\" xlink:href=\"#DejaVuSans-48\"/>\r\n       <use x=\"190.869141\" xlink:href=\"#DejaVuSans-55\"/>\r\n       <use x=\"254.492188\" xlink:href=\"#DejaVuSans-47\"/>\r\n       <use x=\"288.183594\" xlink:href=\"#DejaVuSans-65\"/>\r\n       <use x=\"356.591797\" xlink:href=\"#DejaVuSans-103\"/>\r\n       <use x=\"420.068359\" xlink:href=\"#DejaVuSans-111\"/>\r\n      </g>\r\n     </g>\r\n    </g>\r\n    <g id=\"xtick_2\">\r\n     <g id=\"line2d_2\">\r\n      <g>\r\n       <use style=\"stroke:#000000;stroke-width:0.8;\" x=\"250.38004\" xlink:href=\"#m1162622671\" y=\"516.117188\"/>\r\n      </g>\r\n     </g>\r\n     <g id=\"text_2\">\r\n      <!-- 2009/Abr -->\r\n      <g transform=\"translate(227.320665 530.715625)scale(0.1 -0.1)\">\r\n       <defs>\r\n        <path d=\"M 10.984375 1.515625 \r\nL 10.984375 10.5 \r\nQ 14.703125 8.734375 18.5 7.8125 \r\nQ 22.3125 6.890625 25.984375 6.890625 \r\nQ 35.75 6.890625 40.890625 13.453125 \r\nQ 46.046875 20.015625 46.78125 33.40625 \r\nQ 43.953125 29.203125 39.59375 26.953125 \r\nQ 35.25 24.703125 29.984375 24.703125 \r\nQ 19.046875 24.703125 12.671875 31.3125 \r\nQ 6.296875 37.9375 6.296875 49.421875 \r\nQ 6.296875 60.640625 12.9375 67.421875 \r\nQ 19.578125 74.21875 30.609375 74.21875 \r\nQ 43.265625 74.21875 49.921875 64.515625 \r\nQ 56.59375 54.828125 56.59375 36.375 \r\nQ 56.59375 19.140625 48.40625 8.859375 \r\nQ 40.234375 -1.421875 26.421875 -1.421875 \r\nQ 22.703125 -1.421875 18.890625 -0.6875 \r\nQ 15.09375 0.046875 10.984375 1.515625 \r\nz\r\nM 30.609375 32.421875 \r\nQ 37.25 32.421875 41.125 36.953125 \r\nQ 45.015625 41.5 45.015625 49.421875 \r\nQ 45.015625 57.28125 41.125 61.84375 \r\nQ 37.25 66.40625 30.609375 66.40625 \r\nQ 23.96875 66.40625 20.09375 61.84375 \r\nQ 16.21875 57.28125 16.21875 49.421875 \r\nQ 16.21875 41.5 20.09375 36.953125 \r\nQ 23.96875 32.421875 30.609375 32.421875 \r\nz\r\n\" id=\"DejaVuSans-57\"/>\r\n        <path d=\"M 48.6875 27.296875 \r\nQ 48.6875 37.203125 44.609375 42.84375 \r\nQ 40.53125 48.484375 33.40625 48.484375 \r\nQ 26.265625 48.484375 22.1875 42.84375 \r\nQ 18.109375 37.203125 18.109375 27.296875 \r\nQ 18.109375 17.390625 22.1875 11.75 \r\nQ 26.265625 6.109375 33.40625 6.109375 \r\nQ 40.53125 6.109375 44.609375 11.75 \r\nQ 48.6875 17.390625 48.6875 27.296875 \r\nz\r\nM 18.109375 46.390625 \r\nQ 20.953125 51.265625 25.265625 53.625 \r\nQ 29.59375 56 35.59375 56 \r\nQ 45.5625 56 51.78125 48.09375 \r\nQ 58.015625 40.1875 58.015625 27.296875 \r\nQ 58.015625 14.40625 51.78125 6.484375 \r\nQ 45.5625 -1.421875 35.59375 -1.421875 \r\nQ 29.59375 -1.421875 25.265625 0.953125 \r\nQ 20.953125 3.328125 18.109375 8.203125 \r\nL 18.109375 0 \r\nL 9.078125 0 \r\nL 9.078125 75.984375 \r\nL 18.109375 75.984375 \r\nz\r\n\" id=\"DejaVuSans-98\"/>\r\n        <path d=\"M 41.109375 46.296875 \r\nQ 39.59375 47.171875 37.8125 47.578125 \r\nQ 36.03125 48 33.890625 48 \r\nQ 26.265625 48 22.1875 43.046875 \r\nQ 18.109375 38.09375 18.109375 28.8125 \r\nL 18.109375 0 \r\nL 9.078125 0 \r\nL 9.078125 54.6875 \r\nL 18.109375 54.6875 \r\nL 18.109375 46.1875 \r\nQ 20.953125 51.171875 25.484375 53.578125 \r\nQ 30.03125 56 36.53125 56 \r\nQ 37.453125 56 38.578125 55.875 \r\nQ 39.703125 55.765625 41.0625 55.515625 \r\nz\r\n\" id=\"DejaVuSans-114\"/>\r\n       </defs>\r\n       <use xlink:href=\"#DejaVuSans-50\"/>\r\n       <use x=\"63.623047\" xlink:href=\"#DejaVuSans-48\"/>\r\n       <use x=\"127.246094\" xlink:href=\"#DejaVuSans-48\"/>\r\n       <use x=\"190.869141\" xlink:href=\"#DejaVuSans-57\"/>\r\n       <use x=\"254.492188\" xlink:href=\"#DejaVuSans-47\"/>\r\n       <use x=\"288.183594\" xlink:href=\"#DejaVuSans-65\"/>\r\n       <use x=\"356.591797\" xlink:href=\"#DejaVuSans-98\"/>\r\n       <use x=\"420.068359\" xlink:href=\"#DejaVuSans-114\"/>\r\n      </g>\r\n     </g>\r\n    </g>\r\n    <g id=\"xtick_3\">\r\n     <g id=\"line2d_3\">\r\n      <g>\r\n       <use style=\"stroke:#000000;stroke-width:0.8;\" x=\"349.967323\" xlink:href=\"#m1162622671\" y=\"516.117188\"/>\r\n      </g>\r\n     </g>\r\n     <g id=\"text_3\">\r\n      <!-- 2010/Dez -->\r\n      <g transform=\"translate(326.007167 530.715625)scale(0.1 -0.1)\">\r\n       <defs>\r\n        <path d=\"M 12.40625 8.296875 \r\nL 28.515625 8.296875 \r\nL 28.515625 63.921875 \r\nL 10.984375 60.40625 \r\nL 10.984375 69.390625 \r\nL 28.421875 72.90625 \r\nL 38.28125 72.90625 \r\nL 38.28125 8.296875 \r\nL 54.390625 8.296875 \r\nL 54.390625 0 \r\nL 12.40625 0 \r\nz\r\n\" id=\"DejaVuSans-49\"/>\r\n        <path d=\"M 19.671875 64.796875 \r\nL 19.671875 8.109375 \r\nL 31.59375 8.109375 \r\nQ 46.6875 8.109375 53.6875 14.9375 \r\nQ 60.6875 21.78125 60.6875 36.53125 \r\nQ 60.6875 51.171875 53.6875 57.984375 \r\nQ 46.6875 64.796875 31.59375 64.796875 \r\nz\r\nM 9.8125 72.90625 \r\nL 30.078125 72.90625 \r\nQ 51.265625 72.90625 61.171875 64.09375 \r\nQ 71.09375 55.28125 71.09375 36.53125 \r\nQ 71.09375 17.671875 61.125 8.828125 \r\nQ 51.171875 0 30.078125 0 \r\nL 9.8125 0 \r\nz\r\n\" id=\"DejaVuSans-68\"/>\r\n        <path d=\"M 56.203125 29.59375 \r\nL 56.203125 25.203125 \r\nL 14.890625 25.203125 \r\nQ 15.484375 15.921875 20.484375 11.0625 \r\nQ 25.484375 6.203125 34.421875 6.203125 \r\nQ 39.59375 6.203125 44.453125 7.46875 \r\nQ 49.3125 8.734375 54.109375 11.28125 \r\nL 54.109375 2.78125 \r\nQ 49.265625 0.734375 44.1875 -0.34375 \r\nQ 39.109375 -1.421875 33.890625 -1.421875 \r\nQ 20.796875 -1.421875 13.15625 6.1875 \r\nQ 5.515625 13.8125 5.515625 26.8125 \r\nQ 5.515625 40.234375 12.765625 48.109375 \r\nQ 20.015625 56 32.328125 56 \r\nQ 43.359375 56 49.78125 48.890625 \r\nQ 56.203125 41.796875 56.203125 29.59375 \r\nz\r\nM 47.21875 32.234375 \r\nQ 47.125 39.59375 43.09375 43.984375 \r\nQ 39.0625 48.390625 32.421875 48.390625 \r\nQ 24.90625 48.390625 20.390625 44.140625 \r\nQ 15.875 39.890625 15.1875 32.171875 \r\nz\r\n\" id=\"DejaVuSans-101\"/>\r\n        <path d=\"M 5.515625 54.6875 \r\nL 48.1875 54.6875 \r\nL 48.1875 46.484375 \r\nL 14.40625 7.171875 \r\nL 48.1875 7.171875 \r\nL 48.1875 0 \r\nL 4.296875 0 \r\nL 4.296875 8.203125 \r\nL 38.09375 47.515625 \r\nL 5.515625 47.515625 \r\nz\r\n\" id=\"DejaVuSans-122\"/>\r\n       </defs>\r\n       <use xlink:href=\"#DejaVuSans-50\"/>\r\n       <use x=\"63.623047\" xlink:href=\"#DejaVuSans-48\"/>\r\n       <use x=\"127.246094\" xlink:href=\"#DejaVuSans-49\"/>\r\n       <use x=\"190.869141\" xlink:href=\"#DejaVuSans-48\"/>\r\n       <use x=\"254.492188\" xlink:href=\"#DejaVuSans-47\"/>\r\n       <use x=\"288.183594\" xlink:href=\"#DejaVuSans-68\"/>\r\n       <use x=\"365.185547\" xlink:href=\"#DejaVuSans-101\"/>\r\n       <use x=\"426.708984\" xlink:href=\"#DejaVuSans-122\"/>\r\n      </g>\r\n     </g>\r\n    </g>\r\n    <g id=\"xtick_4\">\r\n     <g id=\"line2d_4\">\r\n      <g>\r\n       <use style=\"stroke:#000000;stroke-width:0.8;\" x=\"449.554607\" xlink:href=\"#m1162622671\" y=\"516.117188\"/>\r\n      </g>\r\n     </g>\r\n     <g id=\"text_4\">\r\n      <!-- 2012/Ago -->\r\n      <g transform=\"translate(425.491326 530.715625)scale(0.1 -0.1)\">\r\n       <use xlink:href=\"#DejaVuSans-50\"/>\r\n       <use x=\"63.623047\" xlink:href=\"#DejaVuSans-48\"/>\r\n       <use x=\"127.246094\" xlink:href=\"#DejaVuSans-49\"/>\r\n       <use x=\"190.869141\" xlink:href=\"#DejaVuSans-50\"/>\r\n       <use x=\"254.492188\" xlink:href=\"#DejaVuSans-47\"/>\r\n       <use x=\"288.183594\" xlink:href=\"#DejaVuSans-65\"/>\r\n       <use x=\"356.591797\" xlink:href=\"#DejaVuSans-103\"/>\r\n       <use x=\"420.068359\" xlink:href=\"#DejaVuSans-111\"/>\r\n      </g>\r\n     </g>\r\n    </g>\r\n    <g id=\"xtick_5\">\r\n     <g id=\"line2d_5\">\r\n      <g>\r\n       <use style=\"stroke:#000000;stroke-width:0.8;\" x=\"549.141891\" xlink:href=\"#m1162622671\" y=\"516.117188\"/>\r\n      </g>\r\n     </g>\r\n     <g id=\"text_5\">\r\n      <!-- 2014/Abr -->\r\n      <g transform=\"translate(526.082516 530.715625)scale(0.1 -0.1)\">\r\n       <defs>\r\n        <path d=\"M 37.796875 64.3125 \r\nL 12.890625 25.390625 \r\nL 37.796875 25.390625 \r\nz\r\nM 35.203125 72.90625 \r\nL 47.609375 72.90625 \r\nL 47.609375 25.390625 \r\nL 58.015625 25.390625 \r\nL 58.015625 17.1875 \r\nL 47.609375 17.1875 \r\nL 47.609375 0 \r\nL 37.796875 0 \r\nL 37.796875 17.1875 \r\nL 4.890625 17.1875 \r\nL 4.890625 26.703125 \r\nz\r\n\" id=\"DejaVuSans-52\"/>\r\n       </defs>\r\n       <use xlink:href=\"#DejaVuSans-50\"/>\r\n       <use x=\"63.623047\" xlink:href=\"#DejaVuSans-48\"/>\r\n       <use x=\"127.246094\" xlink:href=\"#DejaVuSans-49\"/>\r\n       <use x=\"190.869141\" xlink:href=\"#DejaVuSans-52\"/>\r\n       <use x=\"254.492188\" xlink:href=\"#DejaVuSans-47\"/>\r\n       <use x=\"288.183594\" xlink:href=\"#DejaVuSans-65\"/>\r\n       <use x=\"356.591797\" xlink:href=\"#DejaVuSans-98\"/>\r\n       <use x=\"420.068359\" xlink:href=\"#DejaVuSans-114\"/>\r\n      </g>\r\n     </g>\r\n    </g>\r\n    <g id=\"xtick_6\">\r\n     <g id=\"line2d_6\">\r\n      <g>\r\n       <use style=\"stroke:#000000;stroke-width:0.8;\" x=\"648.729175\" xlink:href=\"#m1162622671\" y=\"516.117188\"/>\r\n      </g>\r\n     </g>\r\n     <g id=\"text_6\">\r\n      <!-- 2015/Dez -->\r\n      <g transform=\"translate(624.769019 530.715625)scale(0.1 -0.1)\">\r\n       <defs>\r\n        <path d=\"M 10.796875 72.90625 \r\nL 49.515625 72.90625 \r\nL 49.515625 64.59375 \r\nL 19.828125 64.59375 \r\nL 19.828125 46.734375 \r\nQ 21.96875 47.46875 24.109375 47.828125 \r\nQ 26.265625 48.1875 28.421875 48.1875 \r\nQ 40.625 48.1875 47.75 41.5 \r\nQ 54.890625 34.8125 54.890625 23.390625 \r\nQ 54.890625 11.625 47.5625 5.09375 \r\nQ 40.234375 -1.421875 26.90625 -1.421875 \r\nQ 22.3125 -1.421875 17.546875 -0.640625 \r\nQ 12.796875 0.140625 7.71875 1.703125 \r\nL 7.71875 11.625 \r\nQ 12.109375 9.234375 16.796875 8.0625 \r\nQ 21.484375 6.890625 26.703125 6.890625 \r\nQ 35.15625 6.890625 40.078125 11.328125 \r\nQ 45.015625 15.765625 45.015625 23.390625 \r\nQ 45.015625 31 40.078125 35.4375 \r\nQ 35.15625 39.890625 26.703125 39.890625 \r\nQ 22.75 39.890625 18.8125 39.015625 \r\nQ 14.890625 38.140625 10.796875 36.28125 \r\nz\r\n\" id=\"DejaVuSans-53\"/>\r\n       </defs>\r\n       <use xlink:href=\"#DejaVuSans-50\"/>\r\n       <use x=\"63.623047\" xlink:href=\"#DejaVuSans-48\"/>\r\n       <use x=\"127.246094\" xlink:href=\"#DejaVuSans-49\"/>\r\n       <use x=\"190.869141\" xlink:href=\"#DejaVuSans-53\"/>\r\n       <use x=\"254.492188\" xlink:href=\"#DejaVuSans-47\"/>\r\n       <use x=\"288.183594\" xlink:href=\"#DejaVuSans-68\"/>\r\n       <use x=\"365.185547\" xlink:href=\"#DejaVuSans-101\"/>\r\n       <use x=\"426.708984\" xlink:href=\"#DejaVuSans-122\"/>\r\n      </g>\r\n     </g>\r\n    </g>\r\n    <g id=\"xtick_7\">\r\n     <g id=\"line2d_7\">\r\n      <g>\r\n       <use style=\"stroke:#000000;stroke-width:0.8;\" x=\"748.316459\" xlink:href=\"#m1162622671\" y=\"516.117188\"/>\r\n      </g>\r\n     </g>\r\n     <g id=\"text_7\">\r\n      <!-- 2017/Ago -->\r\n      <g transform=\"translate(724.253178 530.715625)scale(0.1 -0.1)\">\r\n       <use xlink:href=\"#DejaVuSans-50\"/>\r\n       <use x=\"63.623047\" xlink:href=\"#DejaVuSans-48\"/>\r\n       <use x=\"127.246094\" xlink:href=\"#DejaVuSans-49\"/>\r\n       <use x=\"190.869141\" xlink:href=\"#DejaVuSans-55\"/>\r\n       <use x=\"254.492188\" xlink:href=\"#DejaVuSans-47\"/>\r\n       <use x=\"288.183594\" xlink:href=\"#DejaVuSans-65\"/>\r\n       <use x=\"356.591797\" xlink:href=\"#DejaVuSans-103\"/>\r\n       <use x=\"420.068359\" xlink:href=\"#DejaVuSans-111\"/>\r\n      </g>\r\n     </g>\r\n    </g>\r\n    <g id=\"xtick_8\">\r\n     <g id=\"line2d_8\">\r\n      <g>\r\n       <use style=\"stroke:#000000;stroke-width:0.8;\" x=\"847.903743\" xlink:href=\"#m1162622671\" y=\"516.117188\"/>\r\n      </g>\r\n     </g>\r\n     <g id=\"text_8\">\r\n      <!-- 2019/Abr -->\r\n      <g transform=\"translate(824.844368 530.715625)scale(0.1 -0.1)\">\r\n       <use xlink:href=\"#DejaVuSans-50\"/>\r\n       <use x=\"63.623047\" xlink:href=\"#DejaVuSans-48\"/>\r\n       <use x=\"127.246094\" xlink:href=\"#DejaVuSans-49\"/>\r\n       <use x=\"190.869141\" xlink:href=\"#DejaVuSans-57\"/>\r\n       <use x=\"254.492188\" xlink:href=\"#DejaVuSans-47\"/>\r\n       <use x=\"288.183594\" xlink:href=\"#DejaVuSans-65\"/>\r\n       <use x=\"356.591797\" xlink:href=\"#DejaVuSans-98\"/>\r\n       <use x=\"420.068359\" xlink:href=\"#DejaVuSans-114\"/>\r\n      </g>\r\n     </g>\r\n    </g>\r\n    <g id=\"xtick_9\">\r\n     <g id=\"line2d_9\">\r\n      <g>\r\n       <use style=\"stroke:#000000;stroke-width:0.8;\" x=\"947.491027\" xlink:href=\"#m1162622671\" y=\"516.117188\"/>\r\n      </g>\r\n     </g>\r\n     <g id=\"text_9\">\r\n      <!-- 2020/Dez -->\r\n      <g transform=\"translate(923.53087 530.715625)scale(0.1 -0.1)\">\r\n       <use xlink:href=\"#DejaVuSans-50\"/>\r\n       <use x=\"63.623047\" xlink:href=\"#DejaVuSans-48\"/>\r\n       <use x=\"127.246094\" xlink:href=\"#DejaVuSans-50\"/>\r\n       <use x=\"190.869141\" xlink:href=\"#DejaVuSans-48\"/>\r\n       <use x=\"254.492188\" xlink:href=\"#DejaVuSans-47\"/>\r\n       <use x=\"288.183594\" xlink:href=\"#DejaVuSans-68\"/>\r\n       <use x=\"365.185547\" xlink:href=\"#DejaVuSans-101\"/>\r\n       <use x=\"426.708984\" xlink:href=\"#DejaVuSans-122\"/>\r\n      </g>\r\n     </g>\r\n    </g>\r\n   </g>\r\n   <g id=\"matplotlib.axis_2\">\r\n    <g id=\"ytick_1\">\r\n     <g id=\"line2d_10\">\r\n      <defs>\r\n       <path d=\"M 0 0 \r\nL -3.5 0 \r\n\" id=\"mba36cc5c3f\" style=\"stroke:#000000;stroke-width:0.8;\"/>\r\n      </defs>\r\n      <g>\r\n       <use style=\"stroke:#000000;stroke-width:0.8;\" x=\"110.210938\" xlink:href=\"#mba36cc5c3f\" y=\"493.927559\"/>\r\n      </g>\r\n     </g>\r\n     <g id=\"text_10\">\r\n      <!-- R$ 0.00 -->\r\n      <g transform=\"translate(64.45625 497.726778)scale(0.1 -0.1)\">\r\n       <defs>\r\n        <path d=\"M 44.390625 34.1875 \r\nQ 47.5625 33.109375 50.5625 29.59375 \r\nQ 53.5625 26.078125 56.59375 19.921875 \r\nL 66.609375 0 \r\nL 56 0 \r\nL 46.6875 18.703125 \r\nQ 43.0625 26.03125 39.671875 28.421875 \r\nQ 36.28125 30.8125 30.421875 30.8125 \r\nL 19.671875 30.8125 \r\nL 19.671875 0 \r\nL 9.8125 0 \r\nL 9.8125 72.90625 \r\nL 32.078125 72.90625 \r\nQ 44.578125 72.90625 50.734375 67.671875 \r\nQ 56.890625 62.453125 56.890625 51.90625 \r\nQ 56.890625 45.015625 53.6875 40.46875 \r\nQ 50.484375 35.9375 44.390625 34.1875 \r\nz\r\nM 19.671875 64.796875 \r\nL 19.671875 38.921875 \r\nL 32.078125 38.921875 \r\nQ 39.203125 38.921875 42.84375 42.21875 \r\nQ 46.484375 45.515625 46.484375 51.90625 \r\nQ 46.484375 58.296875 42.84375 61.546875 \r\nQ 39.203125 64.796875 32.078125 64.796875 \r\nz\r\n\" id=\"DejaVuSans-82\"/>\r\n        <path d=\"M 33.796875 -14.703125 \r\nL 28.90625 -14.703125 \r\nL 28.859375 0 \r\nQ 23.734375 0.09375 18.609375 1.1875 \r\nQ 13.484375 2.296875 8.296875 4.5 \r\nL 8.296875 13.28125 \r\nQ 13.28125 10.15625 18.375 8.5625 \r\nQ 23.484375 6.984375 28.90625 6.9375 \r\nL 28.90625 29.203125 \r\nQ 18.109375 30.953125 13.203125 35.15625 \r\nQ 8.296875 39.359375 8.296875 46.6875 \r\nQ 8.296875 54.640625 13.625 59.21875 \r\nQ 18.953125 63.8125 28.90625 64.5 \r\nL 28.90625 75.984375 \r\nL 33.796875 75.984375 \r\nL 33.796875 64.65625 \r\nQ 38.328125 64.453125 42.578125 63.6875 \r\nQ 46.828125 62.9375 50.875 61.625 \r\nL 50.875 53.078125 \r\nQ 46.828125 55.125 42.546875 56.25 \r\nQ 38.28125 57.375 33.796875 57.5625 \r\nL 33.796875 36.71875 \r\nQ 44.875 35.015625 50.09375 30.609375 \r\nQ 55.328125 26.21875 55.328125 18.609375 \r\nQ 55.328125 10.359375 49.78125 5.59375 \r\nQ 44.234375 0.828125 33.796875 0.09375 \r\nz\r\nM 28.90625 37.59375 \r\nL 28.90625 57.625 \r\nQ 23.25 56.984375 20.265625 54.390625 \r\nQ 17.28125 51.8125 17.28125 47.515625 \r\nQ 17.28125 43.3125 20.03125 40.96875 \r\nQ 22.796875 38.625 28.90625 37.59375 \r\nz\r\nM 33.796875 28.21875 \r\nL 33.796875 7.078125 \r\nQ 39.984375 7.90625 43.140625 10.59375 \r\nQ 46.296875 13.28125 46.296875 17.671875 \r\nQ 46.296875 21.96875 43.28125 24.5 \r\nQ 40.28125 27.046875 33.796875 28.21875 \r\nz\r\n\" id=\"DejaVuSans-36\"/>\r\n        <path id=\"DejaVuSans-32\"/>\r\n        <path d=\"M 10.6875 12.40625 \r\nL 21 12.40625 \r\nL 21 0 \r\nL 10.6875 0 \r\nz\r\n\" id=\"DejaVuSans-46\"/>\r\n       </defs>\r\n       <use xlink:href=\"#DejaVuSans-82\"/>\r\n       <use x=\"69.482422\" xlink:href=\"#DejaVuSans-36\"/>\r\n       <use x=\"133.105469\" xlink:href=\"#DejaVuSans-32\"/>\r\n       <use x=\"164.892578\" xlink:href=\"#DejaVuSans-48\"/>\r\n       <use x=\"228.515625\" xlink:href=\"#DejaVuSans-46\"/>\r\n       <use x=\"260.302734\" xlink:href=\"#DejaVuSans-48\"/>\r\n       <use x=\"323.925781\" xlink:href=\"#DejaVuSans-48\"/>\r\n      </g>\r\n     </g>\r\n    </g>\r\n    <g id=\"ytick_2\">\r\n     <g id=\"line2d_11\">\r\n      <g>\r\n       <use style=\"stroke:#000000;stroke-width:0.8;\" x=\"110.210938\" xlink:href=\"#mba36cc5c3f\" y=\"405.499928\"/>\r\n      </g>\r\n     </g>\r\n     <g id=\"text_11\">\r\n      <!-- R$ 50,000,000.00 -->\r\n      <g transform=\"translate(13.5625 409.299147)scale(0.1 -0.1)\">\r\n       <defs>\r\n        <path d=\"M 11.71875 12.40625 \r\nL 22.015625 12.40625 \r\nL 22.015625 4 \r\nL 14.015625 -11.625 \r\nL 7.71875 -11.625 \r\nL 11.71875 4 \r\nz\r\n\" id=\"DejaVuSans-44\"/>\r\n       </defs>\r\n       <use xlink:href=\"#DejaVuSans-82\"/>\r\n       <use x=\"69.482422\" xlink:href=\"#DejaVuSans-36\"/>\r\n       <use x=\"133.105469\" xlink:href=\"#DejaVuSans-32\"/>\r\n       <use x=\"164.892578\" xlink:href=\"#DejaVuSans-53\"/>\r\n       <use x=\"228.515625\" xlink:href=\"#DejaVuSans-48\"/>\r\n       <use x=\"292.138672\" xlink:href=\"#DejaVuSans-44\"/>\r\n       <use x=\"323.925781\" xlink:href=\"#DejaVuSans-48\"/>\r\n       <use x=\"387.548828\" xlink:href=\"#DejaVuSans-48\"/>\r\n       <use x=\"451.171875\" xlink:href=\"#DejaVuSans-48\"/>\r\n       <use x=\"514.794922\" xlink:href=\"#DejaVuSans-44\"/>\r\n       <use x=\"546.582031\" xlink:href=\"#DejaVuSans-48\"/>\r\n       <use x=\"610.205078\" xlink:href=\"#DejaVuSans-48\"/>\r\n       <use x=\"673.828125\" xlink:href=\"#DejaVuSans-48\"/>\r\n       <use x=\"737.451172\" xlink:href=\"#DejaVuSans-46\"/>\r\n       <use x=\"769.238281\" xlink:href=\"#DejaVuSans-48\"/>\r\n       <use x=\"832.861328\" xlink:href=\"#DejaVuSans-48\"/>\r\n      </g>\r\n     </g>\r\n    </g>\r\n    <g id=\"ytick_3\">\r\n     <g id=\"line2d_12\">\r\n      <g>\r\n       <use style=\"stroke:#000000;stroke-width:0.8;\" x=\"110.210938\" xlink:href=\"#mba36cc5c3f\" y=\"317.072298\"/>\r\n      </g>\r\n     </g>\r\n     <g id=\"text_12\">\r\n      <!-- R$ 100,000,000.00 -->\r\n      <g transform=\"translate(7.2 320.871517)scale(0.1 -0.1)\">\r\n       <use xlink:href=\"#DejaVuSans-82\"/>\r\n       <use x=\"69.482422\" xlink:href=\"#DejaVuSans-36\"/>\r\n       <use x=\"133.105469\" xlink:href=\"#DejaVuSans-32\"/>\r\n       <use x=\"164.892578\" xlink:href=\"#DejaVuSans-49\"/>\r\n       <use x=\"228.515625\" xlink:href=\"#DejaVuSans-48\"/>\r\n       <use x=\"292.138672\" xlink:href=\"#DejaVuSans-48\"/>\r\n       <use x=\"355.761719\" xlink:href=\"#DejaVuSans-44\"/>\r\n       <use x=\"387.548828\" xlink:href=\"#DejaVuSans-48\"/>\r\n       <use x=\"451.171875\" xlink:href=\"#DejaVuSans-48\"/>\r\n       <use x=\"514.794922\" xlink:href=\"#DejaVuSans-48\"/>\r\n       <use x=\"578.417969\" xlink:href=\"#DejaVuSans-44\"/>\r\n       <use x=\"610.205078\" xlink:href=\"#DejaVuSans-48\"/>\r\n       <use x=\"673.828125\" xlink:href=\"#DejaVuSans-48\"/>\r\n       <use x=\"737.451172\" xlink:href=\"#DejaVuSans-48\"/>\r\n       <use x=\"801.074219\" xlink:href=\"#DejaVuSans-46\"/>\r\n       <use x=\"832.861328\" xlink:href=\"#DejaVuSans-48\"/>\r\n       <use x=\"896.484375\" xlink:href=\"#DejaVuSans-48\"/>\r\n      </g>\r\n     </g>\r\n    </g>\r\n    <g id=\"ytick_4\">\r\n     <g id=\"line2d_13\">\r\n      <g>\r\n       <use style=\"stroke:#000000;stroke-width:0.8;\" x=\"110.210938\" xlink:href=\"#mba36cc5c3f\" y=\"228.644668\"/>\r\n      </g>\r\n     </g>\r\n     <g id=\"text_13\">\r\n      <!-- R$ 150,000,000.00 -->\r\n      <g transform=\"translate(7.2 232.443886)scale(0.1 -0.1)\">\r\n       <use xlink:href=\"#DejaVuSans-82\"/>\r\n       <use x=\"69.482422\" xlink:href=\"#DejaVuSans-36\"/>\r\n       <use x=\"133.105469\" xlink:href=\"#DejaVuSans-32\"/>\r\n       <use x=\"164.892578\" xlink:href=\"#DejaVuSans-49\"/>\r\n       <use x=\"228.515625\" xlink:href=\"#DejaVuSans-53\"/>\r\n       <use x=\"292.138672\" xlink:href=\"#DejaVuSans-48\"/>\r\n       <use x=\"355.761719\" xlink:href=\"#DejaVuSans-44\"/>\r\n       <use x=\"387.548828\" xlink:href=\"#DejaVuSans-48\"/>\r\n       <use x=\"451.171875\" xlink:href=\"#DejaVuSans-48\"/>\r\n       <use x=\"514.794922\" xlink:href=\"#DejaVuSans-48\"/>\r\n       <use x=\"578.417969\" xlink:href=\"#DejaVuSans-44\"/>\r\n       <use x=\"610.205078\" xlink:href=\"#DejaVuSans-48\"/>\r\n       <use x=\"673.828125\" xlink:href=\"#DejaVuSans-48\"/>\r\n       <use x=\"737.451172\" xlink:href=\"#DejaVuSans-48\"/>\r\n       <use x=\"801.074219\" xlink:href=\"#DejaVuSans-46\"/>\r\n       <use x=\"832.861328\" xlink:href=\"#DejaVuSans-48\"/>\r\n       <use x=\"896.484375\" xlink:href=\"#DejaVuSans-48\"/>\r\n      </g>\r\n     </g>\r\n    </g>\r\n    <g id=\"ytick_5\">\r\n     <g id=\"line2d_14\">\r\n      <g>\r\n       <use style=\"stroke:#000000;stroke-width:0.8;\" x=\"110.210938\" xlink:href=\"#mba36cc5c3f\" y=\"140.217037\"/>\r\n      </g>\r\n     </g>\r\n     <g id=\"text_14\">\r\n      <!-- R$ 200,000,000.00 -->\r\n      <g transform=\"translate(7.2 144.016256)scale(0.1 -0.1)\">\r\n       <use xlink:href=\"#DejaVuSans-82\"/>\r\n       <use x=\"69.482422\" xlink:href=\"#DejaVuSans-36\"/>\r\n       <use x=\"133.105469\" xlink:href=\"#DejaVuSans-32\"/>\r\n       <use x=\"164.892578\" xlink:href=\"#DejaVuSans-50\"/>\r\n       <use x=\"228.515625\" xlink:href=\"#DejaVuSans-48\"/>\r\n       <use x=\"292.138672\" xlink:href=\"#DejaVuSans-48\"/>\r\n       <use x=\"355.761719\" xlink:href=\"#DejaVuSans-44\"/>\r\n       <use x=\"387.548828\" xlink:href=\"#DejaVuSans-48\"/>\r\n       <use x=\"451.171875\" xlink:href=\"#DejaVuSans-48\"/>\r\n       <use x=\"514.794922\" xlink:href=\"#DejaVuSans-48\"/>\r\n       <use x=\"578.417969\" xlink:href=\"#DejaVuSans-44\"/>\r\n       <use x=\"610.205078\" xlink:href=\"#DejaVuSans-48\"/>\r\n       <use x=\"673.828125\" xlink:href=\"#DejaVuSans-48\"/>\r\n       <use x=\"737.451172\" xlink:href=\"#DejaVuSans-48\"/>\r\n       <use x=\"801.074219\" xlink:href=\"#DejaVuSans-46\"/>\r\n       <use x=\"832.861328\" xlink:href=\"#DejaVuSans-48\"/>\r\n       <use x=\"896.484375\" xlink:href=\"#DejaVuSans-48\"/>\r\n      </g>\r\n     </g>\r\n    </g>\r\n    <g id=\"ytick_6\">\r\n     <g id=\"line2d_15\">\r\n      <g>\r\n       <use style=\"stroke:#000000;stroke-width:0.8;\" x=\"110.210938\" xlink:href=\"#mba36cc5c3f\" y=\"51.789407\"/>\r\n      </g>\r\n     </g>\r\n     <g id=\"text_15\">\r\n      <!-- R$ 250,000,000.00 -->\r\n      <g transform=\"translate(7.2 55.588626)scale(0.1 -0.1)\">\r\n       <use xlink:href=\"#DejaVuSans-82\"/>\r\n       <use x=\"69.482422\" xlink:href=\"#DejaVuSans-36\"/>\r\n       <use x=\"133.105469\" xlink:href=\"#DejaVuSans-32\"/>\r\n       <use x=\"164.892578\" xlink:href=\"#DejaVuSans-50\"/>\r\n       <use x=\"228.515625\" xlink:href=\"#DejaVuSans-53\"/>\r\n       <use x=\"292.138672\" xlink:href=\"#DejaVuSans-48\"/>\r\n       <use x=\"355.761719\" xlink:href=\"#DejaVuSans-44\"/>\r\n       <use x=\"387.548828\" xlink:href=\"#DejaVuSans-48\"/>\r\n       <use x=\"451.171875\" xlink:href=\"#DejaVuSans-48\"/>\r\n       <use x=\"514.794922\" xlink:href=\"#DejaVuSans-48\"/>\r\n       <use x=\"578.417969\" xlink:href=\"#DejaVuSans-44\"/>\r\n       <use x=\"610.205078\" xlink:href=\"#DejaVuSans-48\"/>\r\n       <use x=\"673.828125\" xlink:href=\"#DejaVuSans-48\"/>\r\n       <use x=\"737.451172\" xlink:href=\"#DejaVuSans-48\"/>\r\n       <use x=\"801.074219\" xlink:href=\"#DejaVuSans-46\"/>\r\n       <use x=\"832.861328\" xlink:href=\"#DejaVuSans-48\"/>\r\n       <use x=\"896.484375\" xlink:href=\"#DejaVuSans-48\"/>\r\n      </g>\r\n     </g>\r\n    </g>\r\n   </g>\r\n   <g id=\"line2d_16\">\r\n    <path clip-path=\"url(#p7d61fcb7ac)\" d=\"M 150.792756 493.82603 \r\nL 155.77212 493.424892 \r\nL 160.751484 491.889982 \r\nL 165.730848 489.866284 \r\nL 170.710212 483.804011 \r\nL 175.689577 465.25559 \r\nL 180.668941 476.183871 \r\nL 185.648305 472.24148 \r\nL 190.627669 471.902947 \r\nL 195.607033 473.076702 \r\nL 200.586398 472.900021 \r\nL 205.565762 472.341341 \r\nL 210.545126 472.025683 \r\nL 215.52449 471.843726 \r\nL 220.503854 471.208276 \r\nL 225.483219 471.13856 \r\nL 230.462583 471.764807 \r\nL 235.441947 470.142883 \r\nL 240.421311 472.876916 \r\nL 245.400675 468.300709 \r\nL 250.38004 468.807325 \r\nL 255.359404 467.114554 \r\nL 260.338768 468.552186 \r\nL 265.318132 467.048033 \r\nL 270.297496 466.278907 \r\nL 275.276861 467.603822 \r\nL 280.256225 468.336574 \r\nL 285.235589 468.175398 \r\nL 290.214953 469.463251 \r\nL 295.194317 469.132734 \r\nL 300.173682 470.862412 \r\nL 305.153046 464.082038 \r\nL 310.13241 467.073617 \r\nL 315.111774 465.784115 \r\nL 320.091138 467.064664 \r\nL 325.070502 465.755407 \r\nL 330.049867 463.860416 \r\nL 335.029231 465.532916 \r\nL 340.008595 464.280102 \r\nL 344.987959 464.768761 \r\nL 349.967323 466.586628 \r\nL 354.946688 465.577605 \r\nL 359.926052 465.964231 \r\nL 364.905416 462.620397 \r\nL 369.88478 464.927922 \r\nL 374.864144 462.611051 \r\nL 379.843509 462.767472 \r\nL 384.822873 463.055906 \r\nL 389.802237 459.991492 \r\nL 394.781601 464.253998 \r\nL 399.760965 462.992932 \r\nL 404.74033 462.929869 \r\nL 409.719694 465.104029 \r\nL 414.699058 463.600325 \r\nL 419.678422 464.239542 \r\nL 424.657786 460.925957 \r\nL 429.637151 463.769108 \r\nL 434.616515 460.814711 \r\nL 439.595879 461.849799 \r\nL 444.575243 458.767356 \r\nL 449.554607 459.660964 \r\nL 459.513336 459.970747 \r\nL 464.4927 462.16986 \r\nL 469.472064 461.626169 \r\nL 474.451428 460.10696 \r\nL 479.430792 462.197323 \r\nL 484.410157 458.787665 \r\nL 489.389521 458.750525 \r\nL 494.368885 458.592279 \r\nL 499.348249 459.60529 \r\nL 504.327613 457.909496 \r\nL 509.306978 457.006277 \r\nL 514.286342 458.983885 \r\nL 519.265706 456.529875 \r\nL 524.24507 459.114945 \r\nL 529.224434 460.556948 \r\nL 534.203799 459.534488 \r\nL 539.183163 459.596441 \r\nL 544.162527 456.826927 \r\nL 549.141891 457.897441 \r\nL 554.121255 454.434963 \r\nL 559.10062 456.628621 \r\nL 564.079984 455.050936 \r\nL 569.059348 453.595739 \r\nL 574.038712 455.26151 \r\nL 579.018076 454.095565 \r\nL 583.997441 456.099126 \r\nL 588.976805 457.131918 \r\nL 593.956169 456.600021 \r\nL 598.935533 458.465837 \r\nL 603.914897 451.28703 \r\nL 608.894262 456.252729 \r\nL 613.873626 453.531801 \r\nL 618.85299 454.010387 \r\nL 623.832354 449.490393 \r\nL 628.811718 452.747058 \r\nL 633.791083 454.316966 \r\nL 638.770447 452.017424 \r\nL 643.749811 453.544248 \r\nL 648.729175 454.163125 \r\nL 653.708539 452.268744 \r\nL 658.687903 454.424925 \r\nL 663.667268 447.201521 \r\nL 668.646632 450.853209 \r\nL 673.625996 446.917755 \r\nL 678.60536 449.905146 \r\nL 683.584724 447.509308 \r\nL 688.564089 447.704642 \r\nL 693.543453 451.866299 \r\nL 698.522817 450.214892 \r\nL 703.502181 450.758478 \r\nL 708.481545 449.174477 \r\nL 713.46091 449.781744 \r\nL 718.440274 454.11626 \r\nL 723.419638 446.114018 \r\nL 728.399002 449.889154 \r\nL 733.378366 446.693067 \r\nL 738.357731 449.159051 \r\nL 743.337095 447.906415 \r\nL 748.316459 446.534108 \r\nL 753.295823 449.11897 \r\nL 758.275187 446.396228 \r\nL 763.254552 449.258064 \r\nL 768.233916 450.993961 \r\nL 773.21328 448.864399 \r\nL 778.192644 453.804985 \r\nL 783.172008 449.242018 \r\nL 788.151373 447.989217 \r\nL 793.130737 445.390403 \r\nL 798.110101 450.695959 \r\nL 803.089465 448.446052 \r\nL 808.068829 448.83208 \r\nL 813.048193 450.884124 \r\nL 818.027558 447.664264 \r\nL 823.006922 450.294422 \r\nL 827.986286 450.273162 \r\nL 832.96565 449.358195 \r\nL 837.945014 450.22632 \r\nL 842.924379 446.635175 \r\nL 847.903743 447.974719 \r\nL 852.883107 443.186163 \r\nL 857.862471 448.056806 \r\nL 862.841835 443.434475 \r\nL 867.8212 442.076673 \r\nL 872.800564 445.258525 \r\nL 877.779928 441.244348 \r\nL 882.759292 447.424944 \r\nL 887.738656 449.26998 \r\nL 892.718021 445.08791 \r\nL 897.697385 446.881492 \r\nL 902.676749 446.725058 \r\nL 907.656113 451.476898 \r\nL 912.635477 442.125315 \r\nL 917.614842 437.407803 \r\nL 922.594206 419.770198 \r\nL 927.57357 429.542946 \r\nL 932.552934 432.928187 \r\nL 937.532298 432.38097 \r\nL 942.511663 430.774796 \r\nL 947.491027 422.299568 \r\nL 952.470391 434.208381 \r\nL 957.449755 448.529498 \r\nL 962.429119 466.326876 \r\nL 962.429119 466.326876 \r\n\" style=\"fill:none;stroke:#0000ff;stroke-linecap:square;stroke-width:1.5;\"/>\r\n   </g>\r\n   <g id=\"line2d_17\">\r\n    <path clip-path=\"url(#p7d61fcb7ac)\" d=\"M 150.792756 493.097278 \r\nL 155.77212 492.297578 \r\nL 160.751484 488.631337 \r\nL 165.730848 481.104619 \r\nL 170.710212 469.827274 \r\nL 175.689577 49.115369 \r\nL 180.668941 415.884587 \r\nL 185.648305 418.055154 \r\nL 190.627669 413.800631 \r\nL 195.607033 416.197285 \r\nL 200.586398 415.914745 \r\nL 205.565762 415.476233 \r\nL 210.545126 418.762605 \r\nL 215.52449 417.762256 \r\nL 220.503854 415.132678 \r\nL 225.483219 420.795235 \r\nL 230.462583 417.836014 \r\nL 235.441947 386.24842 \r\nL 240.421311 422.003392 \r\nL 245.400675 400.63014 \r\nL 250.38004 407.415844 \r\nL 255.359404 403.417637 \r\nL 260.338768 392.692169 \r\nL 265.318132 399.335359 \r\nL 270.297496 403.299694 \r\nL 275.276861 408.171369 \r\nL 280.256225 407.818378 \r\nL 285.235589 406.015687 \r\nL 290.214953 415.380083 \r\nL 295.194317 394.899737 \r\nL 300.173682 414.637429 \r\nL 305.153046 397.588771 \r\nL 310.13241 355.752961 \r\nL 315.111774 394.837545 \r\nL 320.091138 402.960594 \r\nL 325.070502 398.648719 \r\nL 330.049867 391.586221 \r\nL 335.029231 398.892582 \r\nL 340.008595 401.291943 \r\nL 344.987959 405.070998 \r\nL 349.967323 403.923567 \r\nL 354.946688 363.04473 \r\nL 359.926052 385.781931 \r\nL 364.905416 396.041889 \r\nL 369.88478 395.212421 \r\nL 374.864144 389.429909 \r\nL 379.843509 396.292894 \r\nL 384.822873 397.436319 \r\nL 389.802237 391.373668 \r\nL 394.781601 399.760167 \r\nL 399.760965 400.101134 \r\nL 404.74033 405.84761 \r\nL 409.719694 409.067235 \r\nL 414.699058 375.871765 \r\nL 419.678422 410.326237 \r\nL 424.657786 388.924844 \r\nL 429.637151 398.372518 \r\nL 434.616515 386.457067 \r\nL 439.595879 394.8729 \r\nL 444.575243 393.97532 \r\nL 449.554607 390.385351 \r\nL 454.533972 400.020014 \r\nL 459.513336 391.397483 \r\nL 464.4927 402.515733 \r\nL 469.472064 409.305203 \r\nL 474.451428 313.350902 \r\nL 479.430792 403.365898 \r\nL 484.410157 392.085678 \r\nL 489.389521 381.265843 \r\nL 494.368885 381.102937 \r\nL 499.348249 384.825986 \r\nL 504.327613 386.059058 \r\nL 509.306978 385.024756 \r\nL 514.286342 388.314546 \r\nL 519.265706 386.283689 \r\nL 524.24507 398.300364 \r\nL 529.224434 399.907692 \r\nL 534.203799 375.431608 \r\nL 539.183163 393.918429 \r\nL 544.162527 386.666928 \r\nL 549.141891 390.272001 \r\nL 554.121255 384.003013 \r\nL 559.10062 381.259262 \r\nL 564.079984 376.936465 \r\nL 569.059348 379.01742 \r\nL 574.038712 378.656441 \r\nL 579.018076 380.680714 \r\nL 583.997441 387.120643 \r\nL 588.976805 383.713838 \r\nL 593.956169 378.443563 \r\nL 598.935533 391.882684 \r\nL 603.914897 373.711004 \r\nL 608.894262 383.52358 \r\nL 613.873626 368.044228 \r\nL 618.85299 370.81886 \r\nL 623.832354 363.466987 \r\nL 628.811718 372.477316 \r\nL 633.791083 376.011772 \r\nL 638.770447 373.455026 \r\nL 643.749811 381.551653 \r\nL 648.729175 387.718674 \r\nL 653.708539 376.616964 \r\nL 658.687903 387.680766 \r\nL 663.667268 372.183913 \r\nL 668.646632 382.589065 \r\nL 673.625996 378.005701 \r\nL 678.60536 379.327055 \r\nL 683.584724 343.155406 \r\nL 688.564089 372.251303 \r\nL 693.543453 381.540623 \r\nL 698.522817 380.730443 \r\nL 703.502181 388.604993 \r\nL 708.481545 385.069647 \r\nL 713.46091 373.41191 \r\nL 718.440274 385.190408 \r\nL 723.419638 369.519852 \r\nL 728.399002 379.755077 \r\nL 733.378366 362.193014 \r\nL 738.357731 370.273181 \r\nL 743.337095 364.445218 \r\nL 748.316459 361.798566 \r\nL 753.295823 372.247848 \r\nL 758.275187 364.53083 \r\nL 763.254552 371.251278 \r\nL 768.233916 374.764607 \r\nL 773.21328 365.790544 \r\nL 778.192644 378.86494 \r\nL 783.172008 362.296422 \r\nL 788.151373 362.030347 \r\nL 793.130737 353.470805 \r\nL 798.110101 359.532126 \r\nL 803.089465 356.730297 \r\nL 808.068829 354.358861 \r\nL 813.048193 365.054156 \r\nL 818.027558 353.878708 \r\nL 823.006922 363.022128 \r\nL 827.986286 368.6583 \r\nL 832.96565 353.03877 \r\nL 837.945014 362.801983 \r\nL 842.924379 361.174428 \r\nL 847.903743 357.997355 \r\nL 852.883107 347.719558 \r\nL 857.862471 354.761513 \r\nL 862.841835 337.972331 \r\nL 867.8212 346.033915 \r\nL 872.800564 349.680969 \r\nL 877.779928 347.960635 \r\nL 882.759292 361.677903 \r\nL 887.738656 361.022482 \r\nL 892.718021 351.714948 \r\nL 897.697385 364.562863 \r\nL 902.676749 362.000633 \r\nL 907.656113 371.122906 \r\nL 912.635477 335.243682 \r\nL 917.614842 338.054953 \r\nL 922.594206 324.250604 \r\nL 927.57357 335.119547 \r\nL 932.552934 349.106643 \r\nL 937.532298 351.434843 \r\nL 942.511663 347.478475 \r\nL 947.491027 333.754432 \r\nL 952.470391 339.706397 \r\nL 957.449755 386.270274 \r\nL 962.429119 407.003402 \r\nL 962.429119 407.003402 \r\n\" style=\"fill:none;stroke:#0040df;stroke-linecap:square;stroke-width:1.5;\"/>\r\n   </g>\r\n   <g id=\"line2d_18\">\r\n    <path clip-path=\"url(#p7d61fcb7ac)\" d=\"M 150.792756 493.879006 \r\nL 160.751484 493.71011 \r\nL 165.730848 492.555683 \r\nL 170.710212 489.036634 \r\nL 175.689577 484.306657 \r\nL 180.668941 485.727044 \r\nL 185.648305 485.053248 \r\nL 190.627669 484.614447 \r\nL 195.607033 484.435569 \r\nL 200.586398 485.118334 \r\nL 205.565762 485.210676 \r\nL 210.545126 485.892578 \r\nL 220.503854 485.852255 \r\nL 225.483219 485.586637 \r\nL 230.462583 486.371192 \r\nL 235.441947 485.019263 \r\nL 240.421311 485.114476 \r\nL 245.400675 482.423367 \r\nL 250.38004 483.718178 \r\nL 255.359404 483.118741 \r\nL 260.338768 483.687824 \r\nL 265.318132 483.099284 \r\nL 270.297496 483.129352 \r\nL 275.276861 483.281027 \r\nL 285.235589 483.806153 \r\nL 290.214953 484.729139 \r\nL 295.194317 482.854595 \r\nL 300.173682 483.75125 \r\nL 305.153046 481.446332 \r\nL 310.13241 481.975212 \r\nL 315.111774 480.747667 \r\nL 320.091138 483.389809 \r\nL 325.070502 482.148568 \r\nL 330.049867 481.438895 \r\nL 335.029231 481.680989 \r\nL 340.008595 482.142624 \r\nL 344.987959 482.093907 \r\nL 349.967323 482.582926 \r\nL 354.946688 481.603888 \r\nL 359.926052 483.10731 \r\nL 364.905416 482.093337 \r\nL 369.88478 481.653261 \r\nL 374.864144 481.010211 \r\nL 379.843509 482.306119 \r\nL 384.822873 481.974572 \r\nL 389.802237 481.528686 \r\nL 394.781601 482.897338 \r\nL 399.760965 482.179095 \r\nL 404.74033 482.44803 \r\nL 409.719694 481.946792 \r\nL 414.699058 481.171215 \r\nL 419.678422 482.097206 \r\nL 424.657786 481.120957 \r\nL 429.637151 481.973543 \r\nL 434.616515 480.357853 \r\nL 439.595879 481.488037 \r\nL 444.575243 482.131113 \r\nL 449.554607 481.580524 \r\nL 454.533972 482.048711 \r\nL 459.513336 481.013067 \r\nL 464.4927 482.439077 \r\nL 469.472064 482.69377 \r\nL 474.451428 481.179915 \r\nL 479.430792 482.761095 \r\nL 484.410157 480.92097 \r\nL 489.389521 480.531991 \r\nL 494.368885 481.161327 \r\nL 504.327613 481.568981 \r\nL 509.306978 481.118174 \r\nL 514.286342 481.366532 \r\nL 519.265706 480.630683 \r\nL 524.24507 482.034175 \r\nL 529.224434 482.326023 \r\nL 534.203799 480.718437 \r\nL 539.183163 482.189387 \r\nL 544.162527 481.512314 \r\nL 549.141891 481.233012 \r\nL 554.121255 480.739274 \r\nL 559.10062 482.01858 \r\nL 564.079984 482.129022 \r\nL 569.059348 481.566278 \r\nL 574.038712 479.579857 \r\nL 579.018076 480.504142 \r\nL 583.997441 480.503432 \r\nL 588.976805 482.262102 \r\nL 593.956169 480.056637 \r\nL 598.935533 481.199384 \r\nL 603.914897 479.062317 \r\nL 608.894262 478.856902 \r\nL 613.873626 478.254252 \r\nL 618.85299 480.392383 \r\nL 623.832354 478.707002 \r\nL 628.811718 478.356765 \r\nL 633.791083 478.141834 \r\nL 643.749811 479.117396 \r\nL 648.729175 481.944478 \r\nL 653.708539 480.561952 \r\nL 658.687903 479.443295 \r\nL 663.667268 477.568382 \r\nL 668.646632 478.436628 \r\nL 678.60536 477.842616 \r\nL 683.584724 477.971605 \r\nL 688.564089 480.691113 \r\nL 693.543453 477.678133 \r\nL 698.522817 479.089868 \r\nL 703.502181 480.644031 \r\nL 708.481545 480.905875 \r\nL 713.46091 479.289981 \r\nL 718.440274 480.0424 \r\nL 723.419638 478.777026 \r\nL 728.399002 478.884381 \r\nL 733.378366 477.857138 \r\nL 738.357731 478.59657 \r\nL 743.337095 477.972277 \r\nL 748.316459 478.070927 \r\nL 753.295823 478.957629 \r\nL 758.275187 478.577715 \r\nL 763.254552 480.523702 \r\nL 768.233916 480.927116 \r\nL 773.21328 477.456044 \r\nL 778.192644 480.101418 \r\nL 783.172008 476.53997 \r\nL 788.151373 478.63063 \r\nL 793.130737 477.785407 \r\nL 798.110101 477.760178 \r\nL 803.089465 477.964534 \r\nL 808.068829 476.998683 \r\nL 813.048193 477.961559 \r\nL 818.027558 476.066429 \r\nL 823.006922 478.118376 \r\nL 827.986286 478.212915 \r\nL 832.96565 476.139675 \r\nL 837.945014 477.187609 \r\nL 842.924379 477.204344 \r\nL 847.903743 475.835881 \r\nL 852.883107 474.196083 \r\nL 857.862471 476.562538 \r\nL 862.841835 475.986302 \r\nL 867.8212 476.108895 \r\nL 872.800564 476.87692 \r\nL 877.779928 476.276694 \r\nL 882.759292 477.511086 \r\nL 887.738656 477.584928 \r\nL 892.718021 476.90178 \r\nL 897.697385 477.680654 \r\nL 902.676749 477.609631 \r\nL 907.656113 478.503647 \r\nL 912.635477 477.268549 \r\nL 917.614842 475.431415 \r\nL 922.594206 473.234885 \r\nL 927.57357 471.937197 \r\nL 932.552934 473.609318 \r\nL 937.532298 471.693351 \r\nL 947.491027 474.477107 \r\nL 952.470391 481.282889 \r\nL 957.449755 486.62371 \r\nL 962.429119 488.478504 \r\nL 962.429119 488.478504 \r\n\" style=\"fill:none;stroke:#0080bf;stroke-linecap:square;stroke-width:1.5;\"/>\r\n   </g>\r\n   <g id=\"line2d_19\">\r\n    <path clip-path=\"url(#p7d61fcb7ac)\" d=\"M 150.792756 492.209597 \r\nL 155.77212 488.866348 \r\nL 160.751484 476.210179 \r\nL 165.730848 455.496413 \r\nL 170.710212 417.120172 \r\nL 175.689577 129.23772 \r\nL 180.668941 369.596384 \r\nL 185.648305 354.001435 \r\nL 190.627669 354.129979 \r\nL 195.607033 353.737807 \r\nL 200.586398 353.116834 \r\nL 205.565762 348.536251 \r\nL 210.545126 351.781704 \r\nL 215.52449 348.182678 \r\nL 220.503854 337.209964 \r\nL 225.483219 344.507862 \r\nL 230.462583 336.652598 \r\nL 235.441947 318.808741 \r\nL 240.421311 345.943707 \r\nL 245.400675 316.614921 \r\nL 250.38004 331.519029 \r\nL 255.359404 321.865601 \r\nL 260.338768 324.635696 \r\nL 265.318132 316.983855 \r\nL 270.297496 318.881201 \r\nL 275.276861 320.251945 \r\nL 280.256225 322.444464 \r\nL 285.235589 326.326003 \r\nL 290.214953 330.490712 \r\nL 295.194317 324.488624 \r\nL 300.173682 333.405075 \r\nL 305.153046 304.002959 \r\nL 310.13241 315.59387 \r\nL 315.111774 307.354897 \r\nL 320.091138 317.66279 \r\nL 325.070502 311.120486 \r\nL 330.049867 303.199312 \r\nL 335.029231 309.394767 \r\nL 340.008595 316.143094 \r\nL 344.987959 313.634894 \r\nL 349.967323 317.887683 \r\nL 354.946688 303.337486 \r\nL 359.926052 311.502441 \r\nL 364.905416 297.481878 \r\nL 369.88478 306.294156 \r\nL 374.864144 289.682371 \r\nL 379.843509 299.276307 \r\nL 384.822873 299.215294 \r\nL 389.802237 290.602224 \r\nL 394.781601 299.810294 \r\nL 399.760965 296.830685 \r\nL 404.74033 303.88752 \r\nL 409.719694 303.425825 \r\nL 414.699058 282.134374 \r\nL 419.678422 304.415061 \r\nL 424.657786 277.859156 \r\nL 429.637151 294.842867 \r\nL 434.616515 271.662752 \r\nL 439.595879 289.165232 \r\nL 444.575243 278.14178 \r\nL 449.554607 274.731546 \r\nL 454.533972 290.911513 \r\nL 459.513336 277.988682 \r\nL 464.4927 295.475357 \r\nL 469.472064 298.910739 \r\nL 474.451428 280.936753 \r\nL 479.430792 303.094964 \r\nL 484.410157 270.839565 \r\nL 489.389521 261.799909 \r\nL 494.368885 265.945392 \r\nL 499.348249 269.732275 \r\nL 504.327613 260.322103 \r\nL 509.306978 263.597932 \r\nL 514.286342 266.065295 \r\nL 519.265706 256.437564 \r\nL 524.24507 274.823633 \r\nL 529.224434 274.257995 \r\nL 534.203799 256.665341 \r\nL 539.183163 267.638327 \r\nL 544.162527 253.948738 \r\nL 549.141891 249.18434 \r\nL 554.121255 238.719134 \r\nL 559.10062 256.688353 \r\nL 564.079984 241.737808 \r\nL 569.059348 248.453233 \r\nL 574.038712 247.62759 \r\nL 579.018076 239.797056 \r\nL 583.997441 253.261652 \r\nL 588.976805 261.804444 \r\nL 593.956169 261.016893 \r\nL 598.935533 270.982625 \r\nL 603.914897 227.097111 \r\nL 608.894262 241.719958 \r\nL 613.873626 235.534033 \r\nL 618.85299 241.209295 \r\nL 623.832354 249.973544 \r\nL 628.811718 244.956167 \r\nL 633.791083 250.338112 \r\nL 638.770447 246.043296 \r\nL 643.749811 256.265676 \r\nL 648.729175 264.639093 \r\nL 653.708539 262.015698 \r\nL 658.687903 268.661368 \r\nL 663.667268 239.051433 \r\nL 668.646632 253.376297 \r\nL 673.625996 240.682366 \r\nL 678.60536 245.037838 \r\nL 683.584724 251.616829 \r\nL 688.564089 239.662133 \r\nL 693.543453 253.116327 \r\nL 698.522817 249.125004 \r\nL 703.502181 264.848898 \r\nL 708.481545 259.366871 \r\nL 713.46091 247.977566 \r\nL 718.440274 265.181357 \r\nL 723.419638 228.117832 \r\nL 728.399002 252.123827 \r\nL 733.378366 222.561073 \r\nL 738.357731 238.708788 \r\nL 743.337095 232.975036 \r\nL 748.316459 217.907905 \r\nL 753.295823 242.272981 \r\nL 758.275187 231.60317 \r\nL 763.254552 242.220175 \r\nL 768.233916 249.218876 \r\nL 773.21328 234.815854 \r\nL 778.192644 262.717547 \r\nL 783.172008 225.979845 \r\nL 788.151373 227.402132 \r\nL 793.130737 222.269247 \r\nL 798.110101 228.180424 \r\nL 803.089465 216.756612 \r\nL 808.068829 210.101537 \r\nL 813.048193 235.721334 \r\nL 818.027558 215.743807 \r\nL 823.006922 231.876195 \r\nL 827.986286 236.740383 \r\nL 832.96565 222.920884 \r\nL 837.945014 241.571421 \r\nL 842.924379 225.14966 \r\nL 847.903743 214.570763 \r\nL 852.883107 204.519674 \r\nL 857.862471 221.262458 \r\nL 862.841835 198.975581 \r\nL 867.8212 207.820564 \r\nL 872.800564 215.490467 \r\nL 877.779928 200.055793 \r\nL 882.759292 224.80425 \r\nL 887.738656 224.27054 \r\nL 892.718021 214.026205 \r\nL 897.697385 243.742164 \r\nL 902.676749 232.792025 \r\nL 907.656113 268.530321 \r\nL 912.635477 241.47324 \r\nL 917.614842 215.775589 \r\nL 922.594206 180.068473 \r\nL 927.57357 171.739501 \r\nL 932.552934 173.072323 \r\nL 937.532298 185.163673 \r\nL 942.511663 195.812005 \r\nL 947.491027 199.681139 \r\nL 952.470391 219.687863 \r\nL 957.449755 281.91804 \r\nL 962.429119 352.83095 \r\nL 962.429119 352.83095 \r\n\" style=\"fill:none;stroke:#00c09f;stroke-linecap:square;stroke-width:1.5;\"/>\r\n   </g>\r\n   <g id=\"line2d_20\">\r\n    <path clip-path=\"url(#p7d61fcb7ac)\" d=\"M 150.792756 493.688545 \r\nL 155.77212 493.134629 \r\nL 160.751484 491.483352 \r\nL 165.730848 488.005066 \r\nL 170.710212 472.795151 \r\nL 175.689577 363.146903 \r\nL 180.668941 434.839997 \r\nL 185.648305 420.85685 \r\nL 190.627669 418.185768 \r\nL 195.607033 419.495788 \r\nL 200.586398 423.344549 \r\nL 205.565762 391.944749 \r\nL 210.545126 417.429623 \r\nL 215.52449 418.142837 \r\nL 220.503854 417.291623 \r\nL 225.483219 421.510796 \r\nL 230.462583 420.665877 \r\nL 235.441947 416.364864 \r\nL 240.421311 421.24939 \r\nL 245.400675 402.887899 \r\nL 250.38004 406.206421 \r\nL 255.359404 404.284961 \r\nL 260.338768 407.531804 \r\nL 265.318132 403.598605 \r\nL 270.297496 399.511505 \r\nL 275.276861 403.917397 \r\nL 280.256225 405.298153 \r\nL 290.214953 410.048945 \r\nL 295.194317 407.953333 \r\nL 300.173682 415.203531 \r\nL 305.153046 397.3427 \r\nL 310.13241 402.780914 \r\nL 315.111774 395.884851 \r\nL 320.091138 409.958804 \r\nL 325.070502 403.466826 \r\nL 330.049867 399.085725 \r\nL 335.029231 403.707978 \r\nL 340.008595 402.848252 \r\nL 344.987959 403.36651 \r\nL 349.967323 406.244047 \r\nL 354.946688 398.987834 \r\nL 359.926052 404.303517 \r\nL 364.905416 396.798923 \r\nL 369.88478 397.852637 \r\nL 374.864144 394.721436 \r\nL 379.843509 401.5884 \r\nL 384.822873 396.401312 \r\nL 389.802237 382.418087 \r\nL 394.781601 396.488161 \r\nL 399.760965 393.26167 \r\nL 404.74033 399.142464 \r\nL 409.719694 400.398381 \r\nL 414.699058 394.469694 \r\nL 419.678422 403.195154 \r\nL 424.657786 386.7001 \r\nL 429.637151 394.792767 \r\nL 434.616515 386.892194 \r\nL 439.595879 394.470928 \r\nL 444.575243 388.815738 \r\nL 449.554607 389.200954 \r\nL 454.533972 396.986281 \r\nL 459.513336 394.893171 \r\nL 464.4927 397.046184 \r\nL 469.472064 398.214761 \r\nL 474.451428 395.61298 \r\nL 479.430792 406.155174 \r\nL 484.410157 391.37751 \r\nL 489.389521 387.479845 \r\nL 494.368885 385.24939 \r\nL 499.348249 392.044503 \r\nL 504.327613 382.037961 \r\nL 509.306978 383.729913 \r\nL 514.286342 383.987549 \r\nL 519.265706 379.450442 \r\nL 524.24507 389.224415 \r\nL 529.224434 392.629343 \r\nL 534.203799 383.095769 \r\nL 539.183163 389.87626 \r\nL 549.141891 382.04556 \r\nL 554.121255 376.858973 \r\nL 559.10062 390.955105 \r\nL 564.079984 376.67415 \r\nL 569.059348 377.523412 \r\nL 574.038712 377.162805 \r\nL 579.018076 373.978972 \r\nL 583.997441 385.224976 \r\nL 588.976805 390.413615 \r\nL 593.956169 385.765924 \r\nL 598.935533 396.718071 \r\nL 603.914897 371.175791 \r\nL 608.894262 382.300379 \r\nL 613.873626 376.091615 \r\nL 618.85299 380.380297 \r\nL 623.832354 373.139381 \r\nL 628.811718 373.015627 \r\nL 633.791083 376.341697 \r\nL 638.770447 376.647964 \r\nL 643.749811 375.062517 \r\nL 648.729175 388.765547 \r\nL 653.708539 378.040957 \r\nL 658.687903 382.916422 \r\nL 663.667268 365.915599 \r\nL 668.646632 374.672519 \r\nL 673.625996 368.70286 \r\nL 678.60536 375.329993 \r\nL 683.584724 368.761979 \r\nL 688.564089 363.98731 \r\nL 693.543453 372.832053 \r\nL 698.522817 373.416647 \r\nL 703.502181 380.351948 \r\nL 708.481545 384.862372 \r\nL 713.46091 372.508897 \r\nL 718.440274 387.06697 \r\nL 723.419638 366.295185 \r\nL 728.399002 377.764977 \r\nL 733.378366 360.298153 \r\nL 738.357731 374.568376 \r\nL 743.337095 366.68884 \r\nL 748.316459 362.757638 \r\nL 753.295823 373.394431 \r\nL 758.275187 367.010007 \r\nL 763.254552 373.052441 \r\nL 768.233916 379.320409 \r\nL 773.21328 369.500775 \r\nL 778.192644 386.285507 \r\nL 783.172008 371.937006 \r\nL 788.151373 368.544431 \r\nL 793.130737 364.675251 \r\nL 798.110101 372.957361 \r\nL 803.089465 361.502345 \r\nL 808.068829 361.821174 \r\nL 813.048193 369.038549 \r\nL 818.027558 358.467292 \r\nL 823.006922 367.380453 \r\nL 827.986286 374.396308 \r\nL 832.96565 369.921658 \r\nL 837.945014 375.721728 \r\nL 842.924379 370.159477 \r\nL 847.903743 364.288159 \r\nL 852.883107 353.452849 \r\nL 857.862471 369.115784 \r\nL 862.841835 353.140574 \r\nL 867.8212 356.184183 \r\nL 872.800564 360.482868 \r\nL 877.779928 354.050565 \r\nL 882.759292 366.026661 \r\nL 887.738656 372.457575 \r\nL 892.718021 362.327526 \r\nL 897.697385 373.996051 \r\nL 902.676749 368.363028 \r\nL 907.656113 387.567806 \r\nL 912.635477 376.523508 \r\nL 922.594206 332.969515 \r\nL 927.57357 341.42409 \r\nL 932.552934 355.7408 \r\nL 937.532298 347.292621 \r\nL 942.511663 349.143074 \r\nL 947.491027 346.904622 \r\nL 952.470391 369.553037 \r\nL 957.449755 395.694049 \r\nL 962.429119 438.546037 \r\nL 962.429119 438.546037 \r\n\" style=\"fill:none;stroke:#00ff80;stroke-linecap:square;stroke-width:1.5;\"/>\r\n   </g>\r\n   <g id=\"patch_3\">\r\n    <path d=\"M 110.210938 516.117187 \r\nL 110.210938 26.877187 \r\n\" style=\"fill:none;stroke:#000000;stroke-linecap:square;stroke-linejoin:miter;stroke-width:0.8;\"/>\r\n   </g>\r\n   <g id=\"patch_4\">\r\n    <path d=\"M 1003.010937 516.117187 \r\nL 1003.010937 26.877187 \r\n\" style=\"fill:none;stroke:#000000;stroke-linecap:square;stroke-linejoin:miter;stroke-width:0.8;\"/>\r\n   </g>\r\n   <g id=\"patch_5\">\r\n    <path d=\"M 110.210937 516.117188 \r\nL 1003.010937 516.117188 \r\n\" style=\"fill:none;stroke:#000000;stroke-linecap:square;stroke-linejoin:miter;stroke-width:0.8;\"/>\r\n   </g>\r\n   <g id=\"patch_6\">\r\n    <path d=\"M 110.210937 26.877188 \r\nL 1003.010937 26.877188 \r\n\" style=\"fill:none;stroke:#000000;stroke-linecap:square;stroke-linejoin:miter;stroke-width:0.8;\"/>\r\n   </g>\r\n   <g id=\"text_16\">\r\n    <!-- Gastos por estados selecionados -->\r\n    <g transform=\"translate(408.681875 20.877187)scale(0.18 -0.18)\">\r\n     <defs>\r\n      <path d=\"M 59.515625 10.40625 \r\nL 59.515625 29.984375 \r\nL 43.40625 29.984375 \r\nL 43.40625 38.09375 \r\nL 69.28125 38.09375 \r\nL 69.28125 6.78125 \r\nQ 63.578125 2.734375 56.6875 0.65625 \r\nQ 49.8125 -1.421875 42 -1.421875 \r\nQ 24.90625 -1.421875 15.25 8.5625 \r\nQ 5.609375 18.5625 5.609375 36.375 \r\nQ 5.609375 54.25 15.25 64.234375 \r\nQ 24.90625 74.21875 42 74.21875 \r\nQ 49.125 74.21875 55.546875 72.453125 \r\nQ 61.96875 70.703125 67.390625 67.28125 \r\nL 67.390625 56.78125 \r\nQ 61.921875 61.421875 55.765625 63.765625 \r\nQ 49.609375 66.109375 42.828125 66.109375 \r\nQ 29.4375 66.109375 22.71875 58.640625 \r\nQ 16.015625 51.171875 16.015625 36.375 \r\nQ 16.015625 21.625 22.71875 14.15625 \r\nQ 29.4375 6.6875 42.828125 6.6875 \r\nQ 48.046875 6.6875 52.140625 7.59375 \r\nQ 56.25 8.5 59.515625 10.40625 \r\nz\r\n\" id=\"DejaVuSans-71\"/>\r\n      <path d=\"M 34.28125 27.484375 \r\nQ 23.390625 27.484375 19.1875 25 \r\nQ 14.984375 22.515625 14.984375 16.5 \r\nQ 14.984375 11.71875 18.140625 8.90625 \r\nQ 21.296875 6.109375 26.703125 6.109375 \r\nQ 34.1875 6.109375 38.703125 11.40625 \r\nQ 43.21875 16.703125 43.21875 25.484375 \r\nL 43.21875 27.484375 \r\nz\r\nM 52.203125 31.203125 \r\nL 52.203125 0 \r\nL 43.21875 0 \r\nL 43.21875 8.296875 \r\nQ 40.140625 3.328125 35.546875 0.953125 \r\nQ 30.953125 -1.421875 24.3125 -1.421875 \r\nQ 15.921875 -1.421875 10.953125 3.296875 \r\nQ 6 8.015625 6 15.921875 \r\nQ 6 25.140625 12.171875 29.828125 \r\nQ 18.359375 34.515625 30.609375 34.515625 \r\nL 43.21875 34.515625 \r\nL 43.21875 35.40625 \r\nQ 43.21875 41.609375 39.140625 45 \r\nQ 35.0625 48.390625 27.6875 48.390625 \r\nQ 23 48.390625 18.546875 47.265625 \r\nQ 14.109375 46.140625 10.015625 43.890625 \r\nL 10.015625 52.203125 \r\nQ 14.9375 54.109375 19.578125 55.046875 \r\nQ 24.21875 56 28.609375 56 \r\nQ 40.484375 56 46.34375 49.84375 \r\nQ 52.203125 43.703125 52.203125 31.203125 \r\nz\r\n\" id=\"DejaVuSans-97\"/>\r\n      <path d=\"M 44.28125 53.078125 \r\nL 44.28125 44.578125 \r\nQ 40.484375 46.53125 36.375 47.5 \r\nQ 32.28125 48.484375 27.875 48.484375 \r\nQ 21.1875 48.484375 17.84375 46.4375 \r\nQ 14.5 44.390625 14.5 40.28125 \r\nQ 14.5 37.15625 16.890625 35.375 \r\nQ 19.28125 33.59375 26.515625 31.984375 \r\nL 29.59375 31.296875 \r\nQ 39.15625 29.25 43.1875 25.515625 \r\nQ 47.21875 21.78125 47.21875 15.09375 \r\nQ 47.21875 7.46875 41.1875 3.015625 \r\nQ 35.15625 -1.421875 24.609375 -1.421875 \r\nQ 20.21875 -1.421875 15.453125 -0.5625 \r\nQ 10.6875 0.296875 5.421875 2 \r\nL 5.421875 11.28125 \r\nQ 10.40625 8.6875 15.234375 7.390625 \r\nQ 20.0625 6.109375 24.8125 6.109375 \r\nQ 31.15625 6.109375 34.5625 8.28125 \r\nQ 37.984375 10.453125 37.984375 14.40625 \r\nQ 37.984375 18.0625 35.515625 20.015625 \r\nQ 33.0625 21.96875 24.703125 23.78125 \r\nL 21.578125 24.515625 \r\nQ 13.234375 26.265625 9.515625 29.90625 \r\nQ 5.8125 33.546875 5.8125 39.890625 \r\nQ 5.8125 47.609375 11.28125 51.796875 \r\nQ 16.75 56 26.8125 56 \r\nQ 31.78125 56 36.171875 55.265625 \r\nQ 40.578125 54.546875 44.28125 53.078125 \r\nz\r\n\" id=\"DejaVuSans-115\"/>\r\n      <path d=\"M 18.3125 70.21875 \r\nL 18.3125 54.6875 \r\nL 36.8125 54.6875 \r\nL 36.8125 47.703125 \r\nL 18.3125 47.703125 \r\nL 18.3125 18.015625 \r\nQ 18.3125 11.328125 20.140625 9.421875 \r\nQ 21.96875 7.515625 27.59375 7.515625 \r\nL 36.8125 7.515625 \r\nL 36.8125 0 \r\nL 27.59375 0 \r\nQ 17.1875 0 13.234375 3.875 \r\nQ 9.28125 7.765625 9.28125 18.015625 \r\nL 9.28125 47.703125 \r\nL 2.6875 47.703125 \r\nL 2.6875 54.6875 \r\nL 9.28125 54.6875 \r\nL 9.28125 70.21875 \r\nz\r\n\" id=\"DejaVuSans-116\"/>\r\n      <path d=\"M 18.109375 8.203125 \r\nL 18.109375 -20.796875 \r\nL 9.078125 -20.796875 \r\nL 9.078125 54.6875 \r\nL 18.109375 54.6875 \r\nL 18.109375 46.390625 \r\nQ 20.953125 51.265625 25.265625 53.625 \r\nQ 29.59375 56 35.59375 56 \r\nQ 45.5625 56 51.78125 48.09375 \r\nQ 58.015625 40.1875 58.015625 27.296875 \r\nQ 58.015625 14.40625 51.78125 6.484375 \r\nQ 45.5625 -1.421875 35.59375 -1.421875 \r\nQ 29.59375 -1.421875 25.265625 0.953125 \r\nQ 20.953125 3.328125 18.109375 8.203125 \r\nz\r\nM 48.6875 27.296875 \r\nQ 48.6875 37.203125 44.609375 42.84375 \r\nQ 40.53125 48.484375 33.40625 48.484375 \r\nQ 26.265625 48.484375 22.1875 42.84375 \r\nQ 18.109375 37.203125 18.109375 27.296875 \r\nQ 18.109375 17.390625 22.1875 11.75 \r\nQ 26.265625 6.109375 33.40625 6.109375 \r\nQ 40.53125 6.109375 44.609375 11.75 \r\nQ 48.6875 17.390625 48.6875 27.296875 \r\nz\r\n\" id=\"DejaVuSans-112\"/>\r\n      <path d=\"M 45.40625 46.390625 \r\nL 45.40625 75.984375 \r\nL 54.390625 75.984375 \r\nL 54.390625 0 \r\nL 45.40625 0 \r\nL 45.40625 8.203125 \r\nQ 42.578125 3.328125 38.25 0.953125 \r\nQ 33.9375 -1.421875 27.875 -1.421875 \r\nQ 17.96875 -1.421875 11.734375 6.484375 \r\nQ 5.515625 14.40625 5.515625 27.296875 \r\nQ 5.515625 40.1875 11.734375 48.09375 \r\nQ 17.96875 56 27.875 56 \r\nQ 33.9375 56 38.25 53.625 \r\nQ 42.578125 51.265625 45.40625 46.390625 \r\nz\r\nM 14.796875 27.296875 \r\nQ 14.796875 17.390625 18.875 11.75 \r\nQ 22.953125 6.109375 30.078125 6.109375 \r\nQ 37.203125 6.109375 41.296875 11.75 \r\nQ 45.40625 17.390625 45.40625 27.296875 \r\nQ 45.40625 37.203125 41.296875 42.84375 \r\nQ 37.203125 48.484375 30.078125 48.484375 \r\nQ 22.953125 48.484375 18.875 42.84375 \r\nQ 14.796875 37.203125 14.796875 27.296875 \r\nz\r\n\" id=\"DejaVuSans-100\"/>\r\n      <path d=\"M 9.421875 75.984375 \r\nL 18.40625 75.984375 \r\nL 18.40625 0 \r\nL 9.421875 0 \r\nz\r\n\" id=\"DejaVuSans-108\"/>\r\n      <path d=\"M 48.78125 52.59375 \r\nL 48.78125 44.1875 \r\nQ 44.96875 46.296875 41.140625 47.34375 \r\nQ 37.3125 48.390625 33.40625 48.390625 \r\nQ 24.65625 48.390625 19.8125 42.84375 \r\nQ 14.984375 37.3125 14.984375 27.296875 \r\nQ 14.984375 17.28125 19.8125 11.734375 \r\nQ 24.65625 6.203125 33.40625 6.203125 \r\nQ 37.3125 6.203125 41.140625 7.25 \r\nQ 44.96875 8.296875 48.78125 10.40625 \r\nL 48.78125 2.09375 \r\nQ 45.015625 0.34375 40.984375 -0.53125 \r\nQ 36.96875 -1.421875 32.421875 -1.421875 \r\nQ 20.0625 -1.421875 12.78125 6.34375 \r\nQ 5.515625 14.109375 5.515625 27.296875 \r\nQ 5.515625 40.671875 12.859375 48.328125 \r\nQ 20.21875 56 33.015625 56 \r\nQ 37.15625 56 41.109375 55.140625 \r\nQ 45.0625 54.296875 48.78125 52.59375 \r\nz\r\n\" id=\"DejaVuSans-99\"/>\r\n      <path d=\"M 9.421875 54.6875 \r\nL 18.40625 54.6875 \r\nL 18.40625 0 \r\nL 9.421875 0 \r\nz\r\nM 9.421875 75.984375 \r\nL 18.40625 75.984375 \r\nL 18.40625 64.59375 \r\nL 9.421875 64.59375 \r\nz\r\n\" id=\"DejaVuSans-105\"/>\r\n      <path d=\"M 54.890625 33.015625 \r\nL 54.890625 0 \r\nL 45.90625 0 \r\nL 45.90625 32.71875 \r\nQ 45.90625 40.484375 42.875 44.328125 \r\nQ 39.84375 48.1875 33.796875 48.1875 \r\nQ 26.515625 48.1875 22.3125 43.546875 \r\nQ 18.109375 38.921875 18.109375 30.90625 \r\nL 18.109375 0 \r\nL 9.078125 0 \r\nL 9.078125 54.6875 \r\nL 18.109375 54.6875 \r\nL 18.109375 46.1875 \r\nQ 21.34375 51.125 25.703125 53.5625 \r\nQ 30.078125 56 35.796875 56 \r\nQ 45.21875 56 50.046875 50.171875 \r\nQ 54.890625 44.34375 54.890625 33.015625 \r\nz\r\n\" id=\"DejaVuSans-110\"/>\r\n     </defs>\r\n     <use xlink:href=\"#DejaVuSans-71\"/>\r\n     <use x=\"77.490234\" xlink:href=\"#DejaVuSans-97\"/>\r\n     <use x=\"138.769531\" xlink:href=\"#DejaVuSans-115\"/>\r\n     <use x=\"190.869141\" xlink:href=\"#DejaVuSans-116\"/>\r\n     <use x=\"230.078125\" xlink:href=\"#DejaVuSans-111\"/>\r\n     <use x=\"291.259766\" xlink:href=\"#DejaVuSans-115\"/>\r\n     <use x=\"343.359375\" xlink:href=\"#DejaVuSans-32\"/>\r\n     <use x=\"375.146484\" xlink:href=\"#DejaVuSans-112\"/>\r\n     <use x=\"438.623047\" xlink:href=\"#DejaVuSans-111\"/>\r\n     <use x=\"499.804688\" xlink:href=\"#DejaVuSans-114\"/>\r\n     <use x=\"540.917969\" xlink:href=\"#DejaVuSans-32\"/>\r\n     <use x=\"572.705078\" xlink:href=\"#DejaVuSans-101\"/>\r\n     <use x=\"634.228516\" xlink:href=\"#DejaVuSans-115\"/>\r\n     <use x=\"686.328125\" xlink:href=\"#DejaVuSans-116\"/>\r\n     <use x=\"725.537109\" xlink:href=\"#DejaVuSans-97\"/>\r\n     <use x=\"786.816406\" xlink:href=\"#DejaVuSans-100\"/>\r\n     <use x=\"850.292969\" xlink:href=\"#DejaVuSans-111\"/>\r\n     <use x=\"911.474609\" xlink:href=\"#DejaVuSans-115\"/>\r\n     <use x=\"963.574219\" xlink:href=\"#DejaVuSans-32\"/>\r\n     <use x=\"995.361328\" xlink:href=\"#DejaVuSans-115\"/>\r\n     <use x=\"1047.460938\" xlink:href=\"#DejaVuSans-101\"/>\r\n     <use x=\"1108.984375\" xlink:href=\"#DejaVuSans-108\"/>\r\n     <use x=\"1136.767578\" xlink:href=\"#DejaVuSans-101\"/>\r\n     <use x=\"1198.291016\" xlink:href=\"#DejaVuSans-99\"/>\r\n     <use x=\"1253.271484\" xlink:href=\"#DejaVuSans-105\"/>\r\n     <use x=\"1281.054688\" xlink:href=\"#DejaVuSans-111\"/>\r\n     <use x=\"1342.236328\" xlink:href=\"#DejaVuSans-110\"/>\r\n     <use x=\"1405.615234\" xlink:href=\"#DejaVuSans-97\"/>\r\n     <use x=\"1466.894531\" xlink:href=\"#DejaVuSans-100\"/>\r\n     <use x=\"1530.371094\" xlink:href=\"#DejaVuSans-111\"/>\r\n     <use x=\"1591.552734\" xlink:href=\"#DejaVuSans-115\"/>\r\n    </g>\r\n   </g>\r\n   <g id=\"legend_1\">\r\n    <g id=\"patch_7\">\r\n     <path d=\"M 894.396875 108.667813 \r\nL 996.010937 108.667813 \r\nQ 998.010937 108.667813 998.010937 106.667813 \r\nL 998.010937 33.877187 \r\nQ 998.010937 31.877187 996.010937 31.877187 \r\nL 894.396875 31.877187 \r\nQ 892.396875 31.877187 892.396875 33.877187 \r\nL 892.396875 106.667813 \r\nQ 892.396875 108.667813 894.396875 108.667813 \r\nz\r\n\" style=\"fill:#ffffff;opacity:0.8;stroke:#cccccc;stroke-linejoin:miter;\"/>\r\n    </g>\r\n    <g id=\"line2d_21\">\r\n     <path d=\"M 896.396875 40.375625 \r\nL 916.396875 40.375625 \r\n\" style=\"fill:none;stroke:#0000ff;stroke-linecap:square;stroke-width:1.5;\"/>\r\n    </g>\r\n    <g id=\"line2d_22\"/>\r\n    <g id=\"text_17\">\r\n     <!-- Espírito Santo -->\r\n     <g transform=\"translate(924.396875 43.875625)scale(0.1 -0.1)\">\r\n      <defs>\r\n       <path d=\"M 9.8125 72.90625 \r\nL 55.90625 72.90625 \r\nL 55.90625 64.59375 \r\nL 19.671875 64.59375 \r\nL 19.671875 43.015625 \r\nL 54.390625 43.015625 \r\nL 54.390625 34.71875 \r\nL 19.671875 34.71875 \r\nL 19.671875 8.296875 \r\nL 56.78125 8.296875 \r\nL 56.78125 0 \r\nL 9.8125 0 \r\nz\r\n\" id=\"DejaVuSans-69\"/>\r\n       <path d=\"M 20.703125 79.984375 \r\nL 30.421875 79.984375 \r\nL 14.5 61.625 \r\nL 7.03125 61.625 \r\nz\r\nM 9.421875 54.6875 \r\nL 18.40625 54.6875 \r\nL 18.40625 0 \r\nL 9.421875 0 \r\nz\r\nM 13.921875 56 \r\nz\r\n\" id=\"DejaVuSans-237\"/>\r\n       <path d=\"M 53.515625 70.515625 \r\nL 53.515625 60.890625 \r\nQ 47.90625 63.578125 42.921875 64.890625 \r\nQ 37.9375 66.21875 33.296875 66.21875 \r\nQ 25.25 66.21875 20.875 63.09375 \r\nQ 16.5 59.96875 16.5 54.203125 \r\nQ 16.5 49.359375 19.40625 46.890625 \r\nQ 22.3125 44.4375 30.421875 42.921875 \r\nL 36.375 41.703125 \r\nQ 47.40625 39.59375 52.65625 34.296875 \r\nQ 57.90625 29 57.90625 20.125 \r\nQ 57.90625 9.515625 50.796875 4.046875 \r\nQ 43.703125 -1.421875 29.984375 -1.421875 \r\nQ 24.8125 -1.421875 18.96875 -0.25 \r\nQ 13.140625 0.921875 6.890625 3.21875 \r\nL 6.890625 13.375 \r\nQ 12.890625 10.015625 18.65625 8.296875 \r\nQ 24.421875 6.59375 29.984375 6.59375 \r\nQ 38.421875 6.59375 43.015625 9.90625 \r\nQ 47.609375 13.234375 47.609375 19.390625 \r\nQ 47.609375 24.75 44.3125 27.78125 \r\nQ 41.015625 30.8125 33.5 32.328125 \r\nL 27.484375 33.5 \r\nQ 16.453125 35.6875 11.515625 40.375 \r\nQ 6.59375 45.0625 6.59375 53.421875 \r\nQ 6.59375 63.09375 13.40625 68.65625 \r\nQ 20.21875 74.21875 32.171875 74.21875 \r\nQ 37.3125 74.21875 42.625 73.28125 \r\nQ 47.953125 72.359375 53.515625 70.515625 \r\nz\r\n\" id=\"DejaVuSans-83\"/>\r\n      </defs>\r\n      <use xlink:href=\"#DejaVuSans-69\"/>\r\n      <use x=\"63.183594\" xlink:href=\"#DejaVuSans-115\"/>\r\n      <use x=\"115.283203\" xlink:href=\"#DejaVuSans-112\"/>\r\n      <use x=\"178.759766\" xlink:href=\"#DejaVuSans-237\"/>\r\n      <use x=\"206.542969\" xlink:href=\"#DejaVuSans-114\"/>\r\n      <use x=\"247.65625\" xlink:href=\"#DejaVuSans-105\"/>\r\n      <use x=\"275.439453\" xlink:href=\"#DejaVuSans-116\"/>\r\n      <use x=\"314.648438\" xlink:href=\"#DejaVuSans-111\"/>\r\n      <use x=\"375.830078\" xlink:href=\"#DejaVuSans-32\"/>\r\n      <use x=\"407.617188\" xlink:href=\"#DejaVuSans-83\"/>\r\n      <use x=\"471.09375\" xlink:href=\"#DejaVuSans-97\"/>\r\n      <use x=\"532.373047\" xlink:href=\"#DejaVuSans-110\"/>\r\n      <use x=\"595.751953\" xlink:href=\"#DejaVuSans-116\"/>\r\n      <use x=\"634.960938\" xlink:href=\"#DejaVuSans-111\"/>\r\n     </g>\r\n    </g>\r\n    <g id=\"line2d_23\">\r\n     <path d=\"M 896.396875 55.05375 \r\nL 916.396875 55.05375 \r\n\" style=\"fill:none;stroke:#0040df;stroke-linecap:square;stroke-width:1.5;\"/>\r\n    </g>\r\n    <g id=\"line2d_24\"/>\r\n    <g id=\"text_18\">\r\n     <!-- Rio de Janeiro -->\r\n     <g transform=\"translate(924.396875 58.55375)scale(0.1 -0.1)\">\r\n      <defs>\r\n       <path d=\"M 9.8125 72.90625 \r\nL 19.671875 72.90625 \r\nL 19.671875 5.078125 \r\nQ 19.671875 -8.109375 14.671875 -14.0625 \r\nQ 9.671875 -20.015625 -1.421875 -20.015625 \r\nL -5.171875 -20.015625 \r\nL -5.171875 -11.71875 \r\nL -2.09375 -11.71875 \r\nQ 4.4375 -11.71875 7.125 -8.046875 \r\nQ 9.8125 -4.390625 9.8125 5.078125 \r\nz\r\n\" id=\"DejaVuSans-74\"/>\r\n      </defs>\r\n      <use xlink:href=\"#DejaVuSans-82\"/>\r\n      <use x=\"69.482422\" xlink:href=\"#DejaVuSans-105\"/>\r\n      <use x=\"97.265625\" xlink:href=\"#DejaVuSans-111\"/>\r\n      <use x=\"158.447266\" xlink:href=\"#DejaVuSans-32\"/>\r\n      <use x=\"190.234375\" xlink:href=\"#DejaVuSans-100\"/>\r\n      <use x=\"253.710938\" xlink:href=\"#DejaVuSans-101\"/>\r\n      <use x=\"315.234375\" xlink:href=\"#DejaVuSans-32\"/>\r\n      <use x=\"347.021484\" xlink:href=\"#DejaVuSans-74\"/>\r\n      <use x=\"376.513672\" xlink:href=\"#DejaVuSans-97\"/>\r\n      <use x=\"437.792969\" xlink:href=\"#DejaVuSans-110\"/>\r\n      <use x=\"501.171875\" xlink:href=\"#DejaVuSans-101\"/>\r\n      <use x=\"562.695312\" xlink:href=\"#DejaVuSans-105\"/>\r\n      <use x=\"590.478516\" xlink:href=\"#DejaVuSans-114\"/>\r\n      <use x=\"629.341797\" xlink:href=\"#DejaVuSans-111\"/>\r\n     </g>\r\n    </g>\r\n    <g id=\"line2d_25\">\r\n     <path d=\"M 896.396875 69.731875 \r\nL 916.396875 69.731875 \r\n\" style=\"fill:none;stroke:#0080bf;stroke-linecap:square;stroke-width:1.5;\"/>\r\n    </g>\r\n    <g id=\"line2d_26\"/>\r\n    <g id=\"text_19\">\r\n     <!-- Sergipe -->\r\n     <g transform=\"translate(924.396875 73.231875)scale(0.1 -0.1)\">\r\n      <use xlink:href=\"#DejaVuSans-83\"/>\r\n      <use x=\"63.476562\" xlink:href=\"#DejaVuSans-101\"/>\r\n      <use x=\"125\" xlink:href=\"#DejaVuSans-114\"/>\r\n      <use x=\"164.363281\" xlink:href=\"#DejaVuSans-103\"/>\r\n      <use x=\"227.839844\" xlink:href=\"#DejaVuSans-105\"/>\r\n      <use x=\"255.623047\" xlink:href=\"#DejaVuSans-112\"/>\r\n      <use x=\"319.099609\" xlink:href=\"#DejaVuSans-101\"/>\r\n     </g>\r\n    </g>\r\n    <g id=\"line2d_27\">\r\n     <path d=\"M 896.396875 84.41 \r\nL 916.396875 84.41 \r\n\" style=\"fill:none;stroke:#00c09f;stroke-linecap:square;stroke-width:1.5;\"/>\r\n    </g>\r\n    <g id=\"line2d_28\"/>\r\n    <g id=\"text_20\">\r\n     <!-- Minas Gerais -->\r\n     <g transform=\"translate(924.396875 87.91)scale(0.1 -0.1)\">\r\n      <defs>\r\n       <path d=\"M 9.8125 72.90625 \r\nL 24.515625 72.90625 \r\nL 43.109375 23.296875 \r\nL 61.8125 72.90625 \r\nL 76.515625 72.90625 \r\nL 76.515625 0 \r\nL 66.890625 0 \r\nL 66.890625 64.015625 \r\nL 48.09375 14.015625 \r\nL 38.1875 14.015625 \r\nL 19.390625 64.015625 \r\nL 19.390625 0 \r\nL 9.8125 0 \r\nz\r\n\" id=\"DejaVuSans-77\"/>\r\n      </defs>\r\n      <use xlink:href=\"#DejaVuSans-77\"/>\r\n      <use x=\"86.279297\" xlink:href=\"#DejaVuSans-105\"/>\r\n      <use x=\"114.0625\" xlink:href=\"#DejaVuSans-110\"/>\r\n      <use x=\"177.441406\" xlink:href=\"#DejaVuSans-97\"/>\r\n      <use x=\"238.720703\" xlink:href=\"#DejaVuSans-115\"/>\r\n      <use x=\"290.820312\" xlink:href=\"#DejaVuSans-32\"/>\r\n      <use x=\"322.607422\" xlink:href=\"#DejaVuSans-71\"/>\r\n      <use x=\"400.097656\" xlink:href=\"#DejaVuSans-101\"/>\r\n      <use x=\"461.621094\" xlink:href=\"#DejaVuSans-114\"/>\r\n      <use x=\"502.734375\" xlink:href=\"#DejaVuSans-97\"/>\r\n      <use x=\"564.013672\" xlink:href=\"#DejaVuSans-105\"/>\r\n      <use x=\"591.796875\" xlink:href=\"#DejaVuSans-115\"/>\r\n     </g>\r\n    </g>\r\n    <g id=\"line2d_29\">\r\n     <path d=\"M 896.396875 99.088125 \r\nL 916.396875 99.088125 \r\n\" style=\"fill:none;stroke:#00ff80;stroke-linecap:square;stroke-width:1.5;\"/>\r\n    </g>\r\n    <g id=\"line2d_30\"/>\r\n    <g id=\"text_21\">\r\n     <!-- Bahia -->\r\n     <g transform=\"translate(924.396875 102.588125)scale(0.1 -0.1)\">\r\n      <defs>\r\n       <path d=\"M 19.671875 34.8125 \r\nL 19.671875 8.109375 \r\nL 35.5 8.109375 \r\nQ 43.453125 8.109375 47.28125 11.40625 \r\nQ 51.125 14.703125 51.125 21.484375 \r\nQ 51.125 28.328125 47.28125 31.5625 \r\nQ 43.453125 34.8125 35.5 34.8125 \r\nz\r\nM 19.671875 64.796875 \r\nL 19.671875 42.828125 \r\nL 34.28125 42.828125 \r\nQ 41.5 42.828125 45.03125 45.53125 \r\nQ 48.578125 48.25 48.578125 53.8125 \r\nQ 48.578125 59.328125 45.03125 62.0625 \r\nQ 41.5 64.796875 34.28125 64.796875 \r\nz\r\nM 9.8125 72.90625 \r\nL 35.015625 72.90625 \r\nQ 46.296875 72.90625 52.390625 68.21875 \r\nQ 58.5 63.53125 58.5 54.890625 \r\nQ 58.5 48.1875 55.375 44.234375 \r\nQ 52.25 40.28125 46.1875 39.3125 \r\nQ 53.46875 37.75 57.5 32.78125 \r\nQ 61.53125 27.828125 61.53125 20.40625 \r\nQ 61.53125 10.640625 54.890625 5.3125 \r\nQ 48.25 0 35.984375 0 \r\nL 9.8125 0 \r\nz\r\n\" id=\"DejaVuSans-66\"/>\r\n       <path d=\"M 54.890625 33.015625 \r\nL 54.890625 0 \r\nL 45.90625 0 \r\nL 45.90625 32.71875 \r\nQ 45.90625 40.484375 42.875 44.328125 \r\nQ 39.84375 48.1875 33.796875 48.1875 \r\nQ 26.515625 48.1875 22.3125 43.546875 \r\nQ 18.109375 38.921875 18.109375 30.90625 \r\nL 18.109375 0 \r\nL 9.078125 0 \r\nL 9.078125 75.984375 \r\nL 18.109375 75.984375 \r\nL 18.109375 46.1875 \r\nQ 21.34375 51.125 25.703125 53.5625 \r\nQ 30.078125 56 35.796875 56 \r\nQ 45.21875 56 50.046875 50.171875 \r\nQ 54.890625 44.34375 54.890625 33.015625 \r\nz\r\n\" id=\"DejaVuSans-104\"/>\r\n      </defs>\r\n      <use xlink:href=\"#DejaVuSans-66\"/>\r\n      <use x=\"68.603516\" xlink:href=\"#DejaVuSans-97\"/>\r\n      <use x=\"129.882812\" xlink:href=\"#DejaVuSans-104\"/>\r\n      <use x=\"193.261719\" xlink:href=\"#DejaVuSans-105\"/>\r\n      <use x=\"221.044922\" xlink:href=\"#DejaVuSans-97\"/>\r\n     </g>\r\n    </g>\r\n   </g>\r\n  </g>\r\n </g>\r\n <defs>\r\n  <clipPath id=\"p7d61fcb7ac\">\r\n   <rect height=\"489.24\" width=\"892.8\" x=\"110.210938\" y=\"26.877187\"/>\r\n  </clipPath>\r\n </defs>\r\n</svg>\r\n",
      "image/png": "[encoded data removed]"
     },
     "metadata": {
      "needs_background": "light"
     }
    }
   ],
   "source": [
    "estados = ['Espírito Santo', 'Rio de Janeiro', 'Sergipe', 'Minas Gerais', 'Bahia']\n",
    "selecionados = usaveis.loc[estados]\n",
    "\n",
    "ax = selecionados.T.plot(\n",
    "    y = estados,\n",
    "    kind = 'line',\n",
    "    figsize = (16,9),\n",
    "    cmap = 'winter',    \n",
    ")\n",
    "ax.yaxis.set_major_formatter(ticker.StrMethodFormatter(\"R$ {x:,.2f}\"))\n",
    "ax.set_xlabel('')\n",
    "\n",
    "plt.title('Gastos por estados selecionados', fontsize = 18)\n",
    "plt.legend(loc='upper right')\n",
    "plt.show()"
   ]
  },
  {
   "source": [
    "## Fazendo agora pelo plotly por ter uma interface mais agradável e também pela responsividade"
   ],
   "cell_type": "markdown",
   "metadata": {}
  },
  {
   "cell_type": "code",
   "execution_count": 40,
   "metadata": {},
   "outputs": [
    {
     "output_type": "display_data",
     "data": {
      "application/vnd.plotly.v1+json": {
       "config": {
        "plotlyServerURL": "https://plot.ly"
       },
       "data": [
        {
         "hovertemplate": "Unidade da Federação=Espírito Santo<br>Período (Ano/Mês)=%{x}<br>Valor em Reais=%{y}<extra></extra>",
         "legendgroup": "Espírito Santo",
         "line": {
          "color": "#636efa",
          "dash": "solid"
         },
         "mode": "lines",
         "name": "Espírito Santo",
         "orientation": "v",
         "showlegend": true,
         "type": "scatter",
         "x": [
          "2007/Ago",
          "2007/Set",
          "2007/Out",
          "2007/Nov",
          "2007/Dez",
          "2008/Jan",
          "2008/Fev",
          "2008/Mar",
          "2008/Abr",
          "2008/Mai",
          "2008/Jun",
          "2008/Jul",
          "2008/Ago",
          "2008/Set",
          "2008/Out",
          "2008/Nov",
          "2008/Dez",
          "2009/Jan",
          "2009/Fev",
          "2009/Mar",
          "2009/Abr",
          "2009/Mai",
          "2009/Jun",
          "2009/Jul",
          "2009/Ago",
          "2009/Set",
          "2009/Out",
          "2009/Nov",
          "2009/Dez",
          "2010/Jan",
          "2010/Fev",
          "2010/Mar",
          "2010/Abr",
          "2010/Mai",
          "2010/Jun",
          "2010/Jul",
          "2010/Ago",
          "2010/Set",
          "2010/Out",
          "2010/Nov",
          "2010/Dez",
          "2011/Jan",
          "2011/Fev",
          "2011/Mar",
          "2011/Abr",
          "2011/Mai",
          "2011/Jun",
          "2011/Jul",
          "2011/Ago",
          "2011/Set",
          "2011/Out",
          "2011/Nov",
          "2011/Dez",
          "2012/Jan",
          "2012/Fev",
          "2012/Mar",
          "2012/Abr",
          "2012/Mai",
          "2012/Jun",
          "2012/Jul",
          "2012/Ago",
          "2012/Set",
          "2012/Out",
          "2012/Nov",
          "2012/Dez",
          "2013/Jan",
          "2013/Fev",
          "2013/Mar",
          "2013/Abr",
          "2013/Mai",
          "2013/Jun",
          "2013/Jul",
          "2013/Ago",
          "2013/Set",
          "2013/Out",
          "2013/Nov",
          "2013/Dez",
          "2014/Jan",
          "2014/Fev",
          "2014/Mar",
          "2014/Abr",
          "2014/Mai",
          "2014/Jun",
          "2014/Jul",
          "2014/Ago",
          "2014/Set",
          "2014/Out",
          "2014/Nov",
          "2014/Dez",
          "2015/Jan",
          "2015/Fev",
          "2015/Mar",
          "2015/Abr",
          "2015/Mai",
          "2015/Jun",
          "2015/Jul",
          "2015/Ago",
          "2015/Set",
          "2015/Out",
          "2015/Nov",
          "2015/Dez",
          "2016/Jan",
          "2016/Fev",
          "2016/Mar",
          "2016/Abr",
          "2016/Mai",
          "2016/Jun",
          "2016/Jul",
          "2016/Ago",
          "2016/Set",
          "2016/Out",
          "2016/Nov",
          "2016/Dez",
          "2017/Jan",
          "2017/Fev",
          "2017/Mar",
          "2017/Abr",
          "2017/Mai",
          "2017/Jun",
          "2017/Jul",
          "2017/Ago",
          "2017/Set",
          "2017/Out",
          "2017/Nov",
          "2017/Dez",
          "2018/Jan",
          "2018/Fev",
          "2018/Mar",
          "2018/Abr",
          "2018/Mai",
          "2018/Jun",
          "2018/Jul",
          "2018/Ago",
          "2018/Set",
          "2018/Out",
          "2018/Nov",
          "2018/Dez",
          "2019/Jan",
          "2019/Fev",
          "2019/Mar",
          "2019/Abr",
          "2019/Mai",
          "2019/Jun",
          "2019/Jul",
          "2019/Ago",
          "2019/Set",
          "2019/Out",
          "2019/Nov",
          "2019/Dez",
          "2020/Jan",
          "2020/Fev",
          "2020/Mar",
          "2020/Abr",
          "2020/Mai",
          "2020/Jun",
          "2020/Jul",
          "2020/Ago",
          "2020/Set",
          "2020/Out",
          "2020/Nov",
          "2020/Dez",
          "2021/Jan",
          "2021/Fev",
          "2021/Mar"
         ],
         "xaxis": "x",
         "y": [
          57408.11,
          284224.8,
          1152115.25,
          2296383.23,
          5724199.54,
          16212109.41,
          10032886.43,
          12262049.08,
          12453466.98,
          11789786.09,
          11889687.35,
          12205584.14,
          12384068.19,
          12486952.61,
          12846257.93,
          12885677.54,
          12531576.01,
          13448667.55,
          11902752.05,
          14490295.47,
          14203837.61,
          15160988.21,
          14348102.03,
          15198601.34,
          15633491.3,
          14884339.35,
          14470016.36,
          14561150.72,
          13832954.49,
          14019840.33,
          13041820.98,
          16875676.05,
          15184135.29,
          15913263.87,
          15189197.44,
          15929495.86,
          17000988.44,
          16055300.15,
          16763684.01,
          16487379.66,
          15459495.21,
          16030031.21,
          15811419.6,
          17702137.74,
          16397384.2,
          17707422.11,
          17618976.32,
          17455886.16,
          19188610.12,
          16778443.83,
          17491493.7,
          17527151.96,
          16297807.56,
          17148053.04,
          16786617.91,
          18660232.19,
          17052617.59,
          18723134.38,
          18137860.29,
          19880778.72,
          19375502.24,
          19258247.92,
          19200340.35,
          17956886.69,
          18264308.06,
          19123320.52,
          17941358.17,
          19869295.44,
          19890295.23,
          19979773.02,
          19406981.92,
          20365841.76,
          20876552.66,
          19758345.74,
          21145926.8,
          19684239.72,
          18868882.32,
          19447016.21,
          19411985.68,
          20977963.39,
          20372658.3,
          22330461.67,
          21090092.17,
          21982169.59,
          22804987.55,
          21863103.85,
          22522368.57,
          21389486.83,
          20805510.82,
          21106263.86,
          20051267.68,
          24110409.95,
          21302634.65,
          22841140.15,
          22570531.17,
          25126290.22,
          23284860.41,
          22397181.09,
          23697420.39,
          22834101.87,
          22484167.74,
          23555315.86,
          22336137.3,
          26420496.56,
          24355707.5,
          26580947.54,
          24891774.42,
          26246462.99,
          26136014.92,
          23782872.02,
          24716633.41,
          24409271.46,
          25304919.68,
          24961550.27,
          22510666.96,
          27035407.52,
          24900816.95,
          26707993.4,
          25313642.38,
          26021925.5,
          26797874.7,
          25336305.29,
          26875836.29,
          25257656.9,
          24276121.39,
          25480248.19,
          22686672.67,
          25266729.61,
          25975106.39,
          27444564.56,
          24444622.13,
          25716796.37,
          25498522.61,
          24338227.14,
          26158845.99,
          24671664.41,
          24683685.86,
          25201039.31,
          24710171.75,
          26740727.97,
          25983304.03,
          28690916.87,
          25936888.97,
          28550512.79,
          29318260.49,
          27519132.91,
          29788885.15,
          26294165.36,
          25250918.87,
          27615604.26,
          26601451.82,
          26689904.87,
          24003052.09,
          29290756.45,
          31958199.08,
          41931102.65,
          36405257.36,
          34491126.71,
          34800541.67,
          35708727.33,
          40500910.57,
          33767261.13,
          25669612.63,
          15606368.11
         ],
         "yaxis": "y"
        },
        {
         "hovertemplate": "Unidade da Federação=Rio de Janeiro<br>Período (Ano/Mês)=%{x}<br>Valor em Reais=%{y}<extra></extra>",
         "legendgroup": "Rio de Janeiro",
         "line": {
          "color": "#EF553B",
          "dash": "solid"
         },
         "mode": "lines",
         "name": "Rio de Janeiro",
         "orientation": "v",
         "showlegend": true,
         "type": "scatter",
         "x": [
          "2007/Ago",
          "2007/Set",
          "2007/Out",
          "2007/Nov",
          "2007/Dez",
          "2008/Jan",
          "2008/Fev",
          "2008/Mar",
          "2008/Abr",
          "2008/Mai",
          "2008/Jun",
          "2008/Jul",
          "2008/Ago",
          "2008/Set",
          "2008/Out",
          "2008/Nov",
          "2008/Dez",
          "2009/Jan",
          "2009/Fev",
          "2009/Mar",
          "2009/Abr",
          "2009/Mai",
          "2009/Jun",
          "2009/Jul",
          "2009/Ago",
          "2009/Set",
          "2009/Out",
          "2009/Nov",
          "2009/Dez",
          "2010/Jan",
          "2010/Fev",
          "2010/Mar",
          "2010/Abr",
          "2010/Mai",
          "2010/Jun",
          "2010/Jul",
          "2010/Ago",
          "2010/Set",
          "2010/Out",
          "2010/Nov",
          "2010/Dez",
          "2011/Jan",
          "2011/Fev",
          "2011/Mar",
          "2011/Abr",
          "2011/Mai",
          "2011/Jun",
          "2011/Jul",
          "2011/Ago",
          "2011/Set",
          "2011/Out",
          "2011/Nov",
          "2011/Dez",
          "2012/Jan",
          "2012/Fev",
          "2012/Mar",
          "2012/Abr",
          "2012/Mai",
          "2012/Jun",
          "2012/Jul",
          "2012/Ago",
          "2012/Set",
          "2012/Out",
          "2012/Nov",
          "2012/Dez",
          "2013/Jan",
          "2013/Fev",
          "2013/Mar",
          "2013/Abr",
          "2013/Mai",
          "2013/Jun",
          "2013/Jul",
          "2013/Ago",
          "2013/Set",
          "2013/Out",
          "2013/Nov",
          "2013/Dez",
          "2014/Jan",
          "2014/Fev",
          "2014/Mar",
          "2014/Abr",
          "2014/Mai",
          "2014/Jun",
          "2014/Jul",
          "2014/Ago",
          "2014/Set",
          "2014/Out",
          "2014/Nov",
          "2014/Dez",
          "2015/Jan",
          "2015/Fev",
          "2015/Mar",
          "2015/Abr",
          "2015/Mai",
          "2015/Jun",
          "2015/Jul",
          "2015/Ago",
          "2015/Set",
          "2015/Out",
          "2015/Nov",
          "2015/Dez",
          "2016/Jan",
          "2016/Fev",
          "2016/Mar",
          "2016/Abr",
          "2016/Mai",
          "2016/Jun",
          "2016/Jul",
          "2016/Ago",
          "2016/Set",
          "2016/Out",
          "2016/Nov",
          "2016/Dez",
          "2017/Jan",
          "2017/Fev",
          "2017/Mar",
          "2017/Abr",
          "2017/Mai",
          "2017/Jun",
          "2017/Jul",
          "2017/Ago",
          "2017/Set",
          "2017/Out",
          "2017/Nov",
          "2017/Dez",
          "2018/Jan",
          "2018/Fev",
          "2018/Mar",
          "2018/Abr",
          "2018/Mai",
          "2018/Jun",
          "2018/Jul",
          "2018/Ago",
          "2018/Set",
          "2018/Out",
          "2018/Nov",
          "2018/Dez",
          "2019/Jan",
          "2019/Fev",
          "2019/Mar",
          "2019/Abr",
          "2019/Mai",
          "2019/Jun",
          "2019/Jul",
          "2019/Ago",
          "2019/Set",
          "2019/Out",
          "2019/Nov",
          "2019/Dez",
          "2020/Jan",
          "2020/Fev",
          "2020/Mar",
          "2020/Abr",
          "2020/Mai",
          "2020/Jun",
          "2020/Jul",
          "2020/Ago",
          "2020/Set",
          "2020/Out",
          "2020/Nov",
          "2020/Dez",
          "2021/Jan",
          "2021/Fev",
          "2021/Mar"
         ],
         "xaxis": "x",
         "y": [
          469469.34,
          921646.57,
          2994664.57,
          7250528.08,
          13627123.27,
          251511992.03,
          44128159.73,
          42900847.02,
          45306499.53,
          43951349.46,
          44111107.27,
          44359056.71,
          42500830.29,
          43066461.47,
          44553314.55,
          41351511.51,
          43024756.36,
          60885459.85,
          40668378.23,
          52753544.47,
          48916675.76,
          51177398.6,
          57241944.15,
          53485657.68,
          51244087.82,
          48489476.33,
          48689069.43,
          49708372.48,
          44413423.34,
          55993709.91,
          44833345.11,
          54473238.33,
          78128632.98,
          56028875.32,
          51435826.33,
          53873907.49,
          57867285.17,
          53736019.37,
          52379338.55,
          50242531.67,
          50891328.43,
          74005618.29,
          61149228.39,
          55347898.51,
          55816907.9,
          59086537.51,
          55205971.21,
          54559439.69,
          57987469.83,
          53245457.26,
          53052662.54,
          49803409.24,
          47982923.26,
          66752774.87,
          47271040.5,
          59372118.28,
          54030081.29,
          60767483.6,
          56008884.48,
          56516407.1,
          58546297.88,
          53098530.92,
          57974003.84,
          51687366.01,
          47848367.7,
          102104204.33,
          51206653.61,
          57584874.79,
          63702778.97,
          63794891.58,
          61689752.64,
          60992531.77,
          61577361.16,
          59717201.67,
          60865517.3,
          54070879.39,
          53162041.15,
          67001654.43,
          56548574.77,
          60648820.92,
          58610389.83,
          62155089.4,
          63706499.87,
          66150757.15,
          64974113.77,
          65178224.11,
          64033630.86,
          60392275.29,
          62318598.92,
          65298592.29,
          57699654.7,
          67974542.76,
          62426177.33,
          71178731.31,
          69609859.79,
          73766859.34,
          68672111.85,
          66673610.24,
          68119281.51,
          63541172.1,
          60054127.9,
          66331413.56,
          60075562.59,
          68838012.08,
          62954584.18,
          65546174.26,
          64799035.81,
          85251720.46,
          68799907.5,
          63547409.23,
          64005512.1,
          59552972.8,
          61551978.62,
          68143660.61,
          61483696.06,
          70344363.16,
          64557017.65,
          74487207.6,
          69918404.97,
          73213734.43,
          74710241.97,
          68801861.2,
          73165326.57,
          69365355.89,
          67378799.43,
          72453040.87,
          65060331.66,
          74428736.76,
          74579184.72,
          79419042.03,
          75991764.07,
          77576014.21,
          78916904.64,
          72869420.27,
          79188399.76,
          74018397.83,
          70831514.1,
          79663329.44,
          74142875.38,
          75063150.71,
          76859575.91,
          82670993.34,
          78689231.48,
          88182408,
          83624113.3,
          81561944.39,
          82534679.94,
          74778468.98,
          75149065.87,
          80411863.59,
          73147214.02,
          74595986,
          69437941.81,
          89725279.21,
          88135690.57,
          95941141.03,
          89795469.41,
          81886688.22,
          80570244.2,
          82807309.85,
          90567351.87,
          87201907.99,
          60873103.08,
          49149884.48
         ],
         "yaxis": "y"
        },
        {
         "hovertemplate": "Unidade da Federação=Sergipe<br>Período (Ano/Mês)=%{x}<br>Valor em Reais=%{y}<extra></extra>",
         "legendgroup": "Sergipe",
         "line": {
          "color": "#00cc96",
          "dash": "solid"
         },
         "mode": "lines",
         "name": "Sergipe",
         "orientation": "v",
         "showlegend": true,
         "type": "scatter",
         "x": [
          "2007/Ago",
          "2007/Set",
          "2007/Out",
          "2007/Nov",
          "2007/Dez",
          "2008/Jan",
          "2008/Fev",
          "2008/Mar",
          "2008/Abr",
          "2008/Mai",
          "2008/Jun",
          "2008/Jul",
          "2008/Ago",
          "2008/Set",
          "2008/Out",
          "2008/Nov",
          "2008/Dez",
          "2009/Jan",
          "2009/Fev",
          "2009/Mar",
          "2009/Abr",
          "2009/Mai",
          "2009/Jun",
          "2009/Jul",
          "2009/Ago",
          "2009/Set",
          "2009/Out",
          "2009/Nov",
          "2009/Dez",
          "2010/Jan",
          "2010/Fev",
          "2010/Mar",
          "2010/Abr",
          "2010/Mai",
          "2010/Jun",
          "2010/Jul",
          "2010/Ago",
          "2010/Set",
          "2010/Out",
          "2010/Nov",
          "2010/Dez",
          "2011/Jan",
          "2011/Fev",
          "2011/Mar",
          "2011/Abr",
          "2011/Mai",
          "2011/Jun",
          "2011/Jul",
          "2011/Ago",
          "2011/Set",
          "2011/Out",
          "2011/Nov",
          "2011/Dez",
          "2012/Jan",
          "2012/Fev",
          "2012/Mar",
          "2012/Abr",
          "2012/Mai",
          "2012/Jun",
          "2012/Jul",
          "2012/Ago",
          "2012/Set",
          "2012/Out",
          "2012/Nov",
          "2012/Dez",
          "2013/Jan",
          "2013/Fev",
          "2013/Mar",
          "2013/Abr",
          "2013/Mai",
          "2013/Jun",
          "2013/Jul",
          "2013/Ago",
          "2013/Set",
          "2013/Out",
          "2013/Nov",
          "2013/Dez",
          "2014/Jan",
          "2014/Fev",
          "2014/Mar",
          "2014/Abr",
          "2014/Mai",
          "2014/Jun",
          "2014/Jul",
          "2014/Ago",
          "2014/Set",
          "2014/Out",
          "2014/Nov",
          "2014/Dez",
          "2015/Jan",
          "2015/Fev",
          "2015/Mar",
          "2015/Abr",
          "2015/Mai",
          "2015/Jun",
          "2015/Jul",
          "2015/Ago",
          "2015/Set",
          "2015/Out",
          "2015/Nov",
          "2015/Dez",
          "2016/Jan",
          "2016/Fev",
          "2016/Mar",
          "2016/Abr",
          "2016/Mai",
          "2016/Jun",
          "2016/Jul",
          "2016/Ago",
          "2016/Set",
          "2016/Out",
          "2016/Nov",
          "2016/Dez",
          "2017/Jan",
          "2017/Fev",
          "2017/Mar",
          "2017/Abr",
          "2017/Mai",
          "2017/Jun",
          "2017/Jul",
          "2017/Ago",
          "2017/Set",
          "2017/Out",
          "2017/Nov",
          "2017/Dez",
          "2018/Jan",
          "2018/Fev",
          "2018/Mar",
          "2018/Abr",
          "2018/Mai",
          "2018/Jun",
          "2018/Jul",
          "2018/Ago",
          "2018/Set",
          "2018/Out",
          "2018/Nov",
          "2018/Dez",
          "2019/Jan",
          "2019/Fev",
          "2019/Mar",
          "2019/Abr",
          "2019/Mai",
          "2019/Jun",
          "2019/Jul",
          "2019/Ago",
          "2019/Set",
          "2019/Out",
          "2019/Nov",
          "2019/Dez",
          "2020/Jan",
          "2020/Fev",
          "2020/Mar",
          "2020/Abr",
          "2020/Mai",
          "2020/Jun",
          "2020/Jul",
          "2020/Ago",
          "2020/Set",
          "2020/Out",
          "2020/Nov",
          "2020/Dez",
          "2021/Jan",
          "2021/Fev",
          "2021/Mar"
         ],
         "xaxis": "x",
         "y": [
          27453.63,
          78565.19,
          122952.94,
          775705.52,
          2765495.63,
          5439985.99,
          4636850.76,
          5017838.07,
          5265951.03,
          5367094.94,
          4981036.36,
          4928822.87,
          4543252.5,
          4525676.82,
          4566052.38,
          4716241.96,
          4272627.88,
          5037054.4,
          4983217.59,
          6504862.57,
          5772732.46,
          6111674.22,
          5789895.43,
          6122676.14,
          6105674.9,
          6019912.61,
          5852499.57,
          5722988.22,
          5201100.49,
          6261031.57,
          5754032.25,
          7057311.82,
          6758264.65,
          7452360.44,
          5958403.64,
          6660243.3,
          7061516.92,
          6924628.71,
          6663604.22,
          6691150.75,
          6414642.3,
          6968224.01,
          6118138.09,
          6691472.7,
          6940307.06,
          7303909.16,
          6571158.61,
          6758626.62,
          7010745.78,
          6236863.39,
          6642982.53,
          6490917.25,
          6774334.41,
          7212872.09,
          6689285.5,
          7241289.82,
          6759208.52,
          7672774.96,
          7033729.91,
          6670113.21,
          6981434.92,
          6716706,
          7302294.37,
          6495979.81,
          6351967.46,
          7207953.06,
          6313899.86,
          7354369.34,
          7574311.16,
          7218462.89,
          7087563.73,
          6987961.76,
          7242863.23,
          7102433.26,
          7518507.56,
          6724924.91,
          6559904.26,
          7468888.42,
          6637162.8,
          7020003.05,
          7177930.28,
          7457106.46,
          6733743.2,
          6671295.58,
          6989490,
          8112680.4,
          7590057.9,
          7590459.19,
          6596047.21,
          7843092.34,
          7196944.68,
          8405314.98,
          8521463.9,
          8862222.82,
          7653250.31,
          8606222.14,
          8804258.42,
          8925787.57,
          8627422.05,
          8374171.44,
          6775642.7,
          7557370.33,
          8189897.18,
          9250036.66,
          8759100.78,
          8945155.8,
          9094975.37,
          9022040.57,
          7484338.2,
          9187980.01,
          8389736.81,
          7510959.82,
          7362904.21,
          8276586.07,
          7851142.77,
          8566628.4,
          8505926.22,
          9086764.55,
          8668664.29,
          9021660.6,
          8965880.62,
          8464509.21,
          8679325.84,
          7578998.17,
          7350893.95,
          9313556.4,
          7817772.09,
          9831536.21,
          8649405.83,
          9127323.57,
          9141588.81,
          9026038.83,
          9572164.12,
          9027721.47,
          10099292.36,
          8939051.71,
          8885595.93,
          10057876.32,
          9465338.97,
          9455876.39,
          10229651.99,
          11156849.6,
          9818775.39,
          10144599.12,
          10075280.52,
          9641013.11,
          9980401.55,
          9282433.76,
          9240681.24,
          9626956.33,
          9186554.56,
          9226713.03,
          8721205.93,
          9419572.73,
          10458350.95,
          11700344.16,
          12434101.29,
          11488626.57,
          12571979.79,
          11816872.93,
          10997949.03,
          7149727.62,
          4129845.36,
          3081081.42
         ],
         "yaxis": "y"
        },
        {
         "hovertemplate": "Unidade da Federação=Minas Gerais<br>Período (Ano/Mês)=%{x}<br>Valor em Reais=%{y}<extra></extra>",
         "legendgroup": "Minas Gerais",
         "line": {
          "color": "#ab63fa",
          "dash": "solid"
         },
         "mode": "lines",
         "name": "Minas Gerais",
         "orientation": "v",
         "showlegend": true,
         "type": "scatter",
         "x": [
          "2007/Ago",
          "2007/Set",
          "2007/Out",
          "2007/Nov",
          "2007/Dez",
          "2008/Jan",
          "2008/Fev",
          "2008/Mar",
          "2008/Abr",
          "2008/Mai",
          "2008/Jun",
          "2008/Jul",
          "2008/Ago",
          "2008/Set",
          "2008/Out",
          "2008/Nov",
          "2008/Dez",
          "2009/Jan",
          "2009/Fev",
          "2009/Mar",
          "2009/Abr",
          "2009/Mai",
          "2009/Jun",
          "2009/Jul",
          "2009/Ago",
          "2009/Set",
          "2009/Out",
          "2009/Nov",
          "2009/Dez",
          "2010/Jan",
          "2010/Fev",
          "2010/Mar",
          "2010/Abr",
          "2010/Mai",
          "2010/Jun",
          "2010/Jul",
          "2010/Ago",
          "2010/Set",
          "2010/Out",
          "2010/Nov",
          "2010/Dez",
          "2011/Jan",
          "2011/Fev",
          "2011/Mar",
          "2011/Abr",
          "2011/Mai",
          "2011/Jun",
          "2011/Jul",
          "2011/Ago",
          "2011/Set",
          "2011/Out",
          "2011/Nov",
          "2011/Dez",
          "2012/Jan",
          "2012/Fev",
          "2012/Mar",
          "2012/Abr",
          "2012/Mai",
          "2012/Jun",
          "2012/Jul",
          "2012/Ago",
          "2012/Set",
          "2012/Out",
          "2012/Nov",
          "2012/Dez",
          "2013/Jan",
          "2013/Fev",
          "2013/Mar",
          "2013/Abr",
          "2013/Mai",
          "2013/Jun",
          "2013/Jul",
          "2013/Ago",
          "2013/Set",
          "2013/Out",
          "2013/Nov",
          "2013/Dez",
          "2014/Jan",
          "2014/Fev",
          "2014/Mar",
          "2014/Abr",
          "2014/Mai",
          "2014/Jun",
          "2014/Jul",
          "2014/Ago",
          "2014/Set",
          "2014/Out",
          "2014/Nov",
          "2014/Dez",
          "2015/Jan",
          "2015/Fev",
          "2015/Mar",
          "2015/Abr",
          "2015/Mai",
          "2015/Jun",
          "2015/Jul",
          "2015/Ago",
          "2015/Set",
          "2015/Out",
          "2015/Nov",
          "2015/Dez",
          "2016/Jan",
          "2016/Fev",
          "2016/Mar",
          "2016/Abr",
          "2016/Mai",
          "2016/Jun",
          "2016/Jul",
          "2016/Ago",
          "2016/Set",
          "2016/Out",
          "2016/Nov",
          "2016/Dez",
          "2017/Jan",
          "2017/Fev",
          "2017/Mar",
          "2017/Abr",
          "2017/Mai",
          "2017/Jun",
          "2017/Jul",
          "2017/Ago",
          "2017/Set",
          "2017/Out",
          "2017/Nov",
          "2017/Dez",
          "2018/Jan",
          "2018/Fev",
          "2018/Mar",
          "2018/Abr",
          "2018/Mai",
          "2018/Jun",
          "2018/Jul",
          "2018/Ago",
          "2018/Set",
          "2018/Out",
          "2018/Nov",
          "2018/Dez",
          "2019/Jan",
          "2019/Fev",
          "2019/Mar",
          "2019/Abr",
          "2019/Mai",
          "2019/Jun",
          "2019/Jul",
          "2019/Ago",
          "2019/Set",
          "2019/Out",
          "2019/Nov",
          "2019/Dez",
          "2020/Jan",
          "2020/Fev",
          "2020/Mar",
          "2020/Abr",
          "2020/Mai",
          "2020/Jun",
          "2020/Jul",
          "2020/Ago",
          "2020/Set",
          "2020/Out",
          "2020/Nov",
          "2020/Dez",
          "2021/Jan",
          "2021/Fev",
          "2021/Mar"
         ],
         "xaxis": "x",
         "y": [
          971394.37,
          2861781.5,
          10018011.35,
          21730281.63,
          43429517.54,
          206208080.9,
          70301089.5,
          79119005.51,
          79046322.41,
          79268070.12,
          79619189.2,
          82209206.98,
          80374117.08,
          82409129.3,
          88613476.6,
          84486996.11,
          88928630.3,
          99018155.84,
          83675119.83,
          100258616.86,
          91831325.37,
          97289703.07,
          95723396.53,
          100050008.7,
          98977184.26,
          98202119.08,
          96962394.27,
          94767639.13,
          92412770.73,
          95806556.42,
          90764890.28,
          107389850.03,
          100835953.45,
          105494550.31,
          99666115.96,
          103365357.52,
          107844259.69,
          104341138.19,
          100525403.88,
          101943625.5,
          99538953.6,
          107766131.57,
          103149387.49,
          111077091.84,
          106094329.28,
          115487199.35,
          110062460.88,
          110096959.71,
          114967082.94,
          109760526.2,
          111445298.68,
          107455123.44,
          107716181.56,
          119755094.85,
          107156833.59,
          122172448.68,
          112569278.74,
          125676107.14,
          115779607.41,
          122012643.58,
          123940906.18,
          114792200.87,
          122099210.56,
          112211647.27,
          110269165.4,
          120432270.5,
          107903261.86,
          126141564.88,
          131252895.3,
          128908897.64,
          126767664.45,
          132088496.92,
          130236231.24,
          128841100.31,
          134284948.05,
          123888837.02,
          124208668.26,
          134156154.8,
          127951654.33,
          135692214.91,
          138386168.54,
          144303552.86,
          134143143.46,
          142596691.51,
          138799561.34,
          139266407.72,
          143694058.81,
          136080717.06,
          131250331.04,
          131695638.74,
          126060674.04,
          150875041.27,
          142606784.74,
          146104517.61,
          142895530.96,
          137939925.52,
          140776921.48,
          137733786.02,
          140162221.98,
          134382139.41,
          129647523.62,
          131130880.47,
          127373192.23,
          144115659.56,
          136015892.7,
          143193474.25,
          140730742.09,
          137010756.09,
          143770349.05,
          136162888.49,
          138419718.77,
          129528892.52,
          132628617.72,
          139068519.49,
          129340908.71,
          150297890.74,
          136724081.95,
          153439872.25,
          144309403.11,
          147551461.76,
          156070932.24,
          142294086.35,
          148327161.77,
          142323944.76,
          138366640.55,
          146510600.58,
          130734031.29,
          151506781.86,
          150702572.27,
          153604880.55,
          150262499.13,
          156721912.31,
          160484918.69,
          145998611.06,
          157294586.62,
          148172783.99,
          145422406.28,
          153236422.57,
          142690772.52,
          151976196.81,
          157957866.2,
          163641094.76,
          154174153.49,
          166775913.85,
          161774658.77,
          157437833.94,
          166165125.18,
          152171503.07,
          152473281.15,
          158265777.55,
          141463360.42,
          147654942.7,
          127447290.37,
          142746287.34,
          157276616.5,
          177466638.1,
          182176122.99,
          181422500.43,
          174585638.28,
          168564708.16,
          166376967.67,
          155064483.25,
          119877417.15,
          79780838
         ],
         "yaxis": "y"
        },
        {
         "hovertemplate": "Unidade da Federação=Bahia<br>Período (Ano/Mês)=%{x}<br>Valor em Reais=%{y}<extra></extra>",
         "legendgroup": "Bahia",
         "line": {
          "color": "#FFA15A",
          "dash": "solid"
         },
         "mode": "lines",
         "name": "Bahia",
         "orientation": "v",
         "showlegend": true,
         "type": "scatter",
         "x": [
          "2007/Ago",
          "2007/Set",
          "2007/Out",
          "2007/Nov",
          "2007/Dez",
          "2008/Jan",
          "2008/Fev",
          "2008/Mar",
          "2008/Abr",
          "2008/Mai",
          "2008/Jun",
          "2008/Jul",
          "2008/Ago",
          "2008/Set",
          "2008/Out",
          "2008/Nov",
          "2008/Dez",
          "2009/Jan",
          "2009/Fev",
          "2009/Mar",
          "2009/Abr",
          "2009/Mai",
          "2009/Jun",
          "2009/Jul",
          "2009/Ago",
          "2009/Set",
          "2009/Out",
          "2009/Nov",
          "2009/Dez",
          "2010/Jan",
          "2010/Fev",
          "2010/Mar",
          "2010/Abr",
          "2010/Mai",
          "2010/Jun",
          "2010/Jul",
          "2010/Ago",
          "2010/Set",
          "2010/Out",
          "2010/Nov",
          "2010/Dez",
          "2011/Jan",
          "2011/Fev",
          "2011/Mar",
          "2011/Abr",
          "2011/Mai",
          "2011/Jun",
          "2011/Jul",
          "2011/Ago",
          "2011/Set",
          "2011/Out",
          "2011/Nov",
          "2011/Dez",
          "2012/Jan",
          "2012/Fev",
          "2012/Mar",
          "2012/Abr",
          "2012/Mai",
          "2012/Jun",
          "2012/Jul",
          "2012/Ago",
          "2012/Set",
          "2012/Out",
          "2012/Nov",
          "2012/Dez",
          "2013/Jan",
          "2013/Fev",
          "2013/Mar",
          "2013/Abr",
          "2013/Mai",
          "2013/Jun",
          "2013/Jul",
          "2013/Ago",
          "2013/Set",
          "2013/Out",
          "2013/Nov",
          "2013/Dez",
          "2014/Jan",
          "2014/Fev",
          "2014/Mar",
          "2014/Abr",
          "2014/Mai",
          "2014/Jun",
          "2014/Jul",
          "2014/Ago",
          "2014/Set",
          "2014/Out",
          "2014/Nov",
          "2014/Dez",
          "2015/Jan",
          "2015/Fev",
          "2015/Mar",
          "2015/Abr",
          "2015/Mai",
          "2015/Jun",
          "2015/Jul",
          "2015/Ago",
          "2015/Set",
          "2015/Out",
          "2015/Nov",
          "2015/Dez",
          "2016/Jan",
          "2016/Fev",
          "2016/Mar",
          "2016/Abr",
          "2016/Mai",
          "2016/Jun",
          "2016/Jul",
          "2016/Ago",
          "2016/Set",
          "2016/Out",
          "2016/Nov",
          "2016/Dez",
          "2017/Jan",
          "2017/Fev",
          "2017/Mar",
          "2017/Abr",
          "2017/Mai",
          "2017/Jun",
          "2017/Jul",
          "2017/Ago",
          "2017/Set",
          "2017/Out",
          "2017/Nov",
          "2017/Dez",
          "2018/Jan",
          "2018/Fev",
          "2018/Mar",
          "2018/Abr",
          "2018/Mai",
          "2018/Jun",
          "2018/Jul",
          "2018/Ago",
          "2018/Set",
          "2018/Out",
          "2018/Nov",
          "2018/Dez",
          "2019/Jan",
          "2019/Fev",
          "2019/Mar",
          "2019/Abr",
          "2019/Mai",
          "2019/Jun",
          "2019/Jul",
          "2019/Ago",
          "2019/Set",
          "2019/Out",
          "2019/Nov",
          "2019/Dez",
          "2020/Jan",
          "2020/Fev",
          "2020/Mar",
          "2020/Abr",
          "2020/Mai",
          "2020/Jun",
          "2020/Jul",
          "2020/Ago",
          "2020/Set",
          "2020/Out",
          "2020/Nov",
          "2020/Dez",
          "2021/Jan",
          "2021/Fev",
          "2021/Mar"
         ],
         "xaxis": "x",
         "y": [
          135146.36,
          448349.75,
          1382038.11,
          3348779.62,
          11948984.56,
          73947845.87,
          33410124.06,
          41316672.72,
          42826993.62,
          42086263.49,
          39910042.4,
          57664560.93,
          43254543.33,
          42851268.02,
          43332573.68,
          40946908.97,
          41424654.95,
          43856594.59,
          41094717.03,
          51476930.68,
          49600524.9,
          50686984.15,
          48851108.39,
          51075073.25,
          53386058.82,
          50894817.5,
          50114090.45,
          48792856.88,
          47427830.7,
          48612761.25,
          44513251.78,
          54612375.13,
          51537423.45,
          55436692.73,
          47478799.39,
          51149585.31,
          53626809.52,
          51013229.85,
          51499348.41,
          51206307.37,
          49579249.89,
          53682160.16,
          50676491.86,
          54919845.32,
          54324039.31,
          56094527.67,
          52211711.68,
          55144668.28,
          63051260.86,
          55095561.14,
          56919929.05,
          53594727.48,
          52884589.16,
          56236870.8,
          51303198.23,
          60630064.83,
          56054194.58,
          60521448.27,
          56236173.44,
          59433810.78,
          59215996.5,
          54813906.57,
          55997422.52,
          54780035.36,
          54119282.22,
          55590417.88,
          49629501.64,
          57985297.33,
          60189169.87,
          61450345.67,
          57608156.48,
          63266197.29,
          62309509.77,
          62163833.25,
          64729268.56,
          59202730.98,
          57277468.21,
          62668076.56,
          58834155.47,
          61074497.07,
          63261900.08,
          66194573.43,
          58224139.59,
          66299078.59,
          65818877.3,
          66022776.45,
          67823024.71,
          61464150.15,
          58530316.47,
          61158279.3,
          54965561.67,
          69408038.96,
          63117816.99,
          66628463.92,
          64203496.81,
          68297757.99,
          68367732.63,
          66487059.16,
          66313885.35,
          67210351.43,
          59462190.64,
          65526239.52,
          62769485.03,
          72382330.54,
          67430869.51,
          70806318.27,
          67059111.05,
          70772890.52,
          73472651.35,
          68471531.6,
          68140982.51,
          64219526.49,
          61669178.59,
          68654255.3,
          60422623.96,
          72167700.1,
          65682288.03,
          75558626.57,
          67489755.47,
          71945113.75,
          74167949.7,
          68153543.82,
          71763515.32,
          68346916.52,
          64802793.52,
          70355149.97,
          60864489.86,
          68977621.88,
          70895899.4,
          73083665.68,
          68400678.09,
          74877735.12,
          74697458.17,
          70616508.53,
          76593857.76,
          71554052.27,
          67587048.45,
          70117168.14,
          66837610.7,
          69982697.43,
          73302540.67,
          79429195.01,
          70572836.97,
          79605766.07,
          77884805.29,
          75454182.43,
          79091225.65,
          72319532.73,
          68683274.52,
          74411149.74,
          67813367.37,
          70998470.8,
          60139434.01,
          66384257.1,
          78676674.2,
          91011171.04,
          86230665.84,
          78135509.62,
          82912397.81,
          81866088.87,
          83131785.74,
          70325599.07,
          55544579.04,
          31314602.44
         ],
         "yaxis": "y"
        }
       ],
       "layout": {
        "height": 600,
        "legend": {
         "title": {
          "text": "Unidade da Federação"
         },
         "tracegroupgap": 0
        },
        "margin": {
         "t": 60
        },
        "template": {
         "data": {
          "bar": [
           {
            "error_x": {
             "color": "#2a3f5f"
            },
            "error_y": {
             "color": "#2a3f5f"
            },
            "marker": {
             "line": {
              "color": "#E5ECF6",
              "width": 0.5
             }
            },
            "type": "bar"
           }
          ],
          "barpolar": [
           {
            "marker": {
             "line": {
              "color": "#E5ECF6",
              "width": 0.5
             }
            },
            "type": "barpolar"
           }
          ],
          "carpet": [
           {
            "aaxis": {
             "endlinecolor": "#2a3f5f",
             "gridcolor": "white",
             "linecolor": "white",
             "minorgridcolor": "white",
             "startlinecolor": "#2a3f5f"
            },
            "baxis": {
             "endlinecolor": "#2a3f5f",
             "gridcolor": "white",
             "linecolor": "white",
             "minorgridcolor": "white",
             "startlinecolor": "#2a3f5f"
            },
            "type": "carpet"
           }
          ],
          "choropleth": [
           {
            "colorbar": {
             "outlinewidth": 0,
             "ticks": ""
            },
            "type": "choropleth"
           }
          ],
          "contour": [
           {
            "colorbar": {
             "outlinewidth": 0,
             "ticks": ""
            },
            "colorscale": [
             [
              0,
              "#0d0887"
             ],
             [
              0.1111111111111111,
              "#46039f"
             ],
             [
              0.2222222222222222,
              "#7201a8"
             ],
             [
              0.3333333333333333,
              "#9c179e"
             ],
             [
              0.4444444444444444,
              "#bd3786"
             ],
             [
              0.5555555555555556,
              "#d8576b"
             ],
             [
              0.6666666666666666,
              "#ed7953"
             ],
             [
              0.7777777777777778,
              "#fb9f3a"
             ],
             [
              0.8888888888888888,
              "#fdca26"
             ],
             [
              1,
              "#f0f921"
             ]
            ],
            "type": "contour"
           }
          ],
          "contourcarpet": [
           {
            "colorbar": {
             "outlinewidth": 0,
             "ticks": ""
            },
            "type": "contourcarpet"
           }
          ],
          "heatmap": [
           {
            "colorbar": {
             "outlinewidth": 0,
             "ticks": ""
            },
            "colorscale": [
             [
              0,
              "#0d0887"
             ],
             [
              0.1111111111111111,
              "#46039f"
             ],
             [
              0.2222222222222222,
              "#7201a8"
             ],
             [
              0.3333333333333333,
              "#9c179e"
             ],
             [
              0.4444444444444444,
              "#bd3786"
             ],
             [
              0.5555555555555556,
              "#d8576b"
             ],
             [
              0.6666666666666666,
              "#ed7953"
             ],
             [
              0.7777777777777778,
              "#fb9f3a"
             ],
             [
              0.8888888888888888,
              "#fdca26"
             ],
             [
              1,
              "#f0f921"
             ]
            ],
            "type": "heatmap"
           }
          ],
          "heatmapgl": [
           {
            "colorbar": {
             "outlinewidth": 0,
             "ticks": ""
            },
            "colorscale": [
             [
              0,
              "#0d0887"
             ],
             [
              0.1111111111111111,
              "#46039f"
             ],
             [
              0.2222222222222222,
              "#7201a8"
             ],
             [
              0.3333333333333333,
              "#9c179e"
             ],
             [
              0.4444444444444444,
              "#bd3786"
             ],
             [
              0.5555555555555556,
              "#d8576b"
             ],
             [
              0.6666666666666666,
              "#ed7953"
             ],
             [
              0.7777777777777778,
              "#fb9f3a"
             ],
             [
              0.8888888888888888,
              "#fdca26"
             ],
             [
              1,
              "#f0f921"
             ]
            ],
            "type": "heatmapgl"
           }
          ],
          "histogram": [
           {
            "marker": {
             "colorbar": {
              "outlinewidth": 0,
              "ticks": ""
             }
            },
            "type": "histogram"
           }
          ],
          "histogram2d": [
           {
            "colorbar": {
             "outlinewidth": 0,
             "ticks": ""
            },
            "colorscale": [
             [
              0,
              "#0d0887"
             ],
             [
              0.1111111111111111,
              "#46039f"
             ],
             [
              0.2222222222222222,
              "#7201a8"
             ],
             [
              0.3333333333333333,
              "#9c179e"
             ],
             [
              0.4444444444444444,
              "#bd3786"
             ],
             [
              0.5555555555555556,
              "#d8576b"
             ],
             [
              0.6666666666666666,
              "#ed7953"
             ],
             [
              0.7777777777777778,
              "#fb9f3a"
             ],
             [
              0.8888888888888888,
              "#fdca26"
             ],
             [
              1,
              "#f0f921"
             ]
            ],
            "type": "histogram2d"
           }
          ],
          "histogram2dcontour": [
           {
            "colorbar": {
             "outlinewidth": 0,
             "ticks": ""
            },
            "colorscale": [
             [
              0,
              "#0d0887"
             ],
             [
              0.1111111111111111,
              "#46039f"
             ],
             [
              0.2222222222222222,
              "#7201a8"
             ],
             [
              0.3333333333333333,
              "#9c179e"
             ],
             [
              0.4444444444444444,
              "#bd3786"
             ],
             [
              0.5555555555555556,
              "#d8576b"
             ],
             [
              0.6666666666666666,
              "#ed7953"
             ],
             [
              0.7777777777777778,
              "#fb9f3a"
             ],
             [
              0.8888888888888888,
              "#fdca26"
             ],
             [
              1,
              "#f0f921"
             ]
            ],
            "type": "histogram2dcontour"
           }
          ],
          "mesh3d": [
           {
            "colorbar": {
             "outlinewidth": 0,
             "ticks": ""
            },
            "type": "mesh3d"
           }
          ],
          "parcoords": [
           {
            "line": {
             "colorbar": {
              "outlinewidth": 0,
              "ticks": ""
             }
            },
            "type": "parcoords"
           }
          ],
          "pie": [
           {
            "automargin": true,
            "type": "pie"
           }
          ],
          "scatter": [
           {
            "marker": {
             "colorbar": {
              "outlinewidth": 0,
              "ticks": ""
             }
            },
            "type": "scatter"
           }
          ],
          "scatter3d": [
           {
            "line": {
             "colorbar": {
              "outlinewidth": 0,
              "ticks": ""
             }
            },
            "marker": {
             "colorbar": {
              "outlinewidth": 0,
              "ticks": ""
             }
            },
            "type": "scatter3d"
           }
          ],
          "scattercarpet": [
           {
            "marker": {
             "colorbar": {
              "outlinewidth": 0,
              "ticks": ""
             }
            },
            "type": "scattercarpet"
           }
          ],
          "scattergeo": [
           {
            "marker": {
             "colorbar": {
              "outlinewidth": 0,
              "ticks": ""
             }
            },
            "type": "scattergeo"
           }
          ],
          "scattergl": [
           {
            "marker": {
             "colorbar": {
              "outlinewidth": 0,
              "ticks": ""
             }
            },
            "type": "scattergl"
           }
          ],
          "scattermapbox": [
           {
            "marker": {
             "colorbar": {
              "outlinewidth": 0,
              "ticks": ""
             }
            },
            "type": "scattermapbox"
           }
          ],
          "scatterpolar": [
           {
            "marker": {
             "colorbar": {
              "outlinewidth": 0,
              "ticks": ""
             }
            },
            "type": "scatterpolar"
           }
          ],
          "scatterpolargl": [
           {
            "marker": {
             "colorbar": {
              "outlinewidth": 0,
              "ticks": ""
             }
            },
            "type": "scatterpolargl"
           }
          ],
          "scatterternary": [
           {
            "marker": {
             "colorbar": {
              "outlinewidth": 0,
              "ticks": ""
             }
            },
            "type": "scatterternary"
           }
          ],
          "surface": [
           {
            "colorbar": {
             "outlinewidth": 0,
             "ticks": ""
            },
            "colorscale": [
             [
              0,
              "#0d0887"
             ],
             [
              0.1111111111111111,
              "#46039f"
             ],
             [
              0.2222222222222222,
              "#7201a8"
             ],
             [
              0.3333333333333333,
              "#9c179e"
             ],
             [
              0.4444444444444444,
              "#bd3786"
             ],
             [
              0.5555555555555556,
              "#d8576b"
             ],
             [
              0.6666666666666666,
              "#ed7953"
             ],
             [
              0.7777777777777778,
              "#fb9f3a"
             ],
             [
              0.8888888888888888,
              "#fdca26"
             ],
             [
              1,
              "#f0f921"
             ]
            ],
            "type": "surface"
           }
          ],
          "table": [
           {
            "cells": {
             "fill": {
              "color": "#EBF0F8"
             },
             "line": {
              "color": "white"
             }
            },
            "header": {
             "fill": {
              "color": "#C8D4E3"
             },
             "line": {
              "color": "white"
             }
            },
            "type": "table"
           }
          ]
         },
         "layout": {
          "annotationdefaults": {
           "arrowcolor": "#2a3f5f",
           "arrowhead": 0,
           "arrowwidth": 1
          },
          "autotypenumbers": "strict",
          "coloraxis": {
           "colorbar": {
            "outlinewidth": 0,
            "ticks": ""
           }
          },
          "colorscale": {
           "diverging": [
            [
             0,
             "#8e0152"
            ],
            [
             0.1,
             "#c51b7d"
            ],
            [
             0.2,
             "#de77ae"
            ],
            [
             0.3,
             "#f1b6da"
            ],
            [
             0.4,
             "#fde0ef"
            ],
            [
             0.5,
             "#f7f7f7"
            ],
            [
             0.6,
             "#e6f5d0"
            ],
            [
             0.7,
             "#b8e186"
            ],
            [
             0.8,
             "#7fbc41"
            ],
            [
             0.9,
             "#4d9221"
            ],
            [
             1,
             "#276419"
            ]
           ],
           "sequential": [
            [
             0,
             "#0d0887"
            ],
            [
             0.1111111111111111,
             "#46039f"
            ],
            [
             0.2222222222222222,
             "#7201a8"
            ],
            [
             0.3333333333333333,
             "#9c179e"
            ],
            [
             0.4444444444444444,
             "#bd3786"
            ],
            [
             0.5555555555555556,
             "#d8576b"
            ],
            [
             0.6666666666666666,
             "#ed7953"
            ],
            [
             0.7777777777777778,
             "#fb9f3a"
            ],
            [
             0.8888888888888888,
             "#fdca26"
            ],
            [
             1,
             "#f0f921"
            ]
           ],
           "sequentialminus": [
            [
             0,
             "#0d0887"
            ],
            [
             0.1111111111111111,
             "#46039f"
            ],
            [
             0.2222222222222222,
             "#7201a8"
            ],
            [
             0.3333333333333333,
             "#9c179e"
            ],
            [
             0.4444444444444444,
             "#bd3786"
            ],
            [
             0.5555555555555556,
             "#d8576b"
            ],
            [
             0.6666666666666666,
             "#ed7953"
            ],
            [
             0.7777777777777778,
             "#fb9f3a"
            ],
            [
             0.8888888888888888,
             "#fdca26"
            ],
            [
             1,
             "#f0f921"
            ]
           ]
          },
          "colorway": [
           "#636efa",
           "#EF553B",
           "#00cc96",
           "#ab63fa",
           "#FFA15A",
           "#19d3f3",
           "#FF6692",
           "#B6E880",
           "#FF97FF",
           "#FECB52"
          ],
          "font": {
           "color": "#2a3f5f"
          },
          "geo": {
           "bgcolor": "white",
           "lakecolor": "white",
           "landcolor": "#E5ECF6",
           "showlakes": true,
           "showland": true,
           "subunitcolor": "white"
          },
          "hoverlabel": {
           "align": "left"
          },
          "hovermode": "closest",
          "mapbox": {
           "style": "light"
          },
          "paper_bgcolor": "white",
          "plot_bgcolor": "#E5ECF6",
          "polar": {
           "angularaxis": {
            "gridcolor": "white",
            "linecolor": "white",
            "ticks": ""
           },
           "bgcolor": "#E5ECF6",
           "radialaxis": {
            "gridcolor": "white",
            "linecolor": "white",
            "ticks": ""
           }
          },
          "scene": {
           "xaxis": {
            "backgroundcolor": "#E5ECF6",
            "gridcolor": "white",
            "gridwidth": 2,
            "linecolor": "white",
            "showbackground": true,
            "ticks": "",
            "zerolinecolor": "white"
           },
           "yaxis": {
            "backgroundcolor": "#E5ECF6",
            "gridcolor": "white",
            "gridwidth": 2,
            "linecolor": "white",
            "showbackground": true,
            "ticks": "",
            "zerolinecolor": "white"
           },
           "zaxis": {
            "backgroundcolor": "#E5ECF6",
            "gridcolor": "white",
            "gridwidth": 2,
            "linecolor": "white",
            "showbackground": true,
            "ticks": "",
            "zerolinecolor": "white"
           }
          },
          "shapedefaults": {
           "line": {
            "color": "#2a3f5f"
           }
          },
          "ternary": {
           "aaxis": {
            "gridcolor": "white",
            "linecolor": "white",
            "ticks": ""
           },
           "baxis": {
            "gridcolor": "white",
            "linecolor": "white",
            "ticks": ""
           },
           "bgcolor": "#E5ECF6",
           "caxis": {
            "gridcolor": "white",
            "linecolor": "white",
            "ticks": ""
           }
          },
          "title": {
           "x": 0.05
          },
          "xaxis": {
           "automargin": true,
           "gridcolor": "white",
           "linecolor": "white",
           "ticks": "",
           "title": {
            "standoff": 15
           },
           "zerolinecolor": "white",
           "zerolinewidth": 2
          },
          "yaxis": {
           "automargin": true,
           "gridcolor": "white",
           "linecolor": "white",
           "ticks": "",
           "title": {
            "standoff": 15
           },
           "zerolinecolor": "white",
           "zerolinewidth": 2
          }
         }
        },
        "title": {
         "text": "Gasto por Estados",
         "x": 0.5,
         "xanchor": "center",
         "y": 0.95,
         "yanchor": "top"
        },
        "width": 1400,
        "xaxis": {
         "anchor": "y",
         "domain": [
          0,
          1
         ],
         "title": {
          "text": "Período (Ano/Mês)"
         }
        },
        "yaxis": {
         "anchor": "x",
         "domain": [
          0,
          1
         ],
         "title": {
          "text": "Valor em Reais"
         }
        }
       }
      }
     },
     "metadata": {}
    }
   ],
   "source": [
    "import plotly.express as px\n",
    "\n",
    "estados = ['Espírito Santo', 'Rio de Janeiro', 'Sergipe', 'Minas Gerais', 'Bahia']\n",
    "selecionados = usaveis.loc[estados]\n",
    "selecionados = selecionados.T\n",
    "\n",
    "fig = px.line(\n",
    "    selecionados, x =selecionados.index, y=selecionados.columns,\n",
    "    labels = {'value':'Valor em Reais','index':'Período (Ano/Mês)'},\n",
    "    width = 1400, height = 600)\n",
    "\n",
    "fig.update_layout(\n",
    "    title={\n",
    "        'text': \"Gasto por Estados\",\n",
    "        'y':0.95,\n",
    "        'x':0.5,\n",
    "        'xanchor': 'center',\n",
    "        'yanchor': 'top'})\n",
    "fig.show()"
   ]
  },
  {
   "cell_type": "code",
   "execution_count": 41,
   "metadata": {},
   "outputs": [
    {
     "output_type": "display_data",
     "data": {
      "application/vnd.plotly.v1+json": {
       "config": {
        "plotlyServerURL": "https://plot.ly"
       },
       "data": [
        {
         "hovertemplate": "Unidade da Federação=Espírito Santo<br>Período (Ano/Mês)=%{x}<br>Valor em Reais=%{y}<extra></extra>",
         "legendgroup": "Espírito Santo",
         "line": {
          "color": "#636efa",
          "dash": "solid"
         },
         "mode": "lines",
         "name": "Espírito Santo",
         "orientation": "v",
         "showlegend": true,
         "type": "scatter",
         "x": [
          "2007/Ago",
          "2007/Set",
          "2007/Out",
          "2007/Nov",
          "2007/Dez",
          "2008/Jan",
          "2008/Fev",
          "2008/Mar",
          "2008/Abr",
          "2008/Mai",
          "2008/Jun",
          "2008/Jul",
          "2008/Ago",
          "2008/Set",
          "2008/Out",
          "2008/Nov",
          "2008/Dez",
          "2009/Jan",
          "2009/Fev",
          "2009/Mar",
          "2009/Abr",
          "2009/Mai",
          "2009/Jun",
          "2009/Jul",
          "2009/Ago",
          "2009/Set",
          "2009/Out",
          "2009/Nov",
          "2009/Dez",
          "2010/Jan",
          "2010/Fev",
          "2010/Mar",
          "2010/Abr",
          "2010/Mai",
          "2010/Jun",
          "2010/Jul",
          "2010/Ago",
          "2010/Set",
          "2010/Out",
          "2010/Nov",
          "2010/Dez",
          "2011/Jan",
          "2011/Fev",
          "2011/Mar",
          "2011/Abr",
          "2011/Mai",
          "2011/Jun",
          "2011/Jul",
          "2011/Ago",
          "2011/Set",
          "2011/Out",
          "2011/Nov",
          "2011/Dez",
          "2012/Jan",
          "2012/Fev",
          "2012/Mar",
          "2012/Abr",
          "2012/Mai",
          "2012/Jun",
          "2012/Jul",
          "2012/Ago",
          "2012/Set",
          "2012/Out",
          "2012/Nov",
          "2012/Dez",
          "2013/Jan",
          "2013/Fev",
          "2013/Mar",
          "2013/Abr",
          "2013/Mai",
          "2013/Jun",
          "2013/Jul",
          "2013/Ago",
          "2013/Set",
          "2013/Out",
          "2013/Nov",
          "2013/Dez",
          "2014/Jan",
          "2014/Fev",
          "2014/Mar",
          "2014/Abr",
          "2014/Mai",
          "2014/Jun",
          "2014/Jul",
          "2014/Ago",
          "2014/Set",
          "2014/Out",
          "2014/Nov",
          "2014/Dez",
          "2015/Jan",
          "2015/Fev",
          "2015/Mar",
          "2015/Abr",
          "2015/Mai",
          "2015/Jun",
          "2015/Jul",
          "2015/Ago",
          "2015/Set",
          "2015/Out",
          "2015/Nov",
          "2015/Dez",
          "2016/Jan",
          "2016/Fev",
          "2016/Mar",
          "2016/Abr",
          "2016/Mai",
          "2016/Jun",
          "2016/Jul",
          "2016/Ago",
          "2016/Set",
          "2016/Out",
          "2016/Nov",
          "2016/Dez",
          "2017/Jan",
          "2017/Fev",
          "2017/Mar",
          "2017/Abr",
          "2017/Mai",
          "2017/Jun",
          "2017/Jul",
          "2017/Ago",
          "2017/Set",
          "2017/Out",
          "2017/Nov",
          "2017/Dez",
          "2018/Jan",
          "2018/Fev",
          "2018/Mar",
          "2018/Abr",
          "2018/Mai",
          "2018/Jun",
          "2018/Jul",
          "2018/Ago",
          "2018/Set",
          "2018/Out",
          "2018/Nov",
          "2018/Dez",
          "2019/Jan",
          "2019/Fev",
          "2019/Mar",
          "2019/Abr",
          "2019/Mai",
          "2019/Jun",
          "2019/Jul",
          "2019/Ago",
          "2019/Set",
          "2019/Out",
          "2019/Nov",
          "2019/Dez",
          "2020/Jan",
          "2020/Fev",
          "2020/Mar",
          "2020/Abr",
          "2020/Mai",
          "2020/Jun",
          "2020/Jul",
          "2020/Ago",
          "2020/Set",
          "2020/Out",
          "2020/Nov",
          "2020/Dez",
          "2021/Jan",
          "2021/Fev",
          "2021/Mar"
         ],
         "xaxis": "x",
         "y": [
          57408.11,
          284224.8,
          1152115.25,
          2296383.23,
          5724199.54,
          16212109.41,
          10032886.43,
          12262049.08,
          12453466.98,
          11789786.09,
          11889687.35,
          12205584.14,
          12384068.19,
          12486952.61,
          12846257.93,
          12885677.54,
          12531576.01,
          13448667.55,
          11902752.05,
          14490295.47,
          14203837.61,
          15160988.21,
          14348102.03,
          15198601.34,
          15633491.3,
          14884339.35,
          14470016.36,
          14561150.72,
          13832954.49,
          14019840.33,
          13041820.98,
          16875676.05,
          15184135.29,
          15913263.87,
          15189197.44,
          15929495.86,
          17000988.44,
          16055300.15,
          16763684.01,
          16487379.66,
          15459495.21,
          16030031.21,
          15811419.6,
          17702137.74,
          16397384.2,
          17707422.11,
          17618976.32,
          17455886.16,
          19188610.12,
          16778443.83,
          17491493.7,
          17527151.96,
          16297807.56,
          17148053.04,
          16786617.91,
          18660232.19,
          17052617.59,
          18723134.38,
          18137860.29,
          19880778.72,
          19375502.24,
          19258247.92,
          19200340.35,
          17956886.69,
          18264308.06,
          19123320.52,
          17941358.17,
          19869295.44,
          19890295.23,
          19979773.02,
          19406981.92,
          20365841.76,
          20876552.66,
          19758345.74,
          21145926.8,
          19684239.72,
          18868882.32,
          19447016.21,
          19411985.68,
          20977963.39,
          20372658.3,
          22330461.67,
          21090092.17,
          21982169.59,
          22804987.55,
          21863103.85,
          22522368.57,
          21389486.83,
          20805510.82,
          21106263.86,
          20051267.68,
          24110409.95,
          21302634.65,
          22841140.15,
          22570531.17,
          25126290.22,
          23284860.41,
          22397181.09,
          23697420.39,
          22834101.87,
          22484167.74,
          23555315.86,
          22336137.3,
          26420496.56,
          24355707.5,
          26580947.54,
          24891774.42,
          26246462.99,
          26136014.92,
          23782872.02,
          24716633.41,
          24409271.46,
          25304919.68,
          24961550.27,
          22510666.96,
          27035407.52,
          24900816.95,
          26707993.4,
          25313642.38,
          26021925.5,
          26797874.7,
          25336305.29,
          26875836.29,
          25257656.9,
          24276121.39,
          25480248.19,
          22686672.67,
          25266729.61,
          25975106.39,
          27444564.56,
          24444622.13,
          25716796.37,
          25498522.61,
          24338227.14,
          26158845.99,
          24671664.41,
          24683685.86,
          25201039.31,
          24710171.75,
          26740727.97,
          25983304.03,
          28690916.87,
          25936888.97,
          28550512.79,
          29318260.49,
          27519132.91,
          29788885.15,
          26294165.36,
          25250918.87,
          27615604.26,
          26601451.82,
          26689904.87,
          24003052.09,
          29290756.45,
          31958199.08,
          41931102.65,
          36405257.36,
          34491126.71,
          34800541.67,
          35708727.33,
          40500910.57,
          33767261.13,
          25669612.63,
          15606368.11
         ],
         "yaxis": "y"
        },
        {
         "hovertemplate": "Unidade da Federação=Rio de Janeiro<br>Período (Ano/Mês)=%{x}<br>Valor em Reais=%{y}<extra></extra>",
         "legendgroup": "Rio de Janeiro",
         "line": {
          "color": "#EF553B",
          "dash": "solid"
         },
         "mode": "lines",
         "name": "Rio de Janeiro",
         "orientation": "v",
         "showlegend": true,
         "type": "scatter",
         "x": [
          "2007/Ago",
          "2007/Set",
          "2007/Out",
          "2007/Nov",
          "2007/Dez",
          "2008/Jan",
          "2008/Fev",
          "2008/Mar",
          "2008/Abr",
          "2008/Mai",
          "2008/Jun",
          "2008/Jul",
          "2008/Ago",
          "2008/Set",
          "2008/Out",
          "2008/Nov",
          "2008/Dez",
          "2009/Jan",
          "2009/Fev",
          "2009/Mar",
          "2009/Abr",
          "2009/Mai",
          "2009/Jun",
          "2009/Jul",
          "2009/Ago",
          "2009/Set",
          "2009/Out",
          "2009/Nov",
          "2009/Dez",
          "2010/Jan",
          "2010/Fev",
          "2010/Mar",
          "2010/Abr",
          "2010/Mai",
          "2010/Jun",
          "2010/Jul",
          "2010/Ago",
          "2010/Set",
          "2010/Out",
          "2010/Nov",
          "2010/Dez",
          "2011/Jan",
          "2011/Fev",
          "2011/Mar",
          "2011/Abr",
          "2011/Mai",
          "2011/Jun",
          "2011/Jul",
          "2011/Ago",
          "2011/Set",
          "2011/Out",
          "2011/Nov",
          "2011/Dez",
          "2012/Jan",
          "2012/Fev",
          "2012/Mar",
          "2012/Abr",
          "2012/Mai",
          "2012/Jun",
          "2012/Jul",
          "2012/Ago",
          "2012/Set",
          "2012/Out",
          "2012/Nov",
          "2012/Dez",
          "2013/Jan",
          "2013/Fev",
          "2013/Mar",
          "2013/Abr",
          "2013/Mai",
          "2013/Jun",
          "2013/Jul",
          "2013/Ago",
          "2013/Set",
          "2013/Out",
          "2013/Nov",
          "2013/Dez",
          "2014/Jan",
          "2014/Fev",
          "2014/Mar",
          "2014/Abr",
          "2014/Mai",
          "2014/Jun",
          "2014/Jul",
          "2014/Ago",
          "2014/Set",
          "2014/Out",
          "2014/Nov",
          "2014/Dez",
          "2015/Jan",
          "2015/Fev",
          "2015/Mar",
          "2015/Abr",
          "2015/Mai",
          "2015/Jun",
          "2015/Jul",
          "2015/Ago",
          "2015/Set",
          "2015/Out",
          "2015/Nov",
          "2015/Dez",
          "2016/Jan",
          "2016/Fev",
          "2016/Mar",
          "2016/Abr",
          "2016/Mai",
          "2016/Jun",
          "2016/Jul",
          "2016/Ago",
          "2016/Set",
          "2016/Out",
          "2016/Nov",
          "2016/Dez",
          "2017/Jan",
          "2017/Fev",
          "2017/Mar",
          "2017/Abr",
          "2017/Mai",
          "2017/Jun",
          "2017/Jul",
          "2017/Ago",
          "2017/Set",
          "2017/Out",
          "2017/Nov",
          "2017/Dez",
          "2018/Jan",
          "2018/Fev",
          "2018/Mar",
          "2018/Abr",
          "2018/Mai",
          "2018/Jun",
          "2018/Jul",
          "2018/Ago",
          "2018/Set",
          "2018/Out",
          "2018/Nov",
          "2018/Dez",
          "2019/Jan",
          "2019/Fev",
          "2019/Mar",
          "2019/Abr",
          "2019/Mai",
          "2019/Jun",
          "2019/Jul",
          "2019/Ago",
          "2019/Set",
          "2019/Out",
          "2019/Nov",
          "2019/Dez",
          "2020/Jan",
          "2020/Fev",
          "2020/Mar",
          "2020/Abr",
          "2020/Mai",
          "2020/Jun",
          "2020/Jul",
          "2020/Ago",
          "2020/Set",
          "2020/Out",
          "2020/Nov",
          "2020/Dez",
          "2021/Jan",
          "2021/Fev",
          "2021/Mar"
         ],
         "xaxis": "x",
         "y": [
          469469.34,
          921646.57,
          2994664.57,
          7250528.08,
          13627123.27,
          251511992.03,
          44128159.73,
          42900847.02,
          45306499.53,
          43951349.46,
          44111107.27,
          44359056.71,
          42500830.29,
          43066461.47,
          44553314.55,
          41351511.51,
          43024756.36,
          60885459.85,
          40668378.23,
          52753544.47,
          48916675.76,
          51177398.6,
          57241944.15,
          53485657.68,
          51244087.82,
          48489476.33,
          48689069.43,
          49708372.48,
          44413423.34,
          55993709.91,
          44833345.11,
          54473238.33,
          78128632.98,
          56028875.32,
          51435826.33,
          53873907.49,
          57867285.17,
          53736019.37,
          52379338.55,
          50242531.67,
          50891328.43,
          74005618.29,
          61149228.39,
          55347898.51,
          55816907.9,
          59086537.51,
          55205971.21,
          54559439.69,
          57987469.83,
          53245457.26,
          53052662.54,
          49803409.24,
          47982923.26,
          66752774.87,
          47271040.5,
          59372118.28,
          54030081.29,
          60767483.6,
          56008884.48,
          56516407.1,
          58546297.88,
          53098530.92,
          57974003.84,
          51687366.01,
          47848367.7,
          102104204.33,
          51206653.61,
          57584874.79,
          63702778.97,
          63794891.58,
          61689752.64,
          60992531.77,
          61577361.16,
          59717201.67,
          60865517.3,
          54070879.39,
          53162041.15,
          67001654.43,
          56548574.77,
          60648820.92,
          58610389.83,
          62155089.4,
          63706499.87,
          66150757.15,
          64974113.77,
          65178224.11,
          64033630.86,
          60392275.29,
          62318598.92,
          65298592.29,
          57699654.7,
          67974542.76,
          62426177.33,
          71178731.31,
          69609859.79,
          73766859.34,
          68672111.85,
          66673610.24,
          68119281.51,
          63541172.1,
          60054127.9,
          66331413.56,
          60075562.59,
          68838012.08,
          62954584.18,
          65546174.26,
          64799035.81,
          85251720.46,
          68799907.5,
          63547409.23,
          64005512.1,
          59552972.8,
          61551978.62,
          68143660.61,
          61483696.06,
          70344363.16,
          64557017.65,
          74487207.6,
          69918404.97,
          73213734.43,
          74710241.97,
          68801861.2,
          73165326.57,
          69365355.89,
          67378799.43,
          72453040.87,
          65060331.66,
          74428736.76,
          74579184.72,
          79419042.03,
          75991764.07,
          77576014.21,
          78916904.64,
          72869420.27,
          79188399.76,
          74018397.83,
          70831514.1,
          79663329.44,
          74142875.38,
          75063150.71,
          76859575.91,
          82670993.34,
          78689231.48,
          88182408,
          83624113.3,
          81561944.39,
          82534679.94,
          74778468.98,
          75149065.87,
          80411863.59,
          73147214.02,
          74595986,
          69437941.81,
          89725279.21,
          88135690.57,
          95941141.03,
          89795469.41,
          81886688.22,
          80570244.2,
          82807309.85,
          90567351.87,
          87201907.99,
          60873103.08,
          49149884.48
         ],
         "yaxis": "y"
        },
        {
         "hovertemplate": "Unidade da Federação=Sergipe<br>Período (Ano/Mês)=%{x}<br>Valor em Reais=%{y}<extra></extra>",
         "legendgroup": "Sergipe",
         "line": {
          "color": "#00cc96",
          "dash": "solid"
         },
         "mode": "lines",
         "name": "Sergipe",
         "orientation": "v",
         "showlegend": true,
         "type": "scatter",
         "x": [
          "2007/Ago",
          "2007/Set",
          "2007/Out",
          "2007/Nov",
          "2007/Dez",
          "2008/Jan",
          "2008/Fev",
          "2008/Mar",
          "2008/Abr",
          "2008/Mai",
          "2008/Jun",
          "2008/Jul",
          "2008/Ago",
          "2008/Set",
          "2008/Out",
          "2008/Nov",
          "2008/Dez",
          "2009/Jan",
          "2009/Fev",
          "2009/Mar",
          "2009/Abr",
          "2009/Mai",
          "2009/Jun",
          "2009/Jul",
          "2009/Ago",
          "2009/Set",
          "2009/Out",
          "2009/Nov",
          "2009/Dez",
          "2010/Jan",
          "2010/Fev",
          "2010/Mar",
          "2010/Abr",
          "2010/Mai",
          "2010/Jun",
          "2010/Jul",
          "2010/Ago",
          "2010/Set",
          "2010/Out",
          "2010/Nov",
          "2010/Dez",
          "2011/Jan",
          "2011/Fev",
          "2011/Mar",
          "2011/Abr",
          "2011/Mai",
          "2011/Jun",
          "2011/Jul",
          "2011/Ago",
          "2011/Set",
          "2011/Out",
          "2011/Nov",
          "2011/Dez",
          "2012/Jan",
          "2012/Fev",
          "2012/Mar",
          "2012/Abr",
          "2012/Mai",
          "2012/Jun",
          "2012/Jul",
          "2012/Ago",
          "2012/Set",
          "2012/Out",
          "2012/Nov",
          "2012/Dez",
          "2013/Jan",
          "2013/Fev",
          "2013/Mar",
          "2013/Abr",
          "2013/Mai",
          "2013/Jun",
          "2013/Jul",
          "2013/Ago",
          "2013/Set",
          "2013/Out",
          "2013/Nov",
          "2013/Dez",
          "2014/Jan",
          "2014/Fev",
          "2014/Mar",
          "2014/Abr",
          "2014/Mai",
          "2014/Jun",
          "2014/Jul",
          "2014/Ago",
          "2014/Set",
          "2014/Out",
          "2014/Nov",
          "2014/Dez",
          "2015/Jan",
          "2015/Fev",
          "2015/Mar",
          "2015/Abr",
          "2015/Mai",
          "2015/Jun",
          "2015/Jul",
          "2015/Ago",
          "2015/Set",
          "2015/Out",
          "2015/Nov",
          "2015/Dez",
          "2016/Jan",
          "2016/Fev",
          "2016/Mar",
          "2016/Abr",
          "2016/Mai",
          "2016/Jun",
          "2016/Jul",
          "2016/Ago",
          "2016/Set",
          "2016/Out",
          "2016/Nov",
          "2016/Dez",
          "2017/Jan",
          "2017/Fev",
          "2017/Mar",
          "2017/Abr",
          "2017/Mai",
          "2017/Jun",
          "2017/Jul",
          "2017/Ago",
          "2017/Set",
          "2017/Out",
          "2017/Nov",
          "2017/Dez",
          "2018/Jan",
          "2018/Fev",
          "2018/Mar",
          "2018/Abr",
          "2018/Mai",
          "2018/Jun",
          "2018/Jul",
          "2018/Ago",
          "2018/Set",
          "2018/Out",
          "2018/Nov",
          "2018/Dez",
          "2019/Jan",
          "2019/Fev",
          "2019/Mar",
          "2019/Abr",
          "2019/Mai",
          "2019/Jun",
          "2019/Jul",
          "2019/Ago",
          "2019/Set",
          "2019/Out",
          "2019/Nov",
          "2019/Dez",
          "2020/Jan",
          "2020/Fev",
          "2020/Mar",
          "2020/Abr",
          "2020/Mai",
          "2020/Jun",
          "2020/Jul",
          "2020/Ago",
          "2020/Set",
          "2020/Out",
          "2020/Nov",
          "2020/Dez",
          "2021/Jan",
          "2021/Fev",
          "2021/Mar"
         ],
         "xaxis": "x",
         "y": [
          27453.63,
          78565.19,
          122952.94,
          775705.52,
          2765495.63,
          5439985.99,
          4636850.76,
          5017838.07,
          5265951.03,
          5367094.94,
          4981036.36,
          4928822.87,
          4543252.5,
          4525676.82,
          4566052.38,
          4716241.96,
          4272627.88,
          5037054.4,
          4983217.59,
          6504862.57,
          5772732.46,
          6111674.22,
          5789895.43,
          6122676.14,
          6105674.9,
          6019912.61,
          5852499.57,
          5722988.22,
          5201100.49,
          6261031.57,
          5754032.25,
          7057311.82,
          6758264.65,
          7452360.44,
          5958403.64,
          6660243.3,
          7061516.92,
          6924628.71,
          6663604.22,
          6691150.75,
          6414642.3,
          6968224.01,
          6118138.09,
          6691472.7,
          6940307.06,
          7303909.16,
          6571158.61,
          6758626.62,
          7010745.78,
          6236863.39,
          6642982.53,
          6490917.25,
          6774334.41,
          7212872.09,
          6689285.5,
          7241289.82,
          6759208.52,
          7672774.96,
          7033729.91,
          6670113.21,
          6981434.92,
          6716706,
          7302294.37,
          6495979.81,
          6351967.46,
          7207953.06,
          6313899.86,
          7354369.34,
          7574311.16,
          7218462.89,
          7087563.73,
          6987961.76,
          7242863.23,
          7102433.26,
          7518507.56,
          6724924.91,
          6559904.26,
          7468888.42,
          6637162.8,
          7020003.05,
          7177930.28,
          7457106.46,
          6733743.2,
          6671295.58,
          6989490,
          8112680.4,
          7590057.9,
          7590459.19,
          6596047.21,
          7843092.34,
          7196944.68,
          8405314.98,
          8521463.9,
          8862222.82,
          7653250.31,
          8606222.14,
          8804258.42,
          8925787.57,
          8627422.05,
          8374171.44,
          6775642.7,
          7557370.33,
          8189897.18,
          9250036.66,
          8759100.78,
          8945155.8,
          9094975.37,
          9022040.57,
          7484338.2,
          9187980.01,
          8389736.81,
          7510959.82,
          7362904.21,
          8276586.07,
          7851142.77,
          8566628.4,
          8505926.22,
          9086764.55,
          8668664.29,
          9021660.6,
          8965880.62,
          8464509.21,
          8679325.84,
          7578998.17,
          7350893.95,
          9313556.4,
          7817772.09,
          9831536.21,
          8649405.83,
          9127323.57,
          9141588.81,
          9026038.83,
          9572164.12,
          9027721.47,
          10099292.36,
          8939051.71,
          8885595.93,
          10057876.32,
          9465338.97,
          9455876.39,
          10229651.99,
          11156849.6,
          9818775.39,
          10144599.12,
          10075280.52,
          9641013.11,
          9980401.55,
          9282433.76,
          9240681.24,
          9626956.33,
          9186554.56,
          9226713.03,
          8721205.93,
          9419572.73,
          10458350.95,
          11700344.16,
          12434101.29,
          11488626.57,
          12571979.79,
          11816872.93,
          10997949.03,
          7149727.62,
          4129845.36,
          3081081.42
         ],
         "yaxis": "y"
        },
        {
         "hovertemplate": "Unidade da Federação=Minas Gerais<br>Período (Ano/Mês)=%{x}<br>Valor em Reais=%{y}<extra></extra>",
         "legendgroup": "Minas Gerais",
         "line": {
          "color": "#ab63fa",
          "dash": "solid"
         },
         "mode": "lines",
         "name": "Minas Gerais",
         "orientation": "v",
         "showlegend": true,
         "type": "scatter",
         "x": [
          "2007/Ago",
          "2007/Set",
          "2007/Out",
          "2007/Nov",
          "2007/Dez",
          "2008/Jan",
          "2008/Fev",
          "2008/Mar",
          "2008/Abr",
          "2008/Mai",
          "2008/Jun",
          "2008/Jul",
          "2008/Ago",
          "2008/Set",
          "2008/Out",
          "2008/Nov",
          "2008/Dez",
          "2009/Jan",
          "2009/Fev",
          "2009/Mar",
          "2009/Abr",
          "2009/Mai",
          "2009/Jun",
          "2009/Jul",
          "2009/Ago",
          "2009/Set",
          "2009/Out",
          "2009/Nov",
          "2009/Dez",
          "2010/Jan",
          "2010/Fev",
          "2010/Mar",
          "2010/Abr",
          "2010/Mai",
          "2010/Jun",
          "2010/Jul",
          "2010/Ago",
          "2010/Set",
          "2010/Out",
          "2010/Nov",
          "2010/Dez",
          "2011/Jan",
          "2011/Fev",
          "2011/Mar",
          "2011/Abr",
          "2011/Mai",
          "2011/Jun",
          "2011/Jul",
          "2011/Ago",
          "2011/Set",
          "2011/Out",
          "2011/Nov",
          "2011/Dez",
          "2012/Jan",
          "2012/Fev",
          "2012/Mar",
          "2012/Abr",
          "2012/Mai",
          "2012/Jun",
          "2012/Jul",
          "2012/Ago",
          "2012/Set",
          "2012/Out",
          "2012/Nov",
          "2012/Dez",
          "2013/Jan",
          "2013/Fev",
          "2013/Mar",
          "2013/Abr",
          "2013/Mai",
          "2013/Jun",
          "2013/Jul",
          "2013/Ago",
          "2013/Set",
          "2013/Out",
          "2013/Nov",
          "2013/Dez",
          "2014/Jan",
          "2014/Fev",
          "2014/Mar",
          "2014/Abr",
          "2014/Mai",
          "2014/Jun",
          "2014/Jul",
          "2014/Ago",
          "2014/Set",
          "2014/Out",
          "2014/Nov",
          "2014/Dez",
          "2015/Jan",
          "2015/Fev",
          "2015/Mar",
          "2015/Abr",
          "2015/Mai",
          "2015/Jun",
          "2015/Jul",
          "2015/Ago",
          "2015/Set",
          "2015/Out",
          "2015/Nov",
          "2015/Dez",
          "2016/Jan",
          "2016/Fev",
          "2016/Mar",
          "2016/Abr",
          "2016/Mai",
          "2016/Jun",
          "2016/Jul",
          "2016/Ago",
          "2016/Set",
          "2016/Out",
          "2016/Nov",
          "2016/Dez",
          "2017/Jan",
          "2017/Fev",
          "2017/Mar",
          "2017/Abr",
          "2017/Mai",
          "2017/Jun",
          "2017/Jul",
          "2017/Ago",
          "2017/Set",
          "2017/Out",
          "2017/Nov",
          "2017/Dez",
          "2018/Jan",
          "2018/Fev",
          "2018/Mar",
          "2018/Abr",
          "2018/Mai",
          "2018/Jun",
          "2018/Jul",
          "2018/Ago",
          "2018/Set",
          "2018/Out",
          "2018/Nov",
          "2018/Dez",
          "2019/Jan",
          "2019/Fev",
          "2019/Mar",
          "2019/Abr",
          "2019/Mai",
          "2019/Jun",
          "2019/Jul",
          "2019/Ago",
          "2019/Set",
          "2019/Out",
          "2019/Nov",
          "2019/Dez",
          "2020/Jan",
          "2020/Fev",
          "2020/Mar",
          "2020/Abr",
          "2020/Mai",
          "2020/Jun",
          "2020/Jul",
          "2020/Ago",
          "2020/Set",
          "2020/Out",
          "2020/Nov",
          "2020/Dez",
          "2021/Jan",
          "2021/Fev",
          "2021/Mar"
         ],
         "xaxis": "x",
         "y": [
          971394.37,
          2861781.5,
          10018011.35,
          21730281.63,
          43429517.54,
          206208080.9,
          70301089.5,
          79119005.51,
          79046322.41,
          79268070.12,
          79619189.2,
          82209206.98,
          80374117.08,
          82409129.3,
          88613476.6,
          84486996.11,
          88928630.3,
          99018155.84,
          83675119.83,
          100258616.86,
          91831325.37,
          97289703.07,
          95723396.53,
          100050008.7,
          98977184.26,
          98202119.08,
          96962394.27,
          94767639.13,
          92412770.73,
          95806556.42,
          90764890.28,
          107389850.03,
          100835953.45,
          105494550.31,
          99666115.96,
          103365357.52,
          107844259.69,
          104341138.19,
          100525403.88,
          101943625.5,
          99538953.6,
          107766131.57,
          103149387.49,
          111077091.84,
          106094329.28,
          115487199.35,
          110062460.88,
          110096959.71,
          114967082.94,
          109760526.2,
          111445298.68,
          107455123.44,
          107716181.56,
          119755094.85,
          107156833.59,
          122172448.68,
          112569278.74,
          125676107.14,
          115779607.41,
          122012643.58,
          123940906.18,
          114792200.87,
          122099210.56,
          112211647.27,
          110269165.4,
          120432270.5,
          107903261.86,
          126141564.88,
          131252895.3,
          128908897.64,
          126767664.45,
          132088496.92,
          130236231.24,
          128841100.31,
          134284948.05,
          123888837.02,
          124208668.26,
          134156154.8,
          127951654.33,
          135692214.91,
          138386168.54,
          144303552.86,
          134143143.46,
          142596691.51,
          138799561.34,
          139266407.72,
          143694058.81,
          136080717.06,
          131250331.04,
          131695638.74,
          126060674.04,
          150875041.27,
          142606784.74,
          146104517.61,
          142895530.96,
          137939925.52,
          140776921.48,
          137733786.02,
          140162221.98,
          134382139.41,
          129647523.62,
          131130880.47,
          127373192.23,
          144115659.56,
          136015892.7,
          143193474.25,
          140730742.09,
          137010756.09,
          143770349.05,
          136162888.49,
          138419718.77,
          129528892.52,
          132628617.72,
          139068519.49,
          129340908.71,
          150297890.74,
          136724081.95,
          153439872.25,
          144309403.11,
          147551461.76,
          156070932.24,
          142294086.35,
          148327161.77,
          142323944.76,
          138366640.55,
          146510600.58,
          130734031.29,
          151506781.86,
          150702572.27,
          153604880.55,
          150262499.13,
          156721912.31,
          160484918.69,
          145998611.06,
          157294586.62,
          148172783.99,
          145422406.28,
          153236422.57,
          142690772.52,
          151976196.81,
          157957866.2,
          163641094.76,
          154174153.49,
          166775913.85,
          161774658.77,
          157437833.94,
          166165125.18,
          152171503.07,
          152473281.15,
          158265777.55,
          141463360.42,
          147654942.7,
          127447290.37,
          142746287.34,
          157276616.5,
          177466638.1,
          182176122.99,
          181422500.43,
          174585638.28,
          168564708.16,
          166376967.67,
          155064483.25,
          119877417.15,
          79780838
         ],
         "yaxis": "y"
        },
        {
         "hovertemplate": "Unidade da Federação=Bahia<br>Período (Ano/Mês)=%{x}<br>Valor em Reais=%{y}<extra></extra>",
         "legendgroup": "Bahia",
         "line": {
          "color": "#FFA15A",
          "dash": "solid"
         },
         "mode": "lines",
         "name": "Bahia",
         "orientation": "v",
         "showlegend": true,
         "type": "scatter",
         "x": [
          "2007/Ago",
          "2007/Set",
          "2007/Out",
          "2007/Nov",
          "2007/Dez",
          "2008/Jan",
          "2008/Fev",
          "2008/Mar",
          "2008/Abr",
          "2008/Mai",
          "2008/Jun",
          "2008/Jul",
          "2008/Ago",
          "2008/Set",
          "2008/Out",
          "2008/Nov",
          "2008/Dez",
          "2009/Jan",
          "2009/Fev",
          "2009/Mar",
          "2009/Abr",
          "2009/Mai",
          "2009/Jun",
          "2009/Jul",
          "2009/Ago",
          "2009/Set",
          "2009/Out",
          "2009/Nov",
          "2009/Dez",
          "2010/Jan",
          "2010/Fev",
          "2010/Mar",
          "2010/Abr",
          "2010/Mai",
          "2010/Jun",
          "2010/Jul",
          "2010/Ago",
          "2010/Set",
          "2010/Out",
          "2010/Nov",
          "2010/Dez",
          "2011/Jan",
          "2011/Fev",
          "2011/Mar",
          "2011/Abr",
          "2011/Mai",
          "2011/Jun",
          "2011/Jul",
          "2011/Ago",
          "2011/Set",
          "2011/Out",
          "2011/Nov",
          "2011/Dez",
          "2012/Jan",
          "2012/Fev",
          "2012/Mar",
          "2012/Abr",
          "2012/Mai",
          "2012/Jun",
          "2012/Jul",
          "2012/Ago",
          "2012/Set",
          "2012/Out",
          "2012/Nov",
          "2012/Dez",
          "2013/Jan",
          "2013/Fev",
          "2013/Mar",
          "2013/Abr",
          "2013/Mai",
          "2013/Jun",
          "2013/Jul",
          "2013/Ago",
          "2013/Set",
          "2013/Out",
          "2013/Nov",
          "2013/Dez",
          "2014/Jan",
          "2014/Fev",
          "2014/Mar",
          "2014/Abr",
          "2014/Mai",
          "2014/Jun",
          "2014/Jul",
          "2014/Ago",
          "2014/Set",
          "2014/Out",
          "2014/Nov",
          "2014/Dez",
          "2015/Jan",
          "2015/Fev",
          "2015/Mar",
          "2015/Abr",
          "2015/Mai",
          "2015/Jun",
          "2015/Jul",
          "2015/Ago",
          "2015/Set",
          "2015/Out",
          "2015/Nov",
          "2015/Dez",
          "2016/Jan",
          "2016/Fev",
          "2016/Mar",
          "2016/Abr",
          "2016/Mai",
          "2016/Jun",
          "2016/Jul",
          "2016/Ago",
          "2016/Set",
          "2016/Out",
          "2016/Nov",
          "2016/Dez",
          "2017/Jan",
          "2017/Fev",
          "2017/Mar",
          "2017/Abr",
          "2017/Mai",
          "2017/Jun",
          "2017/Jul",
          "2017/Ago",
          "2017/Set",
          "2017/Out",
          "2017/Nov",
          "2017/Dez",
          "2018/Jan",
          "2018/Fev",
          "2018/Mar",
          "2018/Abr",
          "2018/Mai",
          "2018/Jun",
          "2018/Jul",
          "2018/Ago",
          "2018/Set",
          "2018/Out",
          "2018/Nov",
          "2018/Dez",
          "2019/Jan",
          "2019/Fev",
          "2019/Mar",
          "2019/Abr",
          "2019/Mai",
          "2019/Jun",
          "2019/Jul",
          "2019/Ago",
          "2019/Set",
          "2019/Out",
          "2019/Nov",
          "2019/Dez",
          "2020/Jan",
          "2020/Fev",
          "2020/Mar",
          "2020/Abr",
          "2020/Mai",
          "2020/Jun",
          "2020/Jul",
          "2020/Ago",
          "2020/Set",
          "2020/Out",
          "2020/Nov",
          "2020/Dez",
          "2021/Jan",
          "2021/Fev",
          "2021/Mar"
         ],
         "xaxis": "x",
         "y": [
          135146.36,
          448349.75,
          1382038.11,
          3348779.62,
          11948984.56,
          73947845.87,
          33410124.06,
          41316672.72,
          42826993.62,
          42086263.49,
          39910042.4,
          57664560.93,
          43254543.33,
          42851268.02,
          43332573.68,
          40946908.97,
          41424654.95,
          43856594.59,
          41094717.03,
          51476930.68,
          49600524.9,
          50686984.15,
          48851108.39,
          51075073.25,
          53386058.82,
          50894817.5,
          50114090.45,
          48792856.88,
          47427830.7,
          48612761.25,
          44513251.78,
          54612375.13,
          51537423.45,
          55436692.73,
          47478799.39,
          51149585.31,
          53626809.52,
          51013229.85,
          51499348.41,
          51206307.37,
          49579249.89,
          53682160.16,
          50676491.86,
          54919845.32,
          54324039.31,
          56094527.67,
          52211711.68,
          55144668.28,
          63051260.86,
          55095561.14,
          56919929.05,
          53594727.48,
          52884589.16,
          56236870.8,
          51303198.23,
          60630064.83,
          56054194.58,
          60521448.27,
          56236173.44,
          59433810.78,
          59215996.5,
          54813906.57,
          55997422.52,
          54780035.36,
          54119282.22,
          55590417.88,
          49629501.64,
          57985297.33,
          60189169.87,
          61450345.67,
          57608156.48,
          63266197.29,
          62309509.77,
          62163833.25,
          64729268.56,
          59202730.98,
          57277468.21,
          62668076.56,
          58834155.47,
          61074497.07,
          63261900.08,
          66194573.43,
          58224139.59,
          66299078.59,
          65818877.3,
          66022776.45,
          67823024.71,
          61464150.15,
          58530316.47,
          61158279.3,
          54965561.67,
          69408038.96,
          63117816.99,
          66628463.92,
          64203496.81,
          68297757.99,
          68367732.63,
          66487059.16,
          66313885.35,
          67210351.43,
          59462190.64,
          65526239.52,
          62769485.03,
          72382330.54,
          67430869.51,
          70806318.27,
          67059111.05,
          70772890.52,
          73472651.35,
          68471531.6,
          68140982.51,
          64219526.49,
          61669178.59,
          68654255.3,
          60422623.96,
          72167700.1,
          65682288.03,
          75558626.57,
          67489755.47,
          71945113.75,
          74167949.7,
          68153543.82,
          71763515.32,
          68346916.52,
          64802793.52,
          70355149.97,
          60864489.86,
          68977621.88,
          70895899.4,
          73083665.68,
          68400678.09,
          74877735.12,
          74697458.17,
          70616508.53,
          76593857.76,
          71554052.27,
          67587048.45,
          70117168.14,
          66837610.7,
          69982697.43,
          73302540.67,
          79429195.01,
          70572836.97,
          79605766.07,
          77884805.29,
          75454182.43,
          79091225.65,
          72319532.73,
          68683274.52,
          74411149.74,
          67813367.37,
          70998470.8,
          60139434.01,
          66384257.1,
          78676674.2,
          91011171.04,
          86230665.84,
          78135509.62,
          82912397.81,
          81866088.87,
          83131785.74,
          70325599.07,
          55544579.04,
          31314602.44
         ],
         "yaxis": "y"
        }
       ],
       "layout": {
        "height": 600,
        "legend": {
         "title": {
          "text": "Unidade da Federação"
         },
         "tracegroupgap": 0
        },
        "margin": {
         "t": 60
        },
        "template": {
         "data": {
          "bar": [
           {
            "error_x": {
             "color": "#2a3f5f"
            },
            "error_y": {
             "color": "#2a3f5f"
            },
            "marker": {
             "line": {
              "color": "#E5ECF6",
              "width": 0.5
             }
            },
            "type": "bar"
           }
          ],
          "barpolar": [
           {
            "marker": {
             "line": {
              "color": "#E5ECF6",
              "width": 0.5
             }
            },
            "type": "barpolar"
           }
          ],
          "carpet": [
           {
            "aaxis": {
             "endlinecolor": "#2a3f5f",
             "gridcolor": "white",
             "linecolor": "white",
             "minorgridcolor": "white",
             "startlinecolor": "#2a3f5f"
            },
            "baxis": {
             "endlinecolor": "#2a3f5f",
             "gridcolor": "white",
             "linecolor": "white",
             "minorgridcolor": "white",
             "startlinecolor": "#2a3f5f"
            },
            "type": "carpet"
           }
          ],
          "choropleth": [
           {
            "colorbar": {
             "outlinewidth": 0,
             "ticks": ""
            },
            "type": "choropleth"
           }
          ],
          "contour": [
           {
            "colorbar": {
             "outlinewidth": 0,
             "ticks": ""
            },
            "colorscale": [
             [
              0,
              "#0d0887"
             ],
             [
              0.1111111111111111,
              "#46039f"
             ],
             [
              0.2222222222222222,
              "#7201a8"
             ],
             [
              0.3333333333333333,
              "#9c179e"
             ],
             [
              0.4444444444444444,
              "#bd3786"
             ],
             [
              0.5555555555555556,
              "#d8576b"
             ],
             [
              0.6666666666666666,
              "#ed7953"
             ],
             [
              0.7777777777777778,
              "#fb9f3a"
             ],
             [
              0.8888888888888888,
              "#fdca26"
             ],
             [
              1,
              "#f0f921"
             ]
            ],
            "type": "contour"
           }
          ],
          "contourcarpet": [
           {
            "colorbar": {
             "outlinewidth": 0,
             "ticks": ""
            },
            "type": "contourcarpet"
           }
          ],
          "heatmap": [
           {
            "colorbar": {
             "outlinewidth": 0,
             "ticks": ""
            },
            "colorscale": [
             [
              0,
              "#0d0887"
             ],
             [
              0.1111111111111111,
              "#46039f"
             ],
             [
              0.2222222222222222,
              "#7201a8"
             ],
             [
              0.3333333333333333,
              "#9c179e"
             ],
             [
              0.4444444444444444,
              "#bd3786"
             ],
             [
              0.5555555555555556,
              "#d8576b"
             ],
             [
              0.6666666666666666,
              "#ed7953"
             ],
             [
              0.7777777777777778,
              "#fb9f3a"
             ],
             [
              0.8888888888888888,
              "#fdca26"
             ],
             [
              1,
              "#f0f921"
             ]
            ],
            "type": "heatmap"
           }
          ],
          "heatmapgl": [
           {
            "colorbar": {
             "outlinewidth": 0,
             "ticks": ""
            },
            "colorscale": [
             [
              0,
              "#0d0887"
             ],
             [
              0.1111111111111111,
              "#46039f"
             ],
             [
              0.2222222222222222,
              "#7201a8"
             ],
             [
              0.3333333333333333,
              "#9c179e"
             ],
             [
              0.4444444444444444,
              "#bd3786"
             ],
             [
              0.5555555555555556,
              "#d8576b"
             ],
             [
              0.6666666666666666,
              "#ed7953"
             ],
             [
              0.7777777777777778,
              "#fb9f3a"
             ],
             [
              0.8888888888888888,
              "#fdca26"
             ],
             [
              1,
              "#f0f921"
             ]
            ],
            "type": "heatmapgl"
           }
          ],
          "histogram": [
           {
            "marker": {
             "colorbar": {
              "outlinewidth": 0,
              "ticks": ""
             }
            },
            "type": "histogram"
           }
          ],
          "histogram2d": [
           {
            "colorbar": {
             "outlinewidth": 0,
             "ticks": ""
            },
            "colorscale": [
             [
              0,
              "#0d0887"
             ],
             [
              0.1111111111111111,
              "#46039f"
             ],
             [
              0.2222222222222222,
              "#7201a8"
             ],
             [
              0.3333333333333333,
              "#9c179e"
             ],
             [
              0.4444444444444444,
              "#bd3786"
             ],
             [
              0.5555555555555556,
              "#d8576b"
             ],
             [
              0.6666666666666666,
              "#ed7953"
             ],
             [
              0.7777777777777778,
              "#fb9f3a"
             ],
             [
              0.8888888888888888,
              "#fdca26"
             ],
             [
              1,
              "#f0f921"
             ]
            ],
            "type": "histogram2d"
           }
          ],
          "histogram2dcontour": [
           {
            "colorbar": {
             "outlinewidth": 0,
             "ticks": ""
            },
            "colorscale": [
             [
              0,
              "#0d0887"
             ],
             [
              0.1111111111111111,
              "#46039f"
             ],
             [
              0.2222222222222222,
              "#7201a8"
             ],
             [
              0.3333333333333333,
              "#9c179e"
             ],
             [
              0.4444444444444444,
              "#bd3786"
             ],
             [
              0.5555555555555556,
              "#d8576b"
             ],
             [
              0.6666666666666666,
              "#ed7953"
             ],
             [
              0.7777777777777778,
              "#fb9f3a"
             ],
             [
              0.8888888888888888,
              "#fdca26"
             ],
             [
              1,
              "#f0f921"
             ]
            ],
            "type": "histogram2dcontour"
           }
          ],
          "mesh3d": [
           {
            "colorbar": {
             "outlinewidth": 0,
             "ticks": ""
            },
            "type": "mesh3d"
           }
          ],
          "parcoords": [
           {
            "line": {
             "colorbar": {
              "outlinewidth": 0,
              "ticks": ""
             }
            },
            "type": "parcoords"
           }
          ],
          "pie": [
           {
            "automargin": true,
            "type": "pie"
           }
          ],
          "scatter": [
           {
            "marker": {
             "colorbar": {
              "outlinewidth": 0,
              "ticks": ""
             }
            },
            "type": "scatter"
           }
          ],
          "scatter3d": [
           {
            "line": {
             "colorbar": {
              "outlinewidth": 0,
              "ticks": ""
             }
            },
            "marker": {
             "colorbar": {
              "outlinewidth": 0,
              "ticks": ""
             }
            },
            "type": "scatter3d"
           }
          ],
          "scattercarpet": [
           {
            "marker": {
             "colorbar": {
              "outlinewidth": 0,
              "ticks": ""
             }
            },
            "type": "scattercarpet"
           }
          ],
          "scattergeo": [
           {
            "marker": {
             "colorbar": {
              "outlinewidth": 0,
              "ticks": ""
             }
            },
            "type": "scattergeo"
           }
          ],
          "scattergl": [
           {
            "marker": {
             "colorbar": {
              "outlinewidth": 0,
              "ticks": ""
             }
            },
            "type": "scattergl"
           }
          ],
          "scattermapbox": [
           {
            "marker": {
             "colorbar": {
              "outlinewidth": 0,
              "ticks": ""
             }
            },
            "type": "scattermapbox"
           }
          ],
          "scatterpolar": [
           {
            "marker": {
             "colorbar": {
              "outlinewidth": 0,
              "ticks": ""
             }
            },
            "type": "scatterpolar"
           }
          ],
          "scatterpolargl": [
           {
            "marker": {
             "colorbar": {
              "outlinewidth": 0,
              "ticks": ""
             }
            },
            "type": "scatterpolargl"
           }
          ],
          "scatterternary": [
           {
            "marker": {
             "colorbar": {
              "outlinewidth": 0,
              "ticks": ""
             }
            },
            "type": "scatterternary"
           }
          ],
          "surface": [
           {
            "colorbar": {
             "outlinewidth": 0,
             "ticks": ""
            },
            "colorscale": [
             [
              0,
              "#0d0887"
             ],
             [
              0.1111111111111111,
              "#46039f"
             ],
             [
              0.2222222222222222,
              "#7201a8"
             ],
             [
              0.3333333333333333,
              "#9c179e"
             ],
             [
              0.4444444444444444,
              "#bd3786"
             ],
             [
              0.5555555555555556,
              "#d8576b"
             ],
             [
              0.6666666666666666,
              "#ed7953"
             ],
             [
              0.7777777777777778,
              "#fb9f3a"
             ],
             [
              0.8888888888888888,
              "#fdca26"
             ],
             [
              1,
              "#f0f921"
             ]
            ],
            "type": "surface"
           }
          ],
          "table": [
           {
            "cells": {
             "fill": {
              "color": "#EBF0F8"
             },
             "line": {
              "color": "white"
             }
            },
            "header": {
             "fill": {
              "color": "#C8D4E3"
             },
             "line": {
              "color": "white"
             }
            },
            "type": "table"
           }
          ]
         },
         "layout": {
          "annotationdefaults": {
           "arrowcolor": "#2a3f5f",
           "arrowhead": 0,
           "arrowwidth": 1
          },
          "autotypenumbers": "strict",
          "coloraxis": {
           "colorbar": {
            "outlinewidth": 0,
            "ticks": ""
           }
          },
          "colorscale": {
           "diverging": [
            [
             0,
             "#8e0152"
            ],
            [
             0.1,
             "#c51b7d"
            ],
            [
             0.2,
             "#de77ae"
            ],
            [
             0.3,
             "#f1b6da"
            ],
            [
             0.4,
             "#fde0ef"
            ],
            [
             0.5,
             "#f7f7f7"
            ],
            [
             0.6,
             "#e6f5d0"
            ],
            [
             0.7,
             "#b8e186"
            ],
            [
             0.8,
             "#7fbc41"
            ],
            [
             0.9,
             "#4d9221"
            ],
            [
             1,
             "#276419"
            ]
           ],
           "sequential": [
            [
             0,
             "#0d0887"
            ],
            [
             0.1111111111111111,
             "#46039f"
            ],
            [
             0.2222222222222222,
             "#7201a8"
            ],
            [
             0.3333333333333333,
             "#9c179e"
            ],
            [
             0.4444444444444444,
             "#bd3786"
            ],
            [
             0.5555555555555556,
             "#d8576b"
            ],
            [
             0.6666666666666666,
             "#ed7953"
            ],
            [
             0.7777777777777778,
             "#fb9f3a"
            ],
            [
             0.8888888888888888,
             "#fdca26"
            ],
            [
             1,
             "#f0f921"
            ]
           ],
           "sequentialminus": [
            [
             0,
             "#0d0887"
            ],
            [
             0.1111111111111111,
             "#46039f"
            ],
            [
             0.2222222222222222,
             "#7201a8"
            ],
            [
             0.3333333333333333,
             "#9c179e"
            ],
            [
             0.4444444444444444,
             "#bd3786"
            ],
            [
             0.5555555555555556,
             "#d8576b"
            ],
            [
             0.6666666666666666,
             "#ed7953"
            ],
            [
             0.7777777777777778,
             "#fb9f3a"
            ],
            [
             0.8888888888888888,
             "#fdca26"
            ],
            [
             1,
             "#f0f921"
            ]
           ]
          },
          "colorway": [
           "#636efa",
           "#EF553B",
           "#00cc96",
           "#ab63fa",
           "#FFA15A",
           "#19d3f3",
           "#FF6692",
           "#B6E880",
           "#FF97FF",
           "#FECB52"
          ],
          "font": {
           "color": "#2a3f5f"
          },
          "geo": {
           "bgcolor": "white",
           "lakecolor": "white",
           "landcolor": "#E5ECF6",
           "showlakes": true,
           "showland": true,
           "subunitcolor": "white"
          },
          "hoverlabel": {
           "align": "left"
          },
          "hovermode": "closest",
          "mapbox": {
           "style": "light"
          },
          "paper_bgcolor": "white",
          "plot_bgcolor": "#E5ECF6",
          "polar": {
           "angularaxis": {
            "gridcolor": "white",
            "linecolor": "white",
            "ticks": ""
           },
           "bgcolor": "#E5ECF6",
           "radialaxis": {
            "gridcolor": "white",
            "linecolor": "white",
            "ticks": ""
           }
          },
          "scene": {
           "xaxis": {
            "backgroundcolor": "#E5ECF6",
            "gridcolor": "white",
            "gridwidth": 2,
            "linecolor": "white",
            "showbackground": true,
            "ticks": "",
            "zerolinecolor": "white"
           },
           "yaxis": {
            "backgroundcolor": "#E5ECF6",
            "gridcolor": "white",
            "gridwidth": 2,
            "linecolor": "white",
            "showbackground": true,
            "ticks": "",
            "zerolinecolor": "white"
           },
           "zaxis": {
            "backgroundcolor": "#E5ECF6",
            "gridcolor": "white",
            "gridwidth": 2,
            "linecolor": "white",
            "showbackground": true,
            "ticks": "",
            "zerolinecolor": "white"
           }
          },
          "shapedefaults": {
           "line": {
            "color": "#2a3f5f"
           }
          },
          "ternary": {
           "aaxis": {
            "gridcolor": "white",
            "linecolor": "white",
            "ticks": ""
           },
           "baxis": {
            "gridcolor": "white",
            "linecolor": "white",
            "ticks": ""
           },
           "bgcolor": "#E5ECF6",
           "caxis": {
            "gridcolor": "white",
            "linecolor": "white",
            "ticks": ""
           }
          },
          "title": {
           "x": 0.05
          },
          "xaxis": {
           "automargin": true,
           "gridcolor": "white",
           "linecolor": "white",
           "ticks": "",
           "title": {
            "standoff": 15
           },
           "zerolinecolor": "white",
           "zerolinewidth": 2
          },
          "yaxis": {
           "automargin": true,
           "gridcolor": "white",
           "linecolor": "white",
           "ticks": "",
           "title": {
            "standoff": 15
           },
           "zerolinecolor": "white",
           "zerolinewidth": 2
          }
         }
        },
        "title": {
         "text": "Gasto por Estados",
         "x": 0.5,
         "xanchor": "center",
         "y": 0.95,
         "yanchor": "top"
        },
        "width": 1400,
        "xaxis": {
         "anchor": "y",
         "domain": [
          0,
          1
         ],
         "title": {
          "text": "Período (Ano/Mês)"
         }
        },
        "yaxis": {
         "anchor": "x",
         "domain": [
          0,
          1
         ],
         "title": {
          "text": "Valor em Reais"
         }
        }
       }
      }
     },
     "metadata": {}
    }
   ],
   "source": [
    "import plotly.graph_objects as go\n",
    "\n",
    "estados = ['Espírito Santo', 'Rio de Janeiro', 'Sergipe', 'Minas Gerais', 'Bahia']\n",
    "selecionados = usaveis.loc[estados]\n",
    "selecionados = selecionados.T\n",
    "\n",
    "fig = px.line(\n",
    "    selecionados, x =selecionados.index, y=selecionados.columns,\n",
    "    labels = {'value':'Valor em Reais','index':'Período (Ano/Mês)'},\n",
    "    width = 1400, height = 600)\n",
    "\n",
    "fig.update_layout(\n",
    "    title={\n",
    "        'text': \"Gasto por Estados\",\n",
    "        'y':0.95,\n",
    "        'x':0.5,\n",
    "        'xanchor': 'center',\n",
    "        'yanchor': 'top'})\n",
    "fig.show()"
   ]
  },
  {
   "cell_type": "code",
   "execution_count": null,
   "metadata": {},
   "outputs": [],
   "source": [
    "\n",
    "layout = go.Layout(\n",
    "    autosize=False,\n",
    "    width=1300,\n",
    "    height=500,\n",
    "    margin=go.layout.Margin(\n",
    "        l=0,\n",
    "        r=0,\n",
    "        b=10,\n",
    "        t=10,\n",
    "        pad = 4\n",
    "    )\n",
    ")\n",
    "\n",
    "fig1=go.Figure(layout=layout)\n",
    "fig2=go.Figure(layout=layout)\n",
    "fig3=go.Figure(layout=layout)\n",
    "\n",
    "with guias.output_to('Dados Completos'):\n",
    "    t = base_atends_uf_uso.columns.drop('Código UF')\n",
    "    for estado in base_atends_uf_uso.index:\n",
    "        y=base_atends_uf_uso.T[estado]\n",
    "        fig1.add_trace(go.Scatter(x=t,y=y,mode='lines',\n",
    "            name=estado, text=estado))\n",
    "    fig1.update_layout(\n",
    "        hoverlabel=dict(\n",
    "            bgcolor=\"white\",\n",
    "            font_size=12))\n",
    "    fig1.show()\n"
   ]
  },
  {
   "cell_type": "code",
   "execution_count": 54,
   "metadata": {},
   "outputs": [
    {
     "output_type": "display_data",
     "data": {
      "application/vnd.plotly.v1+json": {
       "config": {
        "plotlyServerURL": "https://plot.ly"
       },
       "data": [
        {
         "text": [
          135146.36,
          448349.75,
          1382038.11,
          3348779.62,
          11948984.56,
          73947845.87,
          33410124.06,
          41316672.72,
          42826993.62,
          42086263.49,
          39910042.4,
          57664560.93,
          43254543.33,
          42851268.02,
          43332573.68,
          40946908.97,
          41424654.95,
          43856594.59,
          41094717.03,
          51476930.68,
          49600524.9,
          50686984.15,
          48851108.39,
          51075073.25,
          53386058.82,
          50894817.5,
          50114090.45,
          48792856.88,
          47427830.7,
          48612761.25,
          44513251.78,
          54612375.13,
          51537423.45,
          55436692.73,
          47478799.39,
          51149585.31,
          53626809.52,
          51013229.85,
          51499348.41,
          51206307.37,
          49579249.89,
          53682160.16,
          50676491.86,
          54919845.32,
          54324039.31,
          56094527.67,
          52211711.68,
          55144668.28,
          63051260.86,
          55095561.14,
          56919929.05,
          53594727.48,
          52884589.16,
          56236870.8,
          51303198.23,
          60630064.83,
          56054194.58,
          60521448.27,
          56236173.44,
          59433810.78,
          59215996.5,
          54813906.57,
          55997422.52,
          54780035.36,
          54119282.22,
          55590417.88,
          49629501.64,
          57985297.33,
          60189169.87,
          61450345.67,
          57608156.48,
          63266197.29,
          62309509.77,
          62163833.25,
          64729268.56,
          59202730.98,
          57277468.21,
          62668076.56,
          58834155.47,
          61074497.07,
          63261900.08,
          66194573.43,
          58224139.59,
          66299078.59,
          65818877.3,
          66022776.45,
          67823024.71,
          61464150.15,
          58530316.47,
          61158279.3,
          54965561.67,
          69408038.96,
          63117816.99,
          66628463.92,
          64203496.81,
          68297757.99,
          68367732.63,
          66487059.16,
          66313885.35,
          67210351.43,
          59462190.64,
          65526239.52,
          62769485.03,
          72382330.54,
          67430869.51,
          70806318.27,
          67059111.05,
          70772890.52,
          73472651.35,
          68471531.6,
          68140982.51,
          64219526.49,
          61669178.59,
          68654255.3,
          60422623.96,
          72167700.1,
          65682288.03,
          75558626.57,
          67489755.47,
          71945113.75,
          74167949.7,
          68153543.82,
          71763515.32,
          68346916.52,
          64802793.52,
          70355149.97,
          60864489.86,
          68977621.88,
          70895899.4,
          73083665.68,
          68400678.09,
          74877735.12,
          74697458.17,
          70616508.53,
          76593857.76,
          71554052.27,
          67587048.45,
          70117168.14,
          66837610.7,
          69982697.43,
          73302540.67,
          79429195.01,
          70572836.97,
          79605766.07,
          77884805.29,
          75454182.43,
          79091225.65,
          72319532.73,
          68683274.52,
          74411149.74,
          67813367.37,
          70998470.8,
          60139434.01,
          66384257.1,
          78676674.2,
          91011171.04,
          86230665.84,
          78135509.62,
          82912397.81,
          81866088.87,
          83131785.74,
          70325599.07,
          55544579.04,
          31314602.44
         ],
         "type": "scatter",
         "x": [
          "2007/Ago",
          "2007/Set",
          "2007/Out",
          "2007/Nov",
          "2007/Dez",
          "2008/Jan",
          "2008/Fev",
          "2008/Mar",
          "2008/Abr",
          "2008/Mai",
          "2008/Jun",
          "2008/Jul",
          "2008/Ago",
          "2008/Set",
          "2008/Out",
          "2008/Nov",
          "2008/Dez",
          "2009/Jan",
          "2009/Fev",
          "2009/Mar",
          "2009/Abr",
          "2009/Mai",
          "2009/Jun",
          "2009/Jul",
          "2009/Ago",
          "2009/Set",
          "2009/Out",
          "2009/Nov",
          "2009/Dez",
          "2010/Jan",
          "2010/Fev",
          "2010/Mar",
          "2010/Abr",
          "2010/Mai",
          "2010/Jun",
          "2010/Jul",
          "2010/Ago",
          "2010/Set",
          "2010/Out",
          "2010/Nov",
          "2010/Dez",
          "2011/Jan",
          "2011/Fev",
          "2011/Mar",
          "2011/Abr",
          "2011/Mai",
          "2011/Jun",
          "2011/Jul",
          "2011/Ago",
          "2011/Set",
          "2011/Out",
          "2011/Nov",
          "2011/Dez",
          "2012/Jan",
          "2012/Fev",
          "2012/Mar",
          "2012/Abr",
          "2012/Mai",
          "2012/Jun",
          "2012/Jul",
          "2012/Ago",
          "2012/Set",
          "2012/Out",
          "2012/Nov",
          "2012/Dez",
          "2013/Jan",
          "2013/Fev",
          "2013/Mar",
          "2013/Abr",
          "2013/Mai",
          "2013/Jun",
          "2013/Jul",
          "2013/Ago",
          "2013/Set",
          "2013/Out",
          "2013/Nov",
          "2013/Dez",
          "2014/Jan",
          "2014/Fev",
          "2014/Mar",
          "2014/Abr",
          "2014/Mai",
          "2014/Jun",
          "2014/Jul",
          "2014/Ago",
          "2014/Set",
          "2014/Out",
          "2014/Nov",
          "2014/Dez",
          "2015/Jan",
          "2015/Fev",
          "2015/Mar",
          "2015/Abr",
          "2015/Mai",
          "2015/Jun",
          "2015/Jul",
          "2015/Ago",
          "2015/Set",
          "2015/Out",
          "2015/Nov",
          "2015/Dez",
          "2016/Jan",
          "2016/Fev",
          "2016/Mar",
          "2016/Abr",
          "2016/Mai",
          "2016/Jun",
          "2016/Jul",
          "2016/Ago",
          "2016/Set",
          "2016/Out",
          "2016/Nov",
          "2016/Dez",
          "2017/Jan",
          "2017/Fev",
          "2017/Mar",
          "2017/Abr",
          "2017/Mai",
          "2017/Jun",
          "2017/Jul",
          "2017/Ago",
          "2017/Set",
          "2017/Out",
          "2017/Nov",
          "2017/Dez",
          "2018/Jan",
          "2018/Fev",
          "2018/Mar",
          "2018/Abr",
          "2018/Mai",
          "2018/Jun",
          "2018/Jul",
          "2018/Ago",
          "2018/Set",
          "2018/Out",
          "2018/Nov",
          "2018/Dez",
          "2019/Jan",
          "2019/Fev",
          "2019/Mar",
          "2019/Abr",
          "2019/Mai",
          "2019/Jun",
          "2019/Jul",
          "2019/Ago",
          "2019/Set",
          "2019/Out",
          "2019/Nov",
          "2019/Dez",
          "2020/Jan",
          "2020/Fev",
          "2020/Mar",
          "2020/Abr",
          "2020/Mai",
          "2020/Jun",
          "2020/Jul",
          "2020/Ago",
          "2020/Set",
          "2020/Out",
          "2020/Nov",
          "2020/Dez",
          "2021/Jan",
          "2021/Fev",
          "2021/Mar"
         ],
         "y": [
          135146.36,
          448349.75,
          1382038.11,
          3348779.62,
          11948984.56,
          73947845.87,
          33410124.06,
          41316672.72,
          42826993.62,
          42086263.49,
          39910042.4,
          57664560.93,
          43254543.33,
          42851268.02,
          43332573.68,
          40946908.97,
          41424654.95,
          43856594.59,
          41094717.03,
          51476930.68,
          49600524.9,
          50686984.15,
          48851108.39,
          51075073.25,
          53386058.82,
          50894817.5,
          50114090.45,
          48792856.88,
          47427830.7,
          48612761.25,
          44513251.78,
          54612375.13,
          51537423.45,
          55436692.73,
          47478799.39,
          51149585.31,
          53626809.52,
          51013229.85,
          51499348.41,
          51206307.37,
          49579249.89,
          53682160.16,
          50676491.86,
          54919845.32,
          54324039.31,
          56094527.67,
          52211711.68,
          55144668.28,
          63051260.86,
          55095561.14,
          56919929.05,
          53594727.48,
          52884589.16,
          56236870.8,
          51303198.23,
          60630064.83,
          56054194.58,
          60521448.27,
          56236173.44,
          59433810.78,
          59215996.5,
          54813906.57,
          55997422.52,
          54780035.36,
          54119282.22,
          55590417.88,
          49629501.64,
          57985297.33,
          60189169.87,
          61450345.67,
          57608156.48,
          63266197.29,
          62309509.77,
          62163833.25,
          64729268.56,
          59202730.98,
          57277468.21,
          62668076.56,
          58834155.47,
          61074497.07,
          63261900.08,
          66194573.43,
          58224139.59,
          66299078.59,
          65818877.3,
          66022776.45,
          67823024.71,
          61464150.15,
          58530316.47,
          61158279.3,
          54965561.67,
          69408038.96,
          63117816.99,
          66628463.92,
          64203496.81,
          68297757.99,
          68367732.63,
          66487059.16,
          66313885.35,
          67210351.43,
          59462190.64,
          65526239.52,
          62769485.03,
          72382330.54,
          67430869.51,
          70806318.27,
          67059111.05,
          70772890.52,
          73472651.35,
          68471531.6,
          68140982.51,
          64219526.49,
          61669178.59,
          68654255.3,
          60422623.96,
          72167700.1,
          65682288.03,
          75558626.57,
          67489755.47,
          71945113.75,
          74167949.7,
          68153543.82,
          71763515.32,
          68346916.52,
          64802793.52,
          70355149.97,
          60864489.86,
          68977621.88,
          70895899.4,
          73083665.68,
          68400678.09,
          74877735.12,
          74697458.17,
          70616508.53,
          76593857.76,
          71554052.27,
          67587048.45,
          70117168.14,
          66837610.7,
          69982697.43,
          73302540.67,
          79429195.01,
          70572836.97,
          79605766.07,
          77884805.29,
          75454182.43,
          79091225.65,
          72319532.73,
          68683274.52,
          74411149.74,
          67813367.37,
          70998470.8,
          60139434.01,
          66384257.1,
          78676674.2,
          91011171.04,
          86230665.84,
          78135509.62,
          82912397.81,
          81866088.87,
          83131785.74,
          70325599.07,
          55544579.04,
          31314602.44
         ]
        }
       ],
       "layout": {
        "autosize": false,
        "height": 500,
        "margin": {
         "b": 10,
         "l": 0,
         "pad": 4,
         "r": 0,
         "t": 10
        },
        "template": {
         "data": {
          "bar": [
           {
            "error_x": {
             "color": "#2a3f5f"
            },
            "error_y": {
             "color": "#2a3f5f"
            },
            "marker": {
             "line": {
              "color": "#E5ECF6",
              "width": 0.5
             }
            },
            "type": "bar"
           }
          ],
          "barpolar": [
           {
            "marker": {
             "line": {
              "color": "#E5ECF6",
              "width": 0.5
             }
            },
            "type": "barpolar"
           }
          ],
          "carpet": [
           {
            "aaxis": {
             "endlinecolor": "#2a3f5f",
             "gridcolor": "white",
             "linecolor": "white",
             "minorgridcolor": "white",
             "startlinecolor": "#2a3f5f"
            },
            "baxis": {
             "endlinecolor": "#2a3f5f",
             "gridcolor": "white",
             "linecolor": "white",
             "minorgridcolor": "white",
             "startlinecolor": "#2a3f5f"
            },
            "type": "carpet"
           }
          ],
          "choropleth": [
           {
            "colorbar": {
             "outlinewidth": 0,
             "ticks": ""
            },
            "type": "choropleth"
           }
          ],
          "contour": [
           {
            "colorbar": {
             "outlinewidth": 0,
             "ticks": ""
            },
            "colorscale": [
             [
              0,
              "#0d0887"
             ],
             [
              0.1111111111111111,
              "#46039f"
             ],
             [
              0.2222222222222222,
              "#7201a8"
             ],
             [
              0.3333333333333333,
              "#9c179e"
             ],
             [
              0.4444444444444444,
              "#bd3786"
             ],
             [
              0.5555555555555556,
              "#d8576b"
             ],
             [
              0.6666666666666666,
              "#ed7953"
             ],
             [
              0.7777777777777778,
              "#fb9f3a"
             ],
             [
              0.8888888888888888,
              "#fdca26"
             ],
             [
              1,
              "#f0f921"
             ]
            ],
            "type": "contour"
           }
          ],
          "contourcarpet": [
           {
            "colorbar": {
             "outlinewidth": 0,
             "ticks": ""
            },
            "type": "contourcarpet"
           }
          ],
          "heatmap": [
           {
            "colorbar": {
             "outlinewidth": 0,
             "ticks": ""
            },
            "colorscale": [
             [
              0,
              "#0d0887"
             ],
             [
              0.1111111111111111,
              "#46039f"
             ],
             [
              0.2222222222222222,
              "#7201a8"
             ],
             [
              0.3333333333333333,
              "#9c179e"
             ],
             [
              0.4444444444444444,
              "#bd3786"
             ],
             [
              0.5555555555555556,
              "#d8576b"
             ],
             [
              0.6666666666666666,
              "#ed7953"
             ],
             [
              0.7777777777777778,
              "#fb9f3a"
             ],
             [
              0.8888888888888888,
              "#fdca26"
             ],
             [
              1,
              "#f0f921"
             ]
            ],
            "type": "heatmap"
           }
          ],
          "heatmapgl": [
           {
            "colorbar": {
             "outlinewidth": 0,
             "ticks": ""
            },
            "colorscale": [
             [
              0,
              "#0d0887"
             ],
             [
              0.1111111111111111,
              "#46039f"
             ],
             [
              0.2222222222222222,
              "#7201a8"
             ],
             [
              0.3333333333333333,
              "#9c179e"
             ],
             [
              0.4444444444444444,
              "#bd3786"
             ],
             [
              0.5555555555555556,
              "#d8576b"
             ],
             [
              0.6666666666666666,
              "#ed7953"
             ],
             [
              0.7777777777777778,
              "#fb9f3a"
             ],
             [
              0.8888888888888888,
              "#fdca26"
             ],
             [
              1,
              "#f0f921"
             ]
            ],
            "type": "heatmapgl"
           }
          ],
          "histogram": [
           {
            "marker": {
             "colorbar": {
              "outlinewidth": 0,
              "ticks": ""
             }
            },
            "type": "histogram"
           }
          ],
          "histogram2d": [
           {
            "colorbar": {
             "outlinewidth": 0,
             "ticks": ""
            },
            "colorscale": [
             [
              0,
              "#0d0887"
             ],
             [
              0.1111111111111111,
              "#46039f"
             ],
             [
              0.2222222222222222,
              "#7201a8"
             ],
             [
              0.3333333333333333,
              "#9c179e"
             ],
             [
              0.4444444444444444,
              "#bd3786"
             ],
             [
              0.5555555555555556,
              "#d8576b"
             ],
             [
              0.6666666666666666,
              "#ed7953"
             ],
             [
              0.7777777777777778,
              "#fb9f3a"
             ],
             [
              0.8888888888888888,
              "#fdca26"
             ],
             [
              1,
              "#f0f921"
             ]
            ],
            "type": "histogram2d"
           }
          ],
          "histogram2dcontour": [
           {
            "colorbar": {
             "outlinewidth": 0,
             "ticks": ""
            },
            "colorscale": [
             [
              0,
              "#0d0887"
             ],
             [
              0.1111111111111111,
              "#46039f"
             ],
             [
              0.2222222222222222,
              "#7201a8"
             ],
             [
              0.3333333333333333,
              "#9c179e"
             ],
             [
              0.4444444444444444,
              "#bd3786"
             ],
             [
              0.5555555555555556,
              "#d8576b"
             ],
             [
              0.6666666666666666,
              "#ed7953"
             ],
             [
              0.7777777777777778,
              "#fb9f3a"
             ],
             [
              0.8888888888888888,
              "#fdca26"
             ],
             [
              1,
              "#f0f921"
             ]
            ],
            "type": "histogram2dcontour"
           }
          ],
          "mesh3d": [
           {
            "colorbar": {
             "outlinewidth": 0,
             "ticks": ""
            },
            "type": "mesh3d"
           }
          ],
          "parcoords": [
           {
            "line": {
             "colorbar": {
              "outlinewidth": 0,
              "ticks": ""
             }
            },
            "type": "parcoords"
           }
          ],
          "pie": [
           {
            "automargin": true,
            "type": "pie"
           }
          ],
          "scatter": [
           {
            "marker": {
             "colorbar": {
              "outlinewidth": 0,
              "ticks": ""
             }
            },
            "type": "scatter"
           }
          ],
          "scatter3d": [
           {
            "line": {
             "colorbar": {
              "outlinewidth": 0,
              "ticks": ""
             }
            },
            "marker": {
             "colorbar": {
              "outlinewidth": 0,
              "ticks": ""
             }
            },
            "type": "scatter3d"
           }
          ],
          "scattercarpet": [
           {
            "marker": {
             "colorbar": {
              "outlinewidth": 0,
              "ticks": ""
             }
            },
            "type": "scattercarpet"
           }
          ],
          "scattergeo": [
           {
            "marker": {
             "colorbar": {
              "outlinewidth": 0,
              "ticks": ""
             }
            },
            "type": "scattergeo"
           }
          ],
          "scattergl": [
           {
            "marker": {
             "colorbar": {
              "outlinewidth": 0,
              "ticks": ""
             }
            },
            "type": "scattergl"
           }
          ],
          "scattermapbox": [
           {
            "marker": {
             "colorbar": {
              "outlinewidth": 0,
              "ticks": ""
             }
            },
            "type": "scattermapbox"
           }
          ],
          "scatterpolar": [
           {
            "marker": {
             "colorbar": {
              "outlinewidth": 0,
              "ticks": ""
             }
            },
            "type": "scatterpolar"
           }
          ],
          "scatterpolargl": [
           {
            "marker": {
             "colorbar": {
              "outlinewidth": 0,
              "ticks": ""
             }
            },
            "type": "scatterpolargl"
           }
          ],
          "scatterternary": [
           {
            "marker": {
             "colorbar": {
              "outlinewidth": 0,
              "ticks": ""
             }
            },
            "type": "scatterternary"
           }
          ],
          "surface": [
           {
            "colorbar": {
             "outlinewidth": 0,
             "ticks": ""
            },
            "colorscale": [
             [
              0,
              "#0d0887"
             ],
             [
              0.1111111111111111,
              "#46039f"
             ],
             [
              0.2222222222222222,
              "#7201a8"
             ],
             [
              0.3333333333333333,
              "#9c179e"
             ],
             [
              0.4444444444444444,
              "#bd3786"
             ],
             [
              0.5555555555555556,
              "#d8576b"
             ],
             [
              0.6666666666666666,
              "#ed7953"
             ],
             [
              0.7777777777777778,
              "#fb9f3a"
             ],
             [
              0.8888888888888888,
              "#fdca26"
             ],
             [
              1,
              "#f0f921"
             ]
            ],
            "type": "surface"
           }
          ],
          "table": [
           {
            "cells": {
             "fill": {
              "color": "#EBF0F8"
             },
             "line": {
              "color": "white"
             }
            },
            "header": {
             "fill": {
              "color": "#C8D4E3"
             },
             "line": {
              "color": "white"
             }
            },
            "type": "table"
           }
          ]
         },
         "layout": {
          "annotationdefaults": {
           "arrowcolor": "#2a3f5f",
           "arrowhead": 0,
           "arrowwidth": 1
          },
          "autotypenumbers": "strict",
          "coloraxis": {
           "colorbar": {
            "outlinewidth": 0,
            "ticks": ""
           }
          },
          "colorscale": {
           "diverging": [
            [
             0,
             "#8e0152"
            ],
            [
             0.1,
             "#c51b7d"
            ],
            [
             0.2,
             "#de77ae"
            ],
            [
             0.3,
             "#f1b6da"
            ],
            [
             0.4,
             "#fde0ef"
            ],
            [
             0.5,
             "#f7f7f7"
            ],
            [
             0.6,
             "#e6f5d0"
            ],
            [
             0.7,
             "#b8e186"
            ],
            [
             0.8,
             "#7fbc41"
            ],
            [
             0.9,
             "#4d9221"
            ],
            [
             1,
             "#276419"
            ]
           ],
           "sequential": [
            [
             0,
             "#0d0887"
            ],
            [
             0.1111111111111111,
             "#46039f"
            ],
            [
             0.2222222222222222,
             "#7201a8"
            ],
            [
             0.3333333333333333,
             "#9c179e"
            ],
            [
             0.4444444444444444,
             "#bd3786"
            ],
            [
             0.5555555555555556,
             "#d8576b"
            ],
            [
             0.6666666666666666,
             "#ed7953"
            ],
            [
             0.7777777777777778,
             "#fb9f3a"
            ],
            [
             0.8888888888888888,
             "#fdca26"
            ],
            [
             1,
             "#f0f921"
            ]
           ],
           "sequentialminus": [
            [
             0,
             "#0d0887"
            ],
            [
             0.1111111111111111,
             "#46039f"
            ],
            [
             0.2222222222222222,
             "#7201a8"
            ],
            [
             0.3333333333333333,
             "#9c179e"
            ],
            [
             0.4444444444444444,
             "#bd3786"
            ],
            [
             0.5555555555555556,
             "#d8576b"
            ],
            [
             0.6666666666666666,
             "#ed7953"
            ],
            [
             0.7777777777777778,
             "#fb9f3a"
            ],
            [
             0.8888888888888888,
             "#fdca26"
            ],
            [
             1,
             "#f0f921"
            ]
           ]
          },
          "colorway": [
           "#636efa",
           "#EF553B",
           "#00cc96",
           "#ab63fa",
           "#FFA15A",
           "#19d3f3",
           "#FF6692",
           "#B6E880",
           "#FF97FF",
           "#FECB52"
          ],
          "font": {
           "color": "#2a3f5f"
          },
          "geo": {
           "bgcolor": "white",
           "lakecolor": "white",
           "landcolor": "#E5ECF6",
           "showlakes": true,
           "showland": true,
           "subunitcolor": "white"
          },
          "hoverlabel": {
           "align": "left"
          },
          "hovermode": "closest",
          "mapbox": {
           "style": "light"
          },
          "paper_bgcolor": "white",
          "plot_bgcolor": "#E5ECF6",
          "polar": {
           "angularaxis": {
            "gridcolor": "white",
            "linecolor": "white",
            "ticks": ""
           },
           "bgcolor": "#E5ECF6",
           "radialaxis": {
            "gridcolor": "white",
            "linecolor": "white",
            "ticks": ""
           }
          },
          "scene": {
           "xaxis": {
            "backgroundcolor": "#E5ECF6",
            "gridcolor": "white",
            "gridwidth": 2,
            "linecolor": "white",
            "showbackground": true,
            "ticks": "",
            "zerolinecolor": "white"
           },
           "yaxis": {
            "backgroundcolor": "#E5ECF6",
            "gridcolor": "white",
            "gridwidth": 2,
            "linecolor": "white",
            "showbackground": true,
            "ticks": "",
            "zerolinecolor": "white"
           },
           "zaxis": {
            "backgroundcolor": "#E5ECF6",
            "gridcolor": "white",
            "gridwidth": 2,
            "linecolor": "white",
            "showbackground": true,
            "ticks": "",
            "zerolinecolor": "white"
           }
          },
          "shapedefaults": {
           "line": {
            "color": "#2a3f5f"
           }
          },
          "ternary": {
           "aaxis": {
            "gridcolor": "white",
            "linecolor": "white",
            "ticks": ""
           },
           "baxis": {
            "gridcolor": "white",
            "linecolor": "white",
            "ticks": ""
           },
           "bgcolor": "#E5ECF6",
           "caxis": {
            "gridcolor": "white",
            "linecolor": "white",
            "ticks": ""
           }
          },
          "title": {
           "x": 0.05
          },
          "xaxis": {
           "automargin": true,
           "gridcolor": "white",
           "linecolor": "white",
           "ticks": "",
           "title": {
            "standoff": 15
           },
           "zerolinecolor": "white",
           "zerolinewidth": 2
          },
          "yaxis": {
           "automargin": true,
           "gridcolor": "white",
           "linecolor": "white",
           "ticks": "",
           "title": {
            "standoff": 15
           },
           "zerolinecolor": "white",
           "zerolinewidth": 2
          }
         }
        },
        "title": {
         "text": "Gasto por Estados",
         "x": 0.5,
         "xanchor": "center",
         "y": 0.95,
         "yanchor": "top"
        },
        "width": 1300,
        "yaxis": {
         "title": {
          "text": "TESTE"
         }
        }
       }
      }
     },
     "metadata": {}
    }
   ],
   "source": [
    "import plotly.graph_objects as go\n",
    "estados = ['Espírito Santo', 'Rio de Janeiro', 'Sergipe', 'Minas Gerais', 'Bahia']\n",
    "selecionados = usaveis.loc[estados]\n",
    "selecionados = selecionados.T\n",
    "\n",
    "layout = go.Layout(\n",
    "    autosize=False,\n",
    "    width=1300,\n",
    "    height=500,\n",
    "    margin=go.layout.Margin(\n",
    "        l=0,\n",
    "        r=0,\n",
    "        b=10,\n",
    "        t=10,\n",
    "        pad = 4\n",
    "    )\n",
    ")\n",
    "\n",
    "fig1=go.Figure(layout=layout)\n",
    "\n",
    "fig1.add_trace(go.Scatter(x =selecionados.index, y = selecionados['Bahia'],text = selecionados['Bahia']))\n",
    "\n",
    "fig1.update_layout(\n",
    "    title={\n",
    "        'text': \"Gasto por Estados\",\n",
    "        'y':0.95,\n",
    "        'x':0.5,\n",
    "        'xanchor': 'center',\n",
    "        'yanchor': 'top'})\n",
    "fig1.update_yaxes(title_text = 'TESTE')\n",
    "fig1.show()\n",
    "\n"
   ]
  }
 ]
}