{
 "metadata": {
  "language_info": {
   "codemirror_mode": {
    "name": "ipython",
    "version": 3
   },
   "file_extension": ".py",
   "mimetype": "text/x-python",
   "name": "python",
   "nbconvert_exporter": "python",
   "pygments_lexer": "ipython3",
   "version": "3.8.5"
  },
  "orig_nbformat": 2,
  "kernelspec": {
   "name": "python385jvsc74a57bd0b3ba2566441a7c06988d0923437866b63cedc61552a5af99d1f4fb67d367b25f",
   "display_name": "Python 3.8.5 64-bit ('base': conda)"
  }
 },
 "nbformat": 4,
 "nbformat_minor": 2,
 "cells": [
  {
   "cell_type": "code",
   "execution_count": 272,
   "metadata": {},
   "outputs": [],
   "source": [
    "import pandas as pd\n",
    "import numpy as np\n",
    "import matplotlib.pyplot as plt\n",
    "import matplotlib.ticker as ticker\n",
    "import plotly.express as px\n",
    "\n",
    "\n",
    "# Fomatação do Pandas\n",
    "pd.options.display.float_format='{:.2f}'.format"
   ]
  },
  {
   "cell_type": "code",
   "execution_count": 273,
   "metadata": {},
   "outputs": [],
   "source": [
    "df = pd.read_csv(r'./dados/A155957189_28_143_208.csv', encoding= 'ISO-8859-1', sep=';', error_bad_lines=False, skiprows=3, skipfooter=12, thousands='.',decimal=',', engine = 'python')"
   ]
  },
  {
   "source": [
    "# Limpeza do Dataset\n",
    "## Remoção das colunas que possuem valores faltantes ou distorcidos\n"
   ],
   "cell_type": "markdown",
   "metadata": {}
  },
  {
   "cell_type": "code",
   "execution_count": 274,
   "metadata": {},
   "outputs": [],
   "source": [
    "# Retirando os valores faltantes do dataset original\n",
    "\n",
    "# Buscando somente as colunas que não possuem dados faltantes e salvando no dataframe usaveis\n",
    "usaveis = df.mean().index.tolist()\n",
    "\n",
    "# Criando a nova coluna de estados\n",
    "usaveis.insert(0, 'Unidade da Federação')\n",
    "usaveis = df[usaveis]"
   ]
  },
  {
   "source": [
    "# Separando por região\n"
   ],
   "cell_type": "markdown",
   "metadata": {}
  },
  {
   "cell_type": "code",
   "execution_count": 275,
   "metadata": {},
   "outputs": [
    {
     "output_type": "stream",
     "name": "stderr",
     "text": [
      "<ipython-input-275-ff5641eda0fb>:11: SettingWithCopyWarning:\n\n\nA value is trying to be set on a copy of a slice from a DataFrame.\nTry using .loc[row_indexer,col_indexer] = value instead\n\nSee the caveats in the documentation: https://pandas.pydata.org/pandas-docs/stable/user_guide/indexing.html#returning-a-view-versus-a-copy\n\n"
     ]
    },
    {
     "output_type": "execute_result",
     "data": {
      "text/plain": [
       "                        Região  2007/Ago   2007/Set   2007/Out   2007/Nov  \\\n",
       "Unidade da Federação                                                        \n",
       "Rondônia                 Norte   4209.37   16397.03  133645.19  346912.84   \n",
       "Acre                     Norte  10470.07   14001.71   86200.85  301323.68   \n",
       "Amazonas                 Norte  35752.72   45570.64  416012.30 2020381.79   \n",
       "Roraima                  Norte   4785.91   11858.63   43852.67  369328.51   \n",
       "Pará                     Norte 181159.29  433414.74 1893197.50 5105406.44   \n",
       "Amapá                    Norte  33672.74  104822.98  118378.28  226661.18   \n",
       "Tocantins                Norte   4113.76   76633.06  343702.61 1068685.94   \n",
       "Maranhão              Nordeste 385330.18 1018352.93 2277717.78 4334468.23   \n",
       "Piauí                 Nordeste 220788.25  353468.67 1078182.68 2406035.32   \n",
       "Ceará                 Nordeste 357904.65  572356.18 1865065.71 5131814.39   \n",
       "\n",
       "                        2007/Dez    2008/Jan    2008/Fev    2008/Mar  \\\n",
       "Unidade da Federação                                                   \n",
       "Rondônia               711758.31  1829559.71  1940792.63  1955721.68   \n",
       "Acre                   769612.36  1731744.62  1743978.66  2057439.02   \n",
       "Amazonas              5949408.99 11419210.08  7934652.10  8641517.13   \n",
       "Roraima                470676.43   808448.39   771687.83   876091.18   \n",
       "Pará                 13162823.43 21762104.16 20126081.01 22149375.82   \n",
       "Amapá                  844019.90  1329876.61  1275063.72  1177745.93   \n",
       "Tocantins             3022200.87  5136474.61  5051932.07  5200151.87   \n",
       "Maranhão              8832514.85 21551600.33 13452263.93 14750895.33   \n",
       "Piauí                 4929772.93 11375419.37  9711680.20 10428191.09   \n",
       "Ceará                10798042.86 32444328.54 27643304.86 30085370.22   \n",
       "\n",
       "                        2008/Abr  ...    2020/Jul    2020/Ago    2020/Set  \\\n",
       "Unidade da Federação              ...                                       \n",
       "Rondônia              2143353.81  ... 10479989.36 11433467.56  8876900.39   \n",
       "Acre                  2057829.69  ...  4053085.41  3658265.59  3470409.45   \n",
       "Amazonas              8531576.49  ... 19303743.16 18687233.58 18628627.49   \n",
       "Roraima                896952.53  ...  3192075.41  3262354.34  2978629.22   \n",
       "Pará                 23436682.75  ... 40496349.97 38793393.54 36965951.76   \n",
       "Amapá                 1396371.51  ...  2536642.73  2702550.32  2533445.46   \n",
       "Tocantins             5343714.73  ...  7934629.02  6488927.84  4229376.60   \n",
       "Maranhão             15148647.11  ... 33991348.70 32711259.43 31985709.32   \n",
       "Piauí                10227943.00  ... 25817440.95 22452255.50 20636997.20   \n",
       "Ceará                31376221.00  ... 58448488.85 55118185.83 53827491.88   \n",
       "\n",
       "                        2020/Out    2020/Nov    2020/Dez    2021/Jan  \\\n",
       "Unidade da Federação                                                   \n",
       "Rondônia              8167253.19  8759013.71  9003402.23  8414690.60   \n",
       "Acre                  3267918.69  3393958.27  3711660.71  3005561.16   \n",
       "Amazonas             18728251.20 20451573.77 21546059.48 24439059.57   \n",
       "Roraima               3313296.78  3527263.23  3125021.90  3209323.68   \n",
       "Pará                 38406616.21 37043032.10 36914437.92 33887773.65   \n",
       "Amapá                 2762003.36  2714710.93  2826612.42  2513766.36   \n",
       "Tocantins             1853045.23   509009.74   689383.43   347626.85   \n",
       "Maranhão             34430463.50 32446802.41 30927070.93 26797697.76   \n",
       "Piauí                20326808.24 20021998.76 19352220.14 18437275.64   \n",
       "Ceará                54679652.99 54026288.42 50271552.33 43743425.74   \n",
       "\n",
       "                        2021/Fev    2021/Mar         Total  \n",
       "Unidade da Federação                                        \n",
       "Rondônia              6039419.59  4732441.04  996411254.68  \n",
       "Acre                  2272733.90  1137341.65  450048530.47  \n",
       "Amazonas             13679358.06  6799060.80 1917247936.05  \n",
       "Roraima               3044798.77  2381844.31  328876965.09  \n",
       "Pará                 23343222.94 13069564.31 4705309002.29  \n",
       "Amapá                 1534733.18   989155.40  309860092.59  \n",
       "Tocantins              416534.32   928756.84 1020028272.64  \n",
       "Maranhão             23260245.95 17294509.11 3871069498.04  \n",
       "Piauí                13636005.36  9542151.53 2280888802.74  \n",
       "Ceará                30186951.00 17173151.55 6591836650.18  \n",
       "\n",
       "[10 rows x 166 columns]"
      ],
      "text/html": "<div>\n<style scoped>\n    .dataframe tbody tr th:only-of-type {\n        vertical-align: middle;\n    }\n\n    .dataframe tbody tr th {\n        vertical-align: top;\n    }\n\n    .dataframe thead th {\n        text-align: right;\n    }\n</style>\n<table border=\"1\" class=\"dataframe\">\n  <thead>\n    <tr style=\"text-align: right;\">\n      <th></th>\n      <th>Região</th>\n      <th>2007/Ago</th>\n      <th>2007/Set</th>\n      <th>2007/Out</th>\n      <th>2007/Nov</th>\n      <th>2007/Dez</th>\n      <th>2008/Jan</th>\n      <th>2008/Fev</th>\n      <th>2008/Mar</th>\n      <th>2008/Abr</th>\n      <th>...</th>\n      <th>2020/Jul</th>\n      <th>2020/Ago</th>\n      <th>2020/Set</th>\n      <th>2020/Out</th>\n      <th>2020/Nov</th>\n      <th>2020/Dez</th>\n      <th>2021/Jan</th>\n      <th>2021/Fev</th>\n      <th>2021/Mar</th>\n      <th>Total</th>\n    </tr>\n    <tr>\n      <th>Unidade da Federação</th>\n      <th></th>\n      <th></th>\n      <th></th>\n      <th></th>\n      <th></th>\n      <th></th>\n      <th></th>\n      <th></th>\n      <th></th>\n      <th></th>\n      <th></th>\n      <th></th>\n      <th></th>\n      <th></th>\n      <th></th>\n      <th></th>\n      <th></th>\n      <th></th>\n      <th></th>\n      <th></th>\n      <th></th>\n    </tr>\n  </thead>\n  <tbody>\n    <tr>\n      <th>Rondônia</th>\n      <td>Norte</td>\n      <td>4209.37</td>\n      <td>16397.03</td>\n      <td>133645.19</td>\n      <td>346912.84</td>\n      <td>711758.31</td>\n      <td>1829559.71</td>\n      <td>1940792.63</td>\n      <td>1955721.68</td>\n      <td>2143353.81</td>\n      <td>...</td>\n      <td>10479989.36</td>\n      <td>11433467.56</td>\n      <td>8876900.39</td>\n      <td>8167253.19</td>\n      <td>8759013.71</td>\n      <td>9003402.23</td>\n      <td>8414690.60</td>\n      <td>6039419.59</td>\n      <td>4732441.04</td>\n      <td>996411254.68</td>\n    </tr>\n    <tr>\n      <th>Acre</th>\n      <td>Norte</td>\n      <td>10470.07</td>\n      <td>14001.71</td>\n      <td>86200.85</td>\n      <td>301323.68</td>\n      <td>769612.36</td>\n      <td>1731744.62</td>\n      <td>1743978.66</td>\n      <td>2057439.02</td>\n      <td>2057829.69</td>\n      <td>...</td>\n      <td>4053085.41</td>\n      <td>3658265.59</td>\n      <td>3470409.45</td>\n      <td>3267918.69</td>\n      <td>3393958.27</td>\n      <td>3711660.71</td>\n      <td>3005561.16</td>\n      <td>2272733.90</td>\n      <td>1137341.65</td>\n      <td>450048530.47</td>\n    </tr>\n    <tr>\n      <th>Amazonas</th>\n      <td>Norte</td>\n      <td>35752.72</td>\n      <td>45570.64</td>\n      <td>416012.30</td>\n      <td>2020381.79</td>\n      <td>5949408.99</td>\n      <td>11419210.08</td>\n      <td>7934652.10</td>\n      <td>8641517.13</td>\n      <td>8531576.49</td>\n      <td>...</td>\n      <td>19303743.16</td>\n      <td>18687233.58</td>\n      <td>18628627.49</td>\n      <td>18728251.20</td>\n      <td>20451573.77</td>\n      <td>21546059.48</td>\n      <td>24439059.57</td>\n      <td>13679358.06</td>\n      <td>6799060.80</td>\n      <td>1917247936.05</td>\n    </tr>\n    <tr>\n      <th>Roraima</th>\n      <td>Norte</td>\n      <td>4785.91</td>\n      <td>11858.63</td>\n      <td>43852.67</td>\n      <td>369328.51</td>\n      <td>470676.43</td>\n      <td>808448.39</td>\n      <td>771687.83</td>\n      <td>876091.18</td>\n      <td>896952.53</td>\n      <td>...</td>\n      <td>3192075.41</td>\n      <td>3262354.34</td>\n      <td>2978629.22</td>\n      <td>3313296.78</td>\n      <td>3527263.23</td>\n      <td>3125021.90</td>\n      <td>3209323.68</td>\n      <td>3044798.77</td>\n      <td>2381844.31</td>\n      <td>328876965.09</td>\n    </tr>\n    <tr>\n      <th>Pará</th>\n      <td>Norte</td>\n      <td>181159.29</td>\n      <td>433414.74</td>\n      <td>1893197.50</td>\n      <td>5105406.44</td>\n      <td>13162823.43</td>\n      <td>21762104.16</td>\n      <td>20126081.01</td>\n      <td>22149375.82</td>\n      <td>23436682.75</td>\n      <td>...</td>\n      <td>40496349.97</td>\n      <td>38793393.54</td>\n      <td>36965951.76</td>\n      <td>38406616.21</td>\n      <td>37043032.10</td>\n      <td>36914437.92</td>\n      <td>33887773.65</td>\n      <td>23343222.94</td>\n      <td>13069564.31</td>\n      <td>4705309002.29</td>\n    </tr>\n    <tr>\n      <th>Amapá</th>\n      <td>Norte</td>\n      <td>33672.74</td>\n      <td>104822.98</td>\n      <td>118378.28</td>\n      <td>226661.18</td>\n      <td>844019.90</td>\n      <td>1329876.61</td>\n      <td>1275063.72</td>\n      <td>1177745.93</td>\n      <td>1396371.51</td>\n      <td>...</td>\n      <td>2536642.73</td>\n      <td>2702550.32</td>\n      <td>2533445.46</td>\n      <td>2762003.36</td>\n      <td>2714710.93</td>\n      <td>2826612.42</td>\n      <td>2513766.36</td>\n      <td>1534733.18</td>\n      <td>989155.40</td>\n      <td>309860092.59</td>\n    </tr>\n    <tr>\n      <th>Tocantins</th>\n      <td>Norte</td>\n      <td>4113.76</td>\n      <td>76633.06</td>\n      <td>343702.61</td>\n      <td>1068685.94</td>\n      <td>3022200.87</td>\n      <td>5136474.61</td>\n      <td>5051932.07</td>\n      <td>5200151.87</td>\n      <td>5343714.73</td>\n      <td>...</td>\n      <td>7934629.02</td>\n      <td>6488927.84</td>\n      <td>4229376.60</td>\n      <td>1853045.23</td>\n      <td>509009.74</td>\n      <td>689383.43</td>\n      <td>347626.85</td>\n      <td>416534.32</td>\n      <td>928756.84</td>\n      <td>1020028272.64</td>\n    </tr>\n    <tr>\n      <th>Maranhão</th>\n      <td>Nordeste</td>\n      <td>385330.18</td>\n      <td>1018352.93</td>\n      <td>2277717.78</td>\n      <td>4334468.23</td>\n      <td>8832514.85</td>\n      <td>21551600.33</td>\n      <td>13452263.93</td>\n      <td>14750895.33</td>\n      <td>15148647.11</td>\n      <td>...</td>\n      <td>33991348.70</td>\n      <td>32711259.43</td>\n      <td>31985709.32</td>\n      <td>34430463.50</td>\n      <td>32446802.41</td>\n      <td>30927070.93</td>\n      <td>26797697.76</td>\n      <td>23260245.95</td>\n      <td>17294509.11</td>\n      <td>3871069498.04</td>\n    </tr>\n    <tr>\n      <th>Piauí</th>\n      <td>Nordeste</td>\n      <td>220788.25</td>\n      <td>353468.67</td>\n      <td>1078182.68</td>\n      <td>2406035.32</td>\n      <td>4929772.93</td>\n      <td>11375419.37</td>\n      <td>9711680.20</td>\n      <td>10428191.09</td>\n      <td>10227943.00</td>\n      <td>...</td>\n      <td>25817440.95</td>\n      <td>22452255.50</td>\n      <td>20636997.20</td>\n      <td>20326808.24</td>\n      <td>20021998.76</td>\n      <td>19352220.14</td>\n      <td>18437275.64</td>\n      <td>13636005.36</td>\n      <td>9542151.53</td>\n      <td>2280888802.74</td>\n    </tr>\n    <tr>\n      <th>Ceará</th>\n      <td>Nordeste</td>\n      <td>357904.65</td>\n      <td>572356.18</td>\n      <td>1865065.71</td>\n      <td>5131814.39</td>\n      <td>10798042.86</td>\n      <td>32444328.54</td>\n      <td>27643304.86</td>\n      <td>30085370.22</td>\n      <td>31376221.00</td>\n      <td>...</td>\n      <td>58448488.85</td>\n      <td>55118185.83</td>\n      <td>53827491.88</td>\n      <td>54679652.99</td>\n      <td>54026288.42</td>\n      <td>50271552.33</td>\n      <td>43743425.74</td>\n      <td>30186951.00</td>\n      <td>17173151.55</td>\n      <td>6591836650.18</td>\n    </tr>\n  </tbody>\n</table>\n<p>10 rows × 166 columns</p>\n</div>"
     },
     "metadata": {},
     "execution_count": 275
    }
   ],
   "source": [
    "# https://stackoverflow.com/questions/25698710/replace-all-occurrences-of-a-string-in-a-pandas-dataframe-python\n",
    "\n",
    "# Separando o número da ciadade da coluna \"Unidade da Federação\" pelo caraceter de espaço entre o número e o estado.\n",
    "a = df['Unidade da Federação'].str.split(' ', 1, expand = True)\n",
    "#df.insert(value = a[0], column = 'Número do Estado', loc = 0)\n",
    "# Guardando o número separado\n",
    "c = a[0]\n",
    "\n",
    "# Substituindo pelo estado sem o número antes do nome\n",
    "df['Unidade da Federação'] = a[1]\n",
    "usaveis['Unidade da Federação'] = a[1]\n",
    "\n",
    "\n",
    "# Criando uma coluna com o primeiro caracter de cada uma das linhas da coluna 'Número do Estado'\n",
    "a = c.str[:1]\n",
    "\n",
    "# Criando o dicionário com chave e valor, onde os valores atuais serão substituidos pelas Regiões \n",
    "dict_regiao = {'1':'Norte','2':'Nordeste','3':'Sudeste','4':'Centro Oeste','5':'Sul'}\n",
    "regiao = a.replace(dict_regiao,regex=True)\n",
    "\n",
    "usaveis.insert(value = regiao, column = 'Região', loc = 1)\n",
    "\n",
    "# Utilizando a coluna de estados como Index\n",
    "usaveis = usaveis.set_index('Unidade da Federação')\n",
    "\n",
    "usaveis.head(10)"
   ]
  },
  {
   "cell_type": "code",
   "execution_count": 276,
   "metadata": {},
   "outputs": [
    {
     "output_type": "execute_result",
     "data": {
      "text/plain": [
       "Index(['Rondônia', 'Acre', 'Amazonas', 'Roraima', 'Pará', 'Amapá', 'Tocantins',\n",
       "       'Maranhão', 'Piauí', 'Ceará', 'Rio Grande do Norte', 'Paraíba',\n",
       "       'Pernambuco', 'Alagoas', 'Sergipe', 'Bahia', 'Minas Gerais',\n",
       "       'Espírito Santo', 'Rio de Janeiro', 'São Paulo', 'Paraná',\n",
       "       'Santa Catarina', 'Rio Grande do Sul', 'Mato Grosso do Sul',\n",
       "       'Mato Grosso', 'Goiás', 'Distrito Federal'],\n",
       "      dtype='object', name='Unidade da Federação')"
      ]
     },
     "metadata": {},
     "execution_count": 276
    }
   ],
   "source": [
    "# Buscando os index que serão utilizados para o dataset limpo\n",
    "usaveis.index"
   ]
  },
  {
   "source": [
    "# Top 5 estados que mais gastaram com saúde mais o estado do Espírito Santo"
   ],
   "cell_type": "markdown",
   "metadata": {}
  },
  {
   "cell_type": "code",
   "execution_count": 277,
   "metadata": {},
   "outputs": [
    {
     "output_type": "execute_result",
     "data": {
      "text/plain": [
       "                         2008/Fev     2008/Mar     2008/Abr     2008/Mai  \\\n",
       "Unidade da Federação                                                       \n",
       "São Paulo            172961999.58 170556696.16 170338163.23 172462057.87   \n",
       "Minas Gerais          70301089.50  79119005.51  79046322.41  79268070.12   \n",
       "Paraná                48855046.46  55611791.07  56115135.82  55574831.93   \n",
       "Rio Grande do Sul     45897704.82  52928695.92  51972416.77  51679350.79   \n",
       "Rio de Janeiro        44128159.73  42900847.02  45306499.53  43951349.46   \n",
       "Espírito Santo        10032886.43  12262049.08  12453466.98  11789786.09   \n",
       "\n",
       "                         2008/Jun     2008/Jul     2008/Ago     2008/Set  \\\n",
       "Unidade da Federação                                                       \n",
       "São Paulo            175492995.85 179569910.06 180005050.15 180151656.17   \n",
       "Minas Gerais          79619189.20  82209206.98  80374117.08  82409129.30   \n",
       "Paraná                56094754.74  59802402.07  56699001.13  58091985.79   \n",
       "Rio Grande do Sul     53759674.01  56391647.77  56233758.74  57910170.98   \n",
       "Rio de Janeiro        44111107.27  44359056.71  42500830.29  43066461.47   \n",
       "Espírito Santo        11889687.35  12205584.14  12384068.19  12486952.61   \n",
       "\n",
       "                         2008/Out     2008/Nov  ...     2020/Jun     2020/Jul  \\\n",
       "Unidade da Federação                            ...                             \n",
       "São Paulo            191859884.40 190927266.19  ... 328293581.02 361986896.25   \n",
       "Minas Gerais          88613476.60  84486996.11  ... 157276616.50 177466638.10   \n",
       "Paraná                61365941.22  59667208.62  ... 115203716.64 123856640.55   \n",
       "Rio Grande do Sul     59592124.91  57565742.08  ...  96799361.58 108536525.93   \n",
       "Rio de Janeiro        44553314.55  41351511.51  ...  88135690.57  95941141.03   \n",
       "Espírito Santo        12846257.93  12885677.54  ...  31958199.08  41931102.65   \n",
       "\n",
       "                         2020/Ago     2020/Set     2020/Out     2020/Nov  \\\n",
       "Unidade da Federação                                                       \n",
       "São Paulo            350268671.25 338872478.49 328055822.63 324599773.40   \n",
       "Minas Gerais         182176122.99 181422500.43 174585638.28 168564708.16   \n",
       "Paraná               125089468.62 121771167.11 127506086.52 133443307.36   \n",
       "Rio Grande do Sul    111762290.19 110107867.30 113886837.47 116738266.69   \n",
       "Rio de Janeiro        89795469.41  81886688.22  80570244.20  82807309.85   \n",
       "Espírito Santo        36405257.36  34491126.71  34800541.67  35708727.33   \n",
       "\n",
       "                         2020/Dez     2021/Jan     2021/Fev     2021/Mar  \n",
       "Unidade da Federação                                                      \n",
       "São Paulo            326846228.95 324115425.70 268193064.06 177408317.71  \n",
       "Minas Gerais         166376967.67 155064483.25 119877417.15  79780838.00  \n",
       "Paraná               122146256.92 106948897.53  83130175.37  43480729.07  \n",
       "Rio Grande do Sul    116833971.73 102317646.36  84404640.00  37798832.80  \n",
       "Rio de Janeiro        90567351.87  87201907.99  60873103.08  49149884.48  \n",
       "Espírito Santo        40500910.57  33767261.13  25669612.63  15606368.11  \n",
       "\n",
       "[6 rows x 158 columns]"
      ],
      "text/html": "<div>\n<style scoped>\n    .dataframe tbody tr th:only-of-type {\n        vertical-align: middle;\n    }\n\n    .dataframe tbody tr th {\n        vertical-align: top;\n    }\n\n    .dataframe thead th {\n        text-align: right;\n    }\n</style>\n<table border=\"1\" class=\"dataframe\">\n  <thead>\n    <tr style=\"text-align: right;\">\n      <th></th>\n      <th>2008/Fev</th>\n      <th>2008/Mar</th>\n      <th>2008/Abr</th>\n      <th>2008/Mai</th>\n      <th>2008/Jun</th>\n      <th>2008/Jul</th>\n      <th>2008/Ago</th>\n      <th>2008/Set</th>\n      <th>2008/Out</th>\n      <th>2008/Nov</th>\n      <th>...</th>\n      <th>2020/Jun</th>\n      <th>2020/Jul</th>\n      <th>2020/Ago</th>\n      <th>2020/Set</th>\n      <th>2020/Out</th>\n      <th>2020/Nov</th>\n      <th>2020/Dez</th>\n      <th>2021/Jan</th>\n      <th>2021/Fev</th>\n      <th>2021/Mar</th>\n    </tr>\n    <tr>\n      <th>Unidade da Federação</th>\n      <th></th>\n      <th></th>\n      <th></th>\n      <th></th>\n      <th></th>\n      <th></th>\n      <th></th>\n      <th></th>\n      <th></th>\n      <th></th>\n      <th></th>\n      <th></th>\n      <th></th>\n      <th></th>\n      <th></th>\n      <th></th>\n      <th></th>\n      <th></th>\n      <th></th>\n      <th></th>\n      <th></th>\n    </tr>\n  </thead>\n  <tbody>\n    <tr>\n      <th>São Paulo</th>\n      <td>172961999.58</td>\n      <td>170556696.16</td>\n      <td>170338163.23</td>\n      <td>172462057.87</td>\n      <td>175492995.85</td>\n      <td>179569910.06</td>\n      <td>180005050.15</td>\n      <td>180151656.17</td>\n      <td>191859884.40</td>\n      <td>190927266.19</td>\n      <td>...</td>\n      <td>328293581.02</td>\n      <td>361986896.25</td>\n      <td>350268671.25</td>\n      <td>338872478.49</td>\n      <td>328055822.63</td>\n      <td>324599773.40</td>\n      <td>326846228.95</td>\n      <td>324115425.70</td>\n      <td>268193064.06</td>\n      <td>177408317.71</td>\n    </tr>\n    <tr>\n      <th>Minas Gerais</th>\n      <td>70301089.50</td>\n      <td>79119005.51</td>\n      <td>79046322.41</td>\n      <td>79268070.12</td>\n      <td>79619189.20</td>\n      <td>82209206.98</td>\n      <td>80374117.08</td>\n      <td>82409129.30</td>\n      <td>88613476.60</td>\n      <td>84486996.11</td>\n      <td>...</td>\n      <td>157276616.50</td>\n      <td>177466638.10</td>\n      <td>182176122.99</td>\n      <td>181422500.43</td>\n      <td>174585638.28</td>\n      <td>168564708.16</td>\n      <td>166376967.67</td>\n      <td>155064483.25</td>\n      <td>119877417.15</td>\n      <td>79780838.00</td>\n    </tr>\n    <tr>\n      <th>Paraná</th>\n      <td>48855046.46</td>\n      <td>55611791.07</td>\n      <td>56115135.82</td>\n      <td>55574831.93</td>\n      <td>56094754.74</td>\n      <td>59802402.07</td>\n      <td>56699001.13</td>\n      <td>58091985.79</td>\n      <td>61365941.22</td>\n      <td>59667208.62</td>\n      <td>...</td>\n      <td>115203716.64</td>\n      <td>123856640.55</td>\n      <td>125089468.62</td>\n      <td>121771167.11</td>\n      <td>127506086.52</td>\n      <td>133443307.36</td>\n      <td>122146256.92</td>\n      <td>106948897.53</td>\n      <td>83130175.37</td>\n      <td>43480729.07</td>\n    </tr>\n    <tr>\n      <th>Rio Grande do Sul</th>\n      <td>45897704.82</td>\n      <td>52928695.92</td>\n      <td>51972416.77</td>\n      <td>51679350.79</td>\n      <td>53759674.01</td>\n      <td>56391647.77</td>\n      <td>56233758.74</td>\n      <td>57910170.98</td>\n      <td>59592124.91</td>\n      <td>57565742.08</td>\n      <td>...</td>\n      <td>96799361.58</td>\n      <td>108536525.93</td>\n      <td>111762290.19</td>\n      <td>110107867.30</td>\n      <td>113886837.47</td>\n      <td>116738266.69</td>\n      <td>116833971.73</td>\n      <td>102317646.36</td>\n      <td>84404640.00</td>\n      <td>37798832.80</td>\n    </tr>\n    <tr>\n      <th>Rio de Janeiro</th>\n      <td>44128159.73</td>\n      <td>42900847.02</td>\n      <td>45306499.53</td>\n      <td>43951349.46</td>\n      <td>44111107.27</td>\n      <td>44359056.71</td>\n      <td>42500830.29</td>\n      <td>43066461.47</td>\n      <td>44553314.55</td>\n      <td>41351511.51</td>\n      <td>...</td>\n      <td>88135690.57</td>\n      <td>95941141.03</td>\n      <td>89795469.41</td>\n      <td>81886688.22</td>\n      <td>80570244.20</td>\n      <td>82807309.85</td>\n      <td>90567351.87</td>\n      <td>87201907.99</td>\n      <td>60873103.08</td>\n      <td>49149884.48</td>\n    </tr>\n    <tr>\n      <th>Espírito Santo</th>\n      <td>10032886.43</td>\n      <td>12262049.08</td>\n      <td>12453466.98</td>\n      <td>11789786.09</td>\n      <td>11889687.35</td>\n      <td>12205584.14</td>\n      <td>12384068.19</td>\n      <td>12486952.61</td>\n      <td>12846257.93</td>\n      <td>12885677.54</td>\n      <td>...</td>\n      <td>31958199.08</td>\n      <td>41931102.65</td>\n      <td>36405257.36</td>\n      <td>34491126.71</td>\n      <td>34800541.67</td>\n      <td>35708727.33</td>\n      <td>40500910.57</td>\n      <td>33767261.13</td>\n      <td>25669612.63</td>\n      <td>15606368.11</td>\n    </tr>\n  </tbody>\n</table>\n<p>6 rows × 158 columns</p>\n</div>"
     },
     "metadata": {},
     "execution_count": 277
    }
   ],
   "source": [
    "# Criando o dataframe com os top 5 estados filtrado pela coluna Total\n",
    "usaveis_new = usaveis.sort_values('Total', ascending=False)[:5]\n",
    "\n",
    "# Adicionando o estado do Espírito Santo\n",
    "usaveis_new = usaveis_new.append(usaveis.loc[['Espírito Santo']])\n",
    "\n",
    "# Removendo os 6 primeiros meses, pois os dados antes de 2008 não são tão confiáveis e também o mês de janeiro de 2008, pois aparentemente, os dados que não foram apresentados anteriormente foram somados neste mês\n",
    "usaveis_new = usaveis_new[usaveis_new.columns[7:]]\n",
    "\n",
    "# Removendo a coluna total do novo dataframe para não distorcer o plot do gráfico\n",
    "usaveis_new = usaveis_new.drop(columns = 'Total')\n",
    "usaveis_new.head(10)"
   ]
  },
  {
   "cell_type": "code",
   "execution_count": null,
   "metadata": {},
   "outputs": [],
   "source": [
    "# Criando uma função para o Plot dos gráficos\n",
    "def plot(data):\n",
    "    selecionados = data.T\n",
    "\n",
    "    fig = px.line(\n",
    "        selecionados, x =selecionados.index, y=selecionados.columns,\n",
    "        labels = {'value':'Valor em Reais','index':'Período (Ano/Mês)'},\n",
    "        width = 1400, height = 600)\n",
    "\n",
    "    fig.update_layout(\n",
    "        title={\n",
    "            'text': \"Investimentos em Saúede para a Região Sudeste em 2013\",\n",
    "            'y':0.95,\n",
    "            'x':0.5,\n",
    "            'xanchor': 'center',\n",
    "            'yanchor': 'top'})\n",
    "    fig.show()"
   ]
  },
  {
   "cell_type": "code",
   "execution_count": 291,
   "metadata": {},
   "outputs": [
    {
     "output_type": "display_data",
     "data": {
      "application/vnd.plotly.v1+json": {
       "config": {
        "plotlyServerURL": "https://plot.ly"
       },
       "data": [
        {
         "hovertemplate": "Unidade da Federação=São Paulo<br>Período (Ano/Mês)=%{x}<br>Valor em Reais=%{y}<extra></extra>",
         "legendgroup": "São Paulo",
         "line": {
          "color": "#636efa",
          "dash": "solid"
         },
         "mode": "lines",
         "name": "São Paulo",
         "orientation": "v",
         "showlegend": true,
         "type": "scatter",
         "x": [
          "2008/Fev",
          "2008/Mar",
          "2008/Abr",
          "2008/Mai",
          "2008/Jun",
          "2008/Jul",
          "2008/Ago",
          "2008/Set",
          "2008/Out",
          "2008/Nov",
          "2008/Dez",
          "2009/Jan",
          "2009/Fev",
          "2009/Mar",
          "2009/Abr",
          "2009/Mai",
          "2009/Jun",
          "2009/Jul",
          "2009/Ago",
          "2009/Set",
          "2009/Out",
          "2009/Nov",
          "2009/Dez",
          "2010/Jan",
          "2010/Fev",
          "2010/Mar",
          "2010/Abr",
          "2010/Mai",
          "2010/Jun",
          "2010/Jul",
          "2010/Ago",
          "2010/Set",
          "2010/Out",
          "2010/Nov",
          "2010/Dez",
          "2011/Jan",
          "2011/Fev",
          "2011/Mar",
          "2011/Abr",
          "2011/Mai",
          "2011/Jun",
          "2011/Jul",
          "2011/Ago",
          "2011/Set",
          "2011/Out",
          "2011/Nov",
          "2011/Dez",
          "2012/Jan",
          "2012/Fev",
          "2012/Mar",
          "2012/Abr",
          "2012/Mai",
          "2012/Jun",
          "2012/Jul",
          "2012/Ago",
          "2012/Set",
          "2012/Out",
          "2012/Nov",
          "2012/Dez",
          "2013/Jan",
          "2013/Fev",
          "2013/Mar",
          "2013/Abr",
          "2013/Mai",
          "2013/Jun",
          "2013/Jul",
          "2013/Ago",
          "2013/Set",
          "2013/Out",
          "2013/Nov",
          "2013/Dez",
          "2014/Jan",
          "2014/Fev",
          "2014/Mar",
          "2014/Abr",
          "2014/Mai",
          "2014/Jun",
          "2014/Jul",
          "2014/Ago",
          "2014/Set",
          "2014/Out",
          "2014/Nov",
          "2014/Dez",
          "2015/Jan",
          "2015/Fev",
          "2015/Mar",
          "2015/Abr",
          "2015/Mai",
          "2015/Jun",
          "2015/Jul",
          "2015/Ago",
          "2015/Set",
          "2015/Out",
          "2015/Nov",
          "2015/Dez",
          "2016/Jan",
          "2016/Fev",
          "2016/Mar",
          "2016/Abr",
          "2016/Mai",
          "2016/Jun",
          "2016/Jul",
          "2016/Ago",
          "2016/Set",
          "2016/Out",
          "2016/Nov",
          "2016/Dez",
          "2017/Jan",
          "2017/Fev",
          "2017/Mar",
          "2017/Abr",
          "2017/Mai",
          "2017/Jun",
          "2017/Jul",
          "2017/Ago",
          "2017/Set",
          "2017/Out",
          "2017/Nov",
          "2017/Dez",
          "2018/Jan",
          "2018/Fev",
          "2018/Mar",
          "2018/Abr",
          "2018/Mai",
          "2018/Jun",
          "2018/Jul",
          "2018/Ago",
          "2018/Set",
          "2018/Out",
          "2018/Nov",
          "2018/Dez",
          "2019/Jan",
          "2019/Fev",
          "2019/Mar",
          "2019/Abr",
          "2019/Mai",
          "2019/Jun",
          "2019/Jul",
          "2019/Ago",
          "2019/Set",
          "2019/Out",
          "2019/Nov",
          "2019/Dez",
          "2020/Jan",
          "2020/Fev",
          "2020/Mar",
          "2020/Abr",
          "2020/Mai",
          "2020/Jun",
          "2020/Jul",
          "2020/Ago",
          "2020/Set",
          "2020/Out",
          "2020/Nov",
          "2020/Dez",
          "2021/Jan",
          "2021/Fev",
          "2021/Mar"
         ],
         "xaxis": "x",
         "y": [
          172961999.58,
          170556696.16,
          170338163.23,
          172462057.87,
          175492995.85,
          179569910.06,
          180005050.15,
          180151656.17,
          191859884.4,
          190927266.19,
          177093923.51,
          192412059.08,
          178641284.75,
          217011730.99,
          215128107.89,
          212905217.48,
          212715455.71,
          214079357.56,
          215265625.54,
          214249871.52,
          216117145.69,
          209183971.87,
          192157037.74,
          213512793.72,
          195787926.41,
          239411372.83,
          221202929.85,
          231922777.54,
          224043808.74,
          224157730.03,
          248761855.09,
          224121038.86,
          239354185.52,
          225639053.93,
          210710879.63,
          229146880.12,
          221660000.41,
          241445575.82,
          229920625.55,
          250817406.39,
          236907487.73,
          240289214.68,
          247928573.46,
          233388482.61,
          232259605.08,
          223474173.76,
          208370183.72,
          236874823.54,
          219470518.72,
          246008144.07,
          231024239.99,
          251742812.18,
          234421447.1,
          244357557.7,
          252271749.43,
          238333761.51,
          279474617.49,
          225843918.91,
          215901138.64,
          253312916.64,
          222562451.81,
          255057678.54,
          262706559.19,
          262644147.73,
          254105335.7,
          263146000.69,
          265967608.06,
          261898387.61,
          285001066.39,
          248140524.27,
          230586191.85,
          269752317.25,
          250448003.4,
          264215768.43,
          258867002.33,
          279787655.03,
          263541265.43,
          278009288.23,
          278606605.29,
          284017630.88,
          277330074.58,
          256259682.61,
          241807778.48,
          265797745.25,
          238347041.81,
          285514599.89,
          265097714.76,
          277066870.17,
          272196852.96,
          275770504.82,
          279572283.22,
          265632064.76,
          265725078.34,
          254660523.65,
          244119711.69,
          260610364.26,
          249859379.98,
          281580437.68,
          266992045.12,
          277290857.99,
          278007885.46,
          271417652.2,
          279039004.42,
          265942509.91,
          266393924.39,
          257237260.36,
          247864272.82,
          271136998.7,
          247427265.11,
          289142184.83,
          263582059.95,
          292200170.72,
          274421008.94,
          283630915.51,
          300825309.39,
          267354892.42,
          287435651.36,
          267262034.09,
          259637865.62,
          279651701.8,
          254219071.83,
          285347367.95,
          286371908.91,
          291679087.16,
          279102175.09,
          286151216.15,
          295669082.46,
          277685593.12,
          302766551.12,
          278268419.72,
          266770321.19,
          291893655.29,
          268083525.99,
          287154994.64,
          292870544.04,
          309140915.4,
          281621767.01,
          307195118.45,
          303584114,
          294084067.68,
          303866355.88,
          282791833.07,
          273357491.41,
          303865927.27,
          272050698.9,
          277938674.53,
          255178741.12,
          314276263.03,
          328293581.02,
          361986896.25,
          350268671.25,
          338872478.49,
          328055822.63,
          324599773.4,
          326846228.95,
          324115425.7,
          268193064.06,
          177408317.71
         ],
         "yaxis": "y"
        },
        {
         "hovertemplate": "Unidade da Federação=Minas Gerais<br>Período (Ano/Mês)=%{x}<br>Valor em Reais=%{y}<extra></extra>",
         "legendgroup": "Minas Gerais",
         "line": {
          "color": "#EF553B",
          "dash": "solid"
         },
         "mode": "lines",
         "name": "Minas Gerais",
         "orientation": "v",
         "showlegend": true,
         "type": "scatter",
         "x": [
          "2008/Fev",
          "2008/Mar",
          "2008/Abr",
          "2008/Mai",
          "2008/Jun",
          "2008/Jul",
          "2008/Ago",
          "2008/Set",
          "2008/Out",
          "2008/Nov",
          "2008/Dez",
          "2009/Jan",
          "2009/Fev",
          "2009/Mar",
          "2009/Abr",
          "2009/Mai",
          "2009/Jun",
          "2009/Jul",
          "2009/Ago",
          "2009/Set",
          "2009/Out",
          "2009/Nov",
          "2009/Dez",
          "2010/Jan",
          "2010/Fev",
          "2010/Mar",
          "2010/Abr",
          "2010/Mai",
          "2010/Jun",
          "2010/Jul",
          "2010/Ago",
          "2010/Set",
          "2010/Out",
          "2010/Nov",
          "2010/Dez",
          "2011/Jan",
          "2011/Fev",
          "2011/Mar",
          "2011/Abr",
          "2011/Mai",
          "2011/Jun",
          "2011/Jul",
          "2011/Ago",
          "2011/Set",
          "2011/Out",
          "2011/Nov",
          "2011/Dez",
          "2012/Jan",
          "2012/Fev",
          "2012/Mar",
          "2012/Abr",
          "2012/Mai",
          "2012/Jun",
          "2012/Jul",
          "2012/Ago",
          "2012/Set",
          "2012/Out",
          "2012/Nov",
          "2012/Dez",
          "2013/Jan",
          "2013/Fev",
          "2013/Mar",
          "2013/Abr",
          "2013/Mai",
          "2013/Jun",
          "2013/Jul",
          "2013/Ago",
          "2013/Set",
          "2013/Out",
          "2013/Nov",
          "2013/Dez",
          "2014/Jan",
          "2014/Fev",
          "2014/Mar",
          "2014/Abr",
          "2014/Mai",
          "2014/Jun",
          "2014/Jul",
          "2014/Ago",
          "2014/Set",
          "2014/Out",
          "2014/Nov",
          "2014/Dez",
          "2015/Jan",
          "2015/Fev",
          "2015/Mar",
          "2015/Abr",
          "2015/Mai",
          "2015/Jun",
          "2015/Jul",
          "2015/Ago",
          "2015/Set",
          "2015/Out",
          "2015/Nov",
          "2015/Dez",
          "2016/Jan",
          "2016/Fev",
          "2016/Mar",
          "2016/Abr",
          "2016/Mai",
          "2016/Jun",
          "2016/Jul",
          "2016/Ago",
          "2016/Set",
          "2016/Out",
          "2016/Nov",
          "2016/Dez",
          "2017/Jan",
          "2017/Fev",
          "2017/Mar",
          "2017/Abr",
          "2017/Mai",
          "2017/Jun",
          "2017/Jul",
          "2017/Ago",
          "2017/Set",
          "2017/Out",
          "2017/Nov",
          "2017/Dez",
          "2018/Jan",
          "2018/Fev",
          "2018/Mar",
          "2018/Abr",
          "2018/Mai",
          "2018/Jun",
          "2018/Jul",
          "2018/Ago",
          "2018/Set",
          "2018/Out",
          "2018/Nov",
          "2018/Dez",
          "2019/Jan",
          "2019/Fev",
          "2019/Mar",
          "2019/Abr",
          "2019/Mai",
          "2019/Jun",
          "2019/Jul",
          "2019/Ago",
          "2019/Set",
          "2019/Out",
          "2019/Nov",
          "2019/Dez",
          "2020/Jan",
          "2020/Fev",
          "2020/Mar",
          "2020/Abr",
          "2020/Mai",
          "2020/Jun",
          "2020/Jul",
          "2020/Ago",
          "2020/Set",
          "2020/Out",
          "2020/Nov",
          "2020/Dez",
          "2021/Jan",
          "2021/Fev",
          "2021/Mar"
         ],
         "xaxis": "x",
         "y": [
          70301089.5,
          79119005.51,
          79046322.41,
          79268070.12,
          79619189.2,
          82209206.98,
          80374117.08,
          82409129.3,
          88613476.6,
          84486996.11,
          88928630.3,
          99018155.84,
          83675119.83,
          100258616.86,
          91831325.37,
          97289703.07,
          95723396.53,
          100050008.7,
          98977184.26,
          98202119.08,
          96962394.27,
          94767639.13,
          92412770.73,
          95806556.42,
          90764890.28,
          107389850.03,
          100835953.45,
          105494550.31,
          99666115.96,
          103365357.52,
          107844259.69,
          104341138.19,
          100525403.88,
          101943625.5,
          99538953.6,
          107766131.57,
          103149387.49,
          111077091.84,
          106094329.28,
          115487199.35,
          110062460.88,
          110096959.71,
          114967082.94,
          109760526.2,
          111445298.68,
          107455123.44,
          107716181.56,
          119755094.85,
          107156833.59,
          122172448.68,
          112569278.74,
          125676107.14,
          115779607.41,
          122012643.58,
          123940906.18,
          114792200.87,
          122099210.56,
          112211647.27,
          110269165.4,
          120432270.5,
          107903261.86,
          126141564.88,
          131252895.3,
          128908897.64,
          126767664.45,
          132088496.92,
          130236231.24,
          128841100.31,
          134284948.05,
          123888837.02,
          124208668.26,
          134156154.8,
          127951654.33,
          135692214.91,
          138386168.54,
          144303552.86,
          134143143.46,
          142596691.51,
          138799561.34,
          139266407.72,
          143694058.81,
          136080717.06,
          131250331.04,
          131695638.74,
          126060674.04,
          150875041.27,
          142606784.74,
          146104517.61,
          142895530.96,
          137939925.52,
          140776921.48,
          137733786.02,
          140162221.98,
          134382139.41,
          129647523.62,
          131130880.47,
          127373192.23,
          144115659.56,
          136015892.7,
          143193474.25,
          140730742.09,
          137010756.09,
          143770349.05,
          136162888.49,
          138419718.77,
          129528892.52,
          132628617.72,
          139068519.49,
          129340908.71,
          150297890.74,
          136724081.95,
          153439872.25,
          144309403.11,
          147551461.76,
          156070932.24,
          142294086.35,
          148327161.77,
          142323944.76,
          138366640.55,
          146510600.58,
          130734031.29,
          151506781.86,
          150702572.27,
          153604880.55,
          150262499.13,
          156721912.31,
          160484918.69,
          145998611.06,
          157294586.62,
          148172783.99,
          145422406.28,
          153236422.57,
          142690772.52,
          151976196.81,
          157957866.2,
          163641094.76,
          154174153.49,
          166775913.85,
          161774658.77,
          157437833.94,
          166165125.18,
          152171503.07,
          152473281.15,
          158265777.55,
          141463360.42,
          147654942.7,
          127447290.37,
          142746287.34,
          157276616.5,
          177466638.1,
          182176122.99,
          181422500.43,
          174585638.28,
          168564708.16,
          166376967.67,
          155064483.25,
          119877417.15,
          79780838
         ],
         "yaxis": "y"
        },
        {
         "hovertemplate": "Unidade da Federação=Paraná<br>Período (Ano/Mês)=%{x}<br>Valor em Reais=%{y}<extra></extra>",
         "legendgroup": "Paraná",
         "line": {
          "color": "#00cc96",
          "dash": "solid"
         },
         "mode": "lines",
         "name": "Paraná",
         "orientation": "v",
         "showlegend": true,
         "type": "scatter",
         "x": [
          "2008/Fev",
          "2008/Mar",
          "2008/Abr",
          "2008/Mai",
          "2008/Jun",
          "2008/Jul",
          "2008/Ago",
          "2008/Set",
          "2008/Out",
          "2008/Nov",
          "2008/Dez",
          "2009/Jan",
          "2009/Fev",
          "2009/Mar",
          "2009/Abr",
          "2009/Mai",
          "2009/Jun",
          "2009/Jul",
          "2009/Ago",
          "2009/Set",
          "2009/Out",
          "2009/Nov",
          "2009/Dez",
          "2010/Jan",
          "2010/Fev",
          "2010/Mar",
          "2010/Abr",
          "2010/Mai",
          "2010/Jun",
          "2010/Jul",
          "2010/Ago",
          "2010/Set",
          "2010/Out",
          "2010/Nov",
          "2010/Dez",
          "2011/Jan",
          "2011/Fev",
          "2011/Mar",
          "2011/Abr",
          "2011/Mai",
          "2011/Jun",
          "2011/Jul",
          "2011/Ago",
          "2011/Set",
          "2011/Out",
          "2011/Nov",
          "2011/Dez",
          "2012/Jan",
          "2012/Fev",
          "2012/Mar",
          "2012/Abr",
          "2012/Mai",
          "2012/Jun",
          "2012/Jul",
          "2012/Ago",
          "2012/Set",
          "2012/Out",
          "2012/Nov",
          "2012/Dez",
          "2013/Jan",
          "2013/Fev",
          "2013/Mar",
          "2013/Abr",
          "2013/Mai",
          "2013/Jun",
          "2013/Jul",
          "2013/Ago",
          "2013/Set",
          "2013/Out",
          "2013/Nov",
          "2013/Dez",
          "2014/Jan",
          "2014/Fev",
          "2014/Mar",
          "2014/Abr",
          "2014/Mai",
          "2014/Jun",
          "2014/Jul",
          "2014/Ago",
          "2014/Set",
          "2014/Out",
          "2014/Nov",
          "2014/Dez",
          "2015/Jan",
          "2015/Fev",
          "2015/Mar",
          "2015/Abr",
          "2015/Mai",
          "2015/Jun",
          "2015/Jul",
          "2015/Ago",
          "2015/Set",
          "2015/Out",
          "2015/Nov",
          "2015/Dez",
          "2016/Jan",
          "2016/Fev",
          "2016/Mar",
          "2016/Abr",
          "2016/Mai",
          "2016/Jun",
          "2016/Jul",
          "2016/Ago",
          "2016/Set",
          "2016/Out",
          "2016/Nov",
          "2016/Dez",
          "2017/Jan",
          "2017/Fev",
          "2017/Mar",
          "2017/Abr",
          "2017/Mai",
          "2017/Jun",
          "2017/Jul",
          "2017/Ago",
          "2017/Set",
          "2017/Out",
          "2017/Nov",
          "2017/Dez",
          "2018/Jan",
          "2018/Fev",
          "2018/Mar",
          "2018/Abr",
          "2018/Mai",
          "2018/Jun",
          "2018/Jul",
          "2018/Ago",
          "2018/Set",
          "2018/Out",
          "2018/Nov",
          "2018/Dez",
          "2019/Jan",
          "2019/Fev",
          "2019/Mar",
          "2019/Abr",
          "2019/Mai",
          "2019/Jun",
          "2019/Jul",
          "2019/Ago",
          "2019/Set",
          "2019/Out",
          "2019/Nov",
          "2019/Dez",
          "2020/Jan",
          "2020/Fev",
          "2020/Mar",
          "2020/Abr",
          "2020/Mai",
          "2020/Jun",
          "2020/Jul",
          "2020/Ago",
          "2020/Set",
          "2020/Out",
          "2020/Nov",
          "2020/Dez",
          "2021/Jan",
          "2021/Fev",
          "2021/Mar"
         ],
         "xaxis": "x",
         "y": [
          48855046.46,
          55611791.07,
          56115135.82,
          55574831.93,
          56094754.74,
          59802402.07,
          56699001.13,
          58091985.79,
          61365941.22,
          59667208.62,
          57816197.74,
          60381593.99,
          57239101.63,
          69070488.2,
          64054678.26,
          68685542.95,
          67931227.06,
          70958762.64,
          69225783.96,
          67849968.52,
          68558209.28,
          67158496.97,
          63094274.28,
          66902643.63,
          64501133.64,
          77138870.6,
          70755396.99,
          73456756.71,
          71839020.89,
          73013830.77,
          76151006.95,
          74240963.45,
          73042386.7,
          76364750.27,
          70517638.39,
          74712784.07,
          71314740.25,
          76914668.09,
          74232937.37,
          81709021.05,
          74994292.81,
          77031532.32,
          80711112.15,
          75628247.77,
          77690671.56,
          75102797.58,
          69165366.12,
          74223959.49,
          72966208.62,
          80913123.73,
          78136776.81,
          85401506.52,
          77801153.85,
          83520690.95,
          83839961.03,
          79187989.1,
          84988531.01,
          78726146.77,
          71086530.43,
          81233604.17,
          73976801.67,
          83934466.1,
          91658827.98,
          87747363.52,
          87786257.32,
          91300166.5,
          92866583.49,
          88693116.77,
          92453504.76,
          82386029.99,
          76977284.36,
          85535913.11,
          82974333.96,
          88169286.83,
          86571334.03,
          92568324.61,
          87767355.12,
          94614066.92,
          91494121.19,
          91343045.75,
          94904373.35,
          87565870.66,
          80303279.43,
          83539116.38,
          79573523.24,
          97763853.1,
          89990188.75,
          94201517.78,
          94110693.24,
          97516822.03,
          99118332.19,
          95940894.73,
          98263485.47,
          98791984.5,
          88996075.82,
          93324149.08,
          91925876.55,
          106199139.2,
          100621969.13,
          105829987.44,
          107370488.61,
          106314963.74,
          111180454.75,
          104105124.15,
          105530148.67,
          101123001.43,
          96708761.1,
          103855271.3,
          96464284.1,
          119141493.81,
          106027687.78,
          120535312.96,
          111725261.22,
          118590172.07,
          122122835.72,
          110720806.09,
          117567691.91,
          112457522.94,
          105558123.29,
          116133193.49,
          107075982.24,
          122331354.51,
          124731345.17,
          127083090.02,
          122616924.02,
          127991900.8,
          131257163.4,
          120647377.43,
          129530163.96,
          121810669.26,
          112984630.73,
          124159239.68,
          117715473.32,
          123907372.22,
          127464502.39,
          132608039.8,
          124865873.14,
          134708659.18,
          127174381.95,
          126203976.57,
          133870601.68,
          126221140.81,
          113573832.72,
          122330101.96,
          116125740.39,
          114776571.27,
          97784060.57,
          111012770.38,
          115203716.64,
          123856640.55,
          125089468.62,
          121771167.11,
          127506086.52,
          133443307.36,
          122146256.92,
          106948897.53,
          83130175.37,
          43480729.07
         ],
         "yaxis": "y"
        },
        {
         "hovertemplate": "Unidade da Federação=Rio Grande do Sul<br>Período (Ano/Mês)=%{x}<br>Valor em Reais=%{y}<extra></extra>",
         "legendgroup": "Rio Grande do Sul",
         "line": {
          "color": "#ab63fa",
          "dash": "solid"
         },
         "mode": "lines",
         "name": "Rio Grande do Sul",
         "orientation": "v",
         "showlegend": true,
         "type": "scatter",
         "x": [
          "2008/Fev",
          "2008/Mar",
          "2008/Abr",
          "2008/Mai",
          "2008/Jun",
          "2008/Jul",
          "2008/Ago",
          "2008/Set",
          "2008/Out",
          "2008/Nov",
          "2008/Dez",
          "2009/Jan",
          "2009/Fev",
          "2009/Mar",
          "2009/Abr",
          "2009/Mai",
          "2009/Jun",
          "2009/Jul",
          "2009/Ago",
          "2009/Set",
          "2009/Out",
          "2009/Nov",
          "2009/Dez",
          "2010/Jan",
          "2010/Fev",
          "2010/Mar",
          "2010/Abr",
          "2010/Mai",
          "2010/Jun",
          "2010/Jul",
          "2010/Ago",
          "2010/Set",
          "2010/Out",
          "2010/Nov",
          "2010/Dez",
          "2011/Jan",
          "2011/Fev",
          "2011/Mar",
          "2011/Abr",
          "2011/Mai",
          "2011/Jun",
          "2011/Jul",
          "2011/Ago",
          "2011/Set",
          "2011/Out",
          "2011/Nov",
          "2011/Dez",
          "2012/Jan",
          "2012/Fev",
          "2012/Mar",
          "2012/Abr",
          "2012/Mai",
          "2012/Jun",
          "2012/Jul",
          "2012/Ago",
          "2012/Set",
          "2012/Out",
          "2012/Nov",
          "2012/Dez",
          "2013/Jan",
          "2013/Fev",
          "2013/Mar",
          "2013/Abr",
          "2013/Mai",
          "2013/Jun",
          "2013/Jul",
          "2013/Ago",
          "2013/Set",
          "2013/Out",
          "2013/Nov",
          "2013/Dez",
          "2014/Jan",
          "2014/Fev",
          "2014/Mar",
          "2014/Abr",
          "2014/Mai",
          "2014/Jun",
          "2014/Jul",
          "2014/Ago",
          "2014/Set",
          "2014/Out",
          "2014/Nov",
          "2014/Dez",
          "2015/Jan",
          "2015/Fev",
          "2015/Mar",
          "2015/Abr",
          "2015/Mai",
          "2015/Jun",
          "2015/Jul",
          "2015/Ago",
          "2015/Set",
          "2015/Out",
          "2015/Nov",
          "2015/Dez",
          "2016/Jan",
          "2016/Fev",
          "2016/Mar",
          "2016/Abr",
          "2016/Mai",
          "2016/Jun",
          "2016/Jul",
          "2016/Ago",
          "2016/Set",
          "2016/Out",
          "2016/Nov",
          "2016/Dez",
          "2017/Jan",
          "2017/Fev",
          "2017/Mar",
          "2017/Abr",
          "2017/Mai",
          "2017/Jun",
          "2017/Jul",
          "2017/Ago",
          "2017/Set",
          "2017/Out",
          "2017/Nov",
          "2017/Dez",
          "2018/Jan",
          "2018/Fev",
          "2018/Mar",
          "2018/Abr",
          "2018/Mai",
          "2018/Jun",
          "2018/Jul",
          "2018/Ago",
          "2018/Set",
          "2018/Out",
          "2018/Nov",
          "2018/Dez",
          "2019/Jan",
          "2019/Fev",
          "2019/Mar",
          "2019/Abr",
          "2019/Mai",
          "2019/Jun",
          "2019/Jul",
          "2019/Ago",
          "2019/Set",
          "2019/Out",
          "2019/Nov",
          "2019/Dez",
          "2020/Jan",
          "2020/Fev",
          "2020/Mar",
          "2020/Abr",
          "2020/Mai",
          "2020/Jun",
          "2020/Jul",
          "2020/Ago",
          "2020/Set",
          "2020/Out",
          "2020/Nov",
          "2020/Dez",
          "2021/Jan",
          "2021/Fev",
          "2021/Mar"
         ],
         "xaxis": "x",
         "y": [
          45897704.82,
          52928695.92,
          51972416.77,
          51679350.79,
          53759674.01,
          56391647.77,
          56233758.74,
          57910170.98,
          59592124.91,
          57565742.08,
          55696920.94,
          61522380.02,
          52101637.77,
          65111965.49,
          61590828.91,
          64402291.62,
          63090640.55,
          69137004.88,
          66062629.79,
          65222011.32,
          67569409.19,
          64189115.3,
          62244282.8,
          65488387.87,
          56964528.31,
          69933577.14,
          66486835.62,
          69108367.47,
          67570770.09,
          70074754.73,
          70884009.17,
          65079794.92,
          66556015.62,
          66097030.85,
          61737098.13,
          66918913.09,
          61370763.6,
          69004974.8,
          66225068.29,
          72172669.74,
          70770992.38,
          70835358.17,
          73674390.94,
          68345974.5,
          70411134.32,
          68008922.1,
          65692039.28,
          71523795.74,
          64135041.24,
          73623568.14,
          69010258.19,
          76607693,
          74785423.89,
          76916947.25,
          78758125.55,
          69413475.17,
          77155562.05,
          69590896.9,
          67267196.31,
          78346443.99,
          66867562.81,
          76562940.15,
          82705691.47,
          82855387.3,
          80638411.68,
          87456538.74,
          84526389.95,
          81983921.89,
          87452330.1,
          82653691.49,
          77636567.05,
          83655725.66,
          75584443.38,
          82965053.06,
          83596390.42,
          87821405.54,
          85176008.81,
          90592156.29,
          89980046.86,
          90635544.74,
          93416548.53,
          86546826.85,
          81253607.98,
          85251478.27,
          75244263.84,
          95207075.63,
          86942229.17,
          91888536.34,
          90007690.88,
          92603617.28,
          90473944.46,
          87347767.93,
          87834001.13,
          86439585.98,
          80721707.52,
          85435165.82,
          79211931.13,
          89817937.75,
          85297352.28,
          91261106.84,
          91310016.17,
          90988329.52,
          93715417.41,
          86872326.19,
          87089975.07,
          81919639.76,
          81599478.03,
          87255987.99,
          76070420.2,
          93116698,
          83188379.66,
          95149948.63,
          93172414.99,
          94415257.59,
          94228158.01,
          86424773.65,
          91598179.14,
          85793700.48,
          82737574.48,
          91825671.54,
          77582012.38,
          91078325.19,
          91926773.8,
          91678131.98,
          90989887.85,
          94861008.1,
          96799643.23,
          87344269.09,
          97371100.06,
          90190767.67,
          81748880.3,
          92467100.02,
          85301000.44,
          91624338.7,
          92787953.22,
          99143937.75,
          95862593.49,
          103044767.94,
          98566147.88,
          94371567.58,
          96973500.3,
          91006554.37,
          88764855.22,
          97614085.43,
          85488519.32,
          84881491.62,
          76806748.32,
          87777332.11,
          96799361.58,
          108536525.93,
          111762290.19,
          110107867.3,
          113886837.47,
          116738266.69,
          116833971.73,
          102317646.36,
          84404640,
          37798832.8
         ],
         "yaxis": "y"
        },
        {
         "hovertemplate": "Unidade da Federação=Rio de Janeiro<br>Período (Ano/Mês)=%{x}<br>Valor em Reais=%{y}<extra></extra>",
         "legendgroup": "Rio de Janeiro",
         "line": {
          "color": "#FFA15A",
          "dash": "solid"
         },
         "mode": "lines",
         "name": "Rio de Janeiro",
         "orientation": "v",
         "showlegend": true,
         "type": "scatter",
         "x": [
          "2008/Fev",
          "2008/Mar",
          "2008/Abr",
          "2008/Mai",
          "2008/Jun",
          "2008/Jul",
          "2008/Ago",
          "2008/Set",
          "2008/Out",
          "2008/Nov",
          "2008/Dez",
          "2009/Jan",
          "2009/Fev",
          "2009/Mar",
          "2009/Abr",
          "2009/Mai",
          "2009/Jun",
          "2009/Jul",
          "2009/Ago",
          "2009/Set",
          "2009/Out",
          "2009/Nov",
          "2009/Dez",
          "2010/Jan",
          "2010/Fev",
          "2010/Mar",
          "2010/Abr",
          "2010/Mai",
          "2010/Jun",
          "2010/Jul",
          "2010/Ago",
          "2010/Set",
          "2010/Out",
          "2010/Nov",
          "2010/Dez",
          "2011/Jan",
          "2011/Fev",
          "2011/Mar",
          "2011/Abr",
          "2011/Mai",
          "2011/Jun",
          "2011/Jul",
          "2011/Ago",
          "2011/Set",
          "2011/Out",
          "2011/Nov",
          "2011/Dez",
          "2012/Jan",
          "2012/Fev",
          "2012/Mar",
          "2012/Abr",
          "2012/Mai",
          "2012/Jun",
          "2012/Jul",
          "2012/Ago",
          "2012/Set",
          "2012/Out",
          "2012/Nov",
          "2012/Dez",
          "2013/Jan",
          "2013/Fev",
          "2013/Mar",
          "2013/Abr",
          "2013/Mai",
          "2013/Jun",
          "2013/Jul",
          "2013/Ago",
          "2013/Set",
          "2013/Out",
          "2013/Nov",
          "2013/Dez",
          "2014/Jan",
          "2014/Fev",
          "2014/Mar",
          "2014/Abr",
          "2014/Mai",
          "2014/Jun",
          "2014/Jul",
          "2014/Ago",
          "2014/Set",
          "2014/Out",
          "2014/Nov",
          "2014/Dez",
          "2015/Jan",
          "2015/Fev",
          "2015/Mar",
          "2015/Abr",
          "2015/Mai",
          "2015/Jun",
          "2015/Jul",
          "2015/Ago",
          "2015/Set",
          "2015/Out",
          "2015/Nov",
          "2015/Dez",
          "2016/Jan",
          "2016/Fev",
          "2016/Mar",
          "2016/Abr",
          "2016/Mai",
          "2016/Jun",
          "2016/Jul",
          "2016/Ago",
          "2016/Set",
          "2016/Out",
          "2016/Nov",
          "2016/Dez",
          "2017/Jan",
          "2017/Fev",
          "2017/Mar",
          "2017/Abr",
          "2017/Mai",
          "2017/Jun",
          "2017/Jul",
          "2017/Ago",
          "2017/Set",
          "2017/Out",
          "2017/Nov",
          "2017/Dez",
          "2018/Jan",
          "2018/Fev",
          "2018/Mar",
          "2018/Abr",
          "2018/Mai",
          "2018/Jun",
          "2018/Jul",
          "2018/Ago",
          "2018/Set",
          "2018/Out",
          "2018/Nov",
          "2018/Dez",
          "2019/Jan",
          "2019/Fev",
          "2019/Mar",
          "2019/Abr",
          "2019/Mai",
          "2019/Jun",
          "2019/Jul",
          "2019/Ago",
          "2019/Set",
          "2019/Out",
          "2019/Nov",
          "2019/Dez",
          "2020/Jan",
          "2020/Fev",
          "2020/Mar",
          "2020/Abr",
          "2020/Mai",
          "2020/Jun",
          "2020/Jul",
          "2020/Ago",
          "2020/Set",
          "2020/Out",
          "2020/Nov",
          "2020/Dez",
          "2021/Jan",
          "2021/Fev",
          "2021/Mar"
         ],
         "xaxis": "x",
         "y": [
          44128159.73,
          42900847.02,
          45306499.53,
          43951349.46,
          44111107.27,
          44359056.71,
          42500830.29,
          43066461.47,
          44553314.55,
          41351511.51,
          43024756.36,
          60885459.85,
          40668378.23,
          52753544.47,
          48916675.76,
          51177398.6,
          57241944.15,
          53485657.68,
          51244087.82,
          48489476.33,
          48689069.43,
          49708372.48,
          44413423.34,
          55993709.91,
          44833345.11,
          54473238.33,
          78128632.98,
          56028875.32,
          51435826.33,
          53873907.49,
          57867285.17,
          53736019.37,
          52379338.55,
          50242531.67,
          50891328.43,
          74005618.29,
          61149228.39,
          55347898.51,
          55816907.9,
          59086537.51,
          55205971.21,
          54559439.69,
          57987469.83,
          53245457.26,
          53052662.54,
          49803409.24,
          47982923.26,
          66752774.87,
          47271040.5,
          59372118.28,
          54030081.29,
          60767483.6,
          56008884.48,
          56516407.1,
          58546297.88,
          53098530.92,
          57974003.84,
          51687366.01,
          47848367.7,
          102104204.33,
          51206653.61,
          57584874.79,
          63702778.97,
          63794891.58,
          61689752.64,
          60992531.77,
          61577361.16,
          59717201.67,
          60865517.3,
          54070879.39,
          53162041.15,
          67001654.43,
          56548574.77,
          60648820.92,
          58610389.83,
          62155089.4,
          63706499.87,
          66150757.15,
          64974113.77,
          65178224.11,
          64033630.86,
          60392275.29,
          62318598.92,
          65298592.29,
          57699654.7,
          67974542.76,
          62426177.33,
          71178731.31,
          69609859.79,
          73766859.34,
          68672111.85,
          66673610.24,
          68119281.51,
          63541172.1,
          60054127.9,
          66331413.56,
          60075562.59,
          68838012.08,
          62954584.18,
          65546174.26,
          64799035.81,
          85251720.46,
          68799907.5,
          63547409.23,
          64005512.1,
          59552972.8,
          61551978.62,
          68143660.61,
          61483696.06,
          70344363.16,
          64557017.65,
          74487207.6,
          69918404.97,
          73213734.43,
          74710241.97,
          68801861.2,
          73165326.57,
          69365355.89,
          67378799.43,
          72453040.87,
          65060331.66,
          74428736.76,
          74579184.72,
          79419042.03,
          75991764.07,
          77576014.21,
          78916904.64,
          72869420.27,
          79188399.76,
          74018397.83,
          70831514.1,
          79663329.44,
          74142875.38,
          75063150.71,
          76859575.91,
          82670993.34,
          78689231.48,
          88182408,
          83624113.3,
          81561944.39,
          82534679.94,
          74778468.98,
          75149065.87,
          80411863.59,
          73147214.02,
          74595986,
          69437941.81,
          89725279.21,
          88135690.57,
          95941141.03,
          89795469.41,
          81886688.22,
          80570244.2,
          82807309.85,
          90567351.87,
          87201907.99,
          60873103.08,
          49149884.48
         ],
         "yaxis": "y"
        },
        {
         "hovertemplate": "Unidade da Federação=Espírito Santo<br>Período (Ano/Mês)=%{x}<br>Valor em Reais=%{y}<extra></extra>",
         "legendgroup": "Espírito Santo",
         "line": {
          "color": "#19d3f3",
          "dash": "solid"
         },
         "mode": "lines",
         "name": "Espírito Santo",
         "orientation": "v",
         "showlegend": true,
         "type": "scatter",
         "x": [
          "2008/Fev",
          "2008/Mar",
          "2008/Abr",
          "2008/Mai",
          "2008/Jun",
          "2008/Jul",
          "2008/Ago",
          "2008/Set",
          "2008/Out",
          "2008/Nov",
          "2008/Dez",
          "2009/Jan",
          "2009/Fev",
          "2009/Mar",
          "2009/Abr",
          "2009/Mai",
          "2009/Jun",
          "2009/Jul",
          "2009/Ago",
          "2009/Set",
          "2009/Out",
          "2009/Nov",
          "2009/Dez",
          "2010/Jan",
          "2010/Fev",
          "2010/Mar",
          "2010/Abr",
          "2010/Mai",
          "2010/Jun",
          "2010/Jul",
          "2010/Ago",
          "2010/Set",
          "2010/Out",
          "2010/Nov",
          "2010/Dez",
          "2011/Jan",
          "2011/Fev",
          "2011/Mar",
          "2011/Abr",
          "2011/Mai",
          "2011/Jun",
          "2011/Jul",
          "2011/Ago",
          "2011/Set",
          "2011/Out",
          "2011/Nov",
          "2011/Dez",
          "2012/Jan",
          "2012/Fev",
          "2012/Mar",
          "2012/Abr",
          "2012/Mai",
          "2012/Jun",
          "2012/Jul",
          "2012/Ago",
          "2012/Set",
          "2012/Out",
          "2012/Nov",
          "2012/Dez",
          "2013/Jan",
          "2013/Fev",
          "2013/Mar",
          "2013/Abr",
          "2013/Mai",
          "2013/Jun",
          "2013/Jul",
          "2013/Ago",
          "2013/Set",
          "2013/Out",
          "2013/Nov",
          "2013/Dez",
          "2014/Jan",
          "2014/Fev",
          "2014/Mar",
          "2014/Abr",
          "2014/Mai",
          "2014/Jun",
          "2014/Jul",
          "2014/Ago",
          "2014/Set",
          "2014/Out",
          "2014/Nov",
          "2014/Dez",
          "2015/Jan",
          "2015/Fev",
          "2015/Mar",
          "2015/Abr",
          "2015/Mai",
          "2015/Jun",
          "2015/Jul",
          "2015/Ago",
          "2015/Set",
          "2015/Out",
          "2015/Nov",
          "2015/Dez",
          "2016/Jan",
          "2016/Fev",
          "2016/Mar",
          "2016/Abr",
          "2016/Mai",
          "2016/Jun",
          "2016/Jul",
          "2016/Ago",
          "2016/Set",
          "2016/Out",
          "2016/Nov",
          "2016/Dez",
          "2017/Jan",
          "2017/Fev",
          "2017/Mar",
          "2017/Abr",
          "2017/Mai",
          "2017/Jun",
          "2017/Jul",
          "2017/Ago",
          "2017/Set",
          "2017/Out",
          "2017/Nov",
          "2017/Dez",
          "2018/Jan",
          "2018/Fev",
          "2018/Mar",
          "2018/Abr",
          "2018/Mai",
          "2018/Jun",
          "2018/Jul",
          "2018/Ago",
          "2018/Set",
          "2018/Out",
          "2018/Nov",
          "2018/Dez",
          "2019/Jan",
          "2019/Fev",
          "2019/Mar",
          "2019/Abr",
          "2019/Mai",
          "2019/Jun",
          "2019/Jul",
          "2019/Ago",
          "2019/Set",
          "2019/Out",
          "2019/Nov",
          "2019/Dez",
          "2020/Jan",
          "2020/Fev",
          "2020/Mar",
          "2020/Abr",
          "2020/Mai",
          "2020/Jun",
          "2020/Jul",
          "2020/Ago",
          "2020/Set",
          "2020/Out",
          "2020/Nov",
          "2020/Dez",
          "2021/Jan",
          "2021/Fev",
          "2021/Mar"
         ],
         "xaxis": "x",
         "y": [
          10032886.43,
          12262049.08,
          12453466.98,
          11789786.09,
          11889687.35,
          12205584.14,
          12384068.19,
          12486952.61,
          12846257.93,
          12885677.54,
          12531576.01,
          13448667.55,
          11902752.05,
          14490295.47,
          14203837.61,
          15160988.21,
          14348102.03,
          15198601.34,
          15633491.3,
          14884339.35,
          14470016.36,
          14561150.72,
          13832954.49,
          14019840.33,
          13041820.98,
          16875676.05,
          15184135.29,
          15913263.87,
          15189197.44,
          15929495.86,
          17000988.44,
          16055300.15,
          16763684.01,
          16487379.66,
          15459495.21,
          16030031.21,
          15811419.6,
          17702137.74,
          16397384.2,
          17707422.11,
          17618976.32,
          17455886.16,
          19188610.12,
          16778443.83,
          17491493.7,
          17527151.96,
          16297807.56,
          17148053.04,
          16786617.91,
          18660232.19,
          17052617.59,
          18723134.38,
          18137860.29,
          19880778.72,
          19375502.24,
          19258247.92,
          19200340.35,
          17956886.69,
          18264308.06,
          19123320.52,
          17941358.17,
          19869295.44,
          19890295.23,
          19979773.02,
          19406981.92,
          20365841.76,
          20876552.66,
          19758345.74,
          21145926.8,
          19684239.72,
          18868882.32,
          19447016.21,
          19411985.68,
          20977963.39,
          20372658.3,
          22330461.67,
          21090092.17,
          21982169.59,
          22804987.55,
          21863103.85,
          22522368.57,
          21389486.83,
          20805510.82,
          21106263.86,
          20051267.68,
          24110409.95,
          21302634.65,
          22841140.15,
          22570531.17,
          25126290.22,
          23284860.41,
          22397181.09,
          23697420.39,
          22834101.87,
          22484167.74,
          23555315.86,
          22336137.3,
          26420496.56,
          24355707.5,
          26580947.54,
          24891774.42,
          26246462.99,
          26136014.92,
          23782872.02,
          24716633.41,
          24409271.46,
          25304919.68,
          24961550.27,
          22510666.96,
          27035407.52,
          24900816.95,
          26707993.4,
          25313642.38,
          26021925.5,
          26797874.7,
          25336305.29,
          26875836.29,
          25257656.9,
          24276121.39,
          25480248.19,
          22686672.67,
          25266729.61,
          25975106.39,
          27444564.56,
          24444622.13,
          25716796.37,
          25498522.61,
          24338227.14,
          26158845.99,
          24671664.41,
          24683685.86,
          25201039.31,
          24710171.75,
          26740727.97,
          25983304.03,
          28690916.87,
          25936888.97,
          28550512.79,
          29318260.49,
          27519132.91,
          29788885.15,
          26294165.36,
          25250918.87,
          27615604.26,
          26601451.82,
          26689904.87,
          24003052.09,
          29290756.45,
          31958199.08,
          41931102.65,
          36405257.36,
          34491126.71,
          34800541.67,
          35708727.33,
          40500910.57,
          33767261.13,
          25669612.63,
          15606368.11
         ],
         "yaxis": "y"
        }
       ],
       "layout": {
        "height": 600,
        "legend": {
         "title": {
          "text": "Unidade da Federação"
         },
         "tracegroupgap": 0
        },
        "margin": {
         "t": 60
        },
        "template": {
         "data": {
          "bar": [
           {
            "error_x": {
             "color": "#2a3f5f"
            },
            "error_y": {
             "color": "#2a3f5f"
            },
            "marker": {
             "line": {
              "color": "#E5ECF6",
              "width": 0.5
             }
            },
            "type": "bar"
           }
          ],
          "barpolar": [
           {
            "marker": {
             "line": {
              "color": "#E5ECF6",
              "width": 0.5
             }
            },
            "type": "barpolar"
           }
          ],
          "carpet": [
           {
            "aaxis": {
             "endlinecolor": "#2a3f5f",
             "gridcolor": "white",
             "linecolor": "white",
             "minorgridcolor": "white",
             "startlinecolor": "#2a3f5f"
            },
            "baxis": {
             "endlinecolor": "#2a3f5f",
             "gridcolor": "white",
             "linecolor": "white",
             "minorgridcolor": "white",
             "startlinecolor": "#2a3f5f"
            },
            "type": "carpet"
           }
          ],
          "choropleth": [
           {
            "colorbar": {
             "outlinewidth": 0,
             "ticks": ""
            },
            "type": "choropleth"
           }
          ],
          "contour": [
           {
            "colorbar": {
             "outlinewidth": 0,
             "ticks": ""
            },
            "colorscale": [
             [
              0,
              "#0d0887"
             ],
             [
              0.1111111111111111,
              "#46039f"
             ],
             [
              0.2222222222222222,
              "#7201a8"
             ],
             [
              0.3333333333333333,
              "#9c179e"
             ],
             [
              0.4444444444444444,
              "#bd3786"
             ],
             [
              0.5555555555555556,
              "#d8576b"
             ],
             [
              0.6666666666666666,
              "#ed7953"
             ],
             [
              0.7777777777777778,
              "#fb9f3a"
             ],
             [
              0.8888888888888888,
              "#fdca26"
             ],
             [
              1,
              "#f0f921"
             ]
            ],
            "type": "contour"
           }
          ],
          "contourcarpet": [
           {
            "colorbar": {
             "outlinewidth": 0,
             "ticks": ""
            },
            "type": "contourcarpet"
           }
          ],
          "heatmap": [
           {
            "colorbar": {
             "outlinewidth": 0,
             "ticks": ""
            },
            "colorscale": [
             [
              0,
              "#0d0887"
             ],
             [
              0.1111111111111111,
              "#46039f"
             ],
             [
              0.2222222222222222,
              "#7201a8"
             ],
             [
              0.3333333333333333,
              "#9c179e"
             ],
             [
              0.4444444444444444,
              "#bd3786"
             ],
             [
              0.5555555555555556,
              "#d8576b"
             ],
             [
              0.6666666666666666,
              "#ed7953"
             ],
             [
              0.7777777777777778,
              "#fb9f3a"
             ],
             [
              0.8888888888888888,
              "#fdca26"
             ],
             [
              1,
              "#f0f921"
             ]
            ],
            "type": "heatmap"
           }
          ],
          "heatmapgl": [
           {
            "colorbar": {
             "outlinewidth": 0,
             "ticks": ""
            },
            "colorscale": [
             [
              0,
              "#0d0887"
             ],
             [
              0.1111111111111111,
              "#46039f"
             ],
             [
              0.2222222222222222,
              "#7201a8"
             ],
             [
              0.3333333333333333,
              "#9c179e"
             ],
             [
              0.4444444444444444,
              "#bd3786"
             ],
             [
              0.5555555555555556,
              "#d8576b"
             ],
             [
              0.6666666666666666,
              "#ed7953"
             ],
             [
              0.7777777777777778,
              "#fb9f3a"
             ],
             [
              0.8888888888888888,
              "#fdca26"
             ],
             [
              1,
              "#f0f921"
             ]
            ],
            "type": "heatmapgl"
           }
          ],
          "histogram": [
           {
            "marker": {
             "colorbar": {
              "outlinewidth": 0,
              "ticks": ""
             }
            },
            "type": "histogram"
           }
          ],
          "histogram2d": [
           {
            "colorbar": {
             "outlinewidth": 0,
             "ticks": ""
            },
            "colorscale": [
             [
              0,
              "#0d0887"
             ],
             [
              0.1111111111111111,
              "#46039f"
             ],
             [
              0.2222222222222222,
              "#7201a8"
             ],
             [
              0.3333333333333333,
              "#9c179e"
             ],
             [
              0.4444444444444444,
              "#bd3786"
             ],
             [
              0.5555555555555556,
              "#d8576b"
             ],
             [
              0.6666666666666666,
              "#ed7953"
             ],
             [
              0.7777777777777778,
              "#fb9f3a"
             ],
             [
              0.8888888888888888,
              "#fdca26"
             ],
             [
              1,
              "#f0f921"
             ]
            ],
            "type": "histogram2d"
           }
          ],
          "histogram2dcontour": [
           {
            "colorbar": {
             "outlinewidth": 0,
             "ticks": ""
            },
            "colorscale": [
             [
              0,
              "#0d0887"
             ],
             [
              0.1111111111111111,
              "#46039f"
             ],
             [
              0.2222222222222222,
              "#7201a8"
             ],
             [
              0.3333333333333333,
              "#9c179e"
             ],
             [
              0.4444444444444444,
              "#bd3786"
             ],
             [
              0.5555555555555556,
              "#d8576b"
             ],
             [
              0.6666666666666666,
              "#ed7953"
             ],
             [
              0.7777777777777778,
              "#fb9f3a"
             ],
             [
              0.8888888888888888,
              "#fdca26"
             ],
             [
              1,
              "#f0f921"
             ]
            ],
            "type": "histogram2dcontour"
           }
          ],
          "mesh3d": [
           {
            "colorbar": {
             "outlinewidth": 0,
             "ticks": ""
            },
            "type": "mesh3d"
           }
          ],
          "parcoords": [
           {
            "line": {
             "colorbar": {
              "outlinewidth": 0,
              "ticks": ""
             }
            },
            "type": "parcoords"
           }
          ],
          "pie": [
           {
            "automargin": true,
            "type": "pie"
           }
          ],
          "scatter": [
           {
            "marker": {
             "colorbar": {
              "outlinewidth": 0,
              "ticks": ""
             }
            },
            "type": "scatter"
           }
          ],
          "scatter3d": [
           {
            "line": {
             "colorbar": {
              "outlinewidth": 0,
              "ticks": ""
             }
            },
            "marker": {
             "colorbar": {
              "outlinewidth": 0,
              "ticks": ""
             }
            },
            "type": "scatter3d"
           }
          ],
          "scattercarpet": [
           {
            "marker": {
             "colorbar": {
              "outlinewidth": 0,
              "ticks": ""
             }
            },
            "type": "scattercarpet"
           }
          ],
          "scattergeo": [
           {
            "marker": {
             "colorbar": {
              "outlinewidth": 0,
              "ticks": ""
             }
            },
            "type": "scattergeo"
           }
          ],
          "scattergl": [
           {
            "marker": {
             "colorbar": {
              "outlinewidth": 0,
              "ticks": ""
             }
            },
            "type": "scattergl"
           }
          ],
          "scattermapbox": [
           {
            "marker": {
             "colorbar": {
              "outlinewidth": 0,
              "ticks": ""
             }
            },
            "type": "scattermapbox"
           }
          ],
          "scatterpolar": [
           {
            "marker": {
             "colorbar": {
              "outlinewidth": 0,
              "ticks": ""
             }
            },
            "type": "scatterpolar"
           }
          ],
          "scatterpolargl": [
           {
            "marker": {
             "colorbar": {
              "outlinewidth": 0,
              "ticks": ""
             }
            },
            "type": "scatterpolargl"
           }
          ],
          "scatterternary": [
           {
            "marker": {
             "colorbar": {
              "outlinewidth": 0,
              "ticks": ""
             }
            },
            "type": "scatterternary"
           }
          ],
          "surface": [
           {
            "colorbar": {
             "outlinewidth": 0,
             "ticks": ""
            },
            "colorscale": [
             [
              0,
              "#0d0887"
             ],
             [
              0.1111111111111111,
              "#46039f"
             ],
             [
              0.2222222222222222,
              "#7201a8"
             ],
             [
              0.3333333333333333,
              "#9c179e"
             ],
             [
              0.4444444444444444,
              "#bd3786"
             ],
             [
              0.5555555555555556,
              "#d8576b"
             ],
             [
              0.6666666666666666,
              "#ed7953"
             ],
             [
              0.7777777777777778,
              "#fb9f3a"
             ],
             [
              0.8888888888888888,
              "#fdca26"
             ],
             [
              1,
              "#f0f921"
             ]
            ],
            "type": "surface"
           }
          ],
          "table": [
           {
            "cells": {
             "fill": {
              "color": "#EBF0F8"
             },
             "line": {
              "color": "white"
             }
            },
            "header": {
             "fill": {
              "color": "#C8D4E3"
             },
             "line": {
              "color": "white"
             }
            },
            "type": "table"
           }
          ]
         },
         "layout": {
          "annotationdefaults": {
           "arrowcolor": "#2a3f5f",
           "arrowhead": 0,
           "arrowwidth": 1
          },
          "autotypenumbers": "strict",
          "coloraxis": {
           "colorbar": {
            "outlinewidth": 0,
            "ticks": ""
           }
          },
          "colorscale": {
           "diverging": [
            [
             0,
             "#8e0152"
            ],
            [
             0.1,
             "#c51b7d"
            ],
            [
             0.2,
             "#de77ae"
            ],
            [
             0.3,
             "#f1b6da"
            ],
            [
             0.4,
             "#fde0ef"
            ],
            [
             0.5,
             "#f7f7f7"
            ],
            [
             0.6,
             "#e6f5d0"
            ],
            [
             0.7,
             "#b8e186"
            ],
            [
             0.8,
             "#7fbc41"
            ],
            [
             0.9,
             "#4d9221"
            ],
            [
             1,
             "#276419"
            ]
           ],
           "sequential": [
            [
             0,
             "#0d0887"
            ],
            [
             0.1111111111111111,
             "#46039f"
            ],
            [
             0.2222222222222222,
             "#7201a8"
            ],
            [
             0.3333333333333333,
             "#9c179e"
            ],
            [
             0.4444444444444444,
             "#bd3786"
            ],
            [
             0.5555555555555556,
             "#d8576b"
            ],
            [
             0.6666666666666666,
             "#ed7953"
            ],
            [
             0.7777777777777778,
             "#fb9f3a"
            ],
            [
             0.8888888888888888,
             "#fdca26"
            ],
            [
             1,
             "#f0f921"
            ]
           ],
           "sequentialminus": [
            [
             0,
             "#0d0887"
            ],
            [
             0.1111111111111111,
             "#46039f"
            ],
            [
             0.2222222222222222,
             "#7201a8"
            ],
            [
             0.3333333333333333,
             "#9c179e"
            ],
            [
             0.4444444444444444,
             "#bd3786"
            ],
            [
             0.5555555555555556,
             "#d8576b"
            ],
            [
             0.6666666666666666,
             "#ed7953"
            ],
            [
             0.7777777777777778,
             "#fb9f3a"
            ],
            [
             0.8888888888888888,
             "#fdca26"
            ],
            [
             1,
             "#f0f921"
            ]
           ]
          },
          "colorway": [
           "#636efa",
           "#EF553B",
           "#00cc96",
           "#ab63fa",
           "#FFA15A",
           "#19d3f3",
           "#FF6692",
           "#B6E880",
           "#FF97FF",
           "#FECB52"
          ],
          "font": {
           "color": "#2a3f5f"
          },
          "geo": {
           "bgcolor": "white",
           "lakecolor": "white",
           "landcolor": "#E5ECF6",
           "showlakes": true,
           "showland": true,
           "subunitcolor": "white"
          },
          "hoverlabel": {
           "align": "left"
          },
          "hovermode": "closest",
          "mapbox": {
           "style": "light"
          },
          "paper_bgcolor": "white",
          "plot_bgcolor": "#E5ECF6",
          "polar": {
           "angularaxis": {
            "gridcolor": "white",
            "linecolor": "white",
            "ticks": ""
           },
           "bgcolor": "#E5ECF6",
           "radialaxis": {
            "gridcolor": "white",
            "linecolor": "white",
            "ticks": ""
           }
          },
          "scene": {
           "xaxis": {
            "backgroundcolor": "#E5ECF6",
            "gridcolor": "white",
            "gridwidth": 2,
            "linecolor": "white",
            "showbackground": true,
            "ticks": "",
            "zerolinecolor": "white"
           },
           "yaxis": {
            "backgroundcolor": "#E5ECF6",
            "gridcolor": "white",
            "gridwidth": 2,
            "linecolor": "white",
            "showbackground": true,
            "ticks": "",
            "zerolinecolor": "white"
           },
           "zaxis": {
            "backgroundcolor": "#E5ECF6",
            "gridcolor": "white",
            "gridwidth": 2,
            "linecolor": "white",
            "showbackground": true,
            "ticks": "",
            "zerolinecolor": "white"
           }
          },
          "shapedefaults": {
           "line": {
            "color": "#2a3f5f"
           }
          },
          "ternary": {
           "aaxis": {
            "gridcolor": "white",
            "linecolor": "white",
            "ticks": ""
           },
           "baxis": {
            "gridcolor": "white",
            "linecolor": "white",
            "ticks": ""
           },
           "bgcolor": "#E5ECF6",
           "caxis": {
            "gridcolor": "white",
            "linecolor": "white",
            "ticks": ""
           }
          },
          "title": {
           "x": 0.05
          },
          "xaxis": {
           "automargin": true,
           "gridcolor": "white",
           "linecolor": "white",
           "ticks": "",
           "title": {
            "standoff": 15
           },
           "zerolinecolor": "white",
           "zerolinewidth": 2
          },
          "yaxis": {
           "automargin": true,
           "gridcolor": "white",
           "linecolor": "white",
           "ticks": "",
           "title": {
            "standoff": 15
           },
           "zerolinecolor": "white",
           "zerolinewidth": 2
          }
         }
        },
        "title": {
         "text": "Investimentos em Saúede para a Região Sudeste em 2013",
         "x": 0.5,
         "xanchor": "center",
         "y": 0.95,
         "yanchor": "top"
        },
        "width": 1400,
        "xaxis": {
         "anchor": "y",
         "domain": [
          0,
          1
         ],
         "title": {
          "text": "Período (Ano/Mês)"
         }
        },
        "yaxis": {
         "anchor": "x",
         "domain": [
          0,
          1
         ],
         "title": {
          "text": "Valor em Reais"
         }
        }
       }
      }
     },
     "metadata": {}
    }
   ],
   "source": [
    "plot(usaveis_new)"
   ]
  },
  {
   "cell_type": "code",
   "execution_count": null,
   "metadata": {},
   "outputs": [],
   "source": []
  },
  {
   "source": [
    "# Plotando os gastos por estados para a Região Sudeste no ano de 2013"
   ],
   "cell_type": "markdown",
   "metadata": {}
  },
  {
   "cell_type": "code",
   "execution_count": 279,
   "metadata": {},
   "outputs": [
    {
     "output_type": "execute_result",
     "data": {
      "text/plain": [
       "                         2013/Jan     2013/Fev     2013/Mar     2013/Abr  \\\n",
       "Unidade da Federação                                                       \n",
       "São Paulo            253312916.64 222562451.81 255057678.54 262706559.19   \n",
       "Minas Gerais         120432270.50 107903261.86 126141564.88 131252895.30   \n",
       "Rio de Janeiro       102104204.33  51206653.61  57584874.79  63702778.97   \n",
       "Espírito Santo        19123320.52  17941358.17  19869295.44  19890295.23   \n",
       "\n",
       "                         2013/Mai     2013/Jun     2013/Jul     2013/Ago  \\\n",
       "Unidade da Federação                                                       \n",
       "São Paulo            262644147.73 254105335.70 263146000.69 265967608.06   \n",
       "Minas Gerais         128908897.64 126767664.45 132088496.92 130236231.24   \n",
       "Rio de Janeiro        63794891.58  61689752.64  60992531.77  61577361.16   \n",
       "Espírito Santo        19979773.02  19406981.92  20365841.76  20876552.66   \n",
       "\n",
       "                         2013/Set     2013/Out     2013/Nov     2013/Dez  \n",
       "Unidade da Federação                                                      \n",
       "São Paulo            261898387.61 285001066.39 248140524.27 230586191.85  \n",
       "Minas Gerais         128841100.31 134284948.05 123888837.02 124208668.26  \n",
       "Rio de Janeiro        59717201.67  60865517.30  54070879.39  53162041.15  \n",
       "Espírito Santo        19758345.74  21145926.80  19684239.72  18868882.32  "
      ],
      "text/html": "<div>\n<style scoped>\n    .dataframe tbody tr th:only-of-type {\n        vertical-align: middle;\n    }\n\n    .dataframe tbody tr th {\n        vertical-align: top;\n    }\n\n    .dataframe thead th {\n        text-align: right;\n    }\n</style>\n<table border=\"1\" class=\"dataframe\">\n  <thead>\n    <tr style=\"text-align: right;\">\n      <th></th>\n      <th>2013/Jan</th>\n      <th>2013/Fev</th>\n      <th>2013/Mar</th>\n      <th>2013/Abr</th>\n      <th>2013/Mai</th>\n      <th>2013/Jun</th>\n      <th>2013/Jul</th>\n      <th>2013/Ago</th>\n      <th>2013/Set</th>\n      <th>2013/Out</th>\n      <th>2013/Nov</th>\n      <th>2013/Dez</th>\n    </tr>\n    <tr>\n      <th>Unidade da Federação</th>\n      <th></th>\n      <th></th>\n      <th></th>\n      <th></th>\n      <th></th>\n      <th></th>\n      <th></th>\n      <th></th>\n      <th></th>\n      <th></th>\n      <th></th>\n      <th></th>\n    </tr>\n  </thead>\n  <tbody>\n    <tr>\n      <th>São Paulo</th>\n      <td>253312916.64</td>\n      <td>222562451.81</td>\n      <td>255057678.54</td>\n      <td>262706559.19</td>\n      <td>262644147.73</td>\n      <td>254105335.70</td>\n      <td>263146000.69</td>\n      <td>265967608.06</td>\n      <td>261898387.61</td>\n      <td>285001066.39</td>\n      <td>248140524.27</td>\n      <td>230586191.85</td>\n    </tr>\n    <tr>\n      <th>Minas Gerais</th>\n      <td>120432270.50</td>\n      <td>107903261.86</td>\n      <td>126141564.88</td>\n      <td>131252895.30</td>\n      <td>128908897.64</td>\n      <td>126767664.45</td>\n      <td>132088496.92</td>\n      <td>130236231.24</td>\n      <td>128841100.31</td>\n      <td>134284948.05</td>\n      <td>123888837.02</td>\n      <td>124208668.26</td>\n    </tr>\n    <tr>\n      <th>Rio de Janeiro</th>\n      <td>102104204.33</td>\n      <td>51206653.61</td>\n      <td>57584874.79</td>\n      <td>63702778.97</td>\n      <td>63794891.58</td>\n      <td>61689752.64</td>\n      <td>60992531.77</td>\n      <td>61577361.16</td>\n      <td>59717201.67</td>\n      <td>60865517.30</td>\n      <td>54070879.39</td>\n      <td>53162041.15</td>\n    </tr>\n    <tr>\n      <th>Espírito Santo</th>\n      <td>19123320.52</td>\n      <td>17941358.17</td>\n      <td>19869295.44</td>\n      <td>19890295.23</td>\n      <td>19979773.02</td>\n      <td>19406981.92</td>\n      <td>20365841.76</td>\n      <td>20876552.66</td>\n      <td>19758345.74</td>\n      <td>21145926.80</td>\n      <td>19684239.72</td>\n      <td>18868882.32</td>\n    </tr>\n  </tbody>\n</table>\n</div>"
     },
     "metadata": {},
     "execution_count": 279
    }
   ],
   "source": [
    "# Identificando os anos do dataframe de forma automática, buscando somente as linhas onde a coluna Região possui valor igual a Sudeste\n",
    "usaveis_sudeste = usaveis_new.loc[usaveis['Região']=='Sudeste']\n",
    "\n",
    "# Buscando somente as colunas que possuem 2013 no título\n",
    "usaveis_sudeste = usaveis_sudeste.filter(regex = '2013')\n",
    "\n",
    "usaveis_sudeste.head()"
   ]
  },
  {
   "cell_type": "code",
   "execution_count": 292,
   "metadata": {},
   "outputs": [
    {
     "output_type": "display_data",
     "data": {
      "application/vnd.plotly.v1+json": {
       "config": {
        "plotlyServerURL": "https://plot.ly"
       },
       "data": [
        {
         "hovertemplate": "Unidade da Federação=São Paulo<br>Período (Ano/Mês)=%{x}<br>Valor em Reais=%{y}<extra></extra>",
         "legendgroup": "São Paulo",
         "line": {
          "color": "#636efa",
          "dash": "solid"
         },
         "mode": "lines",
         "name": "São Paulo",
         "orientation": "v",
         "showlegend": true,
         "type": "scatter",
         "x": [
          "2013/Jan",
          "2013/Fev",
          "2013/Mar",
          "2013/Abr",
          "2013/Mai",
          "2013/Jun",
          "2013/Jul",
          "2013/Ago",
          "2013/Set",
          "2013/Out",
          "2013/Nov",
          "2013/Dez"
         ],
         "xaxis": "x",
         "y": [
          253312916.64,
          222562451.81,
          255057678.54,
          262706559.19,
          262644147.73,
          254105335.7,
          263146000.69,
          265967608.06,
          261898387.61,
          285001066.39,
          248140524.27,
          230586191.85
         ],
         "yaxis": "y"
        },
        {
         "hovertemplate": "Unidade da Federação=Minas Gerais<br>Período (Ano/Mês)=%{x}<br>Valor em Reais=%{y}<extra></extra>",
         "legendgroup": "Minas Gerais",
         "line": {
          "color": "#EF553B",
          "dash": "solid"
         },
         "mode": "lines",
         "name": "Minas Gerais",
         "orientation": "v",
         "showlegend": true,
         "type": "scatter",
         "x": [
          "2013/Jan",
          "2013/Fev",
          "2013/Mar",
          "2013/Abr",
          "2013/Mai",
          "2013/Jun",
          "2013/Jul",
          "2013/Ago",
          "2013/Set",
          "2013/Out",
          "2013/Nov",
          "2013/Dez"
         ],
         "xaxis": "x",
         "y": [
          120432270.5,
          107903261.86,
          126141564.88,
          131252895.3,
          128908897.64,
          126767664.45,
          132088496.92,
          130236231.24,
          128841100.31,
          134284948.05,
          123888837.02,
          124208668.26
         ],
         "yaxis": "y"
        },
        {
         "hovertemplate": "Unidade da Federação=Rio de Janeiro<br>Período (Ano/Mês)=%{x}<br>Valor em Reais=%{y}<extra></extra>",
         "legendgroup": "Rio de Janeiro",
         "line": {
          "color": "#00cc96",
          "dash": "solid"
         },
         "mode": "lines",
         "name": "Rio de Janeiro",
         "orientation": "v",
         "showlegend": true,
         "type": "scatter",
         "x": [
          "2013/Jan",
          "2013/Fev",
          "2013/Mar",
          "2013/Abr",
          "2013/Mai",
          "2013/Jun",
          "2013/Jul",
          "2013/Ago",
          "2013/Set",
          "2013/Out",
          "2013/Nov",
          "2013/Dez"
         ],
         "xaxis": "x",
         "y": [
          102104204.33,
          51206653.61,
          57584874.79,
          63702778.97,
          63794891.58,
          61689752.64,
          60992531.77,
          61577361.16,
          59717201.67,
          60865517.3,
          54070879.39,
          53162041.15
         ],
         "yaxis": "y"
        },
        {
         "hovertemplate": "Unidade da Federação=Espírito Santo<br>Período (Ano/Mês)=%{x}<br>Valor em Reais=%{y}<extra></extra>",
         "legendgroup": "Espírito Santo",
         "line": {
          "color": "#ab63fa",
          "dash": "solid"
         },
         "mode": "lines",
         "name": "Espírito Santo",
         "orientation": "v",
         "showlegend": true,
         "type": "scatter",
         "x": [
          "2013/Jan",
          "2013/Fev",
          "2013/Mar",
          "2013/Abr",
          "2013/Mai",
          "2013/Jun",
          "2013/Jul",
          "2013/Ago",
          "2013/Set",
          "2013/Out",
          "2013/Nov",
          "2013/Dez"
         ],
         "xaxis": "x",
         "y": [
          19123320.52,
          17941358.17,
          19869295.44,
          19890295.23,
          19979773.02,
          19406981.92,
          20365841.76,
          20876552.66,
          19758345.74,
          21145926.8,
          19684239.72,
          18868882.32
         ],
         "yaxis": "y"
        }
       ],
       "layout": {
        "height": 600,
        "legend": {
         "title": {
          "text": "Unidade da Federação"
         },
         "tracegroupgap": 0
        },
        "margin": {
         "t": 60
        },
        "template": {
         "data": {
          "bar": [
           {
            "error_x": {
             "color": "#2a3f5f"
            },
            "error_y": {
             "color": "#2a3f5f"
            },
            "marker": {
             "line": {
              "color": "#E5ECF6",
              "width": 0.5
             }
            },
            "type": "bar"
           }
          ],
          "barpolar": [
           {
            "marker": {
             "line": {
              "color": "#E5ECF6",
              "width": 0.5
             }
            },
            "type": "barpolar"
           }
          ],
          "carpet": [
           {
            "aaxis": {
             "endlinecolor": "#2a3f5f",
             "gridcolor": "white",
             "linecolor": "white",
             "minorgridcolor": "white",
             "startlinecolor": "#2a3f5f"
            },
            "baxis": {
             "endlinecolor": "#2a3f5f",
             "gridcolor": "white",
             "linecolor": "white",
             "minorgridcolor": "white",
             "startlinecolor": "#2a3f5f"
            },
            "type": "carpet"
           }
          ],
          "choropleth": [
           {
            "colorbar": {
             "outlinewidth": 0,
             "ticks": ""
            },
            "type": "choropleth"
           }
          ],
          "contour": [
           {
            "colorbar": {
             "outlinewidth": 0,
             "ticks": ""
            },
            "colorscale": [
             [
              0,
              "#0d0887"
             ],
             [
              0.1111111111111111,
              "#46039f"
             ],
             [
              0.2222222222222222,
              "#7201a8"
             ],
             [
              0.3333333333333333,
              "#9c179e"
             ],
             [
              0.4444444444444444,
              "#bd3786"
             ],
             [
              0.5555555555555556,
              "#d8576b"
             ],
             [
              0.6666666666666666,
              "#ed7953"
             ],
             [
              0.7777777777777778,
              "#fb9f3a"
             ],
             [
              0.8888888888888888,
              "#fdca26"
             ],
             [
              1,
              "#f0f921"
             ]
            ],
            "type": "contour"
           }
          ],
          "contourcarpet": [
           {
            "colorbar": {
             "outlinewidth": 0,
             "ticks": ""
            },
            "type": "contourcarpet"
           }
          ],
          "heatmap": [
           {
            "colorbar": {
             "outlinewidth": 0,
             "ticks": ""
            },
            "colorscale": [
             [
              0,
              "#0d0887"
             ],
             [
              0.1111111111111111,
              "#46039f"
             ],
             [
              0.2222222222222222,
              "#7201a8"
             ],
             [
              0.3333333333333333,
              "#9c179e"
             ],
             [
              0.4444444444444444,
              "#bd3786"
             ],
             [
              0.5555555555555556,
              "#d8576b"
             ],
             [
              0.6666666666666666,
              "#ed7953"
             ],
             [
              0.7777777777777778,
              "#fb9f3a"
             ],
             [
              0.8888888888888888,
              "#fdca26"
             ],
             [
              1,
              "#f0f921"
             ]
            ],
            "type": "heatmap"
           }
          ],
          "heatmapgl": [
           {
            "colorbar": {
             "outlinewidth": 0,
             "ticks": ""
            },
            "colorscale": [
             [
              0,
              "#0d0887"
             ],
             [
              0.1111111111111111,
              "#46039f"
             ],
             [
              0.2222222222222222,
              "#7201a8"
             ],
             [
              0.3333333333333333,
              "#9c179e"
             ],
             [
              0.4444444444444444,
              "#bd3786"
             ],
             [
              0.5555555555555556,
              "#d8576b"
             ],
             [
              0.6666666666666666,
              "#ed7953"
             ],
             [
              0.7777777777777778,
              "#fb9f3a"
             ],
             [
              0.8888888888888888,
              "#fdca26"
             ],
             [
              1,
              "#f0f921"
             ]
            ],
            "type": "heatmapgl"
           }
          ],
          "histogram": [
           {
            "marker": {
             "colorbar": {
              "outlinewidth": 0,
              "ticks": ""
             }
            },
            "type": "histogram"
           }
          ],
          "histogram2d": [
           {
            "colorbar": {
             "outlinewidth": 0,
             "ticks": ""
            },
            "colorscale": [
             [
              0,
              "#0d0887"
             ],
             [
              0.1111111111111111,
              "#46039f"
             ],
             [
              0.2222222222222222,
              "#7201a8"
             ],
             [
              0.3333333333333333,
              "#9c179e"
             ],
             [
              0.4444444444444444,
              "#bd3786"
             ],
             [
              0.5555555555555556,
              "#d8576b"
             ],
             [
              0.6666666666666666,
              "#ed7953"
             ],
             [
              0.7777777777777778,
              "#fb9f3a"
             ],
             [
              0.8888888888888888,
              "#fdca26"
             ],
             [
              1,
              "#f0f921"
             ]
            ],
            "type": "histogram2d"
           }
          ],
          "histogram2dcontour": [
           {
            "colorbar": {
             "outlinewidth": 0,
             "ticks": ""
            },
            "colorscale": [
             [
              0,
              "#0d0887"
             ],
             [
              0.1111111111111111,
              "#46039f"
             ],
             [
              0.2222222222222222,
              "#7201a8"
             ],
             [
              0.3333333333333333,
              "#9c179e"
             ],
             [
              0.4444444444444444,
              "#bd3786"
             ],
             [
              0.5555555555555556,
              "#d8576b"
             ],
             [
              0.6666666666666666,
              "#ed7953"
             ],
             [
              0.7777777777777778,
              "#fb9f3a"
             ],
             [
              0.8888888888888888,
              "#fdca26"
             ],
             [
              1,
              "#f0f921"
             ]
            ],
            "type": "histogram2dcontour"
           }
          ],
          "mesh3d": [
           {
            "colorbar": {
             "outlinewidth": 0,
             "ticks": ""
            },
            "type": "mesh3d"
           }
          ],
          "parcoords": [
           {
            "line": {
             "colorbar": {
              "outlinewidth": 0,
              "ticks": ""
             }
            },
            "type": "parcoords"
           }
          ],
          "pie": [
           {
            "automargin": true,
            "type": "pie"
           }
          ],
          "scatter": [
           {
            "marker": {
             "colorbar": {
              "outlinewidth": 0,
              "ticks": ""
             }
            },
            "type": "scatter"
           }
          ],
          "scatter3d": [
           {
            "line": {
             "colorbar": {
              "outlinewidth": 0,
              "ticks": ""
             }
            },
            "marker": {
             "colorbar": {
              "outlinewidth": 0,
              "ticks": ""
             }
            },
            "type": "scatter3d"
           }
          ],
          "scattercarpet": [
           {
            "marker": {
             "colorbar": {
              "outlinewidth": 0,
              "ticks": ""
             }
            },
            "type": "scattercarpet"
           }
          ],
          "scattergeo": [
           {
            "marker": {
             "colorbar": {
              "outlinewidth": 0,
              "ticks": ""
             }
            },
            "type": "scattergeo"
           }
          ],
          "scattergl": [
           {
            "marker": {
             "colorbar": {
              "outlinewidth": 0,
              "ticks": ""
             }
            },
            "type": "scattergl"
           }
          ],
          "scattermapbox": [
           {
            "marker": {
             "colorbar": {
              "outlinewidth": 0,
              "ticks": ""
             }
            },
            "type": "scattermapbox"
           }
          ],
          "scatterpolar": [
           {
            "marker": {
             "colorbar": {
              "outlinewidth": 0,
              "ticks": ""
             }
            },
            "type": "scatterpolar"
           }
          ],
          "scatterpolargl": [
           {
            "marker": {
             "colorbar": {
              "outlinewidth": 0,
              "ticks": ""
             }
            },
            "type": "scatterpolargl"
           }
          ],
          "scatterternary": [
           {
            "marker": {
             "colorbar": {
              "outlinewidth": 0,
              "ticks": ""
             }
            },
            "type": "scatterternary"
           }
          ],
          "surface": [
           {
            "colorbar": {
             "outlinewidth": 0,
             "ticks": ""
            },
            "colorscale": [
             [
              0,
              "#0d0887"
             ],
             [
              0.1111111111111111,
              "#46039f"
             ],
             [
              0.2222222222222222,
              "#7201a8"
             ],
             [
              0.3333333333333333,
              "#9c179e"
             ],
             [
              0.4444444444444444,
              "#bd3786"
             ],
             [
              0.5555555555555556,
              "#d8576b"
             ],
             [
              0.6666666666666666,
              "#ed7953"
             ],
             [
              0.7777777777777778,
              "#fb9f3a"
             ],
             [
              0.8888888888888888,
              "#fdca26"
             ],
             [
              1,
              "#f0f921"
             ]
            ],
            "type": "surface"
           }
          ],
          "table": [
           {
            "cells": {
             "fill": {
              "color": "#EBF0F8"
             },
             "line": {
              "color": "white"
             }
            },
            "header": {
             "fill": {
              "color": "#C8D4E3"
             },
             "line": {
              "color": "white"
             }
            },
            "type": "table"
           }
          ]
         },
         "layout": {
          "annotationdefaults": {
           "arrowcolor": "#2a3f5f",
           "arrowhead": 0,
           "arrowwidth": 1
          },
          "autotypenumbers": "strict",
          "coloraxis": {
           "colorbar": {
            "outlinewidth": 0,
            "ticks": ""
           }
          },
          "colorscale": {
           "diverging": [
            [
             0,
             "#8e0152"
            ],
            [
             0.1,
             "#c51b7d"
            ],
            [
             0.2,
             "#de77ae"
            ],
            [
             0.3,
             "#f1b6da"
            ],
            [
             0.4,
             "#fde0ef"
            ],
            [
             0.5,
             "#f7f7f7"
            ],
            [
             0.6,
             "#e6f5d0"
            ],
            [
             0.7,
             "#b8e186"
            ],
            [
             0.8,
             "#7fbc41"
            ],
            [
             0.9,
             "#4d9221"
            ],
            [
             1,
             "#276419"
            ]
           ],
           "sequential": [
            [
             0,
             "#0d0887"
            ],
            [
             0.1111111111111111,
             "#46039f"
            ],
            [
             0.2222222222222222,
             "#7201a8"
            ],
            [
             0.3333333333333333,
             "#9c179e"
            ],
            [
             0.4444444444444444,
             "#bd3786"
            ],
            [
             0.5555555555555556,
             "#d8576b"
            ],
            [
             0.6666666666666666,
             "#ed7953"
            ],
            [
             0.7777777777777778,
             "#fb9f3a"
            ],
            [
             0.8888888888888888,
             "#fdca26"
            ],
            [
             1,
             "#f0f921"
            ]
           ],
           "sequentialminus": [
            [
             0,
             "#0d0887"
            ],
            [
             0.1111111111111111,
             "#46039f"
            ],
            [
             0.2222222222222222,
             "#7201a8"
            ],
            [
             0.3333333333333333,
             "#9c179e"
            ],
            [
             0.4444444444444444,
             "#bd3786"
            ],
            [
             0.5555555555555556,
             "#d8576b"
            ],
            [
             0.6666666666666666,
             "#ed7953"
            ],
            [
             0.7777777777777778,
             "#fb9f3a"
            ],
            [
             0.8888888888888888,
             "#fdca26"
            ],
            [
             1,
             "#f0f921"
            ]
           ]
          },
          "colorway": [
           "#636efa",
           "#EF553B",
           "#00cc96",
           "#ab63fa",
           "#FFA15A",
           "#19d3f3",
           "#FF6692",
           "#B6E880",
           "#FF97FF",
           "#FECB52"
          ],
          "font": {
           "color": "#2a3f5f"
          },
          "geo": {
           "bgcolor": "white",
           "lakecolor": "white",
           "landcolor": "#E5ECF6",
           "showlakes": true,
           "showland": true,
           "subunitcolor": "white"
          },
          "hoverlabel": {
           "align": "left"
          },
          "hovermode": "closest",
          "mapbox": {
           "style": "light"
          },
          "paper_bgcolor": "white",
          "plot_bgcolor": "#E5ECF6",
          "polar": {
           "angularaxis": {
            "gridcolor": "white",
            "linecolor": "white",
            "ticks": ""
           },
           "bgcolor": "#E5ECF6",
           "radialaxis": {
            "gridcolor": "white",
            "linecolor": "white",
            "ticks": ""
           }
          },
          "scene": {
           "xaxis": {
            "backgroundcolor": "#E5ECF6",
            "gridcolor": "white",
            "gridwidth": 2,
            "linecolor": "white",
            "showbackground": true,
            "ticks": "",
            "zerolinecolor": "white"
           },
           "yaxis": {
            "backgroundcolor": "#E5ECF6",
            "gridcolor": "white",
            "gridwidth": 2,
            "linecolor": "white",
            "showbackground": true,
            "ticks": "",
            "zerolinecolor": "white"
           },
           "zaxis": {
            "backgroundcolor": "#E5ECF6",
            "gridcolor": "white",
            "gridwidth": 2,
            "linecolor": "white",
            "showbackground": true,
            "ticks": "",
            "zerolinecolor": "white"
           }
          },
          "shapedefaults": {
           "line": {
            "color": "#2a3f5f"
           }
          },
          "ternary": {
           "aaxis": {
            "gridcolor": "white",
            "linecolor": "white",
            "ticks": ""
           },
           "baxis": {
            "gridcolor": "white",
            "linecolor": "white",
            "ticks": ""
           },
           "bgcolor": "#E5ECF6",
           "caxis": {
            "gridcolor": "white",
            "linecolor": "white",
            "ticks": ""
           }
          },
          "title": {
           "x": 0.05
          },
          "xaxis": {
           "automargin": true,
           "gridcolor": "white",
           "linecolor": "white",
           "ticks": "",
           "title": {
            "standoff": 15
           },
           "zerolinecolor": "white",
           "zerolinewidth": 2
          },
          "yaxis": {
           "automargin": true,
           "gridcolor": "white",
           "linecolor": "white",
           "ticks": "",
           "title": {
            "standoff": 15
           },
           "zerolinecolor": "white",
           "zerolinewidth": 2
          }
         }
        },
        "title": {
         "text": "Investimentos em Saúede para a Região Sudeste em 2013",
         "x": 0.5,
         "xanchor": "center",
         "y": 0.95,
         "yanchor": "top"
        },
        "width": 1400,
        "xaxis": {
         "anchor": "y",
         "domain": [
          0,
          1
         ],
         "title": {
          "text": "Período (Ano/Mês)"
         }
        },
        "yaxis": {
         "anchor": "x",
         "domain": [
          0,
          1
         ],
         "title": {
          "text": "Valor em Reais"
         }
        }
       }
      }
     },
     "metadata": {}
    }
   ],
   "source": [
    "plot(usaveis_sudeste)"
   ]
  },
  {
   "source": [
    "#\n",
    "Observando os gastos para janeiro no ano de 2013 não é possível afirmar que o comportamento foi equivalente para todos os estados, já que, no estado do Espírito Santo, não houve diferença significativa entre os dois primeiro meses.\n",
    "#\n",
    "Porém, ao analisar o comportamento dos estados ao longo de outros anos é possível notar que é comum notar picos para os meses de Janeiro, o que nos leva a crer que dependendo da política adotada pelo estado é comum que no primeiro mês o ano o investimento, ou melhor, o repasse para a saúde é maior.\n"
   ],
   "cell_type": "markdown",
   "metadata": {}
  },
  {
   "source": [
    "# Relação entre casos de Dengue e investimentos no Estado do Rio de Janeiro\n",
    "#\n",
    "### Olhando exclusivamente o estado do Rio de Janeiro, podemos observar um maior investimento em Saúde para o intervalo de tempo entre 2010 e 2013, o que coincide com o maior número de casos de Degue na Cidade do Rio de Janeiro.\n",
    "\n"
   ],
   "cell_type": "markdown",
   "metadata": {}
  },
  {
   "cell_type": "code",
   "execution_count": 281,
   "metadata": {},
   "outputs": [
    {
     "output_type": "display_data",
     "data": {
      "text/plain": "<Figure size 1152x648 with 1 Axes>",
      "image/svg+xml": "<?xml version=\"1.0\" encoding=\"utf-8\" standalone=\"no\"?>\r\n<!DOCTYPE svg PUBLIC \"-//W3C//DTD SVG 1.1//EN\"\r\n  \"http://www.w3.org/Graphics/SVG/1.1/DTD/svg11.dtd\">\r\n<!-- Created with matplotlib (https://matplotlib.org/) -->\r\n<svg height=\"468.538882pt\" version=\"1.1\" viewBox=\"0 0 936.738942 468.538882\" width=\"936.738942pt\" xmlns=\"http://www.w3.org/2000/svg\" xmlns:xlink=\"http://www.w3.org/1999/xlink\">\r\n <metadata>\r\n  <rdf:RDF xmlns:cc=\"http://creativecommons.org/ns#\" xmlns:dc=\"http://purl.org/dc/elements/1.1/\" xmlns:rdf=\"http://www.w3.org/1999/02/22-rdf-syntax-ns#\">\r\n   <cc:Work>\r\n    <dc:type rdf:resource=\"http://purl.org/dc/dcmitype/StillImage\"/>\r\n    <dc:date>2021-05-24T15:48:07.214233</dc:date>\r\n    <dc:format>image/svg+xml</dc:format>\r\n    <dc:creator>\r\n     <cc:Agent>\r\n      <dc:title>Matplotlib v3.3.2, https://matplotlib.org/</dc:title>\r\n     </cc:Agent>\r\n    </dc:creator>\r\n   </cc:Work>\r\n  </rdf:RDF>\r\n </metadata>\r\n <defs>\r\n  <style type=\"text/css\">*{stroke-linecap:butt;stroke-linejoin:round;}</style>\r\n </defs>\r\n <g id=\"figure_1\">\r\n  <g id=\"patch_1\">\r\n   <path d=\"M 0 468.538882 \r\nL 936.738942 468.538882 \r\nL 936.738942 0 \r\nL 0 0 \r\nz\r\n\" style=\"fill:none;\"/>\r\n  </g>\r\n  <g id=\"axes_1\">\r\n   <g id=\"patch_2\">\r\n    <path d=\"M 33.2875 444.660757 \r\nL 926.0875 444.660757 \r\nL 926.0875 10.445373 \r\nL 33.2875 10.445373 \r\nz\r\n\" style=\"fill:#ffffff;\"/>\r\n   </g>\r\n   <g clip-path=\"url(#p388cf1706e)\">\r\n    <image height=\"435\" id=\"imageadd365ac67\" transform=\"scale(1 -1)translate(0 -435)\" width=\"893\" x=\"33.2875\" xlink:href=\"data:image/png;base64,\r\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\" y=\"-9.660757\"/>\r\n   </g>\r\n   <g id=\"matplotlib.axis_1\">\r\n    <g id=\"xtick_1\">\r\n     <g id=\"line2d_1\">\r\n      <defs>\r\n       <path d=\"M 0 0 \r\nL 0 3.5 \r\n\" id=\"mf52d0e8531\" style=\"stroke:#000000;stroke-width:0.8;\"/>\r\n      </defs>\r\n      <g>\r\n       <use style=\"stroke:#000000;stroke-width:0.8;\" x=\"33.841346\" xlink:href=\"#mf52d0e8531\" y=\"444.660757\"/>\r\n      </g>\r\n     </g>\r\n     <g id=\"text_1\">\r\n      <!-- 0 -->\r\n      <g transform=\"translate(30.660096 459.259195)scale(0.1 -0.1)\">\r\n       <defs>\r\n        <path d=\"M 31.78125 66.40625 \r\nQ 24.171875 66.40625 20.328125 58.90625 \r\nQ 16.5 51.421875 16.5 36.375 \r\nQ 16.5 21.390625 20.328125 13.890625 \r\nQ 24.171875 6.390625 31.78125 6.390625 \r\nQ 39.453125 6.390625 43.28125 13.890625 \r\nQ 47.125 21.390625 47.125 36.375 \r\nQ 47.125 51.421875 43.28125 58.90625 \r\nQ 39.453125 66.40625 31.78125 66.40625 \r\nz\r\nM 31.78125 74.21875 \r\nQ 44.046875 74.21875 50.515625 64.515625 \r\nQ 56.984375 54.828125 56.984375 36.375 \r\nQ 56.984375 17.96875 50.515625 8.265625 \r\nQ 44.046875 -1.421875 31.78125 -1.421875 \r\nQ 19.53125 -1.421875 13.0625 8.265625 \r\nQ 6.59375 17.96875 6.59375 36.375 \r\nQ 6.59375 54.828125 13.0625 64.515625 \r\nQ 19.53125 74.21875 31.78125 74.21875 \r\nz\r\n\" id=\"DejaVuSans-48\"/>\r\n       </defs>\r\n       <use xlink:href=\"#DejaVuSans-48\"/>\r\n      </g>\r\n     </g>\r\n    </g>\r\n    <g id=\"xtick_2\">\r\n     <g id=\"line2d_2\">\r\n      <g>\r\n       <use style=\"stroke:#000000;stroke-width:0.8;\" x=\"144.610577\" xlink:href=\"#mf52d0e8531\" y=\"444.660757\"/>\r\n      </g>\r\n     </g>\r\n     <g id=\"text_2\">\r\n      <!-- 100 -->\r\n      <g transform=\"translate(135.066827 459.259195)scale(0.1 -0.1)\">\r\n       <defs>\r\n        <path d=\"M 12.40625 8.296875 \r\nL 28.515625 8.296875 \r\nL 28.515625 63.921875 \r\nL 10.984375 60.40625 \r\nL 10.984375 69.390625 \r\nL 28.421875 72.90625 \r\nL 38.28125 72.90625 \r\nL 38.28125 8.296875 \r\nL 54.390625 8.296875 \r\nL 54.390625 0 \r\nL 12.40625 0 \r\nz\r\n\" id=\"DejaVuSans-49\"/>\r\n       </defs>\r\n       <use xlink:href=\"#DejaVuSans-49\"/>\r\n       <use x=\"63.623047\" xlink:href=\"#DejaVuSans-48\"/>\r\n       <use x=\"127.246094\" xlink:href=\"#DejaVuSans-48\"/>\r\n      </g>\r\n     </g>\r\n    </g>\r\n    <g id=\"xtick_3\">\r\n     <g id=\"line2d_3\">\r\n      <g>\r\n       <use style=\"stroke:#000000;stroke-width:0.8;\" x=\"255.379808\" xlink:href=\"#mf52d0e8531\" y=\"444.660757\"/>\r\n      </g>\r\n     </g>\r\n     <g id=\"text_3\">\r\n      <!-- 200 -->\r\n      <g transform=\"translate(245.836058 459.259195)scale(0.1 -0.1)\">\r\n       <defs>\r\n        <path d=\"M 19.1875 8.296875 \r\nL 53.609375 8.296875 \r\nL 53.609375 0 \r\nL 7.328125 0 \r\nL 7.328125 8.296875 \r\nQ 12.9375 14.109375 22.625 23.890625 \r\nQ 32.328125 33.6875 34.8125 36.53125 \r\nQ 39.546875 41.84375 41.421875 45.53125 \r\nQ 43.3125 49.21875 43.3125 52.78125 \r\nQ 43.3125 58.59375 39.234375 62.25 \r\nQ 35.15625 65.921875 28.609375 65.921875 \r\nQ 23.96875 65.921875 18.8125 64.3125 \r\nQ 13.671875 62.703125 7.8125 59.421875 \r\nL 7.8125 69.390625 \r\nQ 13.765625 71.78125 18.9375 73 \r\nQ 24.125 74.21875 28.421875 74.21875 \r\nQ 39.75 74.21875 46.484375 68.546875 \r\nQ 53.21875 62.890625 53.21875 53.421875 \r\nQ 53.21875 48.921875 51.53125 44.890625 \r\nQ 49.859375 40.875 45.40625 35.40625 \r\nQ 44.1875 33.984375 37.640625 27.21875 \r\nQ 31.109375 20.453125 19.1875 8.296875 \r\nz\r\n\" id=\"DejaVuSans-50\"/>\r\n       </defs>\r\n       <use xlink:href=\"#DejaVuSans-50\"/>\r\n       <use x=\"63.623047\" xlink:href=\"#DejaVuSans-48\"/>\r\n       <use x=\"127.246094\" xlink:href=\"#DejaVuSans-48\"/>\r\n      </g>\r\n     </g>\r\n    </g>\r\n    <g id=\"xtick_4\">\r\n     <g id=\"line2d_4\">\r\n      <g>\r\n       <use style=\"stroke:#000000;stroke-width:0.8;\" x=\"366.149038\" xlink:href=\"#mf52d0e8531\" y=\"444.660757\"/>\r\n      </g>\r\n     </g>\r\n     <g id=\"text_4\">\r\n      <!-- 300 -->\r\n      <g transform=\"translate(356.605288 459.259195)scale(0.1 -0.1)\">\r\n       <defs>\r\n        <path d=\"M 40.578125 39.3125 \r\nQ 47.65625 37.796875 51.625 33 \r\nQ 55.609375 28.21875 55.609375 21.1875 \r\nQ 55.609375 10.40625 48.1875 4.484375 \r\nQ 40.765625 -1.421875 27.09375 -1.421875 \r\nQ 22.515625 -1.421875 17.65625 -0.515625 \r\nQ 12.796875 0.390625 7.625 2.203125 \r\nL 7.625 11.71875 \r\nQ 11.71875 9.328125 16.59375 8.109375 \r\nQ 21.484375 6.890625 26.8125 6.890625 \r\nQ 36.078125 6.890625 40.9375 10.546875 \r\nQ 45.796875 14.203125 45.796875 21.1875 \r\nQ 45.796875 27.640625 41.28125 31.265625 \r\nQ 36.765625 34.90625 28.71875 34.90625 \r\nL 20.21875 34.90625 \r\nL 20.21875 43.015625 \r\nL 29.109375 43.015625 \r\nQ 36.375 43.015625 40.234375 45.921875 \r\nQ 44.09375 48.828125 44.09375 54.296875 \r\nQ 44.09375 59.90625 40.109375 62.90625 \r\nQ 36.140625 65.921875 28.71875 65.921875 \r\nQ 24.65625 65.921875 20.015625 65.03125 \r\nQ 15.375 64.15625 9.8125 62.3125 \r\nL 9.8125 71.09375 \r\nQ 15.4375 72.65625 20.34375 73.4375 \r\nQ 25.25 74.21875 29.59375 74.21875 \r\nQ 40.828125 74.21875 47.359375 69.109375 \r\nQ 53.90625 64.015625 53.90625 55.328125 \r\nQ 53.90625 49.265625 50.4375 45.09375 \r\nQ 46.96875 40.921875 40.578125 39.3125 \r\nz\r\n\" id=\"DejaVuSans-51\"/>\r\n       </defs>\r\n       <use xlink:href=\"#DejaVuSans-51\"/>\r\n       <use x=\"63.623047\" xlink:href=\"#DejaVuSans-48\"/>\r\n       <use x=\"127.246094\" xlink:href=\"#DejaVuSans-48\"/>\r\n      </g>\r\n     </g>\r\n    </g>\r\n    <g id=\"xtick_5\">\r\n     <g id=\"line2d_5\">\r\n      <g>\r\n       <use style=\"stroke:#000000;stroke-width:0.8;\" x=\"476.918269\" xlink:href=\"#mf52d0e8531\" y=\"444.660757\"/>\r\n      </g>\r\n     </g>\r\n     <g id=\"text_5\">\r\n      <!-- 400 -->\r\n      <g transform=\"translate(467.374519 459.259195)scale(0.1 -0.1)\">\r\n       <defs>\r\n        <path d=\"M 37.796875 64.3125 \r\nL 12.890625 25.390625 \r\nL 37.796875 25.390625 \r\nz\r\nM 35.203125 72.90625 \r\nL 47.609375 72.90625 \r\nL 47.609375 25.390625 \r\nL 58.015625 25.390625 \r\nL 58.015625 17.1875 \r\nL 47.609375 17.1875 \r\nL 47.609375 0 \r\nL 37.796875 0 \r\nL 37.796875 17.1875 \r\nL 4.890625 17.1875 \r\nL 4.890625 26.703125 \r\nz\r\n\" id=\"DejaVuSans-52\"/>\r\n       </defs>\r\n       <use xlink:href=\"#DejaVuSans-52\"/>\r\n       <use x=\"63.623047\" xlink:href=\"#DejaVuSans-48\"/>\r\n       <use x=\"127.246094\" xlink:href=\"#DejaVuSans-48\"/>\r\n      </g>\r\n     </g>\r\n    </g>\r\n    <g id=\"xtick_6\">\r\n     <g id=\"line2d_6\">\r\n      <g>\r\n       <use style=\"stroke:#000000;stroke-width:0.8;\" x=\"587.6875\" xlink:href=\"#mf52d0e8531\" y=\"444.660757\"/>\r\n      </g>\r\n     </g>\r\n     <g id=\"text_6\">\r\n      <!-- 500 -->\r\n      <g transform=\"translate(578.14375 459.259195)scale(0.1 -0.1)\">\r\n       <defs>\r\n        <path d=\"M 10.796875 72.90625 \r\nL 49.515625 72.90625 \r\nL 49.515625 64.59375 \r\nL 19.828125 64.59375 \r\nL 19.828125 46.734375 \r\nQ 21.96875 47.46875 24.109375 47.828125 \r\nQ 26.265625 48.1875 28.421875 48.1875 \r\nQ 40.625 48.1875 47.75 41.5 \r\nQ 54.890625 34.8125 54.890625 23.390625 \r\nQ 54.890625 11.625 47.5625 5.09375 \r\nQ 40.234375 -1.421875 26.90625 -1.421875 \r\nQ 22.3125 -1.421875 17.546875 -0.640625 \r\nQ 12.796875 0.140625 7.71875 1.703125 \r\nL 7.71875 11.625 \r\nQ 12.109375 9.234375 16.796875 8.0625 \r\nQ 21.484375 6.890625 26.703125 6.890625 \r\nQ 35.15625 6.890625 40.078125 11.328125 \r\nQ 45.015625 15.765625 45.015625 23.390625 \r\nQ 45.015625 31 40.078125 35.4375 \r\nQ 35.15625 39.890625 26.703125 39.890625 \r\nQ 22.75 39.890625 18.8125 39.015625 \r\nQ 14.890625 38.140625 10.796875 36.28125 \r\nz\r\n\" id=\"DejaVuSans-53\"/>\r\n       </defs>\r\n       <use xlink:href=\"#DejaVuSans-53\"/>\r\n       <use x=\"63.623047\" xlink:href=\"#DejaVuSans-48\"/>\r\n       <use x=\"127.246094\" xlink:href=\"#DejaVuSans-48\"/>\r\n      </g>\r\n     </g>\r\n    </g>\r\n    <g id=\"xtick_7\">\r\n     <g id=\"line2d_7\">\r\n      <g>\r\n       <use style=\"stroke:#000000;stroke-width:0.8;\" x=\"698.456731\" xlink:href=\"#mf52d0e8531\" y=\"444.660757\"/>\r\n      </g>\r\n     </g>\r\n     <g id=\"text_7\">\r\n      <!-- 600 -->\r\n      <g transform=\"translate(688.912981 459.259195)scale(0.1 -0.1)\">\r\n       <defs>\r\n        <path d=\"M 33.015625 40.375 \r\nQ 26.375 40.375 22.484375 35.828125 \r\nQ 18.609375 31.296875 18.609375 23.390625 \r\nQ 18.609375 15.53125 22.484375 10.953125 \r\nQ 26.375 6.390625 33.015625 6.390625 \r\nQ 39.65625 6.390625 43.53125 10.953125 \r\nQ 47.40625 15.53125 47.40625 23.390625 \r\nQ 47.40625 31.296875 43.53125 35.828125 \r\nQ 39.65625 40.375 33.015625 40.375 \r\nz\r\nM 52.59375 71.296875 \r\nL 52.59375 62.3125 \r\nQ 48.875 64.0625 45.09375 64.984375 \r\nQ 41.3125 65.921875 37.59375 65.921875 \r\nQ 27.828125 65.921875 22.671875 59.328125 \r\nQ 17.53125 52.734375 16.796875 39.40625 \r\nQ 19.671875 43.65625 24.015625 45.921875 \r\nQ 28.375 48.1875 33.59375 48.1875 \r\nQ 44.578125 48.1875 50.953125 41.515625 \r\nQ 57.328125 34.859375 57.328125 23.390625 \r\nQ 57.328125 12.15625 50.6875 5.359375 \r\nQ 44.046875 -1.421875 33.015625 -1.421875 \r\nQ 20.359375 -1.421875 13.671875 8.265625 \r\nQ 6.984375 17.96875 6.984375 36.375 \r\nQ 6.984375 53.65625 15.1875 63.9375 \r\nQ 23.390625 74.21875 37.203125 74.21875 \r\nQ 40.921875 74.21875 44.703125 73.484375 \r\nQ 48.484375 72.75 52.59375 71.296875 \r\nz\r\n\" id=\"DejaVuSans-54\"/>\r\n       </defs>\r\n       <use xlink:href=\"#DejaVuSans-54\"/>\r\n       <use x=\"63.623047\" xlink:href=\"#DejaVuSans-48\"/>\r\n       <use x=\"127.246094\" xlink:href=\"#DejaVuSans-48\"/>\r\n      </g>\r\n     </g>\r\n    </g>\r\n    <g id=\"xtick_8\">\r\n     <g id=\"line2d_8\">\r\n      <g>\r\n       <use style=\"stroke:#000000;stroke-width:0.8;\" x=\"809.225962\" xlink:href=\"#mf52d0e8531\" y=\"444.660757\"/>\r\n      </g>\r\n     </g>\r\n     <g id=\"text_8\">\r\n      <!-- 700 -->\r\n      <g transform=\"translate(799.682212 459.259195)scale(0.1 -0.1)\">\r\n       <defs>\r\n        <path d=\"M 8.203125 72.90625 \r\nL 55.078125 72.90625 \r\nL 55.078125 68.703125 \r\nL 28.609375 0 \r\nL 18.3125 0 \r\nL 43.21875 64.59375 \r\nL 8.203125 64.59375 \r\nz\r\n\" id=\"DejaVuSans-55\"/>\r\n       </defs>\r\n       <use xlink:href=\"#DejaVuSans-55\"/>\r\n       <use x=\"63.623047\" xlink:href=\"#DejaVuSans-48\"/>\r\n       <use x=\"127.246094\" xlink:href=\"#DejaVuSans-48\"/>\r\n      </g>\r\n     </g>\r\n    </g>\r\n    <g id=\"xtick_9\">\r\n     <g id=\"line2d_9\">\r\n      <g>\r\n       <use style=\"stroke:#000000;stroke-width:0.8;\" x=\"919.995192\" xlink:href=\"#mf52d0e8531\" y=\"444.660757\"/>\r\n      </g>\r\n     </g>\r\n     <g id=\"text_9\">\r\n      <!-- 800 -->\r\n      <g transform=\"translate(910.451442 459.259195)scale(0.1 -0.1)\">\r\n       <defs>\r\n        <path d=\"M 31.78125 34.625 \r\nQ 24.75 34.625 20.71875 30.859375 \r\nQ 16.703125 27.09375 16.703125 20.515625 \r\nQ 16.703125 13.921875 20.71875 10.15625 \r\nQ 24.75 6.390625 31.78125 6.390625 \r\nQ 38.8125 6.390625 42.859375 10.171875 \r\nQ 46.921875 13.96875 46.921875 20.515625 \r\nQ 46.921875 27.09375 42.890625 30.859375 \r\nQ 38.875 34.625 31.78125 34.625 \r\nz\r\nM 21.921875 38.8125 \r\nQ 15.578125 40.375 12.03125 44.71875 \r\nQ 8.5 49.078125 8.5 55.328125 \r\nQ 8.5 64.0625 14.71875 69.140625 \r\nQ 20.953125 74.21875 31.78125 74.21875 \r\nQ 42.671875 74.21875 48.875 69.140625 \r\nQ 55.078125 64.0625 55.078125 55.328125 \r\nQ 55.078125 49.078125 51.53125 44.71875 \r\nQ 48 40.375 41.703125 38.8125 \r\nQ 48.828125 37.15625 52.796875 32.3125 \r\nQ 56.78125 27.484375 56.78125 20.515625 \r\nQ 56.78125 9.90625 50.3125 4.234375 \r\nQ 43.84375 -1.421875 31.78125 -1.421875 \r\nQ 19.734375 -1.421875 13.25 4.234375 \r\nQ 6.78125 9.90625 6.78125 20.515625 \r\nQ 6.78125 27.484375 10.78125 32.3125 \r\nQ 14.796875 37.15625 21.921875 38.8125 \r\nz\r\nM 18.3125 54.390625 \r\nQ 18.3125 48.734375 21.84375 45.5625 \r\nQ 25.390625 42.390625 31.78125 42.390625 \r\nQ 38.140625 42.390625 41.71875 45.5625 \r\nQ 45.3125 48.734375 45.3125 54.390625 \r\nQ 45.3125 60.0625 41.71875 63.234375 \r\nQ 38.140625 66.40625 31.78125 66.40625 \r\nQ 25.390625 66.40625 21.84375 63.234375 \r\nQ 18.3125 60.0625 18.3125 54.390625 \r\nz\r\n\" id=\"DejaVuSans-56\"/>\r\n       </defs>\r\n       <use xlink:href=\"#DejaVuSans-56\"/>\r\n       <use x=\"63.623047\" xlink:href=\"#DejaVuSans-48\"/>\r\n       <use x=\"127.246094\" xlink:href=\"#DejaVuSans-48\"/>\r\n      </g>\r\n     </g>\r\n    </g>\r\n   </g>\r\n   <g id=\"matplotlib.axis_2\">\r\n    <g id=\"ytick_1\">\r\n     <g id=\"line2d_10\">\r\n      <defs>\r\n       <path d=\"M 0 0 \r\nL -3.5 0 \r\n\" id=\"m58e68abf5a\" style=\"stroke:#000000;stroke-width:0.8;\"/>\r\n      </defs>\r\n      <g>\r\n       <use style=\"stroke:#000000;stroke-width:0.8;\" x=\"33.2875\" xlink:href=\"#m58e68abf5a\" y=\"10.999219\"/>\r\n      </g>\r\n     </g>\r\n     <g id=\"text_10\">\r\n      <!-- 0 -->\r\n      <g transform=\"translate(19.925 14.798437)scale(0.1 -0.1)\">\r\n       <use xlink:href=\"#DejaVuSans-48\"/>\r\n      </g>\r\n     </g>\r\n    </g>\r\n    <g id=\"ytick_2\">\r\n     <g id=\"line2d_11\">\r\n      <g>\r\n       <use style=\"stroke:#000000;stroke-width:0.8;\" x=\"33.2875\" xlink:href=\"#m58e68abf5a\" y=\"66.383834\"/>\r\n      </g>\r\n     </g>\r\n     <g id=\"text_11\">\r\n      <!-- 50 -->\r\n      <g transform=\"translate(13.5625 70.183053)scale(0.1 -0.1)\">\r\n       <use xlink:href=\"#DejaVuSans-53\"/>\r\n       <use x=\"63.623047\" xlink:href=\"#DejaVuSans-48\"/>\r\n      </g>\r\n     </g>\r\n    </g>\r\n    <g id=\"ytick_3\">\r\n     <g id=\"line2d_12\">\r\n      <g>\r\n       <use style=\"stroke:#000000;stroke-width:0.8;\" x=\"33.2875\" xlink:href=\"#m58e68abf5a\" y=\"121.76845\"/>\r\n      </g>\r\n     </g>\r\n     <g id=\"text_12\">\r\n      <!-- 100 -->\r\n      <g transform=\"translate(7.2 125.567668)scale(0.1 -0.1)\">\r\n       <use xlink:href=\"#DejaVuSans-49\"/>\r\n       <use x=\"63.623047\" xlink:href=\"#DejaVuSans-48\"/>\r\n       <use x=\"127.246094\" xlink:href=\"#DejaVuSans-48\"/>\r\n      </g>\r\n     </g>\r\n    </g>\r\n    <g id=\"ytick_4\">\r\n     <g id=\"line2d_13\">\r\n      <g>\r\n       <use style=\"stroke:#000000;stroke-width:0.8;\" x=\"33.2875\" xlink:href=\"#m58e68abf5a\" y=\"177.153065\"/>\r\n      </g>\r\n     </g>\r\n     <g id=\"text_13\">\r\n      <!-- 150 -->\r\n      <g transform=\"translate(7.2 180.952284)scale(0.1 -0.1)\">\r\n       <use xlink:href=\"#DejaVuSans-49\"/>\r\n       <use x=\"63.623047\" xlink:href=\"#DejaVuSans-53\"/>\r\n       <use x=\"127.246094\" xlink:href=\"#DejaVuSans-48\"/>\r\n      </g>\r\n     </g>\r\n    </g>\r\n    <g id=\"ytick_5\">\r\n     <g id=\"line2d_14\">\r\n      <g>\r\n       <use style=\"stroke:#000000;stroke-width:0.8;\" x=\"33.2875\" xlink:href=\"#m58e68abf5a\" y=\"232.53768\"/>\r\n      </g>\r\n     </g>\r\n     <g id=\"text_14\">\r\n      <!-- 200 -->\r\n      <g transform=\"translate(7.2 236.336899)scale(0.1 -0.1)\">\r\n       <use xlink:href=\"#DejaVuSans-50\"/>\r\n       <use x=\"63.623047\" xlink:href=\"#DejaVuSans-48\"/>\r\n       <use x=\"127.246094\" xlink:href=\"#DejaVuSans-48\"/>\r\n      </g>\r\n     </g>\r\n    </g>\r\n    <g id=\"ytick_6\">\r\n     <g id=\"line2d_15\">\r\n      <g>\r\n       <use style=\"stroke:#000000;stroke-width:0.8;\" x=\"33.2875\" xlink:href=\"#m58e68abf5a\" y=\"287.922296\"/>\r\n      </g>\r\n     </g>\r\n     <g id=\"text_15\">\r\n      <!-- 250 -->\r\n      <g transform=\"translate(7.2 291.721514)scale(0.1 -0.1)\">\r\n       <use xlink:href=\"#DejaVuSans-50\"/>\r\n       <use x=\"63.623047\" xlink:href=\"#DejaVuSans-53\"/>\r\n       <use x=\"127.246094\" xlink:href=\"#DejaVuSans-48\"/>\r\n      </g>\r\n     </g>\r\n    </g>\r\n    <g id=\"ytick_7\">\r\n     <g id=\"line2d_16\">\r\n      <g>\r\n       <use style=\"stroke:#000000;stroke-width:0.8;\" x=\"33.2875\" xlink:href=\"#m58e68abf5a\" y=\"343.306911\"/>\r\n      </g>\r\n     </g>\r\n     <g id=\"text_16\">\r\n      <!-- 300 -->\r\n      <g transform=\"translate(7.2 347.10613)scale(0.1 -0.1)\">\r\n       <use xlink:href=\"#DejaVuSans-51\"/>\r\n       <use x=\"63.623047\" xlink:href=\"#DejaVuSans-48\"/>\r\n       <use x=\"127.246094\" xlink:href=\"#DejaVuSans-48\"/>\r\n      </g>\r\n     </g>\r\n    </g>\r\n    <g id=\"ytick_8\">\r\n     <g id=\"line2d_17\">\r\n      <g>\r\n       <use style=\"stroke:#000000;stroke-width:0.8;\" x=\"33.2875\" xlink:href=\"#m58e68abf5a\" y=\"398.691526\"/>\r\n      </g>\r\n     </g>\r\n     <g id=\"text_17\">\r\n      <!-- 350 -->\r\n      <g transform=\"translate(7.2 402.490745)scale(0.1 -0.1)\">\r\n       <use xlink:href=\"#DejaVuSans-51\"/>\r\n       <use x=\"63.623047\" xlink:href=\"#DejaVuSans-53\"/>\r\n       <use x=\"127.246094\" xlink:href=\"#DejaVuSans-48\"/>\r\n      </g>\r\n     </g>\r\n    </g>\r\n   </g>\r\n   <g id=\"patch_3\">\r\n    <path d=\"M 33.2875 444.660757 \r\nL 33.2875 10.445373 \r\n\" style=\"fill:none;stroke:#000000;stroke-linecap:square;stroke-linejoin:miter;stroke-width:0.8;\"/>\r\n   </g>\r\n   <g id=\"patch_4\">\r\n    <path d=\"M 926.0875 444.660757 \r\nL 926.0875 10.445373 \r\n\" style=\"fill:none;stroke:#000000;stroke-linecap:square;stroke-linejoin:miter;stroke-width:0.8;\"/>\r\n   </g>\r\n   <g id=\"patch_5\">\r\n    <path d=\"M 33.2875 444.660757 \r\nL 926.0875 444.660757 \r\n\" style=\"fill:none;stroke:#000000;stroke-linecap:square;stroke-linejoin:miter;stroke-width:0.8;\"/>\r\n   </g>\r\n   <g id=\"patch_6\">\r\n    <path d=\"M 33.2875 10.445373 \r\nL 926.0875 10.445373 \r\n\" style=\"fill:none;stroke:#000000;stroke-linecap:square;stroke-linejoin:miter;stroke-width:0.8;\"/>\r\n   </g>\r\n  </g>\r\n </g>\r\n <defs>\r\n  <clipPath id=\"p388cf1706e\">\r\n   <rect height=\"434.215385\" width=\"892.8\" x=\"33.2875\" y=\"10.445373\"/>\r\n  </clipPath>\r\n </defs>\r\n</svg>\r\n",
      "image/png": "[encoded data removed]"
     },
     "metadata": {
      "needs_background": "light"
     }
    }
   ],
   "source": [
    "# create a file-like object from the url\n",
    "\n",
    "a = plt.imread(\"http://observatoriodasauderj.com.br/wp-content/uploads/2016/08/Untitled-8.jpg\", format = 'jpg')\n",
    "fig = plt.figure(figsize= (16,9))\n",
    "plt.imshow(a)\n",
    "plt.show()"
   ]
  },
  {
   "cell_type": "code",
   "execution_count": 282,
   "metadata": {},
   "outputs": [
    {
     "output_type": "execute_result",
     "data": {
      "text/plain": [
       "                        2010/Jan    2010/Fev    2010/Mar    2010/Abr  \\\n",
       "Unidade da Federação                                                   \n",
       "Rio de Janeiro       55993709.91 44833345.11 54473238.33 78128632.98   \n",
       "\n",
       "                        2010/Mai    2010/Jun    2010/Jul    2010/Ago  \\\n",
       "Unidade da Federação                                                   \n",
       "Rio de Janeiro       56028875.32 51435826.33 53873907.49 57867285.17   \n",
       "\n",
       "                        2010/Set    2010/Out  ...    2014/Mar    2014/Abr  \\\n",
       "Unidade da Federação                          ...                           \n",
       "Rio de Janeiro       53736019.37 52379338.55  ... 60648820.92 58610389.83   \n",
       "\n",
       "                        2014/Mai    2014/Jun    2014/Jul    2014/Ago  \\\n",
       "Unidade da Federação                                                   \n",
       "Rio de Janeiro       62155089.40 63706499.87 66150757.15 64974113.77   \n",
       "\n",
       "                        2014/Set    2014/Out    2014/Nov    2014/Dez  \n",
       "Unidade da Federação                                                  \n",
       "Rio de Janeiro       65178224.11 64033630.86 60392275.29 62318598.92  \n",
       "\n",
       "[1 rows x 60 columns]"
      ],
      "text/html": "<div>\n<style scoped>\n    .dataframe tbody tr th:only-of-type {\n        vertical-align: middle;\n    }\n\n    .dataframe tbody tr th {\n        vertical-align: top;\n    }\n\n    .dataframe thead th {\n        text-align: right;\n    }\n</style>\n<table border=\"1\" class=\"dataframe\">\n  <thead>\n    <tr style=\"text-align: right;\">\n      <th></th>\n      <th>2010/Jan</th>\n      <th>2010/Fev</th>\n      <th>2010/Mar</th>\n      <th>2010/Abr</th>\n      <th>2010/Mai</th>\n      <th>2010/Jun</th>\n      <th>2010/Jul</th>\n      <th>2010/Ago</th>\n      <th>2010/Set</th>\n      <th>2010/Out</th>\n      <th>...</th>\n      <th>2014/Mar</th>\n      <th>2014/Abr</th>\n      <th>2014/Mai</th>\n      <th>2014/Jun</th>\n      <th>2014/Jul</th>\n      <th>2014/Ago</th>\n      <th>2014/Set</th>\n      <th>2014/Out</th>\n      <th>2014/Nov</th>\n      <th>2014/Dez</th>\n    </tr>\n    <tr>\n      <th>Unidade da Federação</th>\n      <th></th>\n      <th></th>\n      <th></th>\n      <th></th>\n      <th></th>\n      <th></th>\n      <th></th>\n      <th></th>\n      <th></th>\n      <th></th>\n      <th></th>\n      <th></th>\n      <th></th>\n      <th></th>\n      <th></th>\n      <th></th>\n      <th></th>\n      <th></th>\n      <th></th>\n      <th></th>\n      <th></th>\n    </tr>\n  </thead>\n  <tbody>\n    <tr>\n      <th>Rio de Janeiro</th>\n      <td>55993709.91</td>\n      <td>44833345.11</td>\n      <td>54473238.33</td>\n      <td>78128632.98</td>\n      <td>56028875.32</td>\n      <td>51435826.33</td>\n      <td>53873907.49</td>\n      <td>57867285.17</td>\n      <td>53736019.37</td>\n      <td>52379338.55</td>\n      <td>...</td>\n      <td>60648820.92</td>\n      <td>58610389.83</td>\n      <td>62155089.40</td>\n      <td>63706499.87</td>\n      <td>66150757.15</td>\n      <td>64974113.77</td>\n      <td>65178224.11</td>\n      <td>64033630.86</td>\n      <td>60392275.29</td>\n      <td>62318598.92</td>\n    </tr>\n  </tbody>\n</table>\n<p>1 rows × 60 columns</p>\n</div>"
     },
     "metadata": {},
     "execution_count": 282
    }
   ],
   "source": [
    "# Identificando os anos do dataframe de forma automática, buscando somente as linhas onde a coluna Região possui valor igual a Sudeste\n",
    "\n",
    "usaveis_rjaux = usaveis.filter(regex = 'Rio de Janeiro', axis = 0) # axis = 0, para que a busca seja feita pela coluna de Index\n",
    "\n",
    "# Filtragem do estado do Rio de Janeiro para os anos de 2010 a 2014\n",
    "usaveis_rj = usaveis_rjaux.filter(regex = '2010|2011|2012|2013|2014') #obs: O operador \"|\" serve como \"or\" no regex\n",
    "\n",
    "usaveis_rj.head()"
   ]
  },
  {
   "cell_type": "code",
   "execution_count": 288,
   "metadata": {},
   "outputs": [
    {
     "output_type": "display_data",
     "data": {
      "application/vnd.plotly.v1+json": {
       "config": {
        "plotlyServerURL": "https://plot.ly"
       },
       "data": [
        {
         "hovertemplate": "Unidade da Federação=Rio de Janeiro<br>Período (Ano/Mês)=%{x}<br>Valor em Reais=%{y}<extra></extra>",
         "legendgroup": "Rio de Janeiro",
         "line": {
          "color": "#636efa",
          "dash": "solid"
         },
         "mode": "lines",
         "name": "Rio de Janeiro",
         "orientation": "v",
         "showlegend": true,
         "type": "scatter",
         "x": [
          "2010/Jan",
          "2010/Fev",
          "2010/Mar",
          "2010/Abr",
          "2010/Mai",
          "2010/Jun",
          "2010/Jul",
          "2010/Ago",
          "2010/Set",
          "2010/Out",
          "2010/Nov",
          "2010/Dez",
          "2011/Jan",
          "2011/Fev",
          "2011/Mar",
          "2011/Abr",
          "2011/Mai",
          "2011/Jun",
          "2011/Jul",
          "2011/Ago",
          "2011/Set",
          "2011/Out",
          "2011/Nov",
          "2011/Dez",
          "2012/Jan",
          "2012/Fev",
          "2012/Mar",
          "2012/Abr",
          "2012/Mai",
          "2012/Jun",
          "2012/Jul",
          "2012/Ago",
          "2012/Set",
          "2012/Out",
          "2012/Nov",
          "2012/Dez",
          "2013/Jan",
          "2013/Fev",
          "2013/Mar",
          "2013/Abr",
          "2013/Mai",
          "2013/Jun",
          "2013/Jul",
          "2013/Ago",
          "2013/Set",
          "2013/Out",
          "2013/Nov",
          "2013/Dez",
          "2014/Jan",
          "2014/Fev",
          "2014/Mar",
          "2014/Abr",
          "2014/Mai",
          "2014/Jun",
          "2014/Jul",
          "2014/Ago",
          "2014/Set",
          "2014/Out",
          "2014/Nov",
          "2014/Dez"
         ],
         "xaxis": "x",
         "y": [
          55993709.91,
          44833345.11,
          54473238.33,
          78128632.98,
          56028875.32,
          51435826.33,
          53873907.49,
          57867285.17,
          53736019.37,
          52379338.55,
          50242531.67,
          50891328.43,
          74005618.29,
          61149228.39,
          55347898.51,
          55816907.9,
          59086537.51,
          55205971.21,
          54559439.69,
          57987469.83,
          53245457.26,
          53052662.54,
          49803409.24,
          47982923.26,
          66752774.87,
          47271040.5,
          59372118.28,
          54030081.29,
          60767483.6,
          56008884.48,
          56516407.1,
          58546297.88,
          53098530.92,
          57974003.84,
          51687366.01,
          47848367.7,
          102104204.33,
          51206653.61,
          57584874.79,
          63702778.97,
          63794891.58,
          61689752.64,
          60992531.77,
          61577361.16,
          59717201.67,
          60865517.3,
          54070879.39,
          53162041.15,
          67001654.43,
          56548574.77,
          60648820.92,
          58610389.83,
          62155089.4,
          63706499.87,
          66150757.15,
          64974113.77,
          65178224.11,
          64033630.86,
          60392275.29,
          62318598.92
         ],
         "yaxis": "y"
        }
       ],
       "layout": {
        "height": 600,
        "legend": {
         "title": {
          "text": "Unidade da Federação"
         },
         "tracegroupgap": 0
        },
        "margin": {
         "t": 60
        },
        "template": {
         "data": {
          "bar": [
           {
            "error_x": {
             "color": "#2a3f5f"
            },
            "error_y": {
             "color": "#2a3f5f"
            },
            "marker": {
             "line": {
              "color": "#E5ECF6",
              "width": 0.5
             }
            },
            "type": "bar"
           }
          ],
          "barpolar": [
           {
            "marker": {
             "line": {
              "color": "#E5ECF6",
              "width": 0.5
             }
            },
            "type": "barpolar"
           }
          ],
          "carpet": [
           {
            "aaxis": {
             "endlinecolor": "#2a3f5f",
             "gridcolor": "white",
             "linecolor": "white",
             "minorgridcolor": "white",
             "startlinecolor": "#2a3f5f"
            },
            "baxis": {
             "endlinecolor": "#2a3f5f",
             "gridcolor": "white",
             "linecolor": "white",
             "minorgridcolor": "white",
             "startlinecolor": "#2a3f5f"
            },
            "type": "carpet"
           }
          ],
          "choropleth": [
           {
            "colorbar": {
             "outlinewidth": 0,
             "ticks": ""
            },
            "type": "choropleth"
           }
          ],
          "contour": [
           {
            "colorbar": {
             "outlinewidth": 0,
             "ticks": ""
            },
            "colorscale": [
             [
              0,
              "#0d0887"
             ],
             [
              0.1111111111111111,
              "#46039f"
             ],
             [
              0.2222222222222222,
              "#7201a8"
             ],
             [
              0.3333333333333333,
              "#9c179e"
             ],
             [
              0.4444444444444444,
              "#bd3786"
             ],
             [
              0.5555555555555556,
              "#d8576b"
             ],
             [
              0.6666666666666666,
              "#ed7953"
             ],
             [
              0.7777777777777778,
              "#fb9f3a"
             ],
             [
              0.8888888888888888,
              "#fdca26"
             ],
             [
              1,
              "#f0f921"
             ]
            ],
            "type": "contour"
           }
          ],
          "contourcarpet": [
           {
            "colorbar": {
             "outlinewidth": 0,
             "ticks": ""
            },
            "type": "contourcarpet"
           }
          ],
          "heatmap": [
           {
            "colorbar": {
             "outlinewidth": 0,
             "ticks": ""
            },
            "colorscale": [
             [
              0,
              "#0d0887"
             ],
             [
              0.1111111111111111,
              "#46039f"
             ],
             [
              0.2222222222222222,
              "#7201a8"
             ],
             [
              0.3333333333333333,
              "#9c179e"
             ],
             [
              0.4444444444444444,
              "#bd3786"
             ],
             [
              0.5555555555555556,
              "#d8576b"
             ],
             [
              0.6666666666666666,
              "#ed7953"
             ],
             [
              0.7777777777777778,
              "#fb9f3a"
             ],
             [
              0.8888888888888888,
              "#fdca26"
             ],
             [
              1,
              "#f0f921"
             ]
            ],
            "type": "heatmap"
           }
          ],
          "heatmapgl": [
           {
            "colorbar": {
             "outlinewidth": 0,
             "ticks": ""
            },
            "colorscale": [
             [
              0,
              "#0d0887"
             ],
             [
              0.1111111111111111,
              "#46039f"
             ],
             [
              0.2222222222222222,
              "#7201a8"
             ],
             [
              0.3333333333333333,
              "#9c179e"
             ],
             [
              0.4444444444444444,
              "#bd3786"
             ],
             [
              0.5555555555555556,
              "#d8576b"
             ],
             [
              0.6666666666666666,
              "#ed7953"
             ],
             [
              0.7777777777777778,
              "#fb9f3a"
             ],
             [
              0.8888888888888888,
              "#fdca26"
             ],
             [
              1,
              "#f0f921"
             ]
            ],
            "type": "heatmapgl"
           }
          ],
          "histogram": [
           {
            "marker": {
             "colorbar": {
              "outlinewidth": 0,
              "ticks": ""
             }
            },
            "type": "histogram"
           }
          ],
          "histogram2d": [
           {
            "colorbar": {
             "outlinewidth": 0,
             "ticks": ""
            },
            "colorscale": [
             [
              0,
              "#0d0887"
             ],
             [
              0.1111111111111111,
              "#46039f"
             ],
             [
              0.2222222222222222,
              "#7201a8"
             ],
             [
              0.3333333333333333,
              "#9c179e"
             ],
             [
              0.4444444444444444,
              "#bd3786"
             ],
             [
              0.5555555555555556,
              "#d8576b"
             ],
             [
              0.6666666666666666,
              "#ed7953"
             ],
             [
              0.7777777777777778,
              "#fb9f3a"
             ],
             [
              0.8888888888888888,
              "#fdca26"
             ],
             [
              1,
              "#f0f921"
             ]
            ],
            "type": "histogram2d"
           }
          ],
          "histogram2dcontour": [
           {
            "colorbar": {
             "outlinewidth": 0,
             "ticks": ""
            },
            "colorscale": [
             [
              0,
              "#0d0887"
             ],
             [
              0.1111111111111111,
              "#46039f"
             ],
             [
              0.2222222222222222,
              "#7201a8"
             ],
             [
              0.3333333333333333,
              "#9c179e"
             ],
             [
              0.4444444444444444,
              "#bd3786"
             ],
             [
              0.5555555555555556,
              "#d8576b"
             ],
             [
              0.6666666666666666,
              "#ed7953"
             ],
             [
              0.7777777777777778,
              "#fb9f3a"
             ],
             [
              0.8888888888888888,
              "#fdca26"
             ],
             [
              1,
              "#f0f921"
             ]
            ],
            "type": "histogram2dcontour"
           }
          ],
          "mesh3d": [
           {
            "colorbar": {
             "outlinewidth": 0,
             "ticks": ""
            },
            "type": "mesh3d"
           }
          ],
          "parcoords": [
           {
            "line": {
             "colorbar": {
              "outlinewidth": 0,
              "ticks": ""
             }
            },
            "type": "parcoords"
           }
          ],
          "pie": [
           {
            "automargin": true,
            "type": "pie"
           }
          ],
          "scatter": [
           {
            "marker": {
             "colorbar": {
              "outlinewidth": 0,
              "ticks": ""
             }
            },
            "type": "scatter"
           }
          ],
          "scatter3d": [
           {
            "line": {
             "colorbar": {
              "outlinewidth": 0,
              "ticks": ""
             }
            },
            "marker": {
             "colorbar": {
              "outlinewidth": 0,
              "ticks": ""
             }
            },
            "type": "scatter3d"
           }
          ],
          "scattercarpet": [
           {
            "marker": {
             "colorbar": {
              "outlinewidth": 0,
              "ticks": ""
             }
            },
            "type": "scattercarpet"
           }
          ],
          "scattergeo": [
           {
            "marker": {
             "colorbar": {
              "outlinewidth": 0,
              "ticks": ""
             }
            },
            "type": "scattergeo"
           }
          ],
          "scattergl": [
           {
            "marker": {
             "colorbar": {
              "outlinewidth": 0,
              "ticks": ""
             }
            },
            "type": "scattergl"
           }
          ],
          "scattermapbox": [
           {
            "marker": {
             "colorbar": {
              "outlinewidth": 0,
              "ticks": ""
             }
            },
            "type": "scattermapbox"
           }
          ],
          "scatterpolar": [
           {
            "marker": {
             "colorbar": {
              "outlinewidth": 0,
              "ticks": ""
             }
            },
            "type": "scatterpolar"
           }
          ],
          "scatterpolargl": [
           {
            "marker": {
             "colorbar": {
              "outlinewidth": 0,
              "ticks": ""
             }
            },
            "type": "scatterpolargl"
           }
          ],
          "scatterternary": [
           {
            "marker": {
             "colorbar": {
              "outlinewidth": 0,
              "ticks": ""
             }
            },
            "type": "scatterternary"
           }
          ],
          "surface": [
           {
            "colorbar": {
             "outlinewidth": 0,
             "ticks": ""
            },
            "colorscale": [
             [
              0,
              "#0d0887"
             ],
             [
              0.1111111111111111,
              "#46039f"
             ],
             [
              0.2222222222222222,
              "#7201a8"
             ],
             [
              0.3333333333333333,
              "#9c179e"
             ],
             [
              0.4444444444444444,
              "#bd3786"
             ],
             [
              0.5555555555555556,
              "#d8576b"
             ],
             [
              0.6666666666666666,
              "#ed7953"
             ],
             [
              0.7777777777777778,
              "#fb9f3a"
             ],
             [
              0.8888888888888888,
              "#fdca26"
             ],
             [
              1,
              "#f0f921"
             ]
            ],
            "type": "surface"
           }
          ],
          "table": [
           {
            "cells": {
             "fill": {
              "color": "#EBF0F8"
             },
             "line": {
              "color": "white"
             }
            },
            "header": {
             "fill": {
              "color": "#C8D4E3"
             },
             "line": {
              "color": "white"
             }
            },
            "type": "table"
           }
          ]
         },
         "layout": {
          "annotationdefaults": {
           "arrowcolor": "#2a3f5f",
           "arrowhead": 0,
           "arrowwidth": 1
          },
          "autotypenumbers": "strict",
          "coloraxis": {
           "colorbar": {
            "outlinewidth": 0,
            "ticks": ""
           }
          },
          "colorscale": {
           "diverging": [
            [
             0,
             "#8e0152"
            ],
            [
             0.1,
             "#c51b7d"
            ],
            [
             0.2,
             "#de77ae"
            ],
            [
             0.3,
             "#f1b6da"
            ],
            [
             0.4,
             "#fde0ef"
            ],
            [
             0.5,
             "#f7f7f7"
            ],
            [
             0.6,
             "#e6f5d0"
            ],
            [
             0.7,
             "#b8e186"
            ],
            [
             0.8,
             "#7fbc41"
            ],
            [
             0.9,
             "#4d9221"
            ],
            [
             1,
             "#276419"
            ]
           ],
           "sequential": [
            [
             0,
             "#0d0887"
            ],
            [
             0.1111111111111111,
             "#46039f"
            ],
            [
             0.2222222222222222,
             "#7201a8"
            ],
            [
             0.3333333333333333,
             "#9c179e"
            ],
            [
             0.4444444444444444,
             "#bd3786"
            ],
            [
             0.5555555555555556,
             "#d8576b"
            ],
            [
             0.6666666666666666,
             "#ed7953"
            ],
            [
             0.7777777777777778,
             "#fb9f3a"
            ],
            [
             0.8888888888888888,
             "#fdca26"
            ],
            [
             1,
             "#f0f921"
            ]
           ],
           "sequentialminus": [
            [
             0,
             "#0d0887"
            ],
            [
             0.1111111111111111,
             "#46039f"
            ],
            [
             0.2222222222222222,
             "#7201a8"
            ],
            [
             0.3333333333333333,
             "#9c179e"
            ],
            [
             0.4444444444444444,
             "#bd3786"
            ],
            [
             0.5555555555555556,
             "#d8576b"
            ],
            [
             0.6666666666666666,
             "#ed7953"
            ],
            [
             0.7777777777777778,
             "#fb9f3a"
            ],
            [
             0.8888888888888888,
             "#fdca26"
            ],
            [
             1,
             "#f0f921"
            ]
           ]
          },
          "colorway": [
           "#636efa",
           "#EF553B",
           "#00cc96",
           "#ab63fa",
           "#FFA15A",
           "#19d3f3",
           "#FF6692",
           "#B6E880",
           "#FF97FF",
           "#FECB52"
          ],
          "font": {
           "color": "#2a3f5f"
          },
          "geo": {
           "bgcolor": "white",
           "lakecolor": "white",
           "landcolor": "#E5ECF6",
           "showlakes": true,
           "showland": true,
           "subunitcolor": "white"
          },
          "hoverlabel": {
           "align": "left"
          },
          "hovermode": "closest",
          "mapbox": {
           "style": "light"
          },
          "paper_bgcolor": "white",
          "plot_bgcolor": "#E5ECF6",
          "polar": {
           "angularaxis": {
            "gridcolor": "white",
            "linecolor": "white",
            "ticks": ""
           },
           "bgcolor": "#E5ECF6",
           "radialaxis": {
            "gridcolor": "white",
            "linecolor": "white",
            "ticks": ""
           }
          },
          "scene": {
           "xaxis": {
            "backgroundcolor": "#E5ECF6",
            "gridcolor": "white",
            "gridwidth": 2,
            "linecolor": "white",
            "showbackground": true,
            "ticks": "",
            "zerolinecolor": "white"
           },
           "yaxis": {
            "backgroundcolor": "#E5ECF6",
            "gridcolor": "white",
            "gridwidth": 2,
            "linecolor": "white",
            "showbackground": true,
            "ticks": "",
            "zerolinecolor": "white"
           },
           "zaxis": {
            "backgroundcolor": "#E5ECF6",
            "gridcolor": "white",
            "gridwidth": 2,
            "linecolor": "white",
            "showbackground": true,
            "ticks": "",
            "zerolinecolor": "white"
           }
          },
          "shapedefaults": {
           "line": {
            "color": "#2a3f5f"
           }
          },
          "ternary": {
           "aaxis": {
            "gridcolor": "white",
            "linecolor": "white",
            "ticks": ""
           },
           "baxis": {
            "gridcolor": "white",
            "linecolor": "white",
            "ticks": ""
           },
           "bgcolor": "#E5ECF6",
           "caxis": {
            "gridcolor": "white",
            "linecolor": "white",
            "ticks": ""
           }
          },
          "title": {
           "x": 0.05
          },
          "xaxis": {
           "automargin": true,
           "gridcolor": "white",
           "linecolor": "white",
           "ticks": "",
           "title": {
            "standoff": 15
           },
           "zerolinecolor": "white",
           "zerolinewidth": 2
          },
          "yaxis": {
           "automargin": true,
           "gridcolor": "white",
           "linecolor": "white",
           "ticks": "",
           "title": {
            "standoff": 15
           },
           "zerolinecolor": "white",
           "zerolinewidth": 2
          }
         }
        },
        "title": {
         "text": "Investimentos em Saúede para a Região Sudeste em 2013",
         "x": 0.5,
         "xanchor": "center",
         "y": 0.95,
         "yanchor": "top"
        },
        "width": 1400,
        "xaxis": {
         "anchor": "y",
         "domain": [
          0,
          1
         ],
         "title": {
          "text": "Período (Ano/Mês)"
         }
        },
        "yaxis": {
         "anchor": "x",
         "domain": [
          0,
          1
         ],
         "title": {
          "text": "Valor em Reais"
         }
        }
       }
      }
     },
     "metadata": {}
    }
   ],
   "source": [
    "plot(usaveis_rj.T)"
   ]
  },
  {
   "source": [
    "## Observando da figura logo acima, o pior ano para a crise de Dengue foi entre 2011 e 2013, o que explica o pico de gastos para o mês de Janeiro de 2013\n",
    "#\n",
    "### Obs: Também podemos trabalhar com a possibilidade de que esse pico seja explicado por gastos que não foram corretamente lançados no mês de exercício do ano anterior e foram somados aos valores do primeiro mês do ano seguinte, pois podemos observar que no ano de 2012 que foi o pior ano não houve aumento nos investimento e logo em seguida, no primeiro mês de 2013 houve um salto muito grande nos gastos para o estado do Rio de Janeiro."
   ],
   "cell_type": "markdown",
   "metadata": {}
  }
 ]
}